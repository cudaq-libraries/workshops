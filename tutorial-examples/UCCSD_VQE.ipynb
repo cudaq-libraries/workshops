{
 "cells": [
  {
   "cell_type": "markdown",
   "metadata": {},
   "source": [
    "# VQE-UCCSD NH3"
   ]
  },
  {
   "cell_type": "code",
   "execution_count": 17,
   "metadata": {},
   "outputs": [
    {
     "name": "stdout",
     "output_type": "stream",
     "text": [
      "converged SCF energy = -56.1619016972553\n",
      "10\n",
      "15\n",
      "3\n",
      "E(CCSD) = -56.16546551675892  E_corr = -0.00356381950364245\n"
     ]
    }
   ],
   "source": [
    "from pyscf import gto, scf, mcscf,cc\n",
    "\n",
    "mol = gto.M(\n",
    "    atom = 'N 0.0 0.0 0.0; H -0.114 -0.009 0.990; H -0.437 -0.825 -0.358; H 0.942 -0.010, -0.222',\n",
    "    basis = '631g')\n",
    "myhf=scf.RHF(mol).run()\n",
    "\n",
    "print(mol.nelectron)\n",
    "norb = myhf.mo_coeff.shape[1]\n",
    "print(norb)\n",
    "\n",
    "norb_cas, nele_cas=(4,4)\n",
    "\n",
    "mycasci=mcscf.CASCI(myhf,norb_cas, nele_cas)\n",
    "print(mycasci.ncore)\n",
    "\n",
    "frozen=[]\n",
    "frozen+=[y for y in range(0,mycasci.ncore)]\n",
    "frozen+=[y for y in range(mycasci.ncore+norb_cas, len(myhf.mo_coeff))]\n",
    "mycc=cc.CCSD(myhf,frozen=frozen).run()\n",
    "\n",
    "from get_amp import uccsd_get_amplitude\n",
    "\n",
    "#init_params=uccsd_get_amplitude(mycc.t1,mycc.t2,nele_cas,norb_cas)\n"
   ]
  },
  {
   "cell_type": "code",
   "execution_count": 18,
   "metadata": {},
   "outputs": [
    {
     "name": "stdout",
     "output_type": "stream",
     "text": [
      "Total number of terms in the spin hamiltonian:  357\n"
     ]
    },
    {
     "name": "stderr",
     "output_type": "stream",
     "text": [
      "/tmp/ipykernel_1450261/894685578.py:36: ComplexWarning: Casting complex values to real discards the imaginary part\n",
      "  spin_ham=cudaq.SpinOperator(qubit_hamiltonian)\n"
     ]
    }
   ],
   "source": [
    "import openfermion\n",
    "import openfermionpyscf\n",
    "from openfermion.transforms import jordan_wigner, get_fermion_operator\n",
    "\n",
    "import cudaq\n",
    "import matplotlib.pyplot as plt\n",
    "from scipy.optimize import minimize\n",
    "import numpy as np\n",
    "\n",
    "# GPU\n",
    "cudaq.set_target(\"nvidia\", option='mqpu,fp64')\n",
    "\n",
    "\n",
    "# 1- Classical pre-processing:\n",
    "geometry=[('N', (0.000,0.000,0.000)), ('H', (-0.114,-0.009,0.990)), ('H', (-0.437,-0.825,-0.358)), ('H', (0.942,-0.010,-0.222))]\n",
    "basis='631g'\n",
    "multiplicity=1\n",
    "charge=0\n",
    "ncore=mycasci.ncore\n",
    "#norb_cas, nele_cas = (3,4)\n",
    "\n",
    "qubit_count=2*norb_cas\n",
    "electron_count=nele_cas\n",
    "\n",
    "\n",
    "# Run HF to obtain the HF molecular orbitals and compute the one and two electron integrals\n",
    "molecule = openfermionpyscf.run_pyscf(openfermion.MolecularData(geometry, basis, multiplicity,charge))\n",
    "\n",
    "# Generate the active space Hamiltonian \n",
    "molecular_hamiltonian = molecule.get_molecular_hamiltonian(\n",
    "        occupied_indices=range(ncore), active_indices=range(ncore,ncore+norb_cas))\n",
    "\n",
    "fermion_hamiltonian = get_fermion_operator(molecular_hamiltonian)\n",
    "qubit_hamiltonian = jordan_wigner(fermion_hamiltonian)\n",
    "\n",
    "spin_ham=cudaq.SpinOperator(qubit_hamiltonian)\n",
    "\n",
    "print('Total number of terms in the spin hamiltonian: ',spin_ham.get_term_count())"
   ]
  },
  {
   "cell_type": "code",
   "execution_count": 19,
   "metadata": {},
   "outputs": [],
   "source": [
    "epsilon =np.pi/8\n",
    "\n",
    "num_qpus = 4\n",
    "\n",
    "def batched_gradient_function(kernel, parameters, hamiltonian, epsilon): \n",
    "\n",
    "\n",
    "    x = np.tile(parameters, (len(parameters),1))\n",
    "\n",
    "    xplus = x + (np.eye(x.shape[0]) * epsilon)\n",
    "\n",
    "    xminus = x - (np.eye(x.shape[0]) * epsilon)\n",
    "\n",
    "    g_plus = []\n",
    "    g_minus = []\n",
    "    gradients = []\n",
    "\n",
    "    qpu_counter = 0 # Iterate over the number of GPU resources available\n",
    "    for i in range(x.shape[0]): \n",
    "\n",
    "        g_plus.append(cudaq.observe_async(kernel,hamiltonian, qubit_count, electron_count, xplus[i], qpu_id = qpu_counter))\n",
    "        qpu_counter += 1 \n",
    "\n",
    "        g_minus.append(cudaq.observe_async(kernel, hamiltonian, qubit_count, electron_count, xminus[i], qpu_id = qpu_counter))\n",
    "        qpu_counter += 1 \n",
    "        \n",
    "        if qpu_counter%num_qpus == 0: \n",
    "            qpu_counter = 0 \n",
    "        \n",
    "    gradients = [(g_plus[i].get().expectation() - g_minus[i].get().expectation()) / (2*epsilon) for i in range(len(g_minus))]\n",
    "\n",
    "    return gradients"
   ]
  },
  {
   "cell_type": "code",
   "execution_count": 20,
   "metadata": {},
   "outputs": [],
   "source": [
    "# 2- Quantum computing using UCCSD ansatz\n",
    "electron_count=nele_cas\n",
    "qubit_count=2*norb_cas\n",
    "\n",
    "@cudaq.kernel\n",
    "def kernel(qubit_num:int, electron_num:int, thetas: list[float]):\n",
    "        qubits = cudaq.qvector(qubit_num)\n",
    "\n",
    "        for i in range(electron_num):\n",
    "                x(qubits[i])\n",
    "\n",
    "        cudaq.kernels.uccsd(qubits, thetas, electron_num, qubit_num)\n",
    "\n",
    "parameter_count = cudaq.kernels.uccsd_num_parameters(electron_count,qubit_count)"
   ]
  },
  {
   "cell_type": "code",
   "execution_count": 21,
   "metadata": {},
   "outputs": [],
   "source": [
    "#gradient = batched_gradient_function(kernel, x0, spin_ham, epsilon)\n",
    "\n",
    "exp_vals=[]\n",
    "\n",
    "def objective_function(parameter_vector: list[float], hamiltonian=spin_ham, kernel=kernel):\n",
    "\n",
    "\n",
    "    get_result = lambda parameter_vector: cudaq.observe\\\n",
    "        (kernel, hamiltonian, qubit_count, electron_count, parameter_vector).expectation()\n",
    "    \n",
    "    cost = get_result(parameter_vector)\n",
    "    exp_vals.append(cost)\n",
    "    gradient_vector = batched_gradient_function(kernel, parameter_vector, spin_ham, epsilon)\n",
    "    \n",
    "    return cost , gradient_vector"
   ]
  },
  {
   "cell_type": "code",
   "execution_count": 22,
   "metadata": {},
   "outputs": [
    {
     "name": "stdout",
     "output_type": "stream",
     "text": [
      "VQE-UCCSD energy=  -56.162000485964356\n"
     ]
    },
    {
     "data": {
      "image/png": "[encoded data removed]",
      "text/plain": [
       "<Figure size 640x480 with 1 Axes>"
      ]
     },
     "metadata": {},
     "output_type": "display_data"
    }
   ],
   "source": [
    "np.random.seed(42)\n",
    "init_params = np.random.normal(0, 1, parameter_count)\n",
    "\n",
    "result_vqe=minimize(objective_function,init_params, method='L-BFGS-B', jac=True, tol=1e-8, options={'maxiter': 30})\n",
    "\n",
    "print('VQE-UCCSD energy= ', result_vqe.fun)\n",
    "\n",
    "import matplotlib.pyplot as plt\n",
    "\n",
    "plt.plot(exp_vals)\n",
    "plt.xlabel('Epochs')\n",
    "plt.ylabel('Energy')\n",
    "plt.title('VQE')\n",
    "plt.show()"
   ]
  }
 ],
 "metadata": {
  "kernelspec": {
   "display_name": "Python 3",
   "language": "python",
   "name": "python3"
  },
  "language_info": {
   "codemirror_mode": {
    "name": "ipython",
    "version": 3
   },
   "file_extension": ".py",
   "mimetype": "text/x-python",
   "name": "python",
   "nbconvert_exporter": "python",
   "pygments_lexer": "ipython3",
   "version": "3.10.12"
  }
 },
 "nbformat": 4,
 "nbformat_minor": 2
}
