{
 "cells": [
  {
   "cell_type": "markdown",
   "metadata": {},
   "source": [
    "\n",
    "# Agenda\n",
    "\n",
    "### A- Introduction to QC and CUDA-Q platform\n",
    "\n",
    "- Installation of CUDA-Q\n",
    "\n",
    "### B- Quantum Circuit Basics\n",
    "\n",
    "B.1- Qubit allocation\n",
    "\n",
    "B.2- Quantum gates\n",
    "\n",
    "B.3- Quantum kernel\n",
    "\n",
    "B.4- Backends & running CUDA-Q programs\n",
    "\n",
    "B.5- Examples\n",
    "\n",
    "### C- Quantum algorithmic primitives\n",
    "\n",
    "C.1- cudaq.sample()\n",
    "\n",
    "- Mid-circuit measurement & conditional sampling\n",
    "\n",
    "C.2- cudaq.observe()\n",
    "\n",
    "- Spin Hamiltonian operator\n",
    "\n",
    "### D- Parameterized Circuit\n",
    "\n",
    "### E- Variational Quantum Algorithm\n",
    "\n",
    "### F- Multi-QPUs and Multi-GPUs\n",
    "\n",
    "### G- Advanced Examples\n",
    "\n",
    "![img](./frame.png)"
   ]
  },
  {
   "cell_type": "markdown",
   "metadata": {},
   "source": [
    "### A- Introduction to QC and CUDA-Q platform\n",
    "\n",
    "- #### Some basics: to review basics of quantum computing and the linear algebra needed for this tutorial, see (QC-intro.pdf)\n",
    "\n",
    "- #### CUDA-Q stack\n",
    "\n",
    "![img](./CUDA-Q.png)\n",
    "\n",
    "- Single-source Python and C++ programming model\n",
    "- High performance compiler for hybrid GPU/CPU/QPU systems\n",
    "- QPU agnostic - works with any type of QPU, emulated or physical\n",
    "- Supports both state-vector and tensor network backend: backends are optimized for NVIDIA GPUs, including multi-GPU, multi-node support for HPC.\n",
    "\n",
    "#### CUDA-Q performance\n",
    "- NVIDIA CUDA-Q can significantly speed up quantum algorithms, compared to other quantum frameworks. Quantum algorithms can achieve a speedup of up to 2500X over CPU, scaling number of qubits using multiple GPUs.\n",
    "\n",
    "![img](./QML-perfo.png)\n",
    "\n",
    "#### Installation of CUDA-Q: visit [CUDA-Q installation](https://nvidia.github.io/cuda-quantum/latest/using/install/install.html)\n",
    "\n",
    "To explore more, visit this [web page](https://developer.nvidia.com/cuda-q), [GitHub](https://github.com/NVIDIA/cuda-quantum), [documentation](https://nvidia.github.io/cuda-quantum/latest/#)"
   ]
  },
  {
   "cell_type": "markdown",
   "metadata": {},
   "source": [
    "### B- Quantum circuit basics\n",
    "\n",
    "![img](./basic-circuit.png)"
   ]
  },
  {
   "cell_type": "markdown",
   "metadata": {},
   "source": [
    "\n",
    "### B.1- Qubit allocation\n",
    "\n",
    "- cudaq.qubit(): a single quantum bit (2-level) in the discrete quantum memory space. \n",
    "\n",
    "```qubit=cudaq.qubit()```\n",
    "\n",
    "- cudaq.qvector(N): a multi quantum bit ($2^N$ level) in the discrete quantum memory\n",
    "\n",
    "```qubits=cudaq.qvector(N)```\n",
    "\n",
    "    \n",
    "- Is initialized to the |0> computational basis state.\n",
    "\n",
    "- Owns the quantum memory, therefore it cannot be copied or moved (no-cloning theorem). It can be passed by reference (i.e., references to qubit vectors).\n"
   ]
  },
  {
   "cell_type": "markdown",
   "metadata": {},
   "source": [
    "### B.2- Quantum gates\n",
    "\n",
    "\n",
    "- x: Not gate (Pauli-X gate)\n",
    "\n",
    "```python\n",
    "q=cudaq.qubit()\n",
    "x(q)\n",
    "```\n",
    "- h: Hadamard gate\n",
    "\n",
    "```python\n",
    "q=cudaq.qvector(2)\n",
    "h(q[0])\n",
    "```\n",
    "\n",
    "- x.ctrl(control,target) or ([control_1, control_2], target): C-NOT gate\n",
    "\n",
    "```python\n",
    "q=cudaq.qvector(3)\n",
    "x.ctrl(q[0],q[1])\n",
    "```\n",
    "\n",
    "- rx(angle, qubit): rotation around x-axis\n",
    "```python\n",
    "q=cudaq.qubit()\n",
    "rx(np.pi,q)\n",
    "```\n",
    "\n",
    "- adj: adjoint transformation\n",
    "```python\n",
    "q=cudaq.qubit()\n",
    "rx(np.pi,q)\n",
    "rx.adj(np.pi,q)\n",
    "```\n",
    "\n",
    "- mz: measure qubits in the computational basis\n",
    "\n",
    "```python\n",
    "q=cudaq.qvector(2)\n",
    "h(q[0])\n",
    "x.ctrl(q[0],q[1])\n",
    "mz(q)\n",
    "```\n",
    "\n",
    "\n",
    "To learn more about the quantum operations available in CUDA-Q, visit [this page](https://nvidia.github.io/cuda-quantum/latest/specification/cudaq/kernels.html)"
   ]
  },
  {
   "cell_type": "markdown",
   "metadata": {},
   "source": [
    "### B.3- Quantum kernel\n",
    "\n",
    "- To differentiate between host and quantum device code, the CUDA-Q programming model defines the concept of a quantum kernel.\n",
    "\n",
    "- All quantum kernels must be annotated to indicate they are to be compiled for, and executed on, a specified quantum coprocessor. \n",
    "\n",
    "- Other language bindings may opt to use other language features to enable function annotation or decoration (e.g. a `@cudaq.kernel()` function decorator in Python and `__qpu__` in C++).\n",
    "\n",
    "- Quantum kernel can take classical data as input\n"
   ]
  },
  {
   "cell_type": "markdown",
   "metadata": {},
   "source": [
    "``` python\n",
    "@cudaq.kernel()\n",
    "def my_first_entry_point_kernel(x : float):\n",
    "   ... quantum code ... \n",
    "\n",
    "@cudaq.kernel()\n",
    "def my_second_entry_point_kernel(x : float, params : list[float]):\n",
    "   ... quantum code ... \n",
    "\n",
    "```"
   ]
  },
  {
   "cell_type": "markdown",
   "metadata": {},
   "source": [
    "- CUDA-Q kernels can serve as input to other quantum kernels and invoked by kernel function body code.\n",
    "\n",
    "\n",
    "```python\n",
    "@cudaq.kernel()\n",
    "def MyStatePrep(qubits : cudaq.qview):\n",
    "    ... apply state prep operations on qubits ... \n",
    "\n",
    "@cudaq.kernel()\n",
    "def MyGenericAlgorithm(statePrep : typing.Callable[[cudaq.qview], None]):\n",
    "    q = cudaq.qvector(10)\n",
    "    statePrep(q)\n",
    "    ...\n",
    "\n",
    "MyGenericAlgorithm(MyStatePrep)\n",
    "```\n",
    "\n",
    "- ```cudaq.qview()```: a non-owning reference to a subset of the discrete quantum memory space. It does not own its elements and can therefore be passed by value or reference. (see [this page](https://nvidia.github.io/cuda-quantum/latest/specification/cudaq/types.html#quantum-containers))\n",
    "\n",
    "- Vectors inside the quantum kernel can be only constructed with specified size\n",
    "\n",
    "```python\n",
    "@cudaq.kernel\n",
    "def kernel(N : int):\n",
    "\n",
    "   # Not Allowed\n",
    "   # i = []\n",
    "   # i.append(1)\n",
    "\n",
    "   # Allowed\n",
    "   i = [0 for k in range(5)]\n",
    "   j = [0 for _ in range(N)]\n",
    "   i[2] = 3\n",
    "   f = [1., 2., 3.]\n",
    "   k = 0\n",
    "   pi = 3.1415926\n",
    "\n",
    "```\n",
    "\n",
    "- To learn more about the CUDA-Q quantum kernel, visit [this page](https://github.com/NVIDIA/cuda-quantum/blob/main/docs/sphinx/specification/cudaq/kernels.rst)"
   ]
  },
  {
   "cell_type": "markdown",
   "metadata": {},
   "source": [
    "### B.4- Backends & running CUDA-Q programs\n",
    "\n",
    "Two options:\n",
    "\n",
    "1. Define the target when running the program:\n",
    "``` python3 program.py [...] --target <target_name>```\n",
    "\n",
    "2. Target can be defined in the application code:\n",
    "```cudaq.set_target('target_name')``` . Then, to run the program, drop the target flag: \n",
    "```python3 program.py [...]```\n",
    "\n",
    "What is target_name?\n",
    "\n",
    "1. State vector simulators:\n",
    "    - Single-GPU (Default If an NVIDIA GPU and CUDA runtime libraries are available): ```python3 program.py [...] --target nvidia``` \n",
    "    - Multi-GPUs: ```mpirun -np 2 python3 program.py [...] --target nvidia-mgpu``` \n",
    "2. Tensor network simulator:\n",
    "    - Single-GPU: ```python3 program.py [...] --target tensornet``` \n",
    "    - Multi-GPUs: ```mpirun -np 2 python3 program.py [...] --target tensornet``` \n",
    "3. Matrix Product state:\n",
    "    - Only supports single-GPU simulation: ```python3 program.py [...] --target tensornet-mps``` \n",
    "4. NVIDIA Quantum Cloud\n",
    "    - Run any of the above backends using NVIDIA-provided cloud GPUs (early access only). To learn more, visit [this page](https://www.nvidia.com/en-us/solutions/quantum-computing/cloud/).\n",
    "    - E.g. `cudaq.set_target('nvqc', backend='tensornet')`\n",
    "5. Quantum hardware backend (to learn more, visit [this page](https://nvidia.github.io/cuda-quantum/latest/using/backends/hardware.html)):\n",
    "    - ```cudaq.set_target('QPU_name')```. QPU_name could be `ionq`, `quantinuum`, `iqm`, `oqc`, ...etc.\n",
    "\n",
    "\n",
    "To learn more about CUDA-Q backends, visit [this page](https://nvidia.github.io/cuda-quantum/latest/using/backends/backends.html)"
   ]
  },
  {
   "cell_type": "markdown",
   "metadata": {},
   "source": [
    "### B.5- Examples"
   ]
  },
  {
   "cell_type": "code",
   "execution_count": 93,
   "metadata": {},
   "outputs": [
    {
     "name": "stdout",
     "output_type": "stream",
     "text": [
      "     ╭───╮╭───╮╭───╮╭───╮╭───╮╭───╮\n",
      "q0 : ┤ h ├┤ x ├┤ y ├┤ z ├┤ t ├┤ s ├\n",
      "     ╰───╯╰───╯╰───╯╰───╯╰───╯╰───╯\n",
      "\n"
     ]
    }
   ],
   "source": [
    "# Single qubit example\n",
    "\n",
    "import cudaq\n",
    "\n",
    "# Set the backend target\n",
    "cudaq.set_target('nvidia')\n",
    "\n",
    "# We begin by defining the `Kernel` that we will construct our\n",
    "# program with.\n",
    "@cudaq.kernel()\n",
    "def first_kernel():\n",
    "    '''\n",
    "    This is our first CUDA-Q kernel.\n",
    "    '''\n",
    "    # Next, we can allocate a single qubit to the kernel via `qubit()`.\n",
    "    qubit = cudaq.qubit()\n",
    "\n",
    "    # Now we can begin adding instructions to apply to this qubit!\n",
    "    # Here we'll just add non-parameterized\n",
    "    # single qubit gate that is supported by CUDA-Q.\n",
    "    h(qubit)\n",
    "    x(qubit)\n",
    "    y(qubit)\n",
    "    z(qubit)\n",
    "    t(qubit)\n",
    "    s(qubit)\n",
    "\n",
    "    # Next, we add a measurement to the kernel so that we can sample\n",
    "    # the measurement results on our simulator!\n",
    "    mz(qubit)\n",
    "\n",
    "print(cudaq.draw(first_kernel))\n"
   ]
  },
  {
   "cell_type": "code",
   "execution_count": 94,
   "metadata": {},
   "outputs": [
    {
     "name": "stdout",
     "output_type": "stream",
     "text": [
      "     ╭───╮          ╭───╮\n",
      "q0 : ┤ h ├──●────●──┤ x ├\n",
      "     ╰───╯╭─┴─╮  │  ├───┤\n",
      "q1 : ─────┤ x ├──┼──┤ x ├\n",
      "          ╰───╯╭─┴─╮├───┤\n",
      "q2 : ──────────┤ x ├┤ x ├\n",
      "               ╰───╯╰───╯\n",
      "\n"
     ]
    }
   ],
   "source": [
    "# Multi-qubit example\n",
    "\n",
    "import cudaq\n",
    "\n",
    "cudaq.set_target('nvidia')\n",
    "\n",
    "@cudaq.kernel\n",
    "def second_kernel(N:int):\n",
    "    qubits=cudaq.qvector(N)\n",
    "\n",
    "    h(qubits[0])\n",
    "    x.ctrl(qubits[0],qubits[1])\n",
    "    x.ctrl(qubits[0],qubits[2])\n",
    "    x(qubits)\n",
    "\n",
    "    mz(qubits)\n",
    "\n",
    "print(cudaq.draw(second_kernel,3))"
   ]
  },
  {
   "cell_type": "code",
   "execution_count": 95,
   "metadata": {},
   "outputs": [
    {
     "name": "stdout",
     "output_type": "stream",
     "text": [
      "          \n",
      "q0 : ──●──\n",
      "       │  \n",
      "q1 : ──●──\n",
      "     ╭─┴─╮\n",
      "q2 : ┤ x ├\n",
      "     ╰───╯\n",
      "\n"
     ]
    }
   ],
   "source": [
    "import cudaq\n",
    "\n",
    "cudaq.set_target('nvidia')\n",
    "\n",
    "@cudaq.kernel\n",
    "def bar(N:int):\n",
    "    qubits=cudaq.qvector(N)\n",
    "    # front and back: return a direct refernce \n",
    "    controls = qubits.front(N - 1)\n",
    "    target = qubits.back()\n",
    "    x.ctrl(controls, target)\n",
    "\n",
    "\n",
    "print(cudaq.draw(bar,3))"
   ]
  },
  {
   "cell_type": "markdown",
   "metadata": {},
   "source": [
    "### C- Quantum Algorithmic Primitives"
   ]
  },
  {
   "cell_type": "markdown",
   "metadata": {},
   "source": [
    "### C.1 cudaq.sample():\n",
    "\n",
    "Sample the state of a given quantum circuit for a specified number of shots (circuit execution)\n",
    "\n",
    "This function takes as input a quantum kernel instance followed by the concrete arguments at which the kernel should be invoked"
   ]
  },
  {
   "cell_type": "code",
   "execution_count": 96,
   "metadata": {},
   "outputs": [
    {
     "name": "stdout",
     "output_type": "stream",
     "text": [
      "     ╭───╮     \n",
      "q0 : ┤ h ├──●──\n",
      "     ╰───╯╭─┴─╮\n",
      "q1 : ─────┤ x ├\n",
      "          ╰───╯\n",
      "\n",
      "{ 00:4916 11:5084 }\n",
      "\n",
      "Observed: 00, 4916\n",
      "Observed: 11, 5084\n"
     ]
    }
   ],
   "source": [
    "import cudaq\n",
    "\n",
    "cudaq.set_target('nvidia')\n",
    "\n",
    "@cudaq.kernel\n",
    "def bell(N:int):\n",
    "    qubits=cudaq.qvector(N)\n",
    "\n",
    "    h(qubits[0])\n",
    "    x.ctrl(qubits[0], qubits[1])\n",
    "\n",
    "    mz(qubits)\n",
    "\n",
    "print(cudaq.draw(bell,2))\n",
    "# Sample the state generated by bell\n",
    "# shots_count: the number of kernel executions. Default is 1000\n",
    "counts = cudaq.sample(bell, 2, shots_count=10000) \n",
    "\n",
    "# Print to standard out\n",
    "print(counts)\n",
    "\n",
    "# Fine-grained access to the bits and counts \n",
    "for bits, count in counts.items():\n",
    "    print('Observed: {}, {}'.format(bits, count))\n"
   ]
  },
  {
   "cell_type": "code",
   "execution_count": 97,
   "metadata": {},
   "outputs": [
    {
     "name": "stdout",
     "output_type": "stream",
     "text": [
      "     ╭───╮╭──────────╮               \n",
      "q0 : ┤ h ├┤ ry(0.15) ├──●────●────●──\n",
      "     ├───┤├─────────┬╯  │    │    │  \n",
      "q1 : ┤ h ├┤ ry(1.5) ├───●────●────●──\n",
      "     ├───┤╰─────────╯ ╭─┴─╮  │    │  \n",
      "q2 : ┤ h ├────────────┤ x ├──●────●──\n",
      "     ├───┤            ╰───╯╭─┴─╮╭─┴─╮\n",
      "q3 : ┤ h ├─────────────────┤ x ├┤ x ├\n",
      "     ╰───╯                 ╰───╯╰───╯\n",
      "\n",
      "Result:  { 1000:1 1101:677 0100:523 1011:1 1100:706 0110:530 1111:717 1110:705 1001:1 0101:564 0111:575 }\n",
      "\n",
      "Most probable bit string:  1111\n"
     ]
    }
   ],
   "source": [
    "import cudaq\n",
    "\n",
    "cudaq.set_target('nvidia')\n",
    "\n",
    "@cudaq.kernel\n",
    "def third_example(N:int, theta:list[float]):\n",
    "    qubit=cudaq.qvector(N)\n",
    "\n",
    "    h(qubit)\n",
    "\n",
    "    for i in range(0,N//2):\n",
    "        ry(theta[i],qubit[i])\n",
    "    \n",
    "\n",
    "    x.ctrl([qubit[0],qubit[1]],qubit[2]) #ccx\n",
    "    x.ctrl([qubit[0],qubit[1],qubit[2]],qubit[3]) #cccx\n",
    "    x.ctrl(qubit[0:3],qubit[3]) #cccx using Python slicing syntax\n",
    "\n",
    "    mz(qubit)\n",
    "\n",
    "params=[0.15,1.5]\n",
    "\n",
    "print(cudaq.draw(third_example, 4, params))\n",
    "\n",
    "result=cudaq.sample(third_example, 4, params, shots_count=5000)\n",
    "\n",
    "print('Result: ', result)\n",
    "\n",
    "print('Most probable bit string: ', result.most_probable())   "
   ]
  },
  {
   "cell_type": "markdown",
   "metadata": {},
   "source": [
    "###  Mid-circuit measurement & conditional sampling"
   ]
  },
  {
   "cell_type": "code",
   "execution_count": 98,
   "metadata": {},
   "outputs": [
    {
     "name": "stdout",
     "output_type": "stream",
     "text": [
      "{ \n",
      "  __global__ : { 100:66 110:934 }\n",
      "   aux : { 1:66 0:934 }\n",
      "}\n",
      "\n"
     ]
    }
   ],
   "source": [
    "import cudaq\n",
    "\n",
    "cudaq.set_target('nvidia')\n",
    "\n",
    "@cudaq.kernel\n",
    "def mid_circuit_m(theta:float):\n",
    "    qubit=cudaq.qvector(2)\n",
    "    ancilla=cudaq.qubit()\n",
    "\n",
    "    ry(theta,ancilla)\n",
    "\n",
    "    aux=mz(ancilla)\n",
    "    if aux:\n",
    "        x(qubit[0])\n",
    "        x(ancilla)\n",
    "    else:\n",
    "        x(qubit[0])\n",
    "        x(qubit[1])\n",
    "    \n",
    "    mz(ancilla)\n",
    "    mz(qubit)\n",
    "\n",
    "angle=0.5\n",
    "result=cudaq.sample(mid_circuit_m, angle)\n",
    "print(result)"
   ]
  },
  {
   "cell_type": "markdown",
   "metadata": {},
   "source": [
    "- Here, we see that we have measured the ancilla qubit to a register named ```aux```\n",
    "\n",
    "- If any measurements appear in the kernel, then only the measured qubits will appear in the ```__global__``` register, and they will be sorted in qubit allocation order.\n",
    "\n",
    "- To learn more about cudaq.sample(), visit [this page](https://nvidia.github.io/cuda-quantum/latest/specification/cudaq/algorithmic_primitives.html#cudaq-sample)"
   ]
  },
  {
   "cell_type": "markdown",
   "metadata": {},
   "source": [
    "### C.2 cudaq.observe()"
   ]
  },
  {
   "cell_type": "markdown",
   "metadata": {},
   "source": [
    "- A common task in variational algorithms is the computation of the expected value of a given observable with respect to a parameterized quantum circuit (⟨H⟩(𝚹) = ⟨ψ(𝚹)|H|ψ(𝚹)⟩).\n",
    "\n",
    "- The `cudaq.observe()` function is provided to enable one to quickly compute this expectation value via execution of the parameterized quantum circuit\n",
    "\n",
    "- In the example below, the obervable H is $H= 5.907 \\, I - 2.1433 \\, X_0X_1 -2.1433\\, Y_0 Y_1 + 0.21829 \\, Z_0 -6.125\\, Z_1$"
   ]
  },
  {
   "cell_type": "code",
   "execution_count": 99,
   "metadata": {},
   "outputs": [
    {
     "name": "stdout",
     "output_type": "stream",
     "text": [
      "Energy is 13.562794135947076\n"
     ]
    }
   ],
   "source": [
    "# The example here shows a simple use case for the `cudaq.observe``\n",
    "# function in computing expected values of provided spin hamiltonian operators.\n",
    "\n",
    "import cudaq\n",
    "from cudaq import spin\n",
    "\n",
    "cudaq.set_target('nvidia')\n",
    "\n",
    "qubit_num=2\n",
    "\n",
    "@cudaq.kernel\n",
    "def init_state(qubits:cudaq.qview):\n",
    "    n=qubits.size()\n",
    "    for i in range(n):\n",
    "        x(qubits[i])\n",
    "\n",
    "@cudaq.kernel\n",
    "def observe_example(theta: float):\n",
    "    qvector = cudaq.qvector(qubit_num)\n",
    "\n",
    "    init_state(qvector)\n",
    "    ry(theta, qvector[1])\n",
    "    x.ctrl(qvector[1], qvector[0])\n",
    "\n",
    "\n",
    "spin_operator = 5.907 - 2.1433 * spin.x(0) * spin.x(1) - 2.1433 * spin.y(\n",
    "    0) * spin.y(1) + .21829 * spin.z(0) - 6.125 * spin.z(1)\n",
    "\n",
    "# Pre-computed angle that minimizes the energy expectation of the `spin_operator`.\n",
    "angle = 0.59\n",
    "\n",
    "energy = cudaq.observe(observe_example, spin_operator, angle).expectation()\n",
    "print(f\"Energy is {energy}\")\n"
   ]
  },
  {
   "cell_type": "markdown",
   "metadata": {},
   "source": [
    "### Spin Hamiltonian operator\n",
    "\n",
    "CUDA-Q defines convenience functions in `cudaq.spin` namespace that produce the primitive X, Y, and Z Pauli operators on specified qubit indices which can subsequently be used in algebraic expressions to build up more complicated Pauli tensor products and their sums.\n",
    "\n",
    "$H= 5.907 \\, I - 2.1433 \\, X_0X_1 -2.1433\\, Y_0 Y_1 + 0.21829 \\, Z_0 -6.125\\, Z_1$\n",
    "\n",
    "```python\n",
    "spin_operator = 5.907 - 2.1433 * spin.x(0) * spin.x(1) - 2.1433 * spin.y(\n",
    "    0) * spin.y(1) + .21829 * spin.z(0) - 6.125 * spin.z(1)\n",
    "```"
   ]
  },
  {
   "cell_type": "code",
   "execution_count": 100,
   "metadata": {},
   "outputs": [
    {
     "name": "stdout",
     "output_type": "stream",
     "text": [
      "[-2+0j] IZZ\n",
      "[-2+0j] ZZI\n",
      "[1+0j] XYZ\n",
      "[0.5+0j] ZII\n",
      "[1+0j] YII\n",
      "[1+0j] IXI\n",
      "[1+0j] YYI\n",
      "\n",
      "Total number of terms in the spin hamiltonian:  7\n"
     ]
    }
   ],
   "source": [
    "from cudaq import spin\n",
    "\n",
    "hamiltonian = 0.5*spin.z(0) + spin.x(1) + spin.y(0) + spin.y(0) * spin.y(1)+ spin.x(0)*spin.y(1)*spin.z(2)\n",
    "\n",
    "# add some more terms\n",
    "for i in range(2):\n",
    "  hamiltonian += -2.0*spin.z(i)*spin.z(i+1)\n",
    "\n",
    "print(hamiltonian)\n",
    "\n",
    "print('Total number of terms in the spin hamiltonian: ',hamiltonian.get_term_count())\n"
   ]
  },
  {
   "cell_type": "markdown",
   "metadata": {},
   "source": [
    "### D- Parameterized Circuit"
   ]
  },
  {
   "cell_type": "code",
   "execution_count": 101,
   "metadata": {},
   "outputs": [
    {
     "name": "stdout",
     "output_type": "stream",
     "text": [
      "     ╭───────╮╭───────╮\n",
      "q0 : ┤ rx(0) ├┤ ry(0) ├\n",
      "     ╰───────╯╰───────╯\n",
      "\n",
      "Expectation value of the Hamiltonian:  1.0\n"
     ]
    }
   ],
   "source": [
    "import cudaq\n",
    "from cudaq import spin\n",
    "\n",
    "cudaq.set_target(\"nvidia\")\n",
    "\n",
    "@cudaq.kernel\n",
    "def param_circuit(theta: list[float]):\n",
    "    # Allocate a qubit that is initialised to the |0> state.\n",
    "    qubit = cudaq.qubit()\n",
    "    # Define gates and the qubits they act upon.\n",
    "    rx(theta[0], qubit)\n",
    "    ry(theta[1], qubit)\n",
    "\n",
    "\n",
    "# Our hamiltonian will be the Z expectation value of our qubit.\n",
    "hamiltonian = spin.z(0)\n",
    "\n",
    "# Initial gate parameters which initialize the qubit in the zero state\n",
    "parameters = [0.0, 0.0]\n",
    "\n",
    "print(cudaq.draw(param_circuit,parameters))\n",
    "\n",
    "# Compute the expectation value using the initial parameters.\n",
    "expectation_value = cudaq.observe(param_circuit, hamiltonian,parameters).expectation()\n",
    "\n",
    "print('Expectation value of the Hamiltonian: ', expectation_value)\n",
    "\n"
   ]
  },
  {
   "cell_type": "markdown",
   "metadata": {},
   "source": [
    "### E- Variational Quantum Algorithm\n",
    "\n",
    "![img](./VQE.png)"
   ]
  },
  {
   "cell_type": "markdown",
   "metadata": {},
   "source": [
    "### 1. VQA using ```cudaq.observe()``` & classical optimizer.\n",
    "- Using cudaq built-in optimizer"
   ]
  },
  {
   "cell_type": "code",
   "execution_count": 102,
   "metadata": {},
   "outputs": [
    {
     "name": "stdout",
     "output_type": "stream",
     "text": [
      "Initial cost value:  1.0\n",
      "Initial parameters:  [0.0, 0.0]\n",
      "Final cost value:  -0.9999999999999981\n",
      "Optimized parameters:  [3.141592653589793, 0.0]\n"
     ]
    }
   ],
   "source": [
    "import cudaq\n",
    "from cudaq import spin\n",
    "\n",
    "cudaq.set_target(\"nvidia\")\n",
    "\n",
    "@cudaq.kernel\n",
    "def vqe_circuit(theta: list[float]):\n",
    "    # Allocate a qubit that is initialised to the |0> state.\n",
    "    qubit = cudaq.qubit()\n",
    "    # Define gates and the qubits they act upon.\n",
    "    rx(theta[0], qubit)\n",
    "    ry(theta[1], qubit)\n",
    "\n",
    "\n",
    "# Our hamiltonian will be the Z expectation value of our qubit.\n",
    "hamiltonian = spin.z(0)\n",
    "\n",
    "# Initial gate parameters which initialize the qubit in the zero state\n",
    "initial_param = [0.0, 0.0]\n",
    "\n",
    "cost_values = []\n",
    "\n",
    "def cost(parameters):\n",
    "    \"\"\"Returns the expectation value as our cost.\"\"\"\n",
    "    expectation_value = cudaq.observe(vqe_circuit, hamiltonian, parameters).expectation()\n",
    "    cost_values.append(expectation_value)\n",
    "    return expectation_value\n",
    "\n",
    "initial_cost_value = cost(initial_param)\n",
    "print('Initial cost value: ', initial_cost_value)\n",
    "print('Initial parameters: ', initial_param)\n",
    "\n",
    "# Define a CUDA-Q optimizer.\n",
    "optimizer = cudaq.optimizers.COBYLA()\n",
    "optimizer.initial_parameters = initial_param\n",
    "\n",
    "result = optimizer.optimize(dimensions=2, function=cost)\n",
    "\n",
    "print('Final cost value: ', result[0])\n",
    "print('Optimized parameters: ', result[1])"
   ]
  },
  {
   "cell_type": "code",
   "execution_count": 103,
   "metadata": {},
   "outputs": [
    {
     "data": {
      "image/png": "[encoded data removed]",
      "text/plain": [
       "<Figure size 640x480 with 1 Axes>"
      ]
     },
     "metadata": {},
     "output_type": "display_data"
    }
   ],
   "source": [
    "import matplotlib.pyplot as plt\n",
    "\n",
    "x_values = list(range(len(cost_values)))\n",
    "y_values = cost_values\n",
    "\n",
    "plt.plot(x_values, y_values)\n",
    "\n",
    "plt.xlabel(\"Epochs\")\n",
    "plt.ylabel(\"Cost Value\")\n",
    "plt.show()"
   ]
  },
  {
   "cell_type": "markdown",
   "metadata": {},
   "source": [
    "- using third-party optimizer: ex. scipy optimizer"
   ]
  },
  {
   "cell_type": "code",
   "execution_count": 104,
   "metadata": {},
   "outputs": [
    {
     "name": "stdout",
     "output_type": "stream",
     "text": [
      "Initial cost value:  1.0\n",
      "Initial parameters:  [0.0, 0.0]\n",
      "Final cost value:  -0.9999999970938906\n",
      "Optimized parameters:  [3.14159466e+00 1.07798234e-04]\n"
     ]
    }
   ],
   "source": [
    "import cudaq\n",
    "from cudaq import spin\n",
    "import scipy\n",
    "\n",
    "cudaq.set_target(\"nvidia\")\n",
    "\n",
    "@cudaq.kernel\n",
    "def vqe_circuit_scipy(theta: list[float]):\n",
    "    # Allocate a qubit that is initialised to the |0> state.\n",
    "    qubit = cudaq.qubit()\n",
    "    # Define gates and the qubits they act upon.\n",
    "    rx(theta[0], qubit)\n",
    "    ry(theta[1], qubit)\n",
    "\n",
    "\n",
    "# Our hamiltonian will be the Z expectation value of our qubit.\n",
    "hamiltonian = spin.z(0)\n",
    "\n",
    "# Initial gate parameters which initialize the qubit in the zero state\n",
    "initial_parameters = [0.0, 0.0]\n",
    "\n",
    "def cost_scipy(parameters):\n",
    "    \"\"\"Returns the expectation value as our cost.\"\"\"\n",
    "    expectation_value = cudaq.observe(vqe_circuit_scipy, hamiltonian, parameters).expectation()\n",
    "    return expectation_value\n",
    "\n",
    "initial_cost_value = cost_scipy(initial_parameters)\n",
    "print('Initial cost value: ', initial_cost_value)\n",
    "print('Initial parameters: ', initial_parameters)\n",
    "\n",
    "\n",
    "result = scipy.optimize.minimize(cost_scipy,initial_parameters,method='COBYLA')\n",
    "\n",
    "print('Final cost value: ', result.fun)\n",
    "print('Optimized parameters: ', result.x)"
   ]
  },
  {
   "cell_type": "markdown",
   "metadata": {},
   "source": [
    "### 2. VQE wrapper: combine ```cudaq.observe()``` and the optimizer"
   ]
  },
  {
   "cell_type": "code",
   "execution_count": 105,
   "metadata": {},
   "outputs": [
    {
     "name": "stdout",
     "output_type": "stream",
     "text": [
      "\n",
      "minimized <H> = -0.9999999999999981\n",
      "optimal theta = [3.141592653589793, 0.0]\n"
     ]
    }
   ],
   "source": [
    "import cudaq\n",
    "from cudaq import spin\n",
    "\n",
    "cudaq.set_target(\"nvidia\")\n",
    "\n",
    "@cudaq.kernel\n",
    "def vqe_circuit(theta: list[float]):\n",
    "    # Allocate a qubit that is initialised to the |0> state.\n",
    "    qubit = cudaq.qubit()\n",
    "    # Define gates and the qubits they act upon.\n",
    "    rx(theta[0], qubit)\n",
    "    ry(theta[1], qubit)\n",
    "\n",
    "\n",
    "# Our hamiltonian will be the Z expectation value of our qubit.\n",
    "hamiltonian = spin.z(0)\n",
    "\n",
    "# Initial gate parameters which initialize the qubit in the zero state\n",
    "initial_param = [0.0, 0.0]\n",
    "\n",
    "optimizer = cudaq.optimizers.COBYLA()\n",
    "optimizer.max_iterations = 30\n",
    "optimizer.initial_parameters=initial_param\n",
    "\n",
    "opt_value, opt_theta = cudaq.vqe(kernel=vqe_circuit, \n",
    "                         spin_operator=hamiltonian,\n",
    "                         optimizer=optimizer,\n",
    "                         parameter_count=len(initial_param))\n",
    "\n",
    "print(f\"\\nminimized <H> = {round(opt_value,16)}\")\n",
    "print(f\"optimal theta = {opt_theta}\")"
   ]
  },
  {
   "cell_type": "markdown",
   "metadata": {},
   "source": [
    "### F- Multi-QPUs and Multi-GPUs\n",
    "\n",
    "#### 1. Multi-QPU (nvidia-mqpu)\n",
    "\n",
    "The `nvidia-mqpu` target is useful for distributing separate quantum circuits to individual GPUs on a single host machine. (For distribution to multiple host machines, see the `remote-mqpu` backend.)\n",
    "\n",
    "![img](./circuit-mqpu.png)\n",
    "\n",
    "- To learn more about `nvidia-mqpu` target, visit [this page](https://nvidia.github.io/cuda-quantum/latest/using/backends/platform.html)"
   ]
  },
  {
   "cell_type": "code",
   "execution_count": 106,
   "metadata": {},
   "outputs": [
    {
     "name": "stdout",
     "output_type": "stream",
     "text": [
      "Number of QPUs: 5\n",
      "We run two circuits on 2 QPU and the results are: \n",
      "{ 000:282 010:221 111:242 100:256 110:250 001:262 101:242 011:245 }\n",
      "\n",
      "{ 000:237 010:220 111:242 100:287 110:249 001:245 101:275 011:245 }\n",
      "\n"
     ]
    }
   ],
   "source": [
    "import cudaq\n",
    "\n",
    "cudaq.set_target(\"nvidia-mqpu\")\n",
    "\n",
    "target = cudaq.get_target()\n",
    "qpu_count = target.num_qpus()\n",
    "print(\"Number of QPUs:\", qpu_count)\n",
    "\n",
    "\n",
    "@cudaq.kernel\n",
    "def mqpu_example(qubit_count: int):\n",
    "    qubits = cudaq.qvector(qubit_count)\n",
    "    # Place qubits in superposition state.\n",
    "    h(qubits)\n",
    "    # Measure.\n",
    "    mz(qubits)\n",
    "\n",
    "count_futures = []\n",
    "\n",
    "# We will run on 2 GPUs\n",
    "print('We run two circuits on 2 QPU and the results are: ')\n",
    "for qpu in range(2):\n",
    "    count_futures.append(cudaq.sample_async(mqpu_example, 3, shots_count=2000, qpu_id=qpu))\n",
    "\n",
    "for counts in count_futures:\n",
    "    print(counts.get())"
   ]
  },
  {
   "cell_type": "code",
   "execution_count": 115,
   "metadata": {},
   "outputs": [
    {
     "name": "stdout",
     "output_type": "stream",
     "text": [
      "Number of QPUs: 5\n",
      "Parameter shape:  (20, 5)\n",
      "Energies from single GPU\n",
      "[0.64879424 0.58455425 0.95929639 0.91762499 0.96933676 0.54637976\n",
      " 0.97521567 0.99867218 0.79019367 0.82274101 0.5851651  0.79346786\n",
      " 0.91356545 0.61507167 0.94903381 0.9993066  0.85096268 0.87421511\n",
      " 0.74546355 0.95660046]\n",
      "We have 20 parameters which we would like to execute\n",
      "We split this into 4 batches of 5 , 5 , 5 , 5\n",
      "Shape after splitting (5, 5)\n",
      "Energies from multi-GPUs\n",
      "0.6487942400292184\n",
      "0.5845542501076578\n",
      "0.9592963923435747\n",
      "0.9176249947660011\n",
      "0.9693367583031431\n",
      "0.5463797623660418\n",
      "0.9752156657889941\n",
      "0.9986721766282083\n",
      "0.790193668694414\n",
      "0.8227410069830512\n",
      "0.5851650997278739\n",
      "0.7934678641667406\n",
      "0.9135654515996343\n",
      "0.615071667695247\n",
      "0.9490338070955175\n",
      "0.9993065973320556\n",
      "0.8509626841137106\n",
      "0.8742151069168358\n",
      "0.7454635462163424\n",
      "0.956600457306422\n"
     ]
    }
   ],
   "source": [
    "import cudaq\n",
    "from cudaq import spin\n",
    "import numpy as np\n",
    "\n",
    "np.random.seed(1)\n",
    "\n",
    "cudaq.set_target(\"nvidia-mqpu\")\n",
    "target = cudaq.get_target()\n",
    "qpu_count = target.num_qpus()\n",
    "print(\"Number of QPUs:\", qpu_count)\n",
    "\n",
    "qubit_count = 5\n",
    "sample_count = 20\n",
    "\n",
    "ham = spin.z(0)\n",
    "\n",
    "parameter_count = qubit_count\n",
    "\n",
    "# Below we run a circuit for 20 different input parameters.\n",
    "parameters = np.random.default_rng(13).uniform(low=0,\n",
    "                                               high=1,\n",
    "                                               size=(sample_count,\n",
    "                                                     parameter_count))\n",
    "\n",
    "print('Parameter shape: ', parameters.shape)\n",
    "\n",
    "@cudaq.kernel\n",
    "def kernel_rx(theta:list[float]):\n",
    "    qubits = cudaq.qvector(qubit_count)\n",
    "\n",
    "    for i in range(qubit_count):\n",
    "        rx(theta[i], qubits[i])\n",
    "\n",
    "#single GPU\n",
    "result = cudaq.observe(kernel_rx, ham, parameters)\n",
    "energies = np.array([r.expectation() for r in result])\n",
    "print('Energies from single GPU')\n",
    "print(energies)\n",
    "\n",
    "# Multi-GPU\n",
    "\n",
    "# We split our parameters into 4 arrays since we have 4 GPUs available.\n",
    "xi = np.split(parameters,4)\n",
    "\n",
    "print('We have', parameters.shape[0],\n",
    "      'parameters which we would like to execute')\n",
    "\n",
    "print('We split this into', len(xi), 'batches of', xi[0].shape[0], ',',\n",
    "      xi[1].shape[0], ',', xi[2].shape[0], ',', xi[3].shape[0])\n",
    "\n",
    "print('Shape after splitting', xi[0].shape)\n",
    "asyncresults = []\n",
    "\n",
    "for i in range(len(xi)):\n",
    "    for j in range(xi[i].shape[0]):\n",
    "        asyncresults.append(\n",
    "            cudaq.observe_async(kernel_rx, ham, xi[i][j, :], qpu_id=i))\n",
    "\n",
    "print('Energies from multi-GPUs')\n",
    "for result in asyncresults:\n",
    "    observe_result = result.get()\n",
    "    got_expectation = observe_result.expectation()\n",
    "    print(got_expectation)\n"
   ]
  },
  {
   "cell_type": "markdown",
   "metadata": {},
   "source": [
    "#### 2. Multi-GPU (nvidia-mgpu)\n",
    "\n",
    "The `nvidia-mgpu` backend is useful for running a large single quantum circuit spread across multiple GPUs.\n",
    "- A $n$ qubit quantum state has $2^n$ complex amplitudes, each of which require 8 bytes of memory to store. Hence the total memory required to store a n qubit quantum state is $8$ bytes $\\times 2^n$. For $n=30$ qubits, this is roughly $8$ GB but for $n=40$, this exponentially increases to $8700$ GB.\n",
    "- To learn more about the multi-GPU computation, visit [this page](https://docs.nvidia.com/cuda/cuquantum/latest/custatevec/overview.html#multi-gpu-computation)."
   ]
  },
  {
   "cell_type": "markdown",
   "metadata": {},
   "source": [
    "```python\n",
    "# mpirun -np 4 python <fname> --target nvidia-mgpu\n",
    "\n",
    "import cudaq\n",
    "\n",
    "cudaq.mpi.initialize()\n",
    "\n",
    "qubit_count = 34\n",
    "\n",
    "@cudaq.kernel\n",
    "def kernel(qubit_count: int):\n",
    "    # Allocate our qubits.\n",
    "    qvector = cudaq.qvector(qubit_count)\n",
    "    # Place the first qubit in the superposition state.\n",
    "    h(qvector[0])\n",
    "    # Loop through the allocated qubits and apply controlled-X,\n",
    "    # or CNOT, operations between them.\n",
    "    for qubit in range(qubit_count - 1):\n",
    "        x.ctrl(qvector[qubit], qvector[qubit + 1])\n",
    "    # Measure the qubits.\n",
    "    mz(qvector)\n",
    "\n",
    "#print(\"Preparing GHZ state for\", qubit_count, \"qubits.\")\n",
    "counts = cudaq.sample(kernel, qubit_count)\n",
    "\n",
    "if cudaq.mpi.rank() == 0:\n",
    "    print(counts)\n",
    "\n",
    "cudaq.mpi.finalize()\n",
    "```"
   ]
  },
  {
   "cell_type": "markdown",
   "metadata": {},
   "source": [
    "### G- Advanced Examples"
   ]
  },
  {
   "cell_type": "markdown",
   "metadata": {},
   "source": [
    "#### 1. Observe broadcast"
   ]
  },
  {
   "cell_type": "code",
   "execution_count": 108,
   "metadata": {},
   "outputs": [
    {
     "name": "stdout",
     "output_type": "stream",
     "text": [
      "[12.25028963 12.7463697  13.13014707 13.3953207  13.5375372  13.55445895\n",
      " 13.44581138 13.21337514 12.86096912 12.39437941 11.82126641 11.15104264\n",
      " 10.3947097   9.56468975  8.67461104  7.73908823  6.77348197  5.79364859\n",
      "  4.81567611  3.85562305  2.92925391  2.05177916  1.23760717  0.50010619\n",
      " -0.14861362 -0.69790041 -1.13873491 -1.46387879 -1.6679928  -1.74772597\n",
      " -1.70176822 -1.53087529 -1.23785214 -0.82751117 -0.30658954  0.31635915\n",
      "  1.03110573  1.82591505  2.68773578  3.60241499  4.55493715  5.52965962\n",
      "  6.5105773   7.48158647  8.42673803  9.33051716 10.17808243 10.95551597\n",
      " 11.65005271 12.25029037]\n"
     ]
    }
   ],
   "source": [
    "import cudaq\n",
    "\n",
    "cudaq.set_target(\"nvidia\")\n",
    "\n",
    "hamiltonian = 5.907 - 2.1433 * spin.x(0) * spin.x(1) - 2.1433 * spin.y(\n",
    "    0) * spin.y(1) + .21829 * spin.z(0) - 6.125 * spin.z(1)\n",
    "\n",
    "angles = np.linspace(-np.pi, np.pi, 50)\n",
    "\n",
    "#print(angles)\n",
    "qubit_num=2\n",
    "\n",
    "@cudaq.kernel\n",
    "def ansatz_test(angle: float):\n",
    "    q = cudaq.qvector(qubit_num)\n",
    "    x(q[0])\n",
    "    ry(angle, q[1])\n",
    "    x.ctrl(q[1], q[0])\n",
    "\n",
    "results = cudaq.observe(ansatz_test, hamiltonian, angles)\n",
    "energies = np.array([r.expectation() for r in results])\n",
    "print(energies)\n"
   ]
  },
  {
   "cell_type": "code",
   "execution_count": 109,
   "metadata": {},
   "outputs": [
    {
     "name": "stdout",
     "output_type": "stream",
     "text": [
      "[1.        0.0620777]\n"
     ]
    }
   ],
   "source": [
    "import cudaq\n",
    "from cudaq import spin\n",
    "\n",
    "cudaq.set_target(\"nvidia\")\n",
    "\n",
    "@cudaq.kernel\n",
    "def param_circuit(theta: np.ndarray):\n",
    "    # Allocate a qubit that is initialised to the |0> state.\n",
    "    qubit = cudaq.qubit()\n",
    "    # Define gates and the qubits they act upon.\n",
    "    rx(theta[0], qubit)\n",
    "    ry(theta[1], qubit)\n",
    "\n",
    "\n",
    "# Our hamiltonian will be the Z expectation value of our qubit.\n",
    "hamiltonian = spin.z(0)\n",
    "\n",
    "# Initial gate parameters which initialize the qubit in the zero state\n",
    "many_parms = np.array([[0,0],[1.5,0.5]])\n",
    "results= cudaq.observe(param_circuit, hamiltonian, many_parms)\n",
    "energies = np.array([r.expectation() for r in results])\n",
    "print(energies)\n"
   ]
  },
  {
   "cell_type": "markdown",
   "metadata": {},
   "source": [
    "#### 2. Pauli word\n",
    "\n",
    "![img](./pauli-word.png)"
   ]
  },
  {
   "cell_type": "code",
   "execution_count": 110,
   "metadata": {},
   "outputs": [
    {
     "name": "stdout",
     "output_type": "stream",
     "text": [
      "Expectation value:  0.04777800003152044\n"
     ]
    }
   ],
   "source": [
    "import cudaq\n",
    "from cudaq import spin\n",
    "\n",
    "cudaq.set_target('nvidia')\n",
    "\n",
    "ham=-0.106477- 0.0454063*spin.x(0)*spin.x(1)*spin.y(2)*spin.y(3) +0.174073*spin.z(2\n",
    "                )*spin.z(3)+0.0454063*spin.y(0)*spin.x(1)*spin.x(2)*spin.y(3)\n",
    "\n",
    "\n",
    "@cudaq.kernel\n",
    "def kernel_pauli_word(theta: float, var: cudaq.pauli_word):\n",
    "    q = cudaq.qvector(4)\n",
    "    x(q[0])\n",
    "    x(q[1])\n",
    "    exp_pauli(theta, q, var)\n",
    "\n",
    "exp_val = cudaq.observe(kernel_pauli_word, ham, 0.11, 'XXXY').expectation()\n",
    "\n",
    "print('Expectation value: ', exp_val)\n"
   ]
  },
  {
   "cell_type": "code",
   "execution_count": 111,
   "metadata": {},
   "outputs": [
    {
     "name": "stdout",
     "output_type": "stream",
     "text": [
      "Expectation value:  0.04382123044540878\n"
     ]
    }
   ],
   "source": [
    "import cudaq\n",
    "from cudaq import spin\n",
    "\n",
    "cudaq.set_target('nvidia')\n",
    "\n",
    "ham=-0.106477- 0.0454063*spin.x(0)*spin.x(1)*spin.y(2)*spin.y(3) +0.174073*spin.z(2\n",
    "                )*spin.z(3)+0.0454063*spin.y(0)*spin.x(1)*spin.x(2)*spin.y(3)\n",
    "\n",
    "\n",
    "@cudaq.kernel\n",
    "def kernel_pauli_word_list(theta: float, paulis: list[cudaq.pauli_word]):\n",
    "    q = cudaq.qvector(4)\n",
    "    x(q[0])\n",
    "    x(q[1])\n",
    "    for p in paulis:\n",
    "        exp_pauli(theta, q, p)\n",
    "\n",
    "exp_val = cudaq.observe(kernel_pauli_word_list, ham, 0.11, ['XXXY','XYZY']).expectation()\n",
    "\n",
    "print('Expectation value: ', exp_val)"
   ]
  },
  {
   "cell_type": "markdown",
   "metadata": {},
   "source": [
    "#### 3. Control on kernel function: to learn more, see [this page](https://nvidia.github.io/cuda-quantum/latest/specification/cudaq/synthesis.html)"
   ]
  },
  {
   "cell_type": "code",
   "execution_count": 112,
   "metadata": {},
   "outputs": [
    {
     "name": "stdout",
     "output_type": "stream",
     "text": [
      "{ 101:1000 }\n",
      "\n"
     ]
    }
   ],
   "source": [
    "import cudaq\n",
    "\n",
    "cudaq.set_target('nvidia')\n",
    "\n",
    "@cudaq.kernel\n",
    "def fancyCnot(a: cudaq.qubit, b: cudaq.qubit):\n",
    "    x.ctrl(a, b)\n",
    "\n",
    "@cudaq.kernel\n",
    "def toffoli():\n",
    "    q = cudaq.qvector(3)\n",
    "    ctrl = q.front()\n",
    "    # without a control, apply x to all\n",
    "    x(ctrl, q[2])\n",
    "    cudaq.control(fancyCnot, [ctrl], q[1], q[2])\n",
    "\n",
    "counts = cudaq.sample(toffoli)\n",
    "\n",
    "print(counts)"
   ]
  },
  {
   "cell_type": "markdown",
   "metadata": {},
   "source": [
    "#### 4. compute_action(): to learn more, visit [this page](https://nvidia.github.io/cuda-quantum/latest/specification/cudaq/patterns.html)\n",
    "\n",
    "- ```compute_action(U,V)```: will invoke $U V U^\\dagger$. $U$ is the compute block and $V$ is the action block.\n",
    "\n",
    "- Example: Grover algorithm: \n",
    "\n",
    "![img](./grover-circuit.png)"
   ]
  },
  {
   "cell_type": "code",
   "execution_count": 113,
   "metadata": {},
   "outputs": [
    {
     "name": "stdout",
     "output_type": "stream",
     "text": [
      "{ 101:507 011:493 }\n",
      "\n"
     ]
    }
   ],
   "source": [
    "import cudaq\n",
    "from typing import Callable\n",
    "\n",
    "cudaq.set_target('nvidia')\n",
    "\n",
    "@cudaq.kernel\n",
    "def reflect(qubits: cudaq.qview):\n",
    "    ctrls = qubits.front(qubits.size() - 1)\n",
    "    last = qubits.back()\n",
    "    cudaq.compute_action(lambda: (h(qubits), x(qubits)),\n",
    "                          lambda: z.ctrl(ctrls, last))\n",
    "\n",
    "@cudaq.kernel\n",
    "def oracle(q: cudaq.qview):\n",
    "    z.ctrl(q[0], q[2])\n",
    "    z.ctrl(q[1], q[2])\n",
    "\n",
    "@cudaq.kernel\n",
    "def grover(N: int, M: int, oracle: Callable[[cudaq.qview], None]):\n",
    "    q = cudaq.qvector(N)\n",
    "    h(q)\n",
    "    for i in range(M):\n",
    "        oracle(q)\n",
    "        reflect(q)\n",
    "    mz(q)\n",
    "\n",
    "counts = cudaq.sample(grover, 3, 1, oracle)\n",
    "print(counts)"
   ]
  },
  {
   "cell_type": "markdown",
   "metadata": {},
   "source": [
    "#### 5. To look at the MLIR and QIR generated from your code"
   ]
  },
  {
   "cell_type": "code",
   "execution_count": 114,
   "metadata": {},
   "outputs": [
    {
     "name": "stdout",
     "output_type": "stream",
     "text": [
      "module attributes {quake.mangled_name_map = {__nvqpp__mlirgen__kernel = \"__nvqpp__mlirgen__kernel_PyKernelEntryPointRewrite\"}} {\n",
      "  func.func @__nvqpp__mlirgen__kernel(%arg0: i64) attributes {\"cudaq-entrypoint\"} {\n",
      "    %c1_i64 = arith.constant 1 : i64\n",
      "    %c0_i64 = arith.constant 0 : i64\n",
      "    %0 = cc.alloca i64\n",
      "    cc.store %arg0, %0 : !cc.ptr<i64>\n",
      "    %1 = cc.load %0 : !cc.ptr<i64>\n",
      "    %2 = quake.alloca !quake.veq<?>[%1 : i64]\n",
      "    %3 = quake.extract_ref %2[0] : (!quake.veq<?>) -> !quake.ref\n",
      "    quake.h %3 : (!quake.ref) -> ()\n",
      "    %4 = cc.load %0 : !cc.ptr<i64>\n",
      "    %5 = arith.subi %4, %c1_i64 : i64\n",
      "    %6 = cc.loop while ((%arg1 = %c0_i64) -> (i64)) {\n",
      "      %7 = arith.cmpi slt, %arg1, %5 : i64\n",
      "      cc.condition %7(%arg1 : i64)\n",
      "    } do {\n",
      "    ^bb0(%arg1: i64):\n",
      "      %7 = quake.extract_ref %2[%arg1] : (!quake.veq<?>, i64) -> !quake.ref\n",
      "      %8 = arith.addi %arg1, %c1_i64 : i64\n",
      "      %9 = quake.extract_ref %2[%8] : (!quake.veq<?>, i64) -> !quake.ref\n",
      "      quake.x [%7] %9 : (!quake.ref, !quake.ref) -> ()\n",
      "      cc.continue %arg1 : i64\n",
      "    } step {\n",
      "    ^bb0(%arg1: i64):\n",
      "      %7 = arith.addi %arg1, %c1_i64 : i64\n",
      "      cc.continue %7 : i64\n",
      "    } {invariant}\n",
      "    return\n",
      "  }\n",
      "}\n",
      "\n",
      "; ModuleID = 'LLVMDialectModule'\n",
      "source_filename = \"LLVMDialectModule\"\n",
      "\n",
      "%Array = type opaque\n",
      "%Qubit = type opaque\n",
      "\n",
      "declare void @invokeWithControlQubits(i64, void (%Array*, %Qubit*)*, ...) local_unnamed_addr\n",
      "\n",
      "declare void @__quantum__qis__x__ctl(%Array*, %Qubit*)\n",
      "\n",
      "declare void @__quantum__rt__qubit_release_array(%Array*) local_unnamed_addr\n",
      "\n",
      "declare void @__quantum__qis__h(%Qubit*) local_unnamed_addr\n",
      "\n",
      "declare i8* @__quantum__rt__array_get_element_ptr_1d(%Array*, i64) local_unnamed_addr\n",
      "\n",
      "declare %Array* @__quantum__rt__qubit_allocate_array(i64) local_unnamed_addr\n",
      "\n",
      "define void @__nvqpp__mlirgen__kernel(i64 %0) local_unnamed_addr {\n",
      "  %2 = tail call %Array* @__quantum__rt__qubit_allocate_array(i64 %0)\n",
      "  %3 = tail call i8* @__quantum__rt__array_get_element_ptr_1d(%Array* %2, i64 0)\n",
      "  %4 = bitcast i8* %3 to %Qubit**\n",
      "  %5 = load %Qubit*, %Qubit** %4, align 8\n",
      "  tail call void @__quantum__qis__h(%Qubit* %5)\n",
      "  %6 = add i64 %0, -1\n",
      "  %7 = icmp sgt i64 %6, 0\n",
      "  br i1 %7, label %.lr.ph, label %._crit_edge\n",
      "\n",
      ".lr.ph:                                           ; preds = %1, %.lr.ph\n",
      "  %8 = phi i64 [ %12, %.lr.ph ], [ 0, %1 ]\n",
      "  %9 = tail call i8* @__quantum__rt__array_get_element_ptr_1d(%Array* %2, i64 %8)\n",
      "  %10 = bitcast i8* %9 to %Qubit**\n",
      "  %11 = load %Qubit*, %Qubit** %10, align 8\n",
      "  %12 = add nuw nsw i64 %8, 1\n",
      "  %13 = tail call i8* @__quantum__rt__array_get_element_ptr_1d(%Array* %2, i64 %12)\n",
      "  %14 = bitcast i8* %13 to %Qubit**\n",
      "  %15 = load %Qubit*, %Qubit** %14, align 8\n",
      "  tail call void (i64, void (%Array*, %Qubit*)*, ...) @invokeWithControlQubits(i64 1, void (%Array*, %Qubit*)* nonnull @__quantum__qis__x__ctl, %Qubit* %11, %Qubit* %15)\n",
      "  %16 = icmp slt i64 %12, %6\n",
      "  br i1 %16, label %.lr.ph, label %._crit_edge\n",
      "\n",
      "._crit_edge:                                      ; preds = %.lr.ph, %1\n",
      "  tail call void @__quantum__rt__qubit_release_array(%Array* %2)\n",
      "  ret void\n",
      "}\n",
      "\n"
     ]
    }
   ],
   "source": [
    "import cudaq\n",
    "\n",
    "cudaq.set_target('nvidia')\n",
    "\n",
    "@cudaq.kernel\n",
    "def kernel(N : int):\n",
    "    q = cudaq.qvector(N)\n",
    "    h(q[0])\n",
    "    for i in range(N-1):\n",
    "        x.ctrl(q[i], q[i+1])\n",
    "\n",
    "# Look at the MLIR \n",
    "print(kernel)\n",
    "\n",
    "# Look at the QIR\n",
    "print(cudaq.to_qir(kernel))"
   ]
  }
 ],
 "metadata": {
  "kernelspec": {
   "display_name": "Python 3",
   "language": "python",
   "name": "python3"
  },
  "language_info": {
   "codemirror_mode": {
    "name": "ipython",
    "version": 3
   },
   "file_extension": ".py",
   "mimetype": "text/x-python",
   "name": "python",
   "nbconvert_exporter": "python",
   "pygments_lexer": "ipython3",
   "version": "3.10.12"
  }
 },
 "nbformat": 4,
 "nbformat_minor": 2
}
