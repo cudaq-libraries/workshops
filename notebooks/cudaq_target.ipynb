{
 "cells": [
  {
   "cell_type": "markdown",
   "metadata": {
    "id": "LFll05BKRoUZ"
   },
   "source": [
    "# Target Backends\n",
    "\n",
    "## Set target\n",
    "\n",
    "Two options to set the target:\n",
    "\n",
    "1. Define the target when running the program:\n",
    "```bash\n",
    "python3 program.py [...] --target <target_name>\n",
    "```\n",
    "\n",
    "2. Target can be defined in the application code:\n",
    "`cudaq.set_target(\"target_name\")` . Then, to run the program, drop the target flag:\n",
    "`python3 program.py [...]`\n",
    "\n",
    "\n",
    "## Target name\n",
    "\n",
    "1. State vector simulators:\n",
    "    - Single-GPU (Default if an NVIDIA GPU and CUDA runtime libraries are available): `python3 program.py [...] --target nvidia`\n",
    "    - Multi-GPUs: `mpirun -np 2 python3 program.py [...] --target nvidia --target-option=mgpu`\n",
    "2. Tensor network simulator:\n",
    "    - Single-GPU: `python3 program.py [...] --target tensornet`\n",
    "    - Multi-GPUs: `mpirun -np 2 python3 program.py [...] --target tensornet`\n",
    "3. Matrix Product State:\n",
    "    - Only supports single-GPU simulation: `python3 program.py [...] --target tensornet-mps`\n",
    "4. NVIDIA Quantum Cloud\n",
    "    - Run any of the above backends using NVIDIA-provided cloud GPUs (early access only). To learn more, visit [this page](https://www.nvidia.com/en-us/solutions/quantum-computing/cloud/).\n",
    "    - E.g. `cudaq.set_target('nvqc', backend='tensornet')`\n",
    "5. Quantum hardware backend (to learn more, visit [this page](https://nvidia.github.io/cuda-quantum/latest/using/backends/hardware.html)):\n",
    "    - ```cudaq.set_target('QPU_name')```. QPU_name could be `ionq`, `quantinuum`, `iqm`, `oqc`, ...etc.\n",
    "\n",
    "\n",
    "To learn more about CUDA-Q backends, visit [this page](https://nvidia.github.io/cuda-quantum/latest/using/backends/backends.html)"
   ]
  },
  {
   "cell_type": "code",
   "execution_count": 1,
   "metadata": {
    "executionInfo": {
     "elapsed": 401,
     "status": "ok",
     "timestamp": 1727229365729,
     "user": {
      "displayName": "Ikko Hamamura",
      "userId": "14952240016147607013"
     },
     "user_tz": -540
    },
    "id": "rDvRX-19RHy3"
   },
   "outputs": [],
   "source": [
    "import cudaq\n",
    "from time import perf_counter"
   ]
  },
  {
   "cell_type": "code",
   "execution_count": 2,
   "metadata": {
    "executionInfo": {
     "elapsed": 4,
     "status": "ok",
     "timestamp": 1727229241549,
     "user": {
      "displayName": "Ikko Hamamura",
      "userId": "14952240016147607013"
     },
     "user_tz": -540
    },
    "id": "jmBgdN00RKO1"
   },
   "outputs": [],
   "source": [
    "@cudaq.kernel\n",
    "def ghz(n: int):\n",
    "    q = cudaq.qvector(n)\n",
    "    h(q[0])\n",
    "\n",
    "    for i in range(1, n):\n",
    "        cx(q[0], q[i])"
   ]
  },
  {
   "cell_type": "code",
   "execution_count": 3,
   "metadata": {
    "colab": {
     "base_uri": "https://localhost:8080/"
    },
    "executionInfo": {
     "elapsed": 358,
     "status": "ok",
     "timestamp": 1727229261834,
     "user": {
      "displayName": "Ikko Hamamura",
      "userId": "14952240016147607013"
     },
     "user_tz": -540
    },
    "id": "R28QnAcaRo1I",
    "outputId": "987723a7-c000-491e-b515-4ecb6aba9dac"
   },
   "outputs": [
    {
     "name": "stdout",
     "output_type": "stream",
     "text": [
      "{ 0000000000:515 1111111111:485 }\n",
      "\n"
     ]
    }
   ],
   "source": [
    "# Run with CPU\n",
    "\n",
    "cudaq.set_target(\"qpp-cpu\")\n",
    "\n",
    "counts = cudaq.sample(ghz, 10)\n",
    "print(counts)"
   ]
  },
  {
   "cell_type": "markdown",
   "metadata": {
    "id": "WB-crptc5_k6"
   },
   "source": [
    "Statevector simulation tiem scales exponentially."
   ]
  },
  {
   "cell_type": "code",
   "execution_count": 4,
   "metadata": {
    "colab": {
     "base_uri": "https://localhost:8080/"
    },
    "executionInfo": {
     "elapsed": 21731,
     "status": "ok",
     "timestamp": 1727229476818,
     "user": {
      "displayName": "Ikko Hamamura",
      "userId": "14952240016147607013"
     },
     "user_tz": -540
    },
    "id": "1efxUe9FRaTN",
    "outputId": "b7b693bc-e1f7-4f17-bc77-9f89c9114b95"
   },
   "outputs": [
    {
     "name": "stdout",
     "output_type": "stream",
     "text": [
      "[(10, 0.0013061165809631348), (11, 0.001062631607055664), (12, 0.0016064569354057312), (13, 0.0018215291202068329), (14, 0.002770930528640747), (15, 0.004936769604682922), (16, 0.01007382944226265), (17, 0.022454407066106796), (18, 0.04882889613509178), (19, 0.10831882804632187), (20, 0.22663861140608788), (21, 0.6565521284937859)]\n"
     ]
    }
   ],
   "source": [
    "cudaq.set_target(\"qpp-cpu\")\n",
    "\n",
    "cpu_times = []\n",
    "for n in range(10, 22):\n",
    "    start = perf_counter()\n",
    "    counts = cudaq.sample(ghz, n)\n",
    "    end = perf_counter()\n",
    "    cpu_times.append((n, end - start))\n",
    "\n",
    "print(cpu_times)"
   ]
  },
  {
   "cell_type": "markdown",
   "metadata": {
    "id": "ZaBfpwrG6ED-"
   },
   "source": [
    "Simulation with GPU is also exponential, but faster than CPUs for large number of qubits:"
   ]
  },
  {
   "cell_type": "code",
   "execution_count": 5,
   "metadata": {
    "colab": {
     "base_uri": "https://localhost:8080/"
    },
    "id": "B2t0SAb8RS0F",
    "outputId": "082c4d69-a04c-4e2b-aa2a-7c09d0d05a16"
   },
   "outputs": [
    {
     "name": "stdout",
     "output_type": "stream",
     "text": [
      "[(10, 0.027761921286582947), (11, 0.002786509692668915), (12, 0.0028105340898036957), (13, 0.0026717595756053925), (14, 0.0026606395840644836), (15, 0.003180127590894699), (16, 0.037262581288814545), (17, 0.006582587957382202), (18, 0.0033148862421512604), (19, 0.003248177468776703), (20, 0.0031191743910312653), (21, 0.0032068900763988495), (22, 0.0037196315824985504), (23, 0.00418052077293396), (24, 0.009553790092468262), (25, 0.037110336124897), (26, 0.014895003288984299), (27, 0.024457015097141266), (28, 0.0471811518073082), (29, 0.09365806356072426), (30, 0.22890816628932953), (31, 0.39939553663134575)]\n"
     ]
    }
   ],
   "source": [
    "# Use GPU\n",
    "cudaq.set_target(\"nvidia\")\n",
    "\n",
    "gpu_times = []\n",
    "for n in range(10, 32):\n",
    "    start = perf_counter()\n",
    "    counts = cudaq.sample(ghz, n)\n",
    "    end = perf_counter()\n",
    "    gpu_times.append((n, end - start))\n",
    "\n",
    "print(gpu_times)"
   ]
  },
  {
   "cell_type": "code",
   "execution_count": 6,
   "metadata": {},
   "outputs": [
    {
     "data": {
      "image/png": "[encoded data removed]",
      "text/plain": [
       "<Figure size 640x480 with 1 Axes>"
      ]
     },
     "metadata": {},
     "output_type": "display_data"
    }
   ],
   "source": [
    "# Visualize\n",
    "import matplotlib.pyplot as plt\n",
    "\n",
    "plt.plot([i[0] for i in cpu_times], ([i[1] for i in cpu_times]), label=\"CPU\")\n",
    "plt.plot([i[0] for i in gpu_times], ([i[1] for i in gpu_times]), label=\"GPU\")\n",
    "plt.legend()\n",
    "plt.show()"
   ]
  },
  {
   "cell_type": "code",
   "execution_count": 7,
   "metadata": {},
   "outputs": [
    {
     "name": "stdout",
     "output_type": "stream",
     "text": [
      "CUDA-Q Version  (https://github.com/NVIDIA/cuda-quantum 0876ddbaef1e01d6e45a90a633077c5d04f90bf6)\n"
     ]
    }
   ],
   "source": [
    "### Version information\n",
    "print(cudaq.__version__)"
   ]
  }
 ],
 "metadata": {
  "accelerator": "GPU",
  "colab": {
   "gpuType": "T4",
   "provenance": []
  },
  "kernelspec": {
   "display_name": "Python 3 (ipykernel)",
   "language": "python",
   "name": "python3"
  },
  "language_info": {
   "codemirror_mode": {
    "name": "ipython",
    "version": 3
   },
   "file_extension": ".py",
   "mimetype": "text/x-python",
   "name": "python",
   "nbconvert_exporter": "python",
   "pygments_lexer": "ipython3",
   "version": "3.10.12"
  }
 },
 "nbformat": 4,
 "nbformat_minor": 4
}
