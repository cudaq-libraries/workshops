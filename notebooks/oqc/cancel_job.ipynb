{
 "cells": [
  {
   "cell_type": "markdown",
   "id": "4ff7be46-7681-42cd-b82a-71bc4d873685",
   "metadata": {},
   "source": [
    "# Cancel Job"
   ]
  },
  {
   "cell_type": "code",
   "execution_count": 2,
   "id": "5ff661a5-ab4d-4c9b-a398-1996db594e43",
   "metadata": {},
   "outputs": [
    {
     "name": "stdout",
     "output_type": "stream",
     "text": [
      "Collecting oqc-qcaas-client\n",
      "  Downloading oqc_qcaas_client-3.18.0-py3-none-any.whl (13 kB)\n",
      "Collecting toml<0.11.0,>=0.10.2\n",
      "  Downloading toml-0.10.2-py2.py3-none-any.whl (16 kB)\n",
      "Collecting requests<3.0.0,>=2.32.3\n",
      "  Downloading requests-2.32.3-py3-none-any.whl (64 kB)\n",
      "\u001b[2K     \u001b[90m━━━━━━━━━━━━━━━━━━━━━━━━━━━━━━━━━━━━━━━━\u001b[0m \u001b[32m64.9/64.9 KB\u001b[0m \u001b[31m3.8 MB/s\u001b[0m eta \u001b[36m0:00:00\u001b[0m\n",
      "\u001b[?25hRequirement already satisfied: ujson<6.0.0,>=5.10.0 in /usr/local/lib/python3.10/dist-packages (from oqc-qcaas-client) (5.10.0)\n",
      "Collecting bandit<2.0.0,>=1.7.9\n",
      "  Downloading bandit-1.8.3-py3-none-any.whl (129 kB)\n",
      "\u001b[2K     \u001b[90m━━━━━━━━━━━━━━━━━━━━━━━━━━━━━━━━━━━━━━\u001b[0m \u001b[32m129.1/129.1 KB\u001b[0m \u001b[31m12.1 MB/s\u001b[0m eta \u001b[36m0:00:00\u001b[0m\n",
      "\u001b[?25hCollecting pip-audit<3.0.0,>=2.7.3\n",
      "  Downloading pip_audit-2.8.0-py3-none-any.whl (57 kB)\n",
      "\u001b[2K     \u001b[90m━━━━━━━━━━━━━━━━━━━━━━━━━━━━━━━━━━━━━━━━\u001b[0m \u001b[32m57.0/57.0 KB\u001b[0m \u001b[31m4.2 MB/s\u001b[0m eta \u001b[36m0:00:00\u001b[0m\n",
      "\u001b[?25hRequirement already satisfied: python-dotenv<2.0.0,>=1.0.1 in /usr/local/lib/python3.10/dist-packages (from oqc-qcaas-client) (1.0.1)\n",
      "Collecting setuptools<73.0.0,>=72.1.0\n",
      "  Downloading setuptools-72.2.0-py3-none-any.whl (2.3 MB)\n",
      "\u001b[2K     \u001b[90m━━━━━━━━━━━━━━━━━━━━━━━━━━━━━━━━━━━━━━━━\u001b[0m \u001b[32m2.3/2.3 MB\u001b[0m \u001b[31m62.1 MB/s\u001b[0m eta \u001b[36m0:00:00\u001b[0m:00:01\u001b[0m\n",
      "\u001b[?25hCollecting requests-mock<2.0.0,>=1.12.1\n",
      "  Downloading requests_mock-1.12.1-py2.py3-none-any.whl (27 kB)\n",
      "Collecting compiler-config==0.1.0\n",
      "  Downloading compiler_config-0.1.0-py3-none-any.whl (8.6 kB)\n",
      "Collecting pip-licenses<6.0.0,>=5.0.0\n",
      "  Downloading pip_licenses-5.0.0-py3-none-any.whl (20 kB)\n",
      "Requirement already satisfied: rich in /usr/local/lib/python3.10/dist-packages (from bandit<2.0.0,>=1.7.9->oqc-qcaas-client) (13.9.4)\n",
      "Collecting stevedore>=1.20.0\n",
      "  Downloading stevedore-5.4.1-py3-none-any.whl (49 kB)\n",
      "\u001b[2K     \u001b[90m━━━━━━━━━━━━━━━━━━━━━━━━━━━━━━━━━━━━━━━━\u001b[0m \u001b[32m49.5/49.5 KB\u001b[0m \u001b[31m6.1 MB/s\u001b[0m eta \u001b[36m0:00:00\u001b[0m\n",
      "\u001b[?25hRequirement already satisfied: PyYAML>=5.3.1 in /usr/lib/python3/dist-packages (from bandit<2.0.0,>=1.7.9->oqc-qcaas-client) (5.4.1)\n",
      "Collecting pip-requirements-parser>=32.0.0\n",
      "  Downloading pip_requirements_parser-32.0.1-py3-none-any.whl (35 kB)\n",
      "Requirement already satisfied: platformdirs>=4.2.0 in /usr/local/lib/python3.10/dist-packages (from pip-audit<3.0.0,>=2.7.3->oqc-qcaas-client) (4.3.6)\n",
      "Requirement already satisfied: CacheControl[filecache]>=0.13.0 in /usr/local/lib/python3.10/dist-packages (from pip-audit<3.0.0,>=2.7.3->oqc-qcaas-client) (0.14.1)\n",
      "Collecting pip-api>=0.0.28\n",
      "  Downloading pip_api-0.0.34-py3-none-any.whl (120 kB)\n",
      "\u001b[2K     \u001b[90m━━━━━━━━━━━━━━━━━━━━━━━━━━━━━━━━━━━━━━\u001b[0m \u001b[32m120.4/120.4 KB\u001b[0m \u001b[31m11.9 MB/s\u001b[0m eta \u001b[36m0:00:00\u001b[0m\n",
      "\u001b[?25hCollecting cyclonedx-python-lib<9,>=5\n",
      "  Downloading cyclonedx_python_lib-8.9.0-py3-none-any.whl (375 kB)\n",
      "\u001b[2K     \u001b[90m━━━━━━━━━━━━━━━━━━━━━━━━━━━━━━━━━━━━━━\u001b[0m \u001b[32m375.0/375.0 KB\u001b[0m \u001b[31m42.5 MB/s\u001b[0m eta \u001b[36m0:00:00\u001b[0m\n",
      "\u001b[?25hRequirement already satisfied: packaging>=23.0.0 in /usr/local/lib/python3.10/dist-packages (from pip-audit<3.0.0,>=2.7.3->oqc-qcaas-client) (24.1)\n",
      "Collecting prettytable>=2.3.0\n",
      "  Downloading prettytable-3.16.0-py3-none-any.whl (33 kB)\n",
      "Requirement already satisfied: tomli>=2 in /usr/local/lib/python3.10/dist-packages (from pip-licenses<6.0.0,>=5.0.0->oqc-qcaas-client) (2.0.2)\n",
      "Requirement already satisfied: idna<4,>=2.5 in /usr/local/lib/python3.10/dist-packages (from requests<3.0.0,>=2.32.3->oqc-qcaas-client) (3.10)\n",
      "Requirement already satisfied: urllib3<3,>=1.21.1 in /usr/local/lib/python3.10/dist-packages (from requests<3.0.0,>=2.32.3->oqc-qcaas-client) (2.2.3)\n",
      "Requirement already satisfied: charset-normalizer<4,>=2 in /usr/local/lib/python3.10/dist-packages (from requests<3.0.0,>=2.32.3->oqc-qcaas-client) (3.4.0)\n",
      "Requirement already satisfied: certifi>=2017.4.17 in /usr/local/lib/python3.10/dist-packages (from requests<3.0.0,>=2.32.3->oqc-qcaas-client) (2024.8.30)\n",
      "Requirement already satisfied: msgpack<2.0.0,>=0.5.2 in /usr/local/lib/python3.10/dist-packages (from CacheControl[filecache]>=0.13.0->pip-audit<3.0.0,>=2.7.3->oqc-qcaas-client) (1.1.0)\n",
      "Requirement already satisfied: filelock>=3.8.0 in /usr/local/lib/python3.10/dist-packages (from CacheControl[filecache]>=0.13.0->pip-audit<3.0.0,>=2.7.3->oqc-qcaas-client) (3.16.1)\n",
      "Collecting license-expression<31,>=30\n",
      "  Downloading license_expression-30.4.1-py3-none-any.whl (111 kB)\n",
      "\u001b[2K     \u001b[90m━━━━━━━━━━━━━━━━━━━━━━━━━━━━━━━━━━━━━━\u001b[0m \u001b[32m111.5/111.5 KB\u001b[0m \u001b[31m48.2 MB/s\u001b[0m eta \u001b[36m0:00:00\u001b[0m\n",
      "\u001b[?25hCollecting py-serializable<2.0.0,>=1.1.1\n",
      "  Downloading py_serializable-1.1.2-py3-none-any.whl (22 kB)\n",
      "Requirement already satisfied: sortedcontainers<3.0.0,>=2.4.0 in /usr/local/lib/python3.10/dist-packages (from cyclonedx-python-lib<9,>=5->pip-audit<3.0.0,>=2.7.3->oqc-qcaas-client) (2.4.0)\n",
      "Collecting packageurl-python<2,>=0.11\n",
      "  Downloading packageurl_python-0.16.0-py3-none-any.whl (28 kB)\n",
      "Requirement already satisfied: pip in /usr/lib/python3/dist-packages (from pip-api>=0.0.28->pip-audit<3.0.0,>=2.7.3->oqc-qcaas-client) (22.0.2)\n",
      "Requirement already satisfied: pyparsing in /usr/local/lib/python3.10/dist-packages (from pip-requirements-parser>=32.0.0->pip-audit<3.0.0,>=2.7.3->oqc-qcaas-client) (3.2.0)\n",
      "Requirement already satisfied: wcwidth in /usr/local/lib/python3.10/dist-packages (from prettytable>=2.3.0->pip-licenses<6.0.0,>=5.0.0->oqc-qcaas-client) (0.2.13)\n",
      "Requirement already satisfied: pygments<3.0.0,>=2.13.0 in /usr/local/lib/python3.10/dist-packages (from rich->bandit<2.0.0,>=1.7.9->oqc-qcaas-client) (2.18.0)\n",
      "Requirement already satisfied: typing-extensions<5.0,>=4.0.0 in /usr/local/lib/python3.10/dist-packages (from rich->bandit<2.0.0,>=1.7.9->oqc-qcaas-client) (4.12.2)\n",
      "Requirement already satisfied: markdown-it-py>=2.2.0 in /usr/local/lib/python3.10/dist-packages (from rich->bandit<2.0.0,>=1.7.9->oqc-qcaas-client) (2.2.0)\n",
      "Collecting pbr>=2.0.0\n",
      "  Downloading pbr-6.1.1-py2.py3-none-any.whl (108 kB)\n",
      "\u001b[2K     \u001b[90m━━━━━━━━━━━━━━━━━━━━━━━━━━━━━━━━━━━━━━\u001b[0m \u001b[32m109.0/109.0 KB\u001b[0m \u001b[31m40.9 MB/s\u001b[0m eta \u001b[36m0:00:00\u001b[0m\n",
      "\u001b[?25hCollecting boolean.py>=4.0\n",
      "  Downloading boolean.py-4.0-py3-none-any.whl (25 kB)\n",
      "Requirement already satisfied: mdurl~=0.1 in /usr/local/lib/python3.10/dist-packages (from markdown-it-py>=2.2.0->rich->bandit<2.0.0,>=1.7.9->oqc-qcaas-client) (0.1.2)\n",
      "Requirement already satisfied: defusedxml<0.8.0,>=0.7.1 in /usr/local/lib/python3.10/dist-packages (from py-serializable<2.0.0,>=1.1.1->cyclonedx-python-lib<9,>=5->pip-audit<3.0.0,>=2.7.3->oqc-qcaas-client) (0.7.1)\n",
      "Installing collected packages: boolean.py, toml, setuptools, requests, py-serializable, prettytable, pip-requirements-parser, pip-api, packageurl-python, license-expression, compiler-config, requests-mock, pip-licenses, pbr, cyclonedx-python-lib, stevedore, pip-audit, bandit, oqc-qcaas-client\n",
      "  Attempting uninstall: setuptools\n",
      "    Found existing installation: setuptools 59.6.0\n",
      "    Not uninstalling setuptools at /usr/lib/python3/dist-packages, outside environment /usr\n",
      "    Can't uninstall 'setuptools'. No files were found to uninstall.\n",
      "  Attempting uninstall: requests\n",
      "    Found existing installation: requests 2.31.0\n",
      "    Uninstalling requests-2.31.0:\n",
      "      Successfully uninstalled requests-2.31.0\n",
      "Successfully installed bandit-1.8.3 boolean.py-4.0 compiler-config-0.1.0 cyclonedx-python-lib-8.9.0 license-expression-30.4.1 oqc-qcaas-client-3.18.0 packageurl-python-0.16.0 pbr-6.1.1 pip-api-0.0.34 pip-audit-2.8.0 pip-licenses-5.0.0 pip-requirements-parser-32.0.1 prettytable-3.16.0 py-serializable-1.1.2 requests-2.32.3 requests-mock-1.12.1 setuptools-72.2.0 stevedore-5.4.1 toml-0.10.2\n",
      "\u001b[33mWARNING: Running pip as the 'root' user can result in broken permissions and conflicting behaviour with the system package manager. It is recommended to use a virtual environment instead: https://pip.pypa.io/warnings/venv\u001b[0m\u001b[33m\n",
      "\u001b[0mNote: you may need to restart the kernel to use updated packages.\n"
     ]
    }
   ],
   "source": [
    "# Install OQC QCaaS client\n",
    "pip install oqc-qcaas-client"
   ]
  },
  {
   "cell_type": "code",
   "execution_count": 3,
   "id": "292e14c3-bf2e-4fd0-a799-0f2b7d12df5e",
   "metadata": {},
   "outputs": [],
   "source": [
    "from qcaas_client.client import OQCClient"
   ]
  },
  {
   "cell_type": "code",
   "execution_count": 4,
   "id": "ad178ace-cbfe-4a67-a5bb-662c35229588",
   "metadata": {},
   "outputs": [],
   "source": [
    "client = OQCClient(\n",
    "    url=\"https://cloud.oqc.app\",\n",
    "    authentication_token=\"<enter your access token>\",\n",
    ")"
   ]
  },
  {
   "cell_type": "code",
   "execution_count": 7,
   "id": "f3283ca0-aad3-449b-85e3-621cda79ebc7",
   "metadata": {},
   "outputs": [
    {
     "data": {
      "text/plain": [
       "<Response [200]>"
      ]
     },
     "execution_count": 7,
     "metadata": {},
     "output_type": "execute_result"
    }
   ],
   "source": [
    "task_id = \"9dd3b1ef-e7c0-47c3-8bd6-254cda2c1ce2\"\n",
    "# qpu_id = \"qpu:uk:2:d865b5a184\"\n",
    "qpu_id = \"qpu:jp:3:673b1ad43c\" # Tokyo\n",
    "client.cancel_task(task_id, qpu_id=qpu_id)"
   ]
  }
 ],
 "metadata": {
  "kernelspec": {
   "display_name": "Python 3 (ipykernel)",
   "language": "python",
   "name": "python3"
  },
  "language_info": {
   "codemirror_mode": {
    "name": "ipython",
    "version": 3
   },
   "file_extension": ".py",
   "mimetype": "text/x-python",
   "name": "python",
   "nbconvert_exporter": "python",
   "pygments_lexer": "ipython3",
   "version": "3.10.12"
  }
 },
 "nbformat": 4,
 "nbformat_minor": 5
}
