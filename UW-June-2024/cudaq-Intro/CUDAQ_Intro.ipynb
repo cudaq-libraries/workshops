{
 "cells": [
  {
   "cell_type": "markdown",
   "metadata": {},
   "source": [
    "# Introduction to CUDA-Q"
   ]
  },
  {
   "cell_type": "markdown",
   "metadata": {},
   "source": [
    "CUDA-Q is the platform for hybrid quantum-classical computing built to address the challenges facing application developers and domain scientists looking to accelerate their existing applications with quantum computing.\n",
    " \n",
    "\n",
    "CUDA-Q is open and QPU agnostic. We’re partnering with a growing list of Quantum Hardware companies across a broad range of qubit modalities to ensure it provides a unified platform that enables all hybrid quantum-classical systems as well as Quantum Algorithm companies and research institutions to ensure it addresses the needs of developers. \n",
    " \n",
    "\n",
    "It includes a kernel-based programming model, with both single-source C++ and Python implementations as well as a compiler toolchain for hybrid systems and a standard library of quantum algorithmic primitives. \n",
    "\n",
    "\n",
    "CUDA-Q integrates with todays high performance applications and is interoperable with leading parallel programming techniques and software. It allows a domain scientist to quickly and easily move between running all or parts of their applications on the best classical computing resources, the best simulated quantum computing resources, and the best real quantum computing resources.\n",
    " \n",
    "\n",
    "With CUDA-Q, NVIDIA is kicking off another revolution in developer accessibility to disruptive compute technologies, allowing domain scientists to seamlessly leverage quantum acceleration tightly-coupled with the best of GPU Supercomputing. \n",
    "\n",
    "\n",
    "![alt text](What-is-CUDA-Q.png)"
   ]
  },
  {
   "cell_type": "markdown",
   "metadata": {},
   "source": [
    "\n",
    "\n",
    "### GHZ Example - CPU and GPU\n",
    "Let’s start with a simple example, the GHZ state, where 3 or more qubits are being entangled.\n",
    "Here you see the Python code using CUDA-Q to implement it. "
   ]
  },
  {
   "cell_type": "code",
   "execution_count": 1,
   "metadata": {},
   "outputs": [],
   "source": [
    "import cudaq\n",
    "@cudaq.kernel\n",
    "def ghz_state(N: int):\n",
    "    qubits = cudaq.qvector(N)\n",
    "    h(qubits[0])\n",
    "    for i in range(N - 1):\n",
    "        x.ctrl(qubits[i], qubits[i + 1])\n",
    "    mz(qubits)\n"
   ]
  },
  {
   "cell_type": "markdown",
   "metadata": {},
   "source": [
    "A CUDA-Q kernel is a code or program that can be compiled and run on various devices. The kernel here gets a number of qubits as a parameter and entangles them using the control-X gate  and performs a measurement using mz. "
   ]
  },
  {
   "cell_type": "code",
   "execution_count": 6,
   "metadata": {},
   "outputs": [
    {
     "name": "stdout",
     "output_type": "stream",
     "text": [
      "Preparing GHZ state for 3 qubits.\n",
      "{ 000:483 111:517 }\n",
      "\n"
     ]
    }
   ],
   "source": [
    "cudaq.set_target(\"qpp-cpu\")\n",
    "n = 3\n",
    "print(\"Preparing GHZ state for\", n, \"qubits.\")\n",
    "counts = cudaq.sample(ghz_state,n)\n",
    "print(counts)"
   ]
  },
  {
   "cell_type": "markdown",
   "metadata": {},
   "source": [
    "The kernel is being sampled multiple times (1000 by default).\n",
    "For n=3, either all qubits are 0 or all are 1."
   ]
  },
  {
   "cell_type": "markdown",
   "metadata": {},
   "source": [
    "The previous example runs within seconds on a CPU, but what if we want to run more qubits?\n",
    "Running on a CPU will result in an out of memory error or hours of runtime, but we can run it on a GPU by setting the target to “nvidia” and can run the algorithm using up to 29 qubits."
   ]
  },
  {
   "cell_type": "code",
   "execution_count": 7,
   "metadata": {},
   "outputs": [
    {
     "name": "stdout",
     "output_type": "stream",
     "text": [
      "Preparing GHZ state for 29 qubits.\n",
      "{ 00000000000000000000000000000:500 11111111111111111111111111111:500 }\n",
      "\n"
     ]
    }
   ],
   "source": [
    "cudaq.set_target(\"nvidia\")\n",
    "n = 29\n",
    "print(\"Preparing GHZ state for\", n, \"qubits.\")\n",
    "counts = cudaq.sample(ghz_state,n)\n",
    "print(counts)"
   ]
  },
  {
   "cell_type": "markdown",
   "metadata": {},
   "source": [
    "### Scaling Circuit Simulation over Multiple GPUs\n",
    "The exponential scaling of the state vector requires pooling GPU memory to simulate systems a of ~32 or more. \n",
    "CUDA-Q ‘nvidia-mgpu’ target.\n",
    "The example below shows how far we were able to scale a GHZ state prep on A100 GPUs with 40 GB memory. \n",
    "\n",
    "![alt text](Qubits-GPUs.jpg)"
   ]
  },
  {
   "cell_type": "markdown",
   "metadata": {},
   "source": [
    "### Parallelization over Multiple QPUs\n",
    "\n",
    "![alt text](Hamiltonian.jpg)\n",
    "\n",
    "A Hamiltonian is a function that describes the total energy of a dynamic system, as a sum of terms. It used in many fields to study how systems evolve over time. While the calculation of Hamiltonian terms can be intensive, the terms could be computed in parallel.\n"
   ]
  },
  {
   "cell_type": "markdown",
   "metadata": {},
   "source": [
    "### Hamiltonian example\n",
    "In this example we create a random Hamiltonian using the SpinOperator that takes number of qubits and number of terms. \n"
   ]
  },
  {
   "cell_type": "code",
   "execution_count": 14,
   "metadata": {},
   "outputs": [
    {
     "name": "stdout",
     "output_type": "stream",
     "text": [
      "Expectation value is:  4.24600000000001\n"
     ]
    }
   ],
   "source": [
    "import cudaq\n",
    "\n",
    "cudaq.set_target(\"nvidia-mqpu\")\n",
    "qubit_count = 15\n",
    "term_count = 10000\n",
    "\n",
    "@cudaq.kernel\n",
    "def kernel(count: int):\n",
    "    qubits = cudaq.qvector(count)\n",
    "    h(qubits[0])\n",
    "    for i in range(1, count):\n",
    "        x.ctrl(qubits[0], qubits[i])\n",
    "\n",
    "hamiltonian = cudaq.SpinOperator.random(qubit_count, term_count)\n",
    "\n",
    "expectation = cudaq.observe(kernel, hamiltonian, qubit_count, shots_count=1000) # Single node, single GPU.\n",
    "#expectation = cudaq.observe(kernel,hamiltonian, execution=cudaq.parallel.thread) # Single node, multi-GPU.\n",
    "#expectation = cudaq.observe(kernel, hamiltonian, execution= cudaq.parallel.mpi) # Multi-node, multi-GPU.\n",
    "print(\"Expectation value is: \", expectation.expectation())"
   ]
  },
  {
   "cell_type": "markdown",
   "metadata": {},
   "source": [
    "The observe calls allows us to calculate the expectation value of the Hamiltonian, batches the terms, and distributes them over the multiple QPU's/GPUs.\n"
   ]
  },
  {
   "cell_type": "markdown",
   "metadata": {},
   "source": [
    "When we have multiple QPUs and execution or queue times might be long, we can use the async version of observe or sample to run the terms asynchronically and fetch the result after all the async computations have concluded. \n"
   ]
  },
  {
   "cell_type": "code",
   "execution_count": 15,
   "metadata": {},
   "outputs": [
    {
     "name": "stdout",
     "output_type": "stream",
     "text": [
      "Expectation value is:  -3.667999999999989\n"
     ]
    }
   ],
   "source": [
    "asyncResults = []\n",
    "asyncResults.append(cudaq.observe_async(kernel, hamiltonian, qubit_count, shots_count=1000)) \n",
    "print(\"Expectation value is: \",asyncResults[0].get().expectation())"
   ]
  },
  {
   "cell_type": "markdown",
   "metadata": {},
   "source": [
    "### Multiple QPUs x Multiple GPUs\n",
    "- A combination of parallelism (multiple QPUs) and scale (multiple GPUs)\n",
    "- Flexible solution for GPUs optimal utilization.\n",
    "- ‘remote-mqpu’ target.\n",
    "- [CUDA-Q Introduces More Capabilities for Quantum Accelerated Supercomputing | NVIDIA Technical Blog](https://developer.nvidia.com/blog/cuda-quantum-introduces-more-capabilities-for-quantum-accelerated-supercomputing/)\n",
    "![alt text](Multi-GPUs-QPUs.png)\n"
   ]
  },
  {
   "cell_type": "markdown",
   "metadata": {},
   "source": [
    "We can combine both approaches.\n",
    "For example, if we had 4 H100 GPUs, each with 80GB of memory, we could define 2 QPUs that will run the problem in parallel, cutting execution tome in half, while each QPU is scaled over 2 GPUs and can compute a vector size of 160 GB."
   ]
  },
  {
   "cell_type": "markdown",
   "metadata": {},
   "source": [
    "### CUDA-Q Backends\n",
    "Until now, when we talked about multiple GPUs to scale the size of the problem and multi QPUs to run workloads in parallel, we were referring to a state vector.\n",
    "A state vector is just one of the available simulator backends of CUDA Quantum.\n",
    "\n",
    "#### Simulators\n",
    "State vector\n",
    "- Uses cuQuantum cuStateVec\n",
    "- Limited by memory – 2^n to represent n qubits. \n",
    "- Targets: ‘nvidia’, ‘nvidia-mgpu’, ‘nvidia-mqpu’. ‘remote-mqpu’\n",
    "\n",
    "Tensor network\n",
    "- Uses cuQuantum cuTensorNet\n",
    "- Can simulate 1000s of qubits\n",
    "- Works well for sparse, low entangled problems\n",
    "- Can run on multiple GPUs\n",
    "- Target: ‘tensornet’\n",
    "\n",
    "Matrix Product State (MPS)\n",
    "- Approximate tensor network method\n",
    "- Target: ‘tensornet-mps’\n",
    "\n",
    "### QPUs\n",
    "- Quantinuum\n",
    "- IonQ\n",
    "- IQM\n",
    "- Oxford Quantum Circuits (OQC)\n",
    "- More coming soon\n",
    "\n",
    "\n"
   ]
  },
  {
   "cell_type": "markdown",
   "metadata": {},
   "source": [
    "### Variational Quantum Eigensolver (VQE)\n",
    "\n",
    "VQE is a useful quantum algorithm that is used for quantum chemistry, quantum simulations and optimization problems. \n",
    "The goal of VQE is to determine the ground state energy of a physical system, like the H2 molecule in this example.\n",
    "\n",
    "\n",
    "VQE is an iterative hybrid algorithm – the quantum part computes the expectation value of the hamiltonian, and the classical optimizer adjusts the parameters of the ansatz. \n",
    "\n",
    "\n",
    "Note that CUDA-Q provides the uccsd and vqe constructs and a number of optimizers."
   ]
  },
  {
   "cell_type": "code",
   "execution_count": 11,
   "metadata": {
    "vscode": {
     "languageId": "shellscript"
    }
   },
   "outputs": [
    {
     "name": "stderr",
     "output_type": "stream",
     "text": [
      "1880.75s - pydevd: Sending message related to process being replaced timed-out after 5 seconds\n"
     ]
    },
    {
     "name": "stdout",
     "output_type": "stream",
     "text": [
      "/bin/bash: /home/eshabtai/miniconda3/envs/cudaq-0.7/lib/libtinfo.so.6: no version information available (required by /bin/bash)\n",
      "Requirement already satisfied: openfermionpyscf in ./miniconda3/envs/cudaq-0.7/lib/python3.10/site-packages (0.5)\n",
      "Requirement already satisfied: openfermion>=0.5 in ./miniconda3/envs/cudaq-0.7/lib/python3.10/site-packages (from openfermionpyscf) (1.6.1)\n",
      "Requirement already satisfied: pyscf in ./miniconda3/envs/cudaq-0.7/lib/python3.10/site-packages (from openfermionpyscf) (2.5.0)\n",
      "Requirement already satisfied: pytest in ./miniconda3/envs/cudaq-0.7/lib/python3.10/site-packages (from openfermionpyscf) (8.2.0)\n",
      "Requirement already satisfied: cirq-core~=1.0 in ./miniconda3/envs/cudaq-0.7/lib/python3.10/site-packages (from openfermion>=0.5->openfermionpyscf) (1.3.0)\n",
      "Requirement already satisfied: deprecation in ./miniconda3/envs/cudaq-0.7/lib/python3.10/site-packages (from openfermion>=0.5->openfermionpyscf) (2.1.0)\n",
      "Requirement already satisfied: h5py>=2.8 in ./miniconda3/envs/cudaq-0.7/lib/python3.10/site-packages (from openfermion>=0.5->openfermionpyscf) (3.11.0)\n",
      "Requirement already satisfied: networkx in ./miniconda3/envs/cudaq-0.7/lib/python3.10/site-packages (from openfermion>=0.5->openfermionpyscf) (3.3)\n",
      "Requirement already satisfied: numpy>=1.11.0 in ./miniconda3/envs/cudaq-0.7/lib/python3.10/site-packages (from openfermion>=0.5->openfermionpyscf) (1.26.4)\n",
      "Requirement already satisfied: pubchempy in ./miniconda3/envs/cudaq-0.7/lib/python3.10/site-packages (from openfermion>=0.5->openfermionpyscf) (1.0.4)\n",
      "Requirement already satisfied: requests>=2.18 in ./miniconda3/envs/cudaq-0.7/lib/python3.10/site-packages (from openfermion>=0.5->openfermionpyscf) (2.31.0)\n",
      "Requirement already satisfied: scipy>=1.1.0 in ./miniconda3/envs/cudaq-0.7/lib/python3.10/site-packages (from openfermion>=0.5->openfermionpyscf) (1.13.0)\n",
      "Requirement already satisfied: sympy in ./miniconda3/envs/cudaq-0.7/lib/python3.10/site-packages (from openfermion>=0.5->openfermionpyscf) (1.12)\n",
      "Requirement already satisfied: setuptools in ./miniconda3/envs/cudaq-0.7/lib/python3.10/site-packages (from pyscf->openfermionpyscf) (69.5.1)\n",
      "Requirement already satisfied: iniconfig in ./miniconda3/envs/cudaq-0.7/lib/python3.10/site-packages (from pytest->openfermionpyscf) (2.0.0)\n",
      "Requirement already satisfied: packaging in ./miniconda3/envs/cudaq-0.7/lib/python3.10/site-packages (from pytest->openfermionpyscf) (24.0)\n",
      "Requirement already satisfied: pluggy<2.0,>=1.5 in ./miniconda3/envs/cudaq-0.7/lib/python3.10/site-packages (from pytest->openfermionpyscf) (1.5.0)\n",
      "Requirement already satisfied: exceptiongroup>=1.0.0rc8 in ./miniconda3/envs/cudaq-0.7/lib/python3.10/site-packages (from pytest->openfermionpyscf) (1.2.0)\n",
      "Requirement already satisfied: tomli>=1 in ./miniconda3/envs/cudaq-0.7/lib/python3.10/site-packages (from pytest->openfermionpyscf) (2.0.1)\n",
      "Requirement already satisfied: duet~=0.2.8 in ./miniconda3/envs/cudaq-0.7/lib/python3.10/site-packages (from cirq-core~=1.0->openfermion>=0.5->openfermionpyscf) (0.2.9)\n",
      "Requirement already satisfied: matplotlib~=3.0 in ./miniconda3/envs/cudaq-0.7/lib/python3.10/site-packages (from cirq-core~=1.0->openfermion>=0.5->openfermionpyscf) (3.8.4)\n",
      "Requirement already satisfied: pandas in ./miniconda3/envs/cudaq-0.7/lib/python3.10/site-packages (from cirq-core~=1.0->openfermion>=0.5->openfermionpyscf) (2.2.2)\n",
      "Requirement already satisfied: sortedcontainers~=2.0 in ./miniconda3/envs/cudaq-0.7/lib/python3.10/site-packages (from cirq-core~=1.0->openfermion>=0.5->openfermionpyscf) (2.4.0)\n",
      "Requirement already satisfied: typing-extensions>=4.2 in ./miniconda3/envs/cudaq-0.7/lib/python3.10/site-packages (from cirq-core~=1.0->openfermion>=0.5->openfermionpyscf) (4.11.0)\n",
      "Requirement already satisfied: tqdm in ./miniconda3/envs/cudaq-0.7/lib/python3.10/site-packages (from cirq-core~=1.0->openfermion>=0.5->openfermionpyscf) (4.66.4)\n",
      "Requirement already satisfied: charset-normalizer<4,>=2 in ./miniconda3/envs/cudaq-0.7/lib/python3.10/site-packages (from requests>=2.18->openfermion>=0.5->openfermionpyscf) (3.3.2)\n",
      "Requirement already satisfied: idna<4,>=2.5 in ./miniconda3/envs/cudaq-0.7/lib/python3.10/site-packages (from requests>=2.18->openfermion>=0.5->openfermionpyscf) (3.7)\n",
      "Requirement already satisfied: urllib3<3,>=1.21.1 in ./miniconda3/envs/cudaq-0.7/lib/python3.10/site-packages (from requests>=2.18->openfermion>=0.5->openfermionpyscf) (2.2.1)\n",
      "Requirement already satisfied: certifi>=2017.4.17 in ./miniconda3/envs/cudaq-0.7/lib/python3.10/site-packages (from requests>=2.18->openfermion>=0.5->openfermionpyscf) (2024.2.2)\n",
      "Requirement already satisfied: mpmath>=0.19 in ./miniconda3/envs/cudaq-0.7/lib/python3.10/site-packages (from sympy->openfermion>=0.5->openfermionpyscf) (1.3.0)\n",
      "Requirement already satisfied: contourpy>=1.0.1 in ./miniconda3/envs/cudaq-0.7/lib/python3.10/site-packages (from matplotlib~=3.0->cirq-core~=1.0->openfermion>=0.5->openfermionpyscf) (1.2.1)\n",
      "Requirement already satisfied: cycler>=0.10 in ./miniconda3/envs/cudaq-0.7/lib/python3.10/site-packages (from matplotlib~=3.0->cirq-core~=1.0->openfermion>=0.5->openfermionpyscf) (0.12.1)\n",
      "Requirement already satisfied: fonttools>=4.22.0 in ./miniconda3/envs/cudaq-0.7/lib/python3.10/site-packages (from matplotlib~=3.0->cirq-core~=1.0->openfermion>=0.5->openfermionpyscf) (4.51.0)\n",
      "Requirement already satisfied: kiwisolver>=1.3.1 in ./miniconda3/envs/cudaq-0.7/lib/python3.10/site-packages (from matplotlib~=3.0->cirq-core~=1.0->openfermion>=0.5->openfermionpyscf) (1.4.5)\n",
      "Requirement already satisfied: pillow>=8 in ./miniconda3/envs/cudaq-0.7/lib/python3.10/site-packages (from matplotlib~=3.0->cirq-core~=1.0->openfermion>=0.5->openfermionpyscf) (10.3.0)\n",
      "Requirement already satisfied: pyparsing>=2.3.1 in ./miniconda3/envs/cudaq-0.7/lib/python3.10/site-packages (from matplotlib~=3.0->cirq-core~=1.0->openfermion>=0.5->openfermionpyscf) (3.1.2)\n",
      "Requirement already satisfied: python-dateutil>=2.7 in ./miniconda3/envs/cudaq-0.7/lib/python3.10/site-packages (from matplotlib~=3.0->cirq-core~=1.0->openfermion>=0.5->openfermionpyscf) (2.9.0)\n",
      "Requirement already satisfied: pytz>=2020.1 in ./miniconda3/envs/cudaq-0.7/lib/python3.10/site-packages (from pandas->cirq-core~=1.0->openfermion>=0.5->openfermionpyscf) (2024.1)\n",
      "Requirement already satisfied: tzdata>=2022.7 in ./miniconda3/envs/cudaq-0.7/lib/python3.10/site-packages (from pandas->cirq-core~=1.0->openfermion>=0.5->openfermionpyscf) (2024.1)\n",
      "Requirement already satisfied: six>=1.5 in ./miniconda3/envs/cudaq-0.7/lib/python3.10/site-packages (from python-dateutil>=2.7->matplotlib~=3.0->cirq-core~=1.0->openfermion>=0.5->openfermionpyscf) (1.16.0)\n",
      "Note: you may need to restart the kernel to use updated packages.\n"
     ]
    }
   ],
   "source": [
    "pip install openfermionpyscf"
   ]
  },
  {
   "cell_type": "code",
   "execution_count": 13,
   "metadata": {},
   "outputs": [
    {
     "name": "stdout",
     "output_type": "stream",
     "text": [
      "-1.1371745102369861\n"
     ]
    }
   ],
   "source": [
    "import cudaq \n",
    "\n",
    "hydrogen_count = 2\n",
    "bond_distance = 0.7474\n",
    "geometry = [('H', (0, 0, i * bond_distance)) for i in range(hydrogen_count)]\n",
    "\n",
    "molecule, data = cudaq.chemistry.create_molecular_hamiltonian(geometry, 'sto-3g', 1, 0)\n",
    "electron_count = data.n_electrons\n",
    "qubit_count = 2 * data.n_orbitals\n",
    "\n",
    "@cudaq.kernel\n",
    "def kernel(thetas: list[float]):\n",
    "    qubits = cudaq.qvector(qubit_count)\n",
    "    \n",
    "    # Prepare the Hartree Fock State.\n",
    "    for i in range(electron_count):\n",
    "        x(qubits[i])\n",
    "\n",
    "    # UCCSD ansatz\n",
    "    cudaq.kernels.uccsd(qubits, thetas, electron_count, qubit_count)\n",
    "\n",
    "parameter_count = cudaq.kernels.uccsd_num_parameters(electron_count, qubit_count)\n",
    "optimizer = cudaq.optimizers.COBYLA()\n",
    "energy, parameters = cudaq.vqe(kernel, molecule, optimizer, parameter_count=parameter_count)\n",
    "print(energy)\n"
   ]
  },
  {
   "cell_type": "markdown",
   "metadata": {},
   "source": [
    "### Noise Modeling - bit flip error example\n",
    "The examples we looked at so far assumed perfect qubits, but the reality is that today’s NISQ quantum computers are noisy. \n",
    "\n",
    "\n",
    "Let’s see how to model noise in CUDA Quantum.\n",
    "We will use the density-matrix-cpu target for noisy simulations, a GPU accelerated noisy simulator will be available soon.\n",
    "\n"
   ]
  },
  {
   "cell_type": "code",
   "execution_count": 17,
   "metadata": {},
   "outputs": [
    {
     "name": "stdout",
     "output_type": "stream",
     "text": [
      "{ 0:1000 }\n",
      "{ 1:1000 }\n",
      "\n"
     ]
    }
   ],
   "source": [
    "import cudaq\n",
    "\n",
    "cudaq.set_target(\"density-matrix-cpu\")\n",
    "noise = cudaq.NoiseModel()\n",
    "bit_flip = cudaq.BitFlipChannel(1.0)\n",
    "noise.add_channel('x', [0], bit_flip)\n",
    "\n",
    "@cudaq.kernel\n",
    "def kernel():\n",
    "    qubit = cudaq.qubit()\n",
    "    x(qubit)\n",
    "    mz(qubit)\n",
    "\n",
    "noisy_result = cudaq.sample(kernel, noise_model=noise)\n",
    "noisy_result.dump()\n",
    "\n",
    "# To confirm this, we can run the simulation again without noise.\n",
    "noiseless_result = cudaq.sample(kernel)\n",
    "print(noiseless_result)"
   ]
  },
  {
   "cell_type": "markdown",
   "metadata": {},
   "source": [
    "Here we define a noise model with a bit flip channel with a 1.0 probability, meaning a bit flip will happen every time.\n",
    "\n",
    "\n",
    "We then define a kernel that preforms an X gate on a qubit and them measures it. We then sample the kernel, adding the noise model.\n",
    "The qubit was initialized to |0> but after the bit flip it’s in the |1> state, therefor an X operation will always be measured as 0.\n",
    "\n",
    "\n",
    "When we sample the kernel without noise, we will get 1 100% of the times\n"
   ]
  },
  {
   "cell_type": "markdown",
   "metadata": {},
   "source": [
    "### Resources\n",
    "\n",
    "We went over some basic examples of hoe to use CUDA-Q to accelerate quantum programs.\n",
    "\n",
    "Here are some ways to explore more and learn about CUDA-Q\n",
    "\n",
    "#### Links\n",
    "- CUDA-Q Repo for issues and contributions: [NVIDIA/CUDA-Q uantum (github.com)](https://github.com/NVIDIA/cuda-quantum)\n",
    "- CUDA-Q documentation: [CUDA-Q — NVIDIA CUDA-Q documentation](https://nvidia.github.io/cuda-quantum/latest/index.html)\n",
    "- Quantum computing technical blogs: [Tag: Quantum Computing | NVIDIA Technical Blog](https://developer.nvidia.com/blog/tag/quantum-computing/)\n",
    "- CUDA-Q marketing page: [CUDA-Q for Hybrid Quantum-Classical Computing | NVIDIA Developer](https://developer.nvidia.com/cuda-quantum)\n",
    "\n",
    "#### Documentation refernces\n",
    "- [Quick Start](https://nvidia.github.io/cuda-quantum/latest/using/quick_start.html)\n",
    "- [Multi-GPU Workflows](https://nvidia.github.io/cuda-quantum/latest/examples/python/tutorials/multi_gpu_workflows.html)\n",
    "- [Simulator backends](https://nvidia.github.io/cuda-quantum/latest/using/simulators.html)\n",
    "- [Hardware backends](https://nvidia.github.io/cuda-quantum/latest/using/hardware.html)\n",
    "- [Python code examples](https://nvidia.github.io/cuda-quantum/latest/using/python.html)\n",
    "- [C++ code examples](https://nvidia.github.io/cuda-quantum/latest/using/cpp.html#introduction)\n",
    "- [Applications](https://nvidia.github.io/cuda-quantum/latest/using/tutorials.html)\n",
    "\n",
    "\n"
   ]
  }
 ],
 "metadata": {
  "kernelspec": {
   "display_name": "cudaq-0.7",
   "language": "python",
   "name": "python3"
  },
  "language_info": {
   "codemirror_mode": {
    "name": "ipython",
    "version": 3
   },
   "file_extension": ".py",
   "mimetype": "text/x-python",
   "name": "python",
   "nbconvert_exporter": "python",
   "pygments_lexer": "ipython3",
   "version": "3.10.14"
  }
 },
 "nbformat": 4,
 "nbformat_minor": 2
}
