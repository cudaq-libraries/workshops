{
 "cells": [
  {
   "cell_type": "markdown",
   "metadata": {
    "id": "LFll05BKRoUZ"
   },
   "source": [
    "# Target Backends\n",
    "\n",
    "## Set target\n",
    "\n",
    "Two options to set the target:\n",
    "\n",
    "1. Define the target when running the program:\n",
    "```bash\n",
    "python3 program.py [...] --target <target_name>\n",
    "```\n",
    "\n",
    "2. Target can be defined in the application code:\n",
    "`cudaq.set_target(\"target_name\")` . Then, to run the program, drop the target flag:\n",
    "`python3 program.py [...]`\n",
    "\n",
    "\n",
    "## Target name\n",
    "\n",
    "1. State vector simulators:\n",
    "    - Single-GPU (Default if an NVIDIA GPU and CUDA runtime libraries are available): `python3 program.py [...] --target nvidia`\n",
    "    - Multi-GPUs: `mpirun -np 2 python3 program.py [...] --target nvidia --target-option=mgpu`\n",
    "2. Tensor network simulator:\n",
    "    - Single-GPU: `python3 program.py [...] --target tensornet`\n",
    "    - Multi-GPUs: `mpirun -np 2 python3 program.py [...] --target tensornet`\n",
    "3. Matrix Product State:\n",
    "    - Only supports single-GPU simulation: `python3 program.py [...] --target tensornet-mps`\n",
    "4. NVIDIA Quantum Cloud\n",
    "    - Run any of the above backends using NVIDIA-provided cloud GPUs (early access only). To learn more, visit [this page](https://www.nvidia.com/en-us/solutions/quantum-computing/cloud/).\n",
    "    - E.g. `cudaq.set_target('nvqc', backend='tensornet')`\n",
    "5. Quantum hardware backend (to learn more, visit [this page](https://nvidia.github.io/cuda-quantum/latest/using/backends/hardware.html)):\n",
    "    - ```cudaq.set_target('QPU_name')```. QPU_name could be `ionq`, `quantinuum`, `iqm`, `oqc`, ...etc.\n",
    "\n",
    "\n",
    "To learn more about CUDA-Q backends, visit [this page](https://nvidia.github.io/cuda-quantum/latest/using/backends/backends.html)"
   ]
  },
  {
   "cell_type": "code",
   "execution_count": 1,
   "metadata": {
    "executionInfo": {
     "elapsed": 401,
     "status": "ok",
     "timestamp": 1727229365729,
     "user": {
      "displayName": "Ikko Hamamura",
      "userId": "14952240016147607013"
     },
     "user_tz": -540
    },
    "id": "rDvRX-19RHy3"
   },
   "outputs": [],
   "source": [
    "import cudaq\n",
    "from time import perf_counter"
   ]
  },
  {
   "cell_type": "code",
   "execution_count": 2,
   "metadata": {
    "executionInfo": {
     "elapsed": 4,
     "status": "ok",
     "timestamp": 1727229241549,
     "user": {
      "displayName": "Ikko Hamamura",
      "userId": "14952240016147607013"
     },
     "user_tz": -540
    },
    "id": "jmBgdN00RKO1"
   },
   "outputs": [],
   "source": [
    "@cudaq.kernel\n",
    "def ghz(n: int):\n",
    "    q = cudaq.qvector(n)\n",
    "    h(q[0])\n",
    "\n",
    "    for i in range(1, n):\n",
    "        cx(q[0], q[i])"
   ]
  },
  {
   "cell_type": "markdown",
   "metadata": {},
   "source": [
    "Run with CPU"
   ]
  },
  {
   "cell_type": "code",
   "execution_count": null,
   "metadata": {},
   "outputs": [],
   "source": [
    "cudaq.set_target(\"qpp-cpu\")"
   ]
  },
  {
   "cell_type": "code",
   "execution_count": 3,
   "metadata": {
    "colab": {
     "base_uri": "https://localhost:8080/"
    },
    "executionInfo": {
     "elapsed": 358,
     "status": "ok",
     "timestamp": 1727229261834,
     "user": {
      "displayName": "Ikko Hamamura",
      "userId": "14952240016147607013"
     },
     "user_tz": -540
    },
    "id": "R28QnAcaRo1I",
    "outputId": "987723a7-c000-491e-b515-4ecb6aba9dac"
   },
   "outputs": [
    {
     "name": "stdout",
     "output_type": "stream",
     "text": [
      "{ 0000000000:502 1111111111:498 }\n",
      "\n"
     ]
    }
   ],
   "source": [
    "counts = cudaq.sample(ghz, 10)\n",
    "print(counts)"
   ]
  },
  {
   "cell_type": "markdown",
   "metadata": {
    "id": "WB-crptc5_k6"
   },
   "source": [
    "Statevector simulation tiem scales exponentially."
   ]
  },
  {
   "cell_type": "code",
   "execution_count": null,
   "metadata": {},
   "outputs": [],
   "source": [
    "cudaq.set_target(\"qpp-cpu\")"
   ]
  },
  {
   "cell_type": "code",
   "execution_count": null,
   "metadata": {},
   "outputs": [],
   "source": [
    "cpu_times = []\n",
    "for n in range(10, 22):\n",
    "    start = perf_counter()\n",
    "    counts = cudaq.sample(ghz, n)\n",
    "    end = perf_counter()\n",
    "    cpu_times.append((n, end - start))"
   ]
  },
  {
   "cell_type": "code",
   "execution_count": 4,
   "metadata": {
    "colab": {
     "base_uri": "https://localhost:8080/"
    },
    "executionInfo": {
     "elapsed": 21731,
     "status": "ok",
     "timestamp": 1727229476818,
     "user": {
      "displayName": "Ikko Hamamura",
      "userId": "14952240016147607013"
     },
     "user_tz": -540
    },
    "id": "1efxUe9FRaTN",
    "outputId": "b7b693bc-e1f7-4f17-bc77-9f89c9114b95"
   },
   "outputs": [
    {
     "name": "stdout",
     "output_type": "stream",
     "text": [
      "[(10, 0.0010073259472846985), (11, 0.0009407326579093933), (12, 0.0016491590067744255), (13, 0.002335714176297188), (14, 0.004211346618831158), (15, 0.008474769070744514), (16, 0.017979825846850872), (17, 0.037077185697853565), (18, 0.07816819753497839), (19, 0.17403855547308922), (20, 0.37759845610708), (21, 1.029000244103372)]\n"
     ]
    }
   ],
   "source": [
    "print(cpu_times)"
   ]
  },
  {
   "cell_type": "markdown",
   "metadata": {
    "id": "ZaBfpwrG6ED-"
   },
   "source": [
    "Simulation with GPU is also exponential, but faster than CPUs for large number of qubits:"
   ]
  },
  {
   "cell_type": "code",
   "execution_count": null,
   "metadata": {},
   "outputs": [],
   "source": [
    "# Use GPU\n",
    "cudaq.set_target(\"nvidia\")"
   ]
  },
  {
   "cell_type": "code",
   "execution_count": null,
   "metadata": {},
   "outputs": [],
   "source": [
    "gpu_times = []\n",
    "for n in range(10, 30):\n",
    "    start = perf_counter()\n",
    "    counts = cudaq.sample(ghz, n)\n",
    "    end = perf_counter()\n",
    "    gpu_times.append((n, end - start))"
   ]
  },
  {
   "cell_type": "code",
   "execution_count": 5,
   "metadata": {
    "colab": {
     "base_uri": "https://localhost:8080/"
    },
    "id": "B2t0SAb8RS0F",
    "outputId": "082c4d69-a04c-4e2b-aa2a-7c09d0d05a16"
   },
   "outputs": [
    {
     "name": "stdout",
     "output_type": "stream",
     "text": [
      "[(10, 0.6466750372201204), (11, 0.0030373772606253624), (12, 0.0011538509279489517), (13, 0.00209631584584713), (14, 0.001116560772061348), (15, 0.001119145192205906), (16, 0.0014070253819227219), (17, 0.0015500634908676147), (18, 0.0021775979548692703), (19, 0.0017160037532448769), (20, 0.0019186930730938911), (21, 0.001883537508547306), (22, 0.0019859494641423225), (23, 0.0024080388247966766), (24, 0.002992534078657627), (25, 0.004775232635438442), (26, 0.008397654630243778), (27, 0.01570941600948572), (28, 0.0845627523958683), (29, 0.1487216278910637)]\n"
     ]
    }
   ],
   "source": [
    "print(gpu_times)"
   ]
  },
  {
   "cell_type": "code",
   "execution_count": null,
   "metadata": {},
   "outputs": [],
   "source": [
    "# Visualize\n",
    "import matplotlib.pyplot as plt"
   ]
  },
  {
   "cell_type": "code",
   "execution_count": 6,
   "metadata": {},
   "outputs": [
    {
     "data": {
      "image/png": "[encoded data removed]",
      "text/plain": [
       "<Figure size 640x480 with 1 Axes>"
      ]
     },
     "metadata": {},
     "output_type": "display_data"
    }
   ],
   "source": [
    "plt.plot([i[0] for i in cpu_times], ([i[1] for i in cpu_times]), label=\"CPU\")\n",
    "plt.plot([i[0] for i in gpu_times], ([i[1] for i in gpu_times]), label=\"GPU\")\n",
    "plt.xlabel(\"Number of qubits\")\n",
    "plt.ylabel(\"Time [sec]\")\n",
    "plt.legend()\n",
    "plt.savefig(\"cpugpu.png\")"
   ]
  },
  {
   "cell_type": "code",
   "execution_count": 7,
   "metadata": {},
   "outputs": [
    {
     "name": "stdout",
     "output_type": "stream",
     "text": [
      "CUDA-Q Version cu12-0.9.0 (https://github.com/NVIDIA/cuda-quantum 77a1c80a18896b4c7ff4ece99f06e6a62c8a28ef)\n"
     ]
    }
   ],
   "source": [
    "### Version information\n",
    "print(cudaq.__version__)"
   ]
  }
 ],
 "metadata": {
  "accelerator": "GPU",
  "colab": {
   "gpuType": "T4",
   "provenance": []
  },
  "kernelspec": {
   "display_name": "Python 3 (ipykernel)",
   "language": "python",
   "name": "python3"
  },
  "language_info": {
   "codemirror_mode": {
    "name": "ipython",
    "version": 3
   },
   "file_extension": ".py",
   "mimetype": "text/x-python",
   "name": "python",
   "nbconvert_exporter": "python",
   "pygments_lexer": "ipython3",
   "version": "3.13.0"
  }
 },
 "nbformat": 4,
 "nbformat_minor": 4
}
