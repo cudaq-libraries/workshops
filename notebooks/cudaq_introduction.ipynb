{
 "cells": [
  {
   "cell_type": "markdown",
   "metadata": {
    "id": "wZBCI-Tu5drI"
   },
   "source": [
    "# CUDA-Q Introduction"
   ]
  },
  {
   "cell_type": "markdown",
   "metadata": {
    "id": "5JqbCo9R5drJ"
   },
   "source": [
    "## Installation of CUDA-Q\n",
    "\n",
    "- Visit [CUDA-Q Quick Start](https://nvidia.github.io/cuda-quantum/latest/using/quick_start.html)\n",
    "- To explore more, visit [CUDA-Q installation](https://nvidia.github.io/cuda-quantum/latest/using/install/install.html)"
   ]
  },
  {
   "cell_type": "markdown",
   "metadata": {
    "id": "1Rio2q535drJ"
   },
   "source": [
    "## Quantum Circuit basics\n",
    "\n",
    "The purpose of this notebook is to create and execute quantum circuits below."
   ]
  },
  {
   "cell_type": "markdown",
   "metadata": {},
   "source": [
    "Example of Quantum Circuit"
   ]
  },
  {
   "cell_type": "code",
   "execution_count": null,
   "metadata": {},
   "outputs": [],
   "source": [
    "import numpy as np"
   ]
  },
  {
   "cell_type": "code",
   "execution_count": null,
   "metadata": {},
   "outputs": [],
   "source": [
    "from cudaq.qis import *"
   ]
  },
  {
   "cell_type": "code",
   "execution_count": null,
   "metadata": {},
   "outputs": [],
   "source": [
    "import cudaq"
   ]
  },
  {
   "cell_type": "code",
   "execution_count": null,
   "metadata": {},
   "outputs": [],
   "source": [
    "@cudaq.kernel\n",
    "def circuit():\n",
    "    qubits = cudaq.qvector(3)\n",
    "    h(qubits[0])\n",
    "    cx(qubits[0], qubits[1])\n",
    "    cx(qubits[1], qubits[2])"
   ]
  },
  {
   "cell_type": "code",
   "execution_count": 1,
   "metadata": {
    "colab": {
     "base_uri": "https://localhost:8080/"
    },
    "executionInfo": {
     "elapsed": 2343,
     "status": "ok",
     "timestamp": 1727228631250,
     "user": {
      "displayName": "Ikko Hamamura",
      "userId": "14952240016147607013"
     },
     "user_tz": -540
    },
    "id": "tYSfMztA5drJ",
    "outputId": "f9c6d18f-e12b-4c72-b589-8f99993e6c7e"
   },
   "outputs": [
    {
     "name": "stdout",
     "output_type": "stream",
     "text": [
      "     ╭───╮          \n",
      "q0 : ┤ h ├──●───────\n",
      "     ╰───╯╭─┴─╮     \n",
      "q1 : ─────┤ x ├──●──\n",
      "          ╰───╯╭─┴─╮\n",
      "q2 : ──────────┤ x ├\n",
      "               ╰───╯\n",
      "\n"
     ]
    }
   ],
   "source": [
    "print(cudaq.draw(circuit))"
   ]
  },
  {
   "cell_type": "markdown",
   "metadata": {
    "id": "tPdoITj15drK"
   },
   "source": [
    "### Qubit allocation\n",
    "\n",
    "- `cudaq.qubit()`: a single quantum bit (2-level) in the discrete quantum memory space.\n",
    "\n",
    "```python\n",
    "qubit = cudaq.qubit()\n",
    "```\n",
    "\n",
    "- `cudaq.qvector(n)`: a multi quantum bit ($2^n$ level) in the discrete quantum memory.\n",
    "\n",
    "```python\n",
    "qubits = cudaq.qvector(n)\n",
    "```\n",
    "\n",
    "    \n",
    "- These are initialized to the |0> computational basis state.\n",
    "\n",
    "- Owns the quantum memory, therefore it cannot be copied or moved (no-cloning theorem). It can be passed by reference (i.e., references to qubit vectors)."
   ]
  },
  {
   "cell_type": "markdown",
   "metadata": {
    "id": "N-Spgi-l5drK"
   },
   "source": [
    "### Quantum Operations\n",
    "\n",
    "\n",
    "- `x`: Not gate (Pauli-X gate)\n",
    "\n",
    "```python\n",
    "q = cudaq.qubit()\n",
    "x(q)\n",
    "```\n",
    "- `h`: Hadamard gate\n",
    "\n",
    "```python\n",
    "q = cudaq.qvector(2)\n",
    "h(q[0])\n",
    "```\n",
    "\n",
    "- `x.ctrl(control, target)` or `([control_1, control_2], target)`: CNOT (Controlled-NOT) gate\n",
    "\n",
    "```python\n",
    "q = cudaq.qvector(3)\n",
    "x.ctrl(q[0], q[1])\n",
    "cx(q[0], q[1])  # alias of x.ctrl\n",
    "```\n",
    "\n",
    "- `rx(angle, qubit)`: rotation around x-axis\n",
    "```python\n",
    "q=cudaq.qubit()\n",
    "rx(np.pi, q)\n",
    "```\n",
    "\n",
    "- `adj`: adjoint transformation\n",
    "```python\n",
    "q=cudaq.qubit()\n",
    "rx(np.pi, q)\n",
    "rx.adj(np.pi, q)\n",
    "```\n",
    "\n",
    "- `mz`: measure qubits in the computational basis\n",
    "\n",
    "```python\n",
    "q=cudaq.qvector(2)\n",
    "h(q[0])\n",
    "x.ctrl(q[0], q[1])\n",
    "mz(q)\n",
    "```\n",
    "\n",
    "To learn more about the quantum operations available in CUDA-Q, visit [this page](https://nvidia.github.io/cuda-quantum/latest/specification/cudaq/kernels.html)."
   ]
  },
  {
   "cell_type": "markdown",
   "metadata": {},
   "source": [
    "Gate examples"
   ]
  },
  {
   "cell_type": "code",
   "execution_count": null,
   "metadata": {
    "lines_to_next_cell": 1
   },
   "outputs": [],
   "source": [
    "@cudaq.kernel\n",
    "def do_nothing():\n",
    "    q = cudaq.qubit()"
   ]
  },
  {
   "cell_type": "code",
   "execution_count": null,
   "metadata": {
    "lines_to_next_cell": 1
   },
   "outputs": [],
   "source": [
    "@cudaq.kernel\n",
    "def x_gate():\n",
    "    q = cudaq.qubit()\n",
    "    x(q)"
   ]
  },
  {
   "cell_type": "code",
   "execution_count": null,
   "metadata": {
    "lines_to_next_cell": 1
   },
   "outputs": [],
   "source": [
    "@cudaq.kernel\n",
    "def h_gate():\n",
    "    q = cudaq.qubit()\n",
    "    h(q)"
   ]
  },
  {
   "cell_type": "code",
   "execution_count": 2,
   "metadata": {},
   "outputs": [],
   "source": [
    "@cudaq.kernel\n",
    "def bell():\n",
    "    q = cudaq.qvector(2)\n",
    "    h(q[0])    \n",
    "    x.ctrl(q[0], q[1])\n",
    "#    cx(q[0], q[1])"
   ]
  },
  {
   "cell_type": "code",
   "execution_count": 3,
   "metadata": {},
   "outputs": [
    {
     "name": "stdout",
     "output_type": "stream",
     "text": [
      "initial state: [1.+0.j 0.+0.j]\n"
     ]
    }
   ],
   "source": [
    "print(\"initial state:\", np.array(cudaq.get_state(do_nothing)))"
   ]
  },
  {
   "cell_type": "code",
   "execution_count": 4,
   "metadata": {},
   "outputs": [
    {
     "name": "stdout",
     "output_type": "stream",
     "text": [
      "apply X: [0.+0.j 1.+0.j]\n"
     ]
    }
   ],
   "source": [
    "print(\"apply X:\", np.array(cudaq.get_state(x_gate)))"
   ]
  },
  {
   "cell_type": "code",
   "execution_count": 5,
   "metadata": {},
   "outputs": [
    {
     "name": "stdout",
     "output_type": "stream",
     "text": [
      "apply H: [0.70710677+0.j 0.70710677+0.j]\n"
     ]
    }
   ],
   "source": [
    "print(\"apply H:\", np.array(cudaq.get_state(h_gate)))"
   ]
  },
  {
   "cell_type": "code",
   "execution_count": 6,
   "metadata": {},
   "outputs": [
    {
     "name": "stdout",
     "output_type": "stream",
     "text": [
      "Bell state: [0.70710677+0.j 0.        +0.j 0.        +0.j 0.70710677+0.j]\n"
     ]
    }
   ],
   "source": [
    "print(\"Bell state:\", np.array(cudaq.get_state(bell)))"
   ]
  },
  {
   "cell_type": "markdown",
   "metadata": {
    "id": "HCNjOzv85drK"
   },
   "source": [
    "### Quantum kernel\n",
    "\n",
    "- To differentiate between host and quantum device code, the CUDA-Q programming model defines the concept of a quantum kernel.\n",
    "\n",
    "- All quantum kernels must be annotated to indicate they are to be compiled for, and executed on, a specified quantum coprocessor.\n",
    "\n",
    "- Other language bindings may opt to use other language features to enable function annotation or decoration (e.g. a `@cudaq.kernel()` function decorator in Python and `__qpu__` in C++).\n",
    "\n",
    "- Quantum kernel can take classical data as input."
   ]
  },
  {
   "cell_type": "markdown",
   "metadata": {
    "id": "wPMHIJjd5drK"
   },
   "source": [
    "``` python\n",
    "@cudaq.kernel()\n",
    "def my_first_entry_point_kernel(x : float):\n",
    "   ... quantum code ...\n",
    "\n",
    "@cudaq.kernel()\n",
    "def my_second_entry_point_kernel(x : float, params : list[float]):\n",
    "   ... quantum code ...\n",
    "\n",
    "```"
   ]
  },
  {
   "cell_type": "markdown",
   "metadata": {
    "id": "1L_RYCS-5drK"
   },
   "source": [
    "- CUDA-Q kernels can serve as input to other quantum kernels and invoked by kernel function body code.\n",
    "\n",
    "\n",
    "```python\n",
    "@cudaq.kernel()\n",
    "def my_state_prep(qubits : cudaq.qview):\n",
    "    ... apply state prep operations on qubits ...\n",
    "\n",
    "@cudaq.kernel()\n",
    "def my_generic_algorithm(state_prep : Callable[[cudaq.qview], None]):\n",
    "    q = cudaq.qvector(10)\n",
    "    state_prep(q)\n",
    "    ...\n",
    "\n",
    "my_generic_algorithm(my_state_prep)\n",
    "```\n",
    "\n",
    "- `cudaq.qview`: a non-owning reference to a subset of the discrete quantum memory space. It does not own its elements and can therefore be passed by value or reference. (see [this page](https://nvidia.github.io/cuda-quantum/latest/specification/cudaq/types.html#quantum-containers))\n",
    "\n",
    "- Vectors inside the quantum kernel can be only constructed with specified size\n",
    "\n",
    "```python\n",
    "@cudaq.kernel\n",
    "def kernel(n: int):\n",
    "\n",
    "   # Not Allowed\n",
    "   # i = []\n",
    "   # i.append(1)\n",
    "\n",
    "   # Allowed\n",
    "   i = [0 for k in range(5)]\n",
    "   j = [0 for _ in range(n)]\n",
    "   i[2] = 3\n",
    "   f = [1., 2., 3.]\n",
    "   k = 0\n",
    "   pi = 3.1415926\n",
    "\n",
    "```\n",
    "\n",
    "- To learn more about the CUDA-Q quantum kernel, visit [this page](https://github.com/NVIDIA/cuda-quantum/blob/main/docs/sphinx/specification/cudaq/kernels.rst)."
   ]
  },
  {
   "cell_type": "markdown",
   "metadata": {
    "id": "u8_71eA35drK"
   },
   "source": [
    "### Code Examples"
   ]
  },
  {
   "cell_type": "markdown",
   "metadata": {},
   "source": [
    "Single qubit example"
   ]
  },
  {
   "cell_type": "code",
   "execution_count": null,
   "metadata": {},
   "outputs": [],
   "source": [
    "from cudaq.qis import *"
   ]
  },
  {
   "cell_type": "code",
   "execution_count": null,
   "metadata": {},
   "outputs": [],
   "source": [
    "import cudaq"
   ]
  },
  {
   "cell_type": "code",
   "execution_count": null,
   "metadata": {},
   "outputs": [],
   "source": [
    "# We begin by defining the `Kernel` that we will construct our\n",
    "# program with.\n",
    "@cudaq.kernel()\n",
    "def first_kernel():\n",
    "    \"\"\"\n",
    "    This is our first CUDA-Q kernel.\n",
    "    \"\"\"\n",
    "    # Next, we can allocate a single qubit to the kernel via `qubit()`.\n",
    "    qubit = cudaq.qubit()\n",
    "\n",
    "    # Now we can begin adding instructions to apply to this qubit!\n",
    "    # Here we'll just add non-parameterized\n",
    "    # single qubit gate that is supported by CUDA-Q.\n",
    "    h(qubit)\n",
    "    x(qubit)\n",
    "    y(qubit)\n",
    "    z(qubit)\n",
    "    t(qubit)\n",
    "    s(qubit)\n",
    "\n",
    "    # Next, we add a measurement to the kernel so that we can sample\n",
    "    # the measurement results on our simulator!\n",
    "    mz(qubit)"
   ]
  },
  {
   "cell_type": "code",
   "execution_count": 7,
   "metadata": {
    "colab": {
     "base_uri": "https://localhost:8080/"
    },
    "executionInfo": {
     "elapsed": 9,
     "status": "ok",
     "timestamp": 1727228631250,
     "user": {
      "displayName": "Ikko Hamamura",
      "userId": "14952240016147607013"
     },
     "user_tz": -540
    },
    "id": "SX9FWIND5drK",
    "outputId": "12b7a1c7-6bf1-40bb-f0b2-f3fc1a49e585"
   },
   "outputs": [
    {
     "name": "stdout",
     "output_type": "stream",
     "text": [
      "     ╭───╮╭───╮╭───╮╭───╮╭───╮╭───╮\n",
      "q0 : ┤ h ├┤ x ├┤ y ├┤ z ├┤ t ├┤ s ├\n",
      "     ╰───╯╰───╯╰───╯╰───╯╰───╯╰───╯\n",
      "\n"
     ]
    }
   ],
   "source": [
    "print(cudaq.draw(first_kernel))"
   ]
  },
  {
   "cell_type": "markdown",
   "metadata": {},
   "source": [
    "Multi-qubit example"
   ]
  },
  {
   "cell_type": "code",
   "execution_count": null,
   "metadata": {},
   "outputs": [],
   "source": [
    "import cudaq"
   ]
  },
  {
   "cell_type": "code",
   "execution_count": null,
   "metadata": {},
   "outputs": [],
   "source": [
    "@cudaq.kernel\n",
    "def second_kernel(num_qubits: int):\n",
    "    qubits = cudaq.qvector(num_qubits)\n",
    "\n",
    "    h(qubits[0])\n",
    "    x.ctrl(qubits[0], qubits[1])\n",
    "    cx(qubits[0], qubits[2])  # cx is also ok\n",
    "    x(qubits[0:4])\n",
    "\n",
    "    mz(qubits)"
   ]
  },
  {
   "cell_type": "code",
   "execution_count": 8,
   "metadata": {
    "colab": {
     "base_uri": "https://localhost:8080/"
    },
    "executionInfo": {
     "elapsed": 6,
     "status": "ok",
     "timestamp": 1727228631250,
     "user": {
      "displayName": "Ikko Hamamura",
      "userId": "14952240016147607013"
     },
     "user_tz": -540
    },
    "id": "JAiDGk1q5drL",
    "outputId": "5e0baf61-da9c-4ed2-b78e-143a244855d8"
   },
   "outputs": [
    {
     "name": "stdout",
     "output_type": "stream",
     "text": [
      "     ╭───╮          ╭───╮\n",
      "q0 : ┤ h ├──●────●──┤ x ├\n",
      "     ╰───╯╭─┴─╮  │  ├───┤\n",
      "q1 : ─────┤ x ├──┼──┤ x ├\n",
      "          ╰───╯╭─┴─╮├───┤\n",
      "q2 : ──────────┤ x ├┤ x ├\n",
      "     ╭───╮     ╰───╯╰───╯\n",
      "q3 : ┤ x ├───────────────\n",
      "     ╰───╯               \n",
      "\n"
     ]
    }
   ],
   "source": [
    "print(cudaq.draw(second_kernel, 5))"
   ]
  },
  {
   "cell_type": "code",
   "execution_count": null,
   "metadata": {},
   "outputs": [],
   "source": [
    "import cudaq"
   ]
  },
  {
   "cell_type": "code",
   "execution_count": null,
   "metadata": {},
   "outputs": [],
   "source": [
    "@cudaq.kernel\n",
    "def bar(num_qubits: int):\n",
    "    qubits = cudaq.qvector(num_qubits)\n",
    "    h(qubits[0:3])\n",
    "    controls = qubits[0:-1]\n",
    "    target = qubits[-1]\n",
    "\n",
    "    x.ctrl(controls, target)"
   ]
  },
  {
   "cell_type": "code",
   "execution_count": 9,
   "metadata": {
    "colab": {
     "base_uri": "https://localhost:8080/"
    },
    "executionInfo": {
     "elapsed": 5,
     "status": "ok",
     "timestamp": 1727228631250,
     "user": {
      "displayName": "Ikko Hamamura",
      "userId": "14952240016147607013"
     },
     "user_tz": -540
    },
    "id": "ogKFz0C45drL",
    "outputId": "0324f29d-bba2-4cee-d0ff-dd526d373e1b"
   },
   "outputs": [
    {
     "name": "stdout",
     "output_type": "stream",
     "text": [
      "     ╭───╮     \n",
      "q0 : ┤ h ├──●──\n",
      "     ├───┤  │  \n",
      "q1 : ┤ h ├──●──\n",
      "     ├───┤  │  \n",
      "q2 : ┤ h ├──●──\n",
      "     ╰───╯  │  \n",
      "q3 : ───────●──\n",
      "            │  \n",
      "q4 : ───────●──\n",
      "            │  \n",
      "q5 : ───────●──\n",
      "            │  \n",
      "q6 : ───────●──\n",
      "            │  \n",
      "q7 : ───────●──\n",
      "            │  \n",
      "q8 : ───────●──\n",
      "          ╭─┴─╮\n",
      "q9 : ─────┤ x ├\n",
      "          ╰───╯\n",
      "\n"
     ]
    }
   ],
   "source": [
    "print(cudaq.draw(bar, 10))"
   ]
  },
  {
   "cell_type": "markdown",
   "metadata": {
    "id": "IR58VkUt5drL"
   },
   "source": [
    "<div class=\"alert alert-block alert-success\">\n",
    "\n",
    "### Exerciese 1\n",
    "\n",
    "Now you can make quantum kernels! Let's make the kernel to create the GHZ state for $n$ qubits $\\frac{1}{\\sqrt{2}}(|00\\dots 0\\rangle + |11\\dots 1\\rangle)$!\n",
    "\n",
    "**Advanced**: Assume that the qubits are connected in one dimension. Let's build a circuit so that the depth of 2-qubit gates is as small as possible.\n",
    "<div>"
   ]
  },
  {
   "cell_type": "code",
   "execution_count": null,
   "metadata": {},
   "outputs": [],
   "source": [
    "@cudaq.kernel\n",
    "def ghz(num_qubits: int):\n",
    "    q = cudaq.qvector(num_qubits)\n",
    "    # Write your code here"
   ]
  },
  {
   "cell_type": "code",
   "execution_count": 10,
   "metadata": {},
   "outputs": [
    {
     "name": "stdout",
     "output_type": "stream",
     "text": [
      "\n"
     ]
    }
   ],
   "source": [
    "print(cudaq.draw(ghz, 10))"
   ]
  },
  {
   "cell_type": "markdown",
   "metadata": {
    "id": "R7PzopAt5drL"
   },
   "source": [
    "## Execute quantum kernels"
   ]
  },
  {
   "cell_type": "markdown",
   "metadata": {},
   "source": [
    "### Function call"
   ]
  },
  {
   "cell_type": "markdown",
   "metadata": {},
   "source": [
    "The kernel can be executed by calling a function. If the results need to be output, the return value and its type must be specified"
   ]
  },
  {
   "cell_type": "code",
   "execution_count": null,
   "metadata": {},
   "outputs": [],
   "source": [
    "@cudaq.kernel\n",
    "def bit_flip(flip: bool = True) -> bool:\n",
    "    qubit = cudaq.qubit()\n",
    "    if flip:\n",
    "        x(qubit)\n",
    "    result = mz(qubit)\n",
    "    return result"
   ]
  },
  {
   "cell_type": "code",
   "execution_count": 11,
   "metadata": {},
   "outputs": [
    {
     "name": "stdout",
     "output_type": "stream",
     "text": [
      "False\n"
     ]
    }
   ],
   "source": [
    "print(bit_flip(False))"
   ]
  },
  {
   "cell_type": "markdown",
   "metadata": {
    "id": "RoGygt9m5drL"
   },
   "source": [
    "### cudaq.sample()\n",
    "\n",
    "Sample a given quantum circuit for a specified number of shots (circuit execution).\n",
    "\n",
    "This function takes as input a quantum kernel instance followed by the concrete arguments at which the kernel should be invoked."
   ]
  },
  {
   "cell_type": "code",
   "execution_count": null,
   "metadata": {},
   "outputs": [],
   "source": [
    "import cudaq"
   ]
  },
  {
   "cell_type": "code",
   "execution_count": null,
   "metadata": {},
   "outputs": [],
   "source": [
    "@cudaq.kernel\n",
    "def bell(num_qubits: int):\n",
    "    qubits = cudaq.qvector(num_qubits)\n",
    "\n",
    "    h(qubits[0])\n",
    "    x.ctrl(qubits[0], qubits[1])\n",
    "\n",
    "    mz(qubits)"
   ]
  },
  {
   "cell_type": "code",
   "execution_count": null,
   "metadata": {},
   "outputs": [],
   "source": [
    "print(cudaq.draw(bell, 2))\n",
    "# Sample the state generated by bell\n",
    "# shots_count: the number of kernel executions. Default is 1000\n",
    "counts = cudaq.sample(bell, 2, shots_count=10000)"
   ]
  },
  {
   "cell_type": "code",
   "execution_count": null,
   "metadata": {},
   "outputs": [],
   "source": [
    "# Print to standard out\n",
    "print(counts)"
   ]
  },
  {
   "cell_type": "code",
   "execution_count": 12,
   "metadata": {
    "colab": {
     "base_uri": "https://localhost:8080/"
    },
    "executionInfo": {
     "elapsed": 5,
     "status": "ok",
     "timestamp": 1727228631251,
     "user": {
      "displayName": "Ikko Hamamura",
      "userId": "14952240016147607013"
     },
     "user_tz": -540
    },
    "id": "JCVl7Mw65drL",
    "outputId": "2e5629d0-ec90-4f04-a4b8-2f4ada5a8fa9"
   },
   "outputs": [
    {
     "name": "stdout",
     "output_type": "stream",
     "text": [
      "     ╭───╮     \n",
      "q0 : ┤ h ├──●──\n",
      "     ╰───╯╭─┴─╮\n",
      "q1 : ─────┤ x ├\n",
      "          ╰───╯\n",
      "\n",
      "{ 00:4969 11:5031 }\n",
      "\n",
      "Observed 00: 4969\n",
      "Observed 11: 5031\n"
     ]
    }
   ],
   "source": [
    "# Fine-grained access to the bits and counts\n",
    "for bits, count in counts.items():\n",
    "    print(f\"Observed {bits}: {count}\")"
   ]
  },
  {
   "cell_type": "code",
   "execution_count": null,
   "metadata": {},
   "outputs": [],
   "source": [
    "import cudaq"
   ]
  },
  {
   "cell_type": "code",
   "execution_count": null,
   "metadata": {},
   "outputs": [],
   "source": [
    "@cudaq.kernel\n",
    "def third_example(num_qubits: int, theta: list[float]):\n",
    "    qubit = cudaq.qvector(num_qubits)\n",
    "\n",
    "    h(qubit)\n",
    "\n",
    "    for i in range(0, num_qubits // 2):\n",
    "        ry(theta[i], qubit[i])\n",
    "\n",
    "    x.ctrl([qubit[0], qubit[1]], qubit[2])  # ccx\n",
    "    x.ctrl([qubit[0], qubit[1], qubit[2]], qubit[3])  # cccx\n",
    "    x.ctrl(qubit[0:3], qubit[3])  # cccx using Python slicing syntax\n",
    "\n",
    "    mz(qubit)"
   ]
  },
  {
   "cell_type": "code",
   "execution_count": null,
   "metadata": {},
   "outputs": [],
   "source": [
    "params = [0.15, 1.5]"
   ]
  },
  {
   "cell_type": "code",
   "execution_count": null,
   "metadata": {},
   "outputs": [],
   "source": [
    "print(cudaq.draw(third_example, 4, params))"
   ]
  },
  {
   "cell_type": "code",
   "execution_count": null,
   "metadata": {},
   "outputs": [],
   "source": [
    "result = cudaq.sample(third_example, 4, params, shots_count=5000)"
   ]
  },
  {
   "cell_type": "code",
   "execution_count": null,
   "metadata": {},
   "outputs": [],
   "source": [
    "print(\"Result: \", result)"
   ]
  },
  {
   "cell_type": "code",
   "execution_count": 13,
   "metadata": {
    "colab": {
     "base_uri": "https://localhost:8080/"
    },
    "executionInfo": {
     "elapsed": 4,
     "status": "ok",
     "timestamp": 1727228631251,
     "user": {
      "displayName": "Ikko Hamamura",
      "userId": "14952240016147607013"
     },
     "user_tz": -540
    },
    "id": "hWAj9CCq5drL",
    "outputId": "7fd3a431-f2ee-470b-b749-df7e8afd4613"
   },
   "outputs": [
    {
     "name": "stdout",
     "output_type": "stream",
     "text": [
      "     ╭───╮╭──────────╮               \n",
      "q0 : ┤ h ├┤ ry(0.15) ├──●────●────●──\n",
      "     ├───┤├─────────┬╯  │    │    │  \n",
      "q1 : ┤ h ├┤ ry(1.5) ├───●────●────●──\n",
      "     ├───┤╰─────────╯ ╭─┴─╮  │    │  \n",
      "q2 : ┤ h ├────────────┤ x ├──●────●──\n",
      "     ├───┤            ╰───╯╭─┴─╮╭─┴─╮\n",
      "q3 : ┤ h ├─────────────────┤ x ├┤ x ├\n",
      "     ╰───╯                 ╰───╯╰───╯\n",
      "\n",
      "Result:  { 0000:1 0100:533 0101:540 0110:556 0111:543 1000:3 1001:2 1100:748 1101:729 1110:720 1111:625 }\n",
      "\n",
      "Most probable bit string:  1100\n"
     ]
    }
   ],
   "source": [
    "print(\"Most probable bit string: \", result.most_probable())  # Custom dictionary"
   ]
  },
  {
   "cell_type": "code",
   "execution_count": null,
   "metadata": {},
   "outputs": [],
   "source": [
    "from typing import Callable"
   ]
  },
  {
   "cell_type": "code",
   "execution_count": null,
   "metadata": {},
   "outputs": [],
   "source": [
    "@cudaq.kernel()\n",
    "def my_state_prep(qubits: cudaq.qview):\n",
    "    for i in range(qubits.size // 2):\n",
    "        x(qubits[i])"
   ]
  },
  {
   "cell_type": "code",
   "execution_count": null,
   "metadata": {},
   "outputs": [],
   "source": [
    "@cudaq.kernel()\n",
    "def my_generic_algorithm(state_prep: Callable[[cudaq.qview], None]):\n",
    "    q = cudaq.qvector(10)\n",
    "    state_prep(q)"
   ]
  },
  {
   "cell_type": "code",
   "execution_count": 14,
   "metadata": {},
   "outputs": [
    {
     "name": "stdout",
     "output_type": "stream",
     "text": [
      "{ 1111100000:1000 }\n",
      "\n"
     ]
    }
   ],
   "source": [
    "print(cudaq.sample(my_generic_algorithm, my_state_prep))"
   ]
  },
  {
   "cell_type": "markdown",
   "metadata": {
    "id": "mALLpxP75drM"
   },
   "source": [
    "###  Mid-circuit measurement & conditional sampling"
   ]
  },
  {
   "cell_type": "code",
   "execution_count": null,
   "metadata": {},
   "outputs": [],
   "source": [
    "import cudaq"
   ]
  },
  {
   "cell_type": "code",
   "execution_count": null,
   "metadata": {},
   "outputs": [],
   "source": [
    "@cudaq.kernel\n",
    "def mid_circuit_m(theta: float):\n",
    "    qubit = cudaq.qvector(2)\n",
    "    ancilla = cudaq.qubit()\n",
    "\n",
    "    ry(theta, ancilla)\n",
    "\n",
    "    aux = mz(ancilla)\n",
    "    if aux:\n",
    "        x(qubit[0])\n",
    "        x(ancilla)\n",
    "    else:\n",
    "        x(qubit[0])\n",
    "        x(qubit[1])\n",
    "\n",
    "    anc = mz(ancilla)\n",
    "    sys = mz(qubit)"
   ]
  },
  {
   "cell_type": "code",
   "execution_count": null,
   "metadata": {},
   "outputs": [],
   "source": [
    "angle = 0.5"
   ]
  },
  {
   "cell_type": "code",
   "execution_count": 15,
   "metadata": {
    "colab": {
     "base_uri": "https://localhost:8080/"
    },
    "executionInfo": {
     "elapsed": 3007,
     "status": "ok",
     "timestamp": 1727228634255,
     "user": {
      "displayName": "Ikko Hamamura",
      "userId": "14952240016147607013"
     },
     "user_tz": -540
    },
    "id": "Erm5CHC_5drM",
    "outputId": "dbc317eb-f02b-4508-a5bd-986094546dc8"
   },
   "outputs": [
    {
     "name": "stdout",
     "output_type": "stream",
     "text": [
      "{ \n",
      "  __global__ : { 100:61 110:939 }\n",
      "   anc : { 0:1000 }\n",
      "   aux : { 0:939 1:61 }\n",
      "   sys : { 10:61 11:939 }\n",
      "}\n",
      "\n"
     ]
    }
   ],
   "source": [
    "result = cudaq.sample(mid_circuit_m, angle)\n",
    "print(result)"
   ]
  },
  {
   "cell_type": "markdown",
   "metadata": {
    "id": "kcPGkHWo5drM"
   },
   "source": [
    "- Here, we see that we have measured the ancilla qubit to a register named ```aux```.\n",
    "\n",
    "- If any measurements appear in the kernel, then only the measured qubits will appear in the ```__global__``` register, and they will be sorted in qubit allocation order.\n",
    "\n",
    "- To learn more about cudaq.sample(), visit [this page](https://nvidia.github.io/cuda-quantum/latest/specification/cudaq/algorithmic_primitives.html#cudaq-sample)."
   ]
  },
  {
   "cell_type": "markdown",
   "metadata": {
    "id": "kWAEQQAa5drM"
   },
   "source": [
    "<div class=\"alert alert-block alert-success\">\n",
    "    \n",
    "### Exercise 2\n",
    "\n",
    "Let's run your ghz kernel with sampler! Set `shots_count=10000`. Do you obtain the expected result?\n",
    "\n",
    "</div>"
   ]
  },
  {
   "cell_type": "markdown",
   "metadata": {},
   "source": [
    "Write your code here!"
   ]
  },
  {
   "cell_type": "markdown",
   "metadata": {
    "id": "s7hWJ6TA5drM"
   },
   "source": [
    "### cudaq.observe()"
   ]
  },
  {
   "cell_type": "markdown",
   "metadata": {
    "id": "0RnFhuJr5drM"
   },
   "source": [
    "- A common task in variational algorithms is the computation of the expected value of a given observable with respect to a parameterized quantum circuit ($\\langle H\\rangle_\\theta = \\langle \\psi(\\theta)\\mid H \\mid\\psi(\\theta)\\rangle$).\n",
    "\n",
    "- The `cudaq.observe()` function is provided to enable one to quickly compute this expectation value via execution of the parameterized quantum circuit.\n",
    "\n",
    "- In the example below, the obervable H is $H= 5.907 \\, I - 2.1433 \\, X_0X_1 -2.1433\\, Y_0 Y_1 + 0.21829 \\, Z_0 -6.125\\, Z_1$."
   ]
  },
  {
   "cell_type": "markdown",
   "metadata": {},
   "source": [
    "The example here shows a simple use case for the `cudaq.observe``\n",
    "function in computing expected values of provided spin hamiltonian operators."
   ]
  },
  {
   "cell_type": "code",
   "execution_count": null,
   "metadata": {},
   "outputs": [],
   "source": [
    "import cudaq\n",
    "from cudaq import spin"
   ]
  },
  {
   "cell_type": "code",
   "execution_count": null,
   "metadata": {},
   "outputs": [],
   "source": [
    "num_qubits = 2"
   ]
  },
  {
   "cell_type": "code",
   "execution_count": null,
   "metadata": {},
   "outputs": [],
   "source": [
    "@cudaq.kernel\n",
    "def init_state(qubits: cudaq.qview):\n",
    "    n = qubits.size()\n",
    "    for i in range(n):\n",
    "        x(qubits[i])"
   ]
  },
  {
   "cell_type": "code",
   "execution_count": null,
   "metadata": {},
   "outputs": [],
   "source": [
    "@cudaq.kernel\n",
    "def observe_example(theta: float):\n",
    "    qvector = cudaq.qvector(num_qubits)\n",
    "\n",
    "    init_state(qvector)\n",
    "    ry(theta, qvector[1])\n",
    "    x.ctrl(qvector[1], qvector[0])"
   ]
  },
  {
   "cell_type": "code",
   "execution_count": null,
   "metadata": {},
   "outputs": [],
   "source": [
    "spin_operator = (\n",
    "    5.907\n",
    "    - 2.1433 * spin.x(0) * spin.x(1)\n",
    "    - 2.1433 * spin.y(0) * spin.y(1)\n",
    "    + 0.21829 * spin.z(0)\n",
    "    - 6.125 * spin.z(1)\n",
    ")"
   ]
  },
  {
   "cell_type": "code",
   "execution_count": null,
   "metadata": {},
   "outputs": [],
   "source": [
    "# Pre-computed angle that minimizes the energy expectation of the `spin_operator`.\n",
    "angle = 0.59"
   ]
  },
  {
   "cell_type": "code",
   "execution_count": 17,
   "metadata": {
    "colab": {
     "base_uri": "https://localhost:8080/"
    },
    "executionInfo": {
     "elapsed": 13,
     "status": "ok",
     "timestamp": 1727228634255,
     "user": {
      "displayName": "Ikko Hamamura",
      "userId": "14952240016147607013"
     },
     "user_tz": -540
    },
    "id": "xVHLGEd_5drM",
    "outputId": "afa8f1ff-63df-4999-f188-a9c25bb17df4"
   },
   "outputs": [
    {
     "name": "stdout",
     "output_type": "stream",
     "text": [
      "Energy is 13.562794135947076\n"
     ]
    }
   ],
   "source": [
    "energy = cudaq.observe(observe_example, spin_operator, angle).expectation()\n",
    "print(f\"Energy is {energy}\")"
   ]
  },
  {
   "cell_type": "markdown",
   "metadata": {
    "id": "qLXeef0N5drM"
   },
   "source": [
    "### Spin Hamiltonian operator\n",
    "\n",
    "CUDA-Q defines convenience functions in `cudaq.spin` namespace that produce the primitive X, Y, and Z Pauli operators on specified qubit indices which can subsequently be used in algebraic expressions to build up more complicated Pauli tensor products and their sums.\n",
    "\n",
    "$H= 5.907 \\, I - 2.1433 \\, X_0X_1 -2.1433\\, Y_0 Y_1 + 0.21829 \\, Z_0 -6.125\\, Z_1$\n",
    "\n",
    "```python\n",
    "spin_operator = 5.907 - 2.1433 * spin.x(0) * spin.x(1) - 2.1433 * spin.y(\n",
    "    0) * spin.y(1) + .21829 * spin.z(0) - 6.125 * spin.z(1)\n",
    "```"
   ]
  },
  {
   "cell_type": "code",
   "execution_count": null,
   "metadata": {},
   "outputs": [],
   "source": [
    "from cudaq import spin"
   ]
  },
  {
   "cell_type": "code",
   "execution_count": null,
   "metadata": {},
   "outputs": [],
   "source": [
    "hamiltonian = (\n",
    "    0.5 * spin.z(0)\n",
    "    + spin.x(1)\n",
    "    + spin.y(0)\n",
    "    + spin.y(0) * spin.y(1)\n",
    "    + spin.x(0) * spin.y(1) * spin.z(2)\n",
    ")"
   ]
  },
  {
   "cell_type": "code",
   "execution_count": null,
   "metadata": {},
   "outputs": [],
   "source": [
    "# add some more terms\n",
    "for i in range(2):\n",
    "    hamiltonian += -2.0 * spin.z(i) * spin.z(i + 1)"
   ]
  },
  {
   "cell_type": "code",
   "execution_count": null,
   "metadata": {},
   "outputs": [],
   "source": [
    "print(hamiltonian)"
   ]
  },
  {
   "cell_type": "code",
   "execution_count": 18,
   "metadata": {
    "colab": {
     "base_uri": "https://localhost:8080/"
    },
    "executionInfo": {
     "elapsed": 11,
     "status": "ok",
     "timestamp": 1727228634255,
     "user": {
      "displayName": "Ikko Hamamura",
      "userId": "14952240016147607013"
     },
     "user_tz": -540
    },
    "id": "rv7pKSMs5drM",
    "outputId": "5775d69e-b50e-497b-9940-a1097c755b69"
   },
   "outputs": [
    {
     "name": "stdout",
     "output_type": "stream",
     "text": [
      "[1+0j] IXI\n",
      "[-2+0j] IZZ\n",
      "[1+0j] XYZ\n",
      "[1+0j] YYI\n",
      "[0.5+0j] ZII\n",
      "[-2+0j] ZZI\n",
      "[1+0j] YII\n",
      "\n",
      "Total number of terms in the spin hamiltonian:  7\n"
     ]
    }
   ],
   "source": [
    "print(\"Total number of terms in the spin hamiltonian: \", hamiltonian.get_term_count())"
   ]
  },
  {
   "cell_type": "markdown",
   "metadata": {
    "id": "ytps3S1k5drN"
   },
   "source": [
    "### Parameterized Circuit"
   ]
  },
  {
   "cell_type": "code",
   "execution_count": null,
   "metadata": {},
   "outputs": [],
   "source": [
    "import cudaq\n",
    "from cudaq import spin"
   ]
  },
  {
   "cell_type": "code",
   "execution_count": null,
   "metadata": {},
   "outputs": [],
   "source": [
    "@cudaq.kernel\n",
    "def param_circuit(theta: list[float]):\n",
    "    # Allocate a qubit that is initialised to the |0> state.\n",
    "    qubit = cudaq.qubit()\n",
    "    # Define gates and the qubits they act upon.\n",
    "    rx(theta[0], qubit)\n",
    "    ry(theta[1], qubit)"
   ]
  },
  {
   "cell_type": "code",
   "execution_count": null,
   "metadata": {},
   "outputs": [],
   "source": [
    "# Our hamiltonian will be the Z expectation value of our qubit.\n",
    "hamiltonian = spin.z(0)"
   ]
  },
  {
   "cell_type": "code",
   "execution_count": null,
   "metadata": {},
   "outputs": [],
   "source": [
    "# Initial gate parameters which initialize the qubit in the zero state\n",
    "parameters = [0.0, 0.0]"
   ]
  },
  {
   "cell_type": "code",
   "execution_count": null,
   "metadata": {},
   "outputs": [],
   "source": [
    "print(cudaq.draw(param_circuit, parameters))"
   ]
  },
  {
   "cell_type": "code",
   "execution_count": null,
   "metadata": {},
   "outputs": [],
   "source": [
    "# Compute the expectation value using the initial parameters.\n",
    "expectation_value = cudaq.observe(param_circuit, hamiltonian, parameters).expectation()"
   ]
  },
  {
   "cell_type": "code",
   "execution_count": 19,
   "metadata": {
    "colab": {
     "base_uri": "https://localhost:8080/"
    },
    "executionInfo": {
     "elapsed": 10,
     "status": "ok",
     "timestamp": 1727228634255,
     "user": {
      "displayName": "Ikko Hamamura",
      "userId": "14952240016147607013"
     },
     "user_tz": -540
    },
    "id": "4kexuUXD5drN",
    "outputId": "cd767f14-34d6-4d1a-ba50-9710e25e41c9"
   },
   "outputs": [
    {
     "name": "stdout",
     "output_type": "stream",
     "text": [
      "     ╭───────╮╭───────╮\n",
      "q0 : ┤ rx(0) ├┤ ry(0) ├\n",
      "     ╰───────╯╰───────╯\n",
      "\n",
      "Expectation value of the Hamiltonian:  1.0\n"
     ]
    }
   ],
   "source": [
    "print(\"Expectation value of the Hamiltonian: \", expectation_value)"
   ]
  },
  {
   "cell_type": "markdown",
   "metadata": {
    "id": "gDDrqjV55drN"
   },
   "source": [
    "You can construct `SpinOperator` using `from_word` class method."
   ]
  },
  {
   "cell_type": "code",
   "execution_count": 20,
   "metadata": {
    "colab": {
     "base_uri": "https://localhost:8080/"
    },
    "executionInfo": {
     "elapsed": 8,
     "status": "ok",
     "timestamp": 1727228634255,
     "user": {
      "displayName": "Ikko Hamamura",
      "userId": "14952240016147607013"
     },
     "user_tz": -540
    },
    "id": "eiWwykO_5drN",
    "outputId": "de2cb0fc-e411-4862-d248-61645635541a"
   },
   "outputs": [
    {
     "name": "stdout",
     "output_type": "stream",
     "text": [
      "[1+0j] XXXX\n",
      "\n"
     ]
    }
   ],
   "source": [
    "op = cudaq.SpinOperator.from_word(\"XXXX\")\n",
    "print(op)"
   ]
  },
  {
   "cell_type": "markdown",
   "metadata": {
    "id": "YL3ozxkZ5drN"
   },
   "source": [
    "<div class=\"alert alert-block alert-success\">\n",
    "\n",
    "### Exercise 3\n",
    "\n",
    "Calculate expectation value $\\langle \\mathrm{ghz} | ZZ...Z | \\mathrm{ghz}\\rangle$ and $\\langle \\mathrm{ghz} | XX...X | \\mathrm{ghz}\\rangle$ for 10 qubits and 20 qubits.\n",
    "</div>"
   ]
  },
  {
   "cell_type": "markdown",
   "metadata": {},
   "source": [
    "Write your codes here!"
   ]
  },
  {
   "cell_type": "markdown",
   "metadata": {
    "id": "YK7e0GU85drN"
   },
   "source": [
    "## Internal Representations\n",
    "To look at the MLIR and QIR generated from your code\n",
    "\n",
    "### MLIR"
   ]
  },
  {
   "cell_type": "code",
   "execution_count": null,
   "metadata": {},
   "outputs": [],
   "source": [
    "import cudaq"
   ]
  },
  {
   "cell_type": "code",
   "execution_count": null,
   "metadata": {},
   "outputs": [],
   "source": [
    "@cudaq.kernel\n",
    "def kernel():\n",
    "    q = cudaq.qvector(2)\n",
    "    h(q[0])\n",
    "    cx(q[0], q[1])"
   ]
  },
  {
   "cell_type": "code",
   "execution_count": 22,
   "metadata": {
    "colab": {
     "base_uri": "https://localhost:8080/"
    },
    "executionInfo": {
     "elapsed": 7,
     "status": "ok",
     "timestamp": 1727228634255,
     "user": {
      "displayName": "Ikko Hamamura",
      "userId": "14952240016147607013"
     },
     "user_tz": -540
    },
    "id": "qNYqL-Ds5drN",
    "outputId": "f965d733-8c59-4f5f-b279-86cd7a73dfd8"
   },
   "outputs": [
    {
     "name": "stdout",
     "output_type": "stream",
     "text": [
      "module attributes {quake.mangled_name_map = {__nvqpp__mlirgen__kernel = \"__nvqpp__mlirgen__kernel_PyKernelEntryPointRewrite\"}} {\n",
      "  func.func @__nvqpp__mlirgen__kernel() attributes {\"cudaq-entrypoint\"} {\n",
      "    %0 = quake.alloca !quake.veq<2>\n",
      "    %1 = quake.extract_ref %0[0] : (!quake.veq<2>) -> !quake.ref\n",
      "    quake.h %1 : (!quake.ref) -> ()\n",
      "    %2 = quake.extract_ref %0[1] : (!quake.veq<2>) -> !quake.ref\n",
      "    quake.x [%1] %2 : (!quake.ref, !quake.ref) -> ()\n",
      "    return\n",
      "  }\n",
      "}\n",
      "\n"
     ]
    }
   ],
   "source": [
    "# Look at the MLIR\n",
    "print(kernel)"
   ]
  },
  {
   "cell_type": "markdown",
   "metadata": {},
   "source": [
    "### QIR"
   ]
  },
  {
   "cell_type": "code",
   "execution_count": 23,
   "metadata": {
    "colab": {
     "base_uri": "https://localhost:8080/"
    },
    "executionInfo": {
     "elapsed": 6,
     "status": "ok",
     "timestamp": 1727228634255,
     "user": {
      "displayName": "Ikko Hamamura",
      "userId": "14952240016147607013"
     },
     "user_tz": -540
    },
    "id": "RBiFkegK5drN",
    "outputId": "9005bb06-2dbe-4c77-f168-d493384438d1"
   },
   "outputs": [
    {
     "name": "stdout",
     "output_type": "stream",
     "text": [
      "; ModuleID = 'LLVMDialectModule'\n",
      "source_filename = \"LLVMDialectModule\"\n",
      "\n",
      "%Array = type opaque\n",
      "%Qubit = type opaque\n",
      "\n",
      "declare void @__quantum__rt__qubit_release_array(%Array*) local_unnamed_addr\n",
      "\n",
      "declare void @invokeWithControlQubits(i64, void (%Array*, %Qubit*)*, ...) local_unnamed_addr\n",
      "\n",
      "declare void @__quantum__qis__x__ctl(%Array*, %Qubit*)\n",
      "\n",
      "declare void @__quantum__qis__h(%Qubit*) local_unnamed_addr\n",
      "\n",
      "declare i8* @__quantum__rt__array_get_element_ptr_1d(%Array*, i64) local_unnamed_addr\n",
      "\n",
      "declare %Array* @__quantum__rt__qubit_allocate_array(i64) local_unnamed_addr\n",
      "\n",
      "define void @__nvqpp__mlirgen__kernel() local_unnamed_addr {\n",
      "  %1 = tail call %Array* @__quantum__rt__qubit_allocate_array(i64 2)\n",
      "  %2 = tail call i8* @__quantum__rt__array_get_element_ptr_1d(%Array* %1, i64 0)\n",
      "  %3 = bitcast i8* %2 to %Qubit**\n",
      "  %4 = load %Qubit*, %Qubit** %3, align 8\n",
      "  tail call void @__quantum__qis__h(%Qubit* %4)\n",
      "  %5 = tail call i8* @__quantum__rt__array_get_element_ptr_1d(%Array* %1, i64 1)\n",
      "  %6 = bitcast i8* %5 to %Qubit**\n",
      "  %7 = load %Qubit*, %Qubit** %6, align 8\n",
      "  tail call void (i64, void (%Array*, %Qubit*)*, ...) @invokeWithControlQubits(i64 1, void (%Array*, %Qubit*)* nonnull @__quantum__qis__x__ctl, %Qubit* %4, %Qubit* %7)\n",
      "  tail call void @__quantum__rt__qubit_release_array(%Array* %1)\n",
      "  ret void\n",
      "}\n",
      "\n"
     ]
    }
   ],
   "source": [
    "# Look at the QIR\n",
    "print(cudaq.translate(kernel, format=\"qir\"))"
   ]
  },
  {
   "cell_type": "markdown",
   "metadata": {},
   "source": [
    "### OPENQASM 2"
   ]
  },
  {
   "cell_type": "code",
   "execution_count": 24,
   "metadata": {
    "colab": {
     "base_uri": "https://localhost:8080/"
    },
    "executionInfo": {
     "elapsed": 5,
     "status": "ok",
     "timestamp": 1727228634255,
     "user": {
      "displayName": "Ikko Hamamura",
      "userId": "14952240016147607013"
     },
     "user_tz": -540
    },
    "id": "JfMx59fh5drS",
    "outputId": "35dc54f5-ebfb-4f80-e60e-92d9c9619fec"
   },
   "outputs": [
    {
     "name": "stdout",
     "output_type": "stream",
     "text": [
      "// Code generated by NVIDIA's nvq++ compiler\n",
      "OPENQASM 2.0;\n",
      "\n",
      "include \"qelib1.inc\";\n",
      "\n",
      "qreg var0[2];\n",
      "h var0[0];\n",
      "cx var0[0], var0[1];\n",
      "\n"
     ]
    }
   ],
   "source": [
    "print(cudaq.translate(kernel, format=\"openqasm2\"))"
   ]
  },
  {
   "cell_type": "code",
   "execution_count": 25,
   "metadata": {
    "colab": {
     "base_uri": "https://localhost:8080/"
    },
    "executionInfo": {
     "elapsed": 4,
     "status": "ok",
     "timestamp": 1727228634255,
     "user": {
      "displayName": "Ikko Hamamura",
      "userId": "14952240016147607013"
     },
     "user_tz": -540
    },
    "id": "fx9nj6eH5drS",
    "outputId": "4075cdea-2b99-4a79-c2c8-48b51762c65f"
   },
   "outputs": [
    {
     "name": "stdout",
     "output_type": "stream",
     "text": [
      "CUDA-Q Version cu12-0.9.0 (https://github.com/NVIDIA/cuda-quantum 77a1c80a18896b4c7ff4ece99f06e6a62c8a28ef)\n"
     ]
    }
   ],
   "source": [
    "### Version information\n",
    "print(cudaq.__version__)"
   ]
  }
 ],
 "metadata": {
  "colab": {
   "provenance": []
  },
  "kernelspec": {
   "display_name": "Python 3 (ipykernel)",
   "language": "python",
   "name": "python3"
  },
  "language_info": {
   "codemirror_mode": {
    "name": "ipython",
    "version": 3
   },
   "file_extension": ".py",
   "mimetype": "text/x-python",
   "name": "python",
   "nbconvert_exporter": "python",
   "pygments_lexer": "ipython3",
   "version": "3.13.0"
  }
 },
 "nbformat": 4,
 "nbformat_minor": 4
}
