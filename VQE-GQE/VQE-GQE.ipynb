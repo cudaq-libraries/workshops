{
 "cells": [
  {
   "cell_type": "markdown",
   "metadata": {},
   "source": [
    "# Agenda\n",
    "\n",
    "#### 1- Parameterized circuit\n",
    "#### 2- Variational Quantum Eigensolver (VQE): QAOA and UCCSD\n",
    "#### 3- Generative Pre-training Transformer- Quantum Eigensolver (GPT-QE)"
   ]
  },
  {
   "cell_type": "markdown",
   "metadata": {},
   "source": [
    "### 1- Parameterized circuit:"
   ]
  },
  {
   "cell_type": "code",
   "execution_count": 1,
   "metadata": {},
   "outputs": [
    {
     "name": "stdout",
     "output_type": "stream",
     "text": [
      "     ╭───────╮╭───────╮\n",
      "q0 : ┤ rx(0) ├┤ ry(0) ├\n",
      "     ╰───────╯╰───────╯\n",
      "\n",
      "Expectation value of the Hamiltonian:  1.0\n"
     ]
    }
   ],
   "source": [
    "import cudaq\n",
    "from cudaq import spin\n",
    "\n",
    "cudaq.set_target(\"nvidia\")\n",
    "\n",
    "@cudaq.kernel\n",
    "def param_circuit(theta: list[float]):\n",
    "    # Allocate a qubit that is initialised to the |0> state.\n",
    "    qubit = cudaq.qubit()\n",
    "    # Define gates and the qubits they act upon.\n",
    "    rx(theta[0], qubit)\n",
    "    ry(theta[1], qubit)\n",
    "\n",
    "\n",
    "# Our hamiltonian will be the Z expectation value of our qubit.\n",
    "hamiltonian = spin.z(0)\n",
    "\n",
    "# Initial gate parameters which initialize the qubit in the zero state\n",
    "parameters = [0.0, 0.0]\n",
    "\n",
    "print(cudaq.draw(param_circuit,parameters))\n",
    "\n",
    "# Compute the expectation value using the initial parameters.\n",
    "expectation_value = cudaq.observe(param_circuit, hamiltonian,parameters).expectation()\n",
    "\n",
    "print('Expectation value of the Hamiltonian: ', expectation_value)"
   ]
  },
  {
   "cell_type": "markdown",
   "metadata": {},
   "source": [
    "### 2- Variational quantum eignsolver:\n",
    "\n",
    "<div>\n",
    "<img src=\"./VQE.png\" width=\"800\">\n",
    "</div>"
   ]
  },
  {
   "cell_type": "markdown",
   "metadata": {},
   "source": [
    "### 1. VQA using ```cudaq.observe()``` & classical optimizer.\n",
    "\n",
    "There are three ways to run VQE in CUDA-Q:\n",
    "\n",
    "- Using cudaq built-in optimizer"
   ]
  },
  {
   "cell_type": "code",
   "execution_count": 13,
   "metadata": {},
   "outputs": [
    {
     "name": "stdout",
     "output_type": "stream",
     "text": [
      "Initial cost value:  1.0\n",
      "Initial parameters:  [0.0, 0.0]\n",
      "Final cost value:  -0.9999999999999981\n",
      "Optimized parameters:  [3.141592653589793, 0.0]\n"
     ]
    }
   ],
   "source": [
    "import cudaq\n",
    "from cudaq import spin\n",
    "\n",
    "cudaq.set_target(\"nvidia\")\n",
    "\n",
    "@cudaq.kernel\n",
    "def vqe_circuit(theta: list[float]):\n",
    "    # Allocate a qubit that is initialised to the |0> state.\n",
    "    qubit = cudaq.qubit()\n",
    "    # Define gates and the qubits they act upon.\n",
    "    rx(theta[0], qubit)\n",
    "    ry(theta[1], qubit)\n",
    "\n",
    "\n",
    "# Our hamiltonian will be the Z expectation value of our qubit.\n",
    "hamiltonian = spin.z(0)\n",
    "\n",
    "# Initial gate parameters which initialize the qubit in the zero state\n",
    "initial_param = [0.0, 0.0]\n",
    "\n",
    "cost_values = []\n",
    "\n",
    "def cost(parameters):\n",
    "    \"\"\"Returns the expectation value as our cost.\"\"\"\n",
    "    expectation_value = cudaq.observe(vqe_circuit, hamiltonian, parameters).expectation()\n",
    "    cost_values.append(expectation_value)\n",
    "    return expectation_value\n",
    "\n",
    "initial_cost_value = cost(initial_param)\n",
    "print('Initial cost value: ', initial_cost_value)\n",
    "print('Initial parameters: ', initial_param)\n",
    "\n",
    "# Define a CUDA-Q optimizer.\n",
    "optimizer = cudaq.optimizers.COBYLA()\n",
    "optimizer.initial_parameters = initial_param\n",
    "\n",
    "result = optimizer.optimize(dimensions=2, function=cost)\n",
    "\n",
    "print('Final cost value: ', result[0])\n",
    "print('Optimized parameters: ', result[1])\n"
   ]
  },
  {
   "cell_type": "code",
   "execution_count": 14,
   "metadata": {},
   "outputs": [
    {
     "data": {
      "image/png": "[encoded data removed]",
      "text/plain": [
       "<Figure size 640x480 with 1 Axes>"
      ]
     },
     "metadata": {},
     "output_type": "display_data"
    }
   ],
   "source": [
    "import matplotlib.pyplot as plt\n",
    "\n",
    "x_values = list(range(len(cost_values)))\n",
    "y_values = cost_values\n",
    "\n",
    "plt.plot(x_values, y_values)\n",
    "\n",
    "plt.xlabel(\"Epochs\")\n",
    "plt.ylabel(\"Cost Value\")\n",
    "plt.show()"
   ]
  },
  {
   "cell_type": "markdown",
   "metadata": {},
   "source": [
    "- using third-party optimizer: ex. scipy optimizer"
   ]
  },
  {
   "cell_type": "code",
   "execution_count": 2,
   "metadata": {},
   "outputs": [
    {
     "name": "stdout",
     "output_type": "stream",
     "text": [
      "Initial cost value:  1.0\n",
      "Initial parameters:  [0.0, 0.0]\n",
      "Final cost value:  -0.9999999971782676\n",
      "Optimized parameters:  [ 3.14169124e+00 -3.96734218e-05]\n"
     ]
    }
   ],
   "source": [
    "import cudaq\n",
    "from cudaq import spin\n",
    "import scipy\n",
    "\n",
    "cudaq.set_target(\"nvidia\")\n",
    "\n",
    "@cudaq.kernel\n",
    "def vqe_circuit_scipy(theta: list[float]):\n",
    "    # Allocate a qubit that is initialised to the |0> state.\n",
    "    qubit = cudaq.qubit()\n",
    "    # Define gates and the qubits they act upon.\n",
    "    rx(theta[0], qubit)\n",
    "    ry(theta[1], qubit)\n",
    "\n",
    "# Our hamiltonian will be the Z expectation value of our qubit.\n",
    "hamiltonian = spin.z(0)\n",
    "\n",
    "# Initial gate parameters which initialize the qubit in the zero state\n",
    "initial_parameters = [0.0, 0.0]\n",
    "\n",
    "def cost_scipy(parameters):\n",
    "    \"\"\"Returns the expectation value as our cost.\"\"\"\n",
    "    expectation_value = cudaq.observe(vqe_circuit_scipy, hamiltonian, parameters).expectation()\n",
    "    return expectation_value\n",
    "\n",
    "initial_cost_value = cost_scipy(initial_parameters)\n",
    "print('Initial cost value: ', initial_cost_value)\n",
    "print('Initial parameters: ', initial_parameters)\n",
    "\n",
    "\n",
    "result = scipy.optimize.minimize(cost_scipy,initial_parameters,method='COBYLA')\n",
    "\n",
    "print('Final cost value: ', result.fun)\n",
    "print('Optimized parameters: ', result.x)"
   ]
  },
  {
   "cell_type": "markdown",
   "metadata": {},
   "source": [
    "- VQE wrapper: combine ```cudaq.observe()``` and the optimizer"
   ]
  },
  {
   "cell_type": "code",
   "execution_count": 3,
   "metadata": {},
   "outputs": [
    {
     "name": "stdout",
     "output_type": "stream",
     "text": [
      "\n",
      "minimized <H> = -0.9999999999999981\n",
      "optimal theta = [3.141592653589793, 0.0]\n"
     ]
    }
   ],
   "source": [
    "import cudaq\n",
    "from cudaq import spin\n",
    "\n",
    "cudaq.set_target(\"nvidia\")\n",
    "\n",
    "@cudaq.kernel\n",
    "def vqe_circuit(theta: list[float]):\n",
    "    # Allocate a qubit that is initialised to the |0> state.\n",
    "    qubit = cudaq.qubit()\n",
    "    # Define gates and the qubits they act upon.\n",
    "    rx(theta[0], qubit)\n",
    "    ry(theta[1], qubit)\n",
    "\n",
    "\n",
    "# Our hamiltonian will be the Z expectation value of our qubit.\n",
    "hamiltonian = spin.z(0)\n",
    "\n",
    "# Initial gate parameters which initialize the qubit in the zero state\n",
    "initial_param = [0.0, 0.0]\n",
    "\n",
    "optimizer = cudaq.optimizers.COBYLA()\n",
    "optimizer.max_iterations = 30\n",
    "optimizer.initial_parameters=initial_param\n",
    "\n",
    "opt_value, opt_theta = cudaq.vqe(kernel=vqe_circuit, \n",
    "                         spin_operator=hamiltonian,\n",
    "                         optimizer=optimizer,\n",
    "                         parameter_count=len(initial_param))\n",
    "\n",
    "print(f\"\\nminimized <H> = {round(opt_value,16)}\")\n",
    "print(f\"optimal theta = {opt_theta}\")"
   ]
  },
  {
   "cell_type": "markdown",
   "metadata": {},
   "source": [
    "### Example: VQE-QAOA algorithm\n",
    "\n",
    "<div>\n",
    "<img src=\"./QAOA.png\" width=\"800\">\n",
    "</div>\n",
    "\n",
    "- #### Max-Cut problem:\n",
    "\n",
    "Each of these cuts below partitions the graph into two disjoint sets. The cut on the left is not optimal, and the cut on the right is the max cut. The cut on the left divides the graph into disjoint sets {1,2}  and {0,3,4}, and that cut contains 3 edges. To more easily visualize the cut, we have colored the vertices in one set of the partition green and the vertices in the other set of the partition gray. The cut depicted in the diagram on the right divides the graph vertices into two disjoint sets {0,2}, colored gray, and {1,3,4}, colored green.\n",
    "\n",
    "<div>\n",
    "<img src=\"./maxcut.png\" width=\"800\">\n",
    "</div>\n",
    "\n",
    "For the graph on the right, the number of edges in the cut (in this case there are  edges) is maximal, and this value is referred to as the max cut value.\n",
    "\n",
    "The max cut solutions are 01011, 10100, 01010, 10101 \n"
   ]
  },
  {
   "cell_type": "code",
   "execution_count": 4,
   "metadata": {},
   "outputs": [],
   "source": [
    "import cudaq\n",
    "from cudaq import spin\n",
    "import numpy as np\n",
    "\n",
    "cudaq.set_target('nvidia')\n",
    "\n",
    "\n",
    "nodes: list[int] = [0, 1, 2, 3, 4]\n",
    "edges = [[0, 1], [1, 2], [2, 3], [3, 0], [2, 4], [3, 4]]\n",
    "edges_src: list[int] = [edges[i][0] for i in range(len(edges))]\n",
    "edges_tgt: list[int] = [edges[i][1] for i in range(len(edges))]\n",
    "\n",
    "qubit_count: int = len(nodes)\n",
    "layer_count: int = 2\n",
    "parameter_count: int = 2 * layer_count"
   ]
  },
  {
   "cell_type": "markdown",
   "metadata": {},
   "source": [
    "- #### Hamiltonian for Max-Cut problem:\n",
    "$$\n",
    "H= \\frac{1}{2} \\sum_{u,v} \\left(Z_u Z_v - I_u I_v\\right)\n",
    "$$"
   ]
  },
  {
   "cell_type": "code",
   "execution_count": 5,
   "metadata": {},
   "outputs": [
    {
     "name": "stdout",
     "output_type": "stream",
     "text": [
      "[0.5+0j] IIZIZ\n",
      "[0.5+0j] IZZII\n",
      "[-3+0j] IIIII\n",
      "[0.5+0j] ZZIII\n",
      "[0.5+0j] IIIZZ\n",
      "[0.5+0j] IIZZI\n",
      "[0.5+0j] ZIIZI\n",
      "\n"
     ]
    }
   ],
   "source": [
    "def hamiltonian_max_cut(edges_src, edges_tgt):\n",
    "    \n",
    "    hamiltonian = 0\n",
    "\n",
    "    for edge in range(len(edges_src)):\n",
    "\n",
    "        qubitu = edges_src[edge]\n",
    "        qubitv = edges_tgt[edge]\n",
    "        # Add a term to the Hamiltonian for the edge (u,v)\n",
    "        hamiltonian += 0.5 * (spin.z(qubitu) * spin.z(qubitv) -\n",
    "                              spin.i(qubitu) * spin.i(qubitv))\n",
    "\n",
    "    return hamiltonian\n",
    "\n",
    "# Generate the Hamiltonian for our graph\n",
    "hamiltonian = hamiltonian_max_cut(edges_src, edges_tgt)\n",
    "print(hamiltonian)"
   ]
  },
  {
   "cell_type": "markdown",
   "metadata": {},
   "source": [
    "Implementation of the elements of mixer (left) and cost (right) layers based on the cost and mixer Hamiltonians\n",
    "\n",
    "<div>\n",
    "<img src=\"./prob-mixer.png\"   width=800>\n",
    "</div>"
   ]
  },
  {
   "cell_type": "code",
   "execution_count": 6,
   "metadata": {},
   "outputs": [],
   "source": [
    "@cudaq.kernel\n",
    "def qaoaProblem(qubit_0: cudaq.qubit, qubit_1: cudaq.qubit, alpha: float):\n",
    "    x.ctrl(qubit_0, qubit_1)\n",
    "    rz(2.0 * alpha, qubit_1)\n",
    "    x.ctrl(qubit_0, qubit_1)\n",
    "\n",
    "@cudaq.kernel\n",
    "def kernel_qaoa(qubit_count: int, layer_count: int, edges_src: list[int],\n",
    "                edges_tgt: list[int], thetas: list[float]):\n",
    "\n",
    "    # Let's allocate the qubits\n",
    "    qreg = cudaq.qvector(qubit_count)\n",
    "    # And then place the qubits in superposition\n",
    "    h(qreg)\n",
    "\n",
    "    # Each layer has two components: the problem kernel and the mixer\n",
    "    for i in range(layer_count):\n",
    "        # Add the problem kernel to each layer\n",
    "        for edge in range(len(edges_src)):\n",
    "            qubitu = edges_src[edge]\n",
    "            qubitv = edges_tgt[edge]\n",
    "            qaoaProblem(qreg[qubitu], qreg[qubitv], thetas[i])\n",
    "        # Add the mixer kernel to each layer\n",
    "        for j in range(qubit_count):\n",
    "            rx(2.0 * thetas[i + layer_count], qreg[j])"
   ]
  },
  {
   "cell_type": "markdown",
   "metadata": {},
   "source": [
    "- #### Optimize to find the optimum circuit parameters that will minimize the Hamiltonian"
   ]
  },
  {
   "cell_type": "code",
   "execution_count": 7,
   "metadata": {},
   "outputs": [
    {
     "name": "stdout",
     "output_type": "stream",
     "text": [
      "Initial parameters =  [0.21810696323572243, -0.20613464375211488, 0.2546877639814583, 0.3657985647468064]\n",
      "optimal_expectation = -4.495974808931351\n",
      "Therefore, the max cut value is at least  4.495974808931351\n",
      "optimal_parameters = [0.5134562006629528, -0.21296600238693275, 0.32497261325857235, 0.8866578108675061]\n"
     ]
    }
   ],
   "source": [
    "# Specify the optimizer and its initial parameters.\n",
    "cudaq.set_random_seed(13)\n",
    "optimizer = cudaq.optimizers.NelderMead()\n",
    "np.random.seed(13)\n",
    "optimizer.initial_parameters = np.random.uniform(-np.pi / 8, np.pi / 8,\n",
    "                                                 parameter_count)\n",
    "print(\"Initial parameters = \", optimizer.initial_parameters)\n",
    "\n",
    "\n",
    "def objective(parameters):\n",
    "    return cudaq.observe(kernel_qaoa, hamiltonian, qubit_count, layer_count,\n",
    "                         edges_src, edges_tgt, parameters).expectation()\n",
    "\n",
    "\n",
    "#Optimize!\n",
    "optimal_expectation, optimal_parameters = optimizer.optimize(\n",
    "    dimensions=parameter_count, function=objective)\n",
    "\n",
    "print('optimal_expectation =', optimal_expectation)\n",
    "print('Therefore, the max cut value is at least ', -1 * optimal_expectation)\n",
    "print('optimal_parameters =', optimal_parameters)"
   ]
  },
  {
   "cell_type": "markdown",
   "metadata": {},
   "source": [
    "- #### Let's sample the circuit using the optimum parameters and find the cut with the highest probability:"
   ]
  },
  {
   "cell_type": "code",
   "execution_count": 9,
   "metadata": {},
   "outputs": [
    {
     "name": "stdout",
     "output_type": "stream",
     "text": [
      "{ 11111:145 01111:111 01010:7600 01110:2258 01101:288 10010:305 00010:86 11010:254 00100:90 00110:3132 10101:7652 11000:245 01000:99 00111:339 11100:223 10111:102 10000:94 11011:91 10100:7692 10110:2330 11110:60 00001:53 10001:2333 00000:141 01001:2267 11101:93 11001:3064 00101:228 01011:7751 00011:243 01100:308 10011:323 }\n",
      "\n",
      "The max cut is given by the partition:  01011\n",
      "Most probable bit string:  01011\n"
     ]
    }
   ],
   "source": [
    "counts = cudaq.sample(kernel_qaoa, qubit_count, layer_count, edges_src,\n",
    "                      edges_tgt, optimal_parameters, shots_count=50000)\n",
    "print(counts)\n",
    "\n",
    "# Identify the most likely outcome from the sample\n",
    "print('The max cut is given by the partition: ',\n",
    "      max(counts, key=lambda x: counts[x]))\n",
    "\n",
    "# Alternatively\n",
    "print('Most probable bit string: ', counts.most_probable())  "
   ]
  },
  {
   "cell_type": "markdown",
   "metadata": {},
   "source": [
    "- #### Maximum vertex weigh clique problem (MVWCP): Molecular docking problem (see [this paper](https://arxiv.org/pdf/2308.04098) )\n",
    "\n",
    "<div>\n",
    "<img src=\"./molecular-docking.png\" width=\"800\">\n",
    "</div>"
   ]
  },
  {
   "cell_type": "code",
   "execution_count": 2,
   "metadata": {},
   "outputs": [
    {
     "name": "stdout",
     "output_type": "stream",
     "text": [
      "Edges:  [[0, 1], [0, 2], [0, 4], [0, 5], [1, 2], [1, 3], [1, 5], [2, 3], [2, 4], [3, 4], [3, 5], [4, 5]]\n",
      "Non-Edges:  [[0, 3], [1, 4], [2, 5]]\n"
     ]
    }
   ],
   "source": [
    "import cudaq\n",
    "from cudaq import spin\n",
    "import numpy as np\n",
    "\n",
    "# GPU: Default If an NVIDIA GPU and CUDA runtime libraries are available\n",
    "cudaq.set_target('nvidia')\n",
    "\n",
    "# CPU\n",
    "#cudaq.set_target('qpp-cpu')\n",
    "\n",
    "# The two graphs input from the paper\n",
    "\n",
    "# BIG 1\n",
    "\n",
    "nodes = [0,1,2,3,4,5]\n",
    "qubit_num=len(nodes)\n",
    "edges = [[0,1],[0,2],[0,4],[0,5],[1,2],[1,3],[1,5],[2,3],[2,4],[3,4],[3,5],[4,5]]\n",
    "non_edges = [[u,v] for u in nodes for v in nodes if u<v and [u,v] not in edges]\n",
    "print('Edges: ', edges)\n",
    "print('Non-Edges: ', non_edges)\n",
    "weights = [0.6686,0.6686,0.6686,0.1453,0.1453,0.1453]\n",
    "penalty = 6.0\n",
    "num_layers = 3\n",
    "\n",
    "# BIG 2 (More expensive simulation)\n",
    "\n",
    "#nodes=[0,1,2,3,4,5,6,7]\n",
    "#qubit_num=len(nodes)\n",
    "#edges=[[0,1],[0,2],[0,5],[0,6],[0,7],[1,2],[1,4],[1,6],[1,7],[2,4],[2,5],[2,7],[3,4],[3,5],[3,6],\\\n",
    "#    [4,5],[4,6],[5,6]]\n",
    "#non_edges=[[u,v] for u in nodes for v in nodes if u<v and [u,v] not in edges]\n",
    "#print('Edges: ', edges)\n",
    "#print('Non-edges: ', non_edges)\n",
    "#weights=[0.6686,0.6686,0.6886,0.1091,0.0770,0.0770,0.0770,0.0770]\n",
    "#penalty=8.0\n",
    "#num_layers=8"
   ]
  },
  {
   "cell_type": "markdown",
   "metadata": {},
   "source": [
    "### Hamiltonian for MVWCP:\n",
    "\n",
    "$$\n",
    "H_c = \\frac{1}{2} \\sum_i \\omega_i (\\sigma_z^i - I_i) + \\frac{P}{4} \\sum_{(i,j)} (\\sigma_z^i - I_i) (\\sigma_z^j - I_j)\n",
    "$$"
   ]
  },
  {
   "cell_type": "code",
   "execution_count": 2,
   "metadata": {},
   "outputs": [
    {
     "name": "stdout",
     "output_type": "stream",
     "text": [
      "[1.5+0j] IIZIIZ\n",
      "[1.5+0j] ZIIZII\n",
      "[-1.1657+0j] IZIIII\n",
      "[1.5+0j] IZIIZI\n",
      "[-1.42735+0j] IIIZII\n",
      "[3.2791499999999996+0j] IIIIII\n",
      "[-1.1657+0j] IIZIII\n",
      "[-1.42735+0j] IIIIIZ\n",
      "[-1.1657+0j] ZIIIII\n",
      "[-1.42735+0j] IIIIZI\n",
      "\n"
     ]
    }
   ],
   "source": [
    "# Generate the Hamiltonian\n",
    "def ham_clique(penalty, nodes, weights, non_edges)-> cudaq.SpinOperator:\n",
    "\n",
    "    spin_ham = 0.0\n",
    "    for wt,node in zip(weights,nodes):\n",
    "        #print(wt,node)\n",
    "        spin_ham += 0.5 * wt * spin.z(node)\n",
    "        spin_ham -= 0.5 * wt * spin.i(node)\n",
    "\n",
    "    for non_edge in non_edges:\n",
    "        u,v=(non_edge[0],non_edge[1])\n",
    "        #print(u,v)\n",
    "        spin_ham += penalty/4.0 * (spin.z(u)*spin.z(v)-spin.z(u)-spin.z(v)+spin.i(u)*spin.i(v))\n",
    "\n",
    "    return spin_ham\n",
    "\n",
    "ham= ham_clique(penalty,nodes,weights,non_edges)\n",
    "print(ham)"
   ]
  },
  {
   "cell_type": "markdown",
   "metadata": {},
   "source": [
    "#### Pauli word & ```exp_pauli()```:\n",
    "\n",
    "Pauli words are tensor products of the single-qubit X, Y, Z, I Pauli operators (P). Exponentiating these operators $(e^{-i\\theta P})$ results in single qubit rotation gates: $Rx(\\theta), Ry(\\theta), Rz(\\theta)$.\n",
    "\n",
    "Certain algorithms require more complex operations derived from the exponentiation of whole Pauli words.\n",
    "\n",
    "CUDA-Q v0.8 now includes a new pauli_word type that can be input to a quantum kernel and converted into a quantum circuit operation with exp_pauli.  The following code example shows how a list of Pauli words and their associated coefficients can be used to apply the following operation: \n",
    "\n",
    "<div>\n",
    "<img src=\"./prob-mixer.png\"   width=800>\n",
    "</div>"
   ]
  },
  {
   "cell_type": "code",
   "execution_count": 3,
   "metadata": {},
   "outputs": [
    {
     "name": "stdout",
     "output_type": "stream",
     "text": [
      "[(1.5+0j), (1.5+0j), (-1.1657+0j), (1.5+0j), (-1.42735+0j), (3.2791499999999996+0j), (-1.1657+0j), (-1.42735+0j), (-1.1657+0j), (-1.42735+0j)]\n",
      "['IIZIIZ', 'ZIIZII', 'IZIIII', 'IZIIZI', 'IIIZII', 'IIIIII', 'IIZIII', 'IIIIIZ', 'ZIIIII', 'IIIIZI']\n"
     ]
    }
   ],
   "source": [
    "# Collect coefficients from a spin operator so we can pass them to a kernel\n",
    "def term_coefficients(ham: cudaq.SpinOperator) -> list[complex]:\n",
    "    result = []\n",
    "    ham.for_each_term(lambda term: result.append(term.get_coefficient()))\n",
    "    return result\n",
    "\n",
    "    # Collect Pauli words from a spin operator so we can pass them to a kernel\n",
    "def term_words(ham: cudaq.SpinOperator) -> list[str]:\n",
    "    result = []\n",
    "    ham.for_each_term(lambda term: result.append(term.to_string(False)))\n",
    "    return result\n",
    "\n",
    "coef=term_coefficients(ham)\n",
    "words=term_words(ham)\n",
    "\n",
    "print(term_coefficients(ham))\n",
    "print(term_words(ham))"
   ]
  },
  {
   "cell_type": "code",
   "execution_count": 4,
   "metadata": {},
   "outputs": [],
   "source": [
    "@cudaq.kernel\n",
    "def dc_qaoa(qubit_num:int, num_layers:int,thetas:list[float],\\\n",
    "    coef:list[complex], words:list[cudaq.pauli_word]):\n",
    "\n",
    "    qubits=cudaq.qvector(qubit_num)\n",
    "\n",
    "    h(qubits)\n",
    "\n",
    "    count=0\n",
    "    for p in range(num_layers):\n",
    "\n",
    "        for i in range(len(coef)):\n",
    "            exp_pauli(thetas[count]*coef[i].real,qubits,words[i])\n",
    "            count+=1\n",
    "\n",
    "        for j in range(qubit_num):\n",
    "            rx(thetas[count],qubits[j])\n",
    "            count+=1\n",
    "\n",
    "        for k in range(qubit_num):\n",
    "            ry(thetas[count],qubits[k])\n",
    "            count+=1"
   ]
  },
  {
   "cell_type": "code",
   "execution_count": 5,
   "metadata": {},
   "outputs": [
    {
     "name": "stdout",
     "output_type": "stream",
     "text": [
      "Total number of parameters:  66\n",
      "Initial parameters =  [0.21810696323572243, -0.20613464375211488, 0.2546877639814583, 0.3657985647468064, 0.37118004688049144, -0.03656087558321203, 0.08564174998504231, 0.21639801853794682, 0.11122286088634259, 0.1743727097033635, -0.36518146001762486, -0.15829741539542244, -0.3467434780387345, 0.28043500852894776, -0.09986021299050934, 0.14125225086023052, -0.19141728018199775, -0.11970943368650361, -0.3853063093646483, -0.1112643868789806, 0.3527177454825464, -0.22156160012057186, -0.1418496891385843, 0.32811766468303116, -0.367642000671186, -0.34158180583996006, 0.10196745745501312, 0.29359239180502594, -0.3858537615546677, 0.19366130907065582, 0.24570488114056754, -0.3332307385378807, 0.12287973244618389, 0.007274514934614895, -0.015799547372526146, 0.3578070967202224, -0.39268963055535144, -0.19872246354138554, 0.16668715544467982, -0.13777293592446055, -0.17514665212709513, 0.15350249947988204, 0.32872977428061945, -0.20068831419712105, -0.032919322131134854, -0.19399909325771983, -0.09477141125241506, 0.08210460401106645, 0.21392577760158515, -0.3393568044538389, 0.14615087942938465, 0.03790339186006314, -0.2843250892879255, -0.3151384847055956, -0.19983741137121905, -0.27348611567665115, 0.33457528180906904, 0.14145414847455462, -0.20604220093940323, 0.05410235084309195, 0.04447870918600966, -0.3355714098595045, 0.266806440171265, -0.07436189654442632, -0.2789176729721685, -0.2427508182662484]\n"
     ]
    }
   ],
   "source": [
    "# Optimizer\n",
    "\n",
    "# Specify the optimizer and its initial parameters.\n",
    "optimizer = cudaq.optimizers.NelderMead()\n",
    "\n",
    "np.random.seed(13)\n",
    "cudaq.set_random_seed(13)\n",
    "\n",
    "# Number of parameters in multi-angle DC-QAOA\n",
    "parameter_count=(2*qubit_num+len(coef))*num_layers\n",
    "print('Total number of parameters: ', parameter_count)\n",
    "\n",
    "# Initialize parameters randomly\n",
    "optimizer.initial_parameters = np.random.uniform(-np.pi/8 , np.pi/8 ,parameter_count)\n",
    "print(\"Initial parameters = \", optimizer.initial_parameters)"
   ]
  },
  {
   "cell_type": "code",
   "execution_count": 6,
   "metadata": {},
   "outputs": [
    {
     "name": "stdout",
     "output_type": "stream",
     "text": [
      "optimal_expectation = -2.0056562047037554\n",
      "optimal_parameters = [2.07462732172167, 0.0836129387511666, 0.732466832498772, 0.993760756630795, 0.6612983192449209, 0.254995629840188, 0.46730416793692564, 0.31817890808955307, 0.2681330612438232, -0.05317941374207889, -1.5707161782942043, 1.6673255396619224, -1.2020555642055013, 0.7010711599376453, -0.7074160338811271, 0.16417319418578918, 0.19391752827664988, -0.07226097507350732, 0.13177621888364366, -0.5863964692039323, 0.438045876501409, -0.7661788437090172, 0.05129909802935419, -0.014613176135278728, 2.113643328197025, 1.8618008437639477, 0.24617399493654818, 0.3993080640402272, 1.635255899393869, -0.5636658425315497, 0.47404201081294284, -1.1976460602439467, 0.48906415004867176, 0.2218455299383959, 0.8811545861559398, 1.2100012187675642, -0.8533386705183392, -0.30908718640500593, 0.38800102862311536, 0.19338421747706744, -0.2327165217461496, -0.17466834745930265, -0.26310097350628137, -0.5969362694470881, 0.17591962008385534, 2.196412627632302, -0.5975898626884621, 0.1384912644172719, -0.1818133416341959, -0.4774251545066566, -0.36706144081281045, 0.25441054003396213, -0.20683083231656013, -0.06216093732376793, -1.0290225000694084, 0.039167118962505645, 0.0248341742438895, 0.7579979458198038, -0.2558570579799545, 0.30073009836962883, 0.6023863837613229, 0.04156681955234391, 0.4186542287198981, 1.3811127766246276, -0.2816839127754952, -0.22465335423751165]\n"
     ]
    }
   ],
   "source": [
    "cost_values=[]\n",
    "def objective(parameters):\n",
    "\n",
    "    cost=cudaq.observe(dc_qaoa, ham, qubit_num, num_layers, parameters,coef,words).expectation()\n",
    "    cost_values.append(cost)\n",
    "    return cost\n",
    "\n",
    "# Optimize!\n",
    "optimal_expectation, optimal_parameters = optimizer.optimize(\n",
    "    dimensions=parameter_count, function=objective)\n",
    "\n",
    "print('optimal_expectation =', optimal_expectation)\n",
    "print('optimal_parameters =', optimal_parameters)"
   ]
  },
  {
   "cell_type": "code",
   "execution_count": 7,
   "metadata": {},
   "outputs": [
    {
     "name": "stdout",
     "output_type": "stream",
     "text": [
      "{ 101010:7 011100:6 111000:49987 }\n",
      "\n",
      "The MVWCP is given by the partition:  111000\n",
      "The MVWCP is given by the partition:  111000\n"
     ]
    }
   ],
   "source": [
    "shots=50000\n",
    "\n",
    "counts = cudaq.sample(dc_qaoa, qubit_num, num_layers, optimal_parameters,coef,words, shots_count=shots)\n",
    "print(counts)\n",
    "\n",
    "print('The MVWCP is given by the partition: ', max(counts, key=lambda x: counts[x]))\n",
    "\n",
    "# Alternative\n",
    "print('The MVWCP is given by the partition: ', counts.most_probable())"
   ]
  },
  {
   "cell_type": "code",
   "execution_count": 8,
   "metadata": {},
   "outputs": [
    {
     "data": {
      "image/png": "[encoded data removed]",
      "text/plain": [
       "<Figure size 640x480 with 1 Axes>"
      ]
     },
     "metadata": {},
     "output_type": "display_data"
    }
   ],
   "source": [
    "import matplotlib.pyplot as plt\n",
    "\n",
    "x_values = list(range(len(cost_values)))\n",
    "y_values = cost_values\n",
    "\n",
    "plt.plot(x_values, y_values)\n",
    "\n",
    "plt.xlabel(\"Epochs\")\n",
    "plt.ylabel(\"Cost Value\")\n",
    "plt.show()"
   ]
  },
  {
   "cell_type": "markdown",
   "metadata": {},
   "source": [
    "## Examples: VQE-UCCSD\n",
    "\n",
    "- #### Find the ground state energy for H2 molecule."
   ]
  },
  {
   "cell_type": "code",
   "execution_count": 21,
   "metadata": {},
   "outputs": [
    {
     "name": "stdout",
     "output_type": "stream",
     "text": [
      "VQE-UCCSD energy=  -1.1371756649403286\n",
      "Final parameters:  [-0.0003704384194332785, 0.000381111016414357, 0.22868237965329047]\n",
      "Final state coefficients=  [ 2.77555756e-17-5.03069808e-17j -2.60208521e-17+2.77555756e-17j\n",
      "  5.20417043e-18-2.77555756e-17j  9.93470126e-01+1.90819582e-17j\n",
      " -4.33680869e-18+1.39048929e-17j  2.77555756e-17-8.76035355e-17j\n",
      " -1.85219205e-04-8.58688121e-17j  2.34187669e-17-6.93618340e-17j\n",
      " -1.38777878e-17+1.04354459e-17j -1.90555504e-04-2.77555756e-17j\n",
      "  5.89805982e-17+1.38777878e-17j  2.77555756e-17-1.73201297e-17j\n",
      " -1.14092236e-01+4.16333634e-17j  2.77555756e-17+3.46944695e-18j\n",
      " -2.77555756e-17+2.08166817e-17j -4.51028104e-17+4.16333634e-17j]\n",
      "state, coefficient=  [3, '11'] (0.9934701259073868+1.908195823574488e-17j)\n",
      "state, coefficient=  [12, '1100'] (-0.11409223598475848+4.163336342344337e-17j)\n"
     ]
    }
   ],
   "source": [
    "# pip install openfermionpyscf\n",
    "# python H2-full-space.py\n",
    "\n",
    "import cudaq \n",
    "\n",
    "cudaq.set_target(\"nvidia\", option=\"fp64\")\n",
    "\n",
    "hydrogen_count = 2\n",
    "bond_distance = 0.7474\n",
    "geometry = [('H', (0, 0, i * bond_distance)) for i in range(hydrogen_count)]\n",
    "\n",
    "molecule, data = cudaq.chemistry.create_molecular_hamiltonian(geometry, 'sto-3g', 1, 0)\n",
    "electron_count = data.n_electrons\n",
    "qubit_count = 2 * data.n_orbitals\n",
    "\n",
    "@cudaq.kernel\n",
    "def kernel(thetas: list[float]):\n",
    "    qubits = cudaq.qvector(qubit_count)\n",
    "    \n",
    "    # Prepare the Hartree Fock State.\n",
    "    for i in range(electron_count):\n",
    "        x(qubits[i])\n",
    "\n",
    "    # UCCSD ansatz\n",
    "    cudaq.kernels.uccsd(qubits, thetas, electron_count, qubit_count)\n",
    "\n",
    "parameter_count = cudaq.kernels.uccsd_num_parameters(electron_count, qubit_count)\n",
    "optimizer = cudaq.optimizers.COBYLA()\n",
    "energy, parameters = cudaq.vqe(kernel, molecule, optimizer, parameter_count=parameter_count)\n",
    "print('VQE-UCCSD energy= ', energy)\n",
    "print('Final parameters: ', parameters)\n",
    "\n",
    "# Let's look at the state\n",
    "state=np.array(cudaq.get_state(kernel,parameters))\n",
    "print('Final state coefficients= ', state)\n",
    "\n",
    "for i in range(len(state)):\n",
    "    if abs(state[i])>0.1:\n",
    "        print('state, coefficient= ', [i, bin(i).replace(\"0b\", \"\")], state[i])"
   ]
  },
  {
   "cell_type": "markdown",
   "metadata": {},
   "source": [
    "- #### Find the ground state energy of water using active space.\n",
    "\n",
    "<div>\n",
    "<img src=\"./active-space.png\" width=\"800\">\n",
    "</div>"
   ]
  },
  {
   "cell_type": "code",
   "execution_count": 19,
   "metadata": {},
   "outputs": [
    {
     "name": "stdout",
     "output_type": "stream",
     "text": [
      "Total number of terms in the spin hamiltonian:  62\n"
     ]
    },
    {
     "name": "stderr",
     "output_type": "stream",
     "text": [
      "/tmp/ipykernel_43163/3373463660.py:38: ComplexWarning: Casting complex values to real discards the imaginary part\n",
      "  spin_ham=cudaq.SpinOperator(qubit_hamiltonian)\n"
     ]
    }
   ],
   "source": [
    "# pip install openfermionpyscf\n",
    "# pip install openfermion\n",
    "# python water-active-space.py \n",
    "\n",
    "import openfermion\n",
    "import openfermionpyscf\n",
    "from openfermion.transforms import jordan_wigner, get_fermion_operator\n",
    "\n",
    "import cudaq\n",
    "import matplotlib.pyplot as plt\n",
    "from scipy.optimize import minimize\n",
    "import numpy as np\n",
    "\n",
    "# GPU\n",
    "cudaq.set_target('nvidia', option='fp64')\n",
    "\n",
    "# CPU\n",
    "#cudaq.set_target(\"qpp-cpu\")\n",
    "\n",
    "# 1- Classical pre-processing:\n",
    "geometry=[('O', (0.1173,0.0,0.0)), ('H', (-0.4691,0.7570,0.0)), ('H', (-0.4691,-0.7570,0.0))]\n",
    "basis='sto3g'\n",
    "multiplicity=1\n",
    "charge=0\n",
    "ncore=3\n",
    "norb_cas, nele_cas = (3,4)\n",
    "\n",
    "# Run HF to obtain the HF molecular orbitals and compute the one and two electron integrals\n",
    "molecule = openfermionpyscf.run_pyscf(openfermion.MolecularData(geometry, basis, multiplicity,charge))\n",
    "\n",
    "# Generate the active space Hamiltonian \n",
    "molecular_hamiltonian = molecule.get_molecular_hamiltonian(\n",
    "        occupied_indices=range(ncore), active_indices=range(ncore,ncore+norb_cas))\n",
    "\n",
    "fermion_hamiltonian = get_fermion_operator(molecular_hamiltonian)\n",
    "qubit_hamiltonian = jordan_wigner(fermion_hamiltonian)\n",
    "\n",
    "spin_ham=cudaq.SpinOperator(qubit_hamiltonian)\n",
    "\n",
    "print('Total number of terms in the spin hamiltonian: ',spin_ham.get_term_count())"
   ]
  },
  {
   "cell_type": "code",
   "execution_count": 20,
   "metadata": {},
   "outputs": [
    {
     "name": "stdout",
     "output_type": "stream",
     "text": [
      "UCCSD-VQE energy=   -74.96735864574195\n",
      "Total number of qubits:  6\n",
      "Total number of parameters:  8\n"
     ]
    }
   ],
   "source": [
    "# 2- Quantum computing using UCCSD ansatz\n",
    "\n",
    "electron_count=nele_cas\n",
    "qubit_count=2*norb_cas\n",
    "\n",
    "@cudaq.kernel\n",
    "def kernel(qubit_num:int, electron_num:int, thetas: list[float]):\n",
    "        qubits = cudaq.qvector(qubit_num)\n",
    "\n",
    "        # Initialize the qubit: HF state\n",
    "        for i in range(electron_num):\n",
    "                x(qubits[i])\n",
    "\n",
    "        cudaq.kernels.uccsd(qubits, thetas, electron_num, qubit_num)\n",
    "\n",
    "parameter_count = cudaq.kernels.uccsd_num_parameters(electron_count,qubit_count)\n",
    "\n",
    "# Define a function to minimize\n",
    "def cost(theta):\n",
    "\n",
    "        exp_val = cudaq.observe(kernel, spin_ham, qubit_count, electron_count, theta).expectation()\n",
    "\n",
    "        return exp_val\n",
    "\n",
    "\n",
    "exp_vals = []\n",
    "\n",
    "def callback(xk):\n",
    "        exp_vals.append(cost(xk))\n",
    "\n",
    "\n",
    "# Initial variational parameters.\n",
    "np.random.seed(42)\n",
    "x0 = np.random.normal(0, 1, parameter_count)\n",
    "\n",
    "# Use the scipy optimizer to minimize the function of interest\n",
    "\n",
    "result = minimize(cost,x0,method='COBYLA',callback=callback, tol=1e-8)\n",
    "\n",
    "\n",
    "print('UCCSD-VQE energy=  ', result.fun)\n",
    "print('Total number of qubits: ', qubit_count)\n",
    "print('Total number of parameters: ', parameter_count)"
   ]
  },
  {
   "cell_type": "code",
   "execution_count": 21,
   "metadata": {},
   "outputs": [
    {
     "data": {
      "image/png": "[encoded data removed]",
      "text/plain": [
       "<Figure size 640x480 with 1 Axes>"
      ]
     },
     "metadata": {},
     "output_type": "display_data"
    }
   ],
   "source": [
    "plt.plot(exp_vals)\n",
    "plt.xlabel('Epochs')\n",
    "plt.ylabel('Energy')\n",
    "plt.title('VQE')\n",
    "plt.show()"
   ]
  },
  {
   "cell_type": "markdown",
   "metadata": {},
   "source": [
    "- #### With parameter shift to compute gradient\n",
    "\n",
    "<div>\n",
    "<img src=\"./param-shift.png\" width=\"500\">\n",
    "</div>\n"
   ]
  },
  {
   "cell_type": "code",
   "execution_count": 22,
   "metadata": {},
   "outputs": [
    {
     "name": "stdout",
     "output_type": "stream",
     "text": [
      "Total number of terms in the spin hamiltonian:  62\n"
     ]
    },
    {
     "name": "stderr",
     "output_type": "stream",
     "text": [
      "/tmp/ipykernel_43163/1775979460.py:28: ComplexWarning: Casting complex values to real discards the imaginary part\n",
      "  spin_ham=cudaq.SpinOperator(qubit_hamiltonian)\n"
     ]
    }
   ],
   "source": [
    "import openfermion\n",
    "import openfermionpyscf\n",
    "from openfermion.transforms import jordan_wigner, get_fermion_operator\n",
    "\n",
    "import cudaq\n",
    "from scipy.optimize import minimize\n",
    "import numpy as np\n",
    "\n",
    "# GPU\n",
    "cudaq.set_target(\"nvidia\", option=\"fp64\")\n",
    "\n",
    "# 1- Classical pre-processing:\n",
    "geometry=[('O', (0.1173,0.0,0.0)), ('H', (-0.4691,0.7570,0.0)), ('H', (-0.4691,-0.7570,0.0))]\n",
    "basis='sto3g'\n",
    "multiplicity=1\n",
    "charge=0\n",
    "ncore=3\n",
    "norb_cas, nele_cas = (3,4)\n",
    "\n",
    "molecule = openfermionpyscf.run_pyscf(openfermion.MolecularData(geometry, basis, multiplicity,charge))\n",
    "\n",
    "molecular_hamiltonian = molecule.get_molecular_hamiltonian(\n",
    "        occupied_indices=range(ncore), active_indices=range(ncore,ncore+norb_cas))\n",
    "\n",
    "fermion_hamiltonian = get_fermion_operator(molecular_hamiltonian)\n",
    "qubit_hamiltonian = jordan_wigner(fermion_hamiltonian)\n",
    "\n",
    "spin_ham=cudaq.SpinOperator(qubit_hamiltonian)\n",
    "print('Total number of terms in the spin hamiltonian: ',spin_ham.get_term_count())"
   ]
  },
  {
   "cell_type": "code",
   "execution_count": 23,
   "metadata": {},
   "outputs": [
    {
     "name": "stdout",
     "output_type": "stream",
     "text": [
      "VQE-UCCSD energy=  -74.96738405916265\n",
      "Total number of parameters:  8\n"
     ]
    }
   ],
   "source": [
    "# 2- Quantum computing using UCCSD ansatz\n",
    "electron_count=nele_cas\n",
    "qubit_count=2*norb_cas\n",
    "\n",
    "@cudaq.kernel\n",
    "def kernel(qubit_num:int, electron_num:int, thetas: list[float]):\n",
    "        qubits = cudaq.qvector(qubit_num)\n",
    "\n",
    "        for i in range(electron_num):\n",
    "                x(qubits[i])\n",
    "\n",
    "        cudaq.kernels.uccsd(qubits, thetas, electron_num, qubit_num)\n",
    "\n",
    "parameter_count = cudaq.kernels.uccsd_num_parameters(electron_count,qubit_count)\n",
    "\n",
    "gradient = cudaq.gradients.ParameterShift()\n",
    "\n",
    "exp_ham=[]\n",
    "def objective_function(parameter_vector: list[float], \\\n",
    "                       gradient=gradient, hamiltonian=spin_ham, kernel=kernel):\n",
    "\n",
    "\n",
    "    get_result = lambda parameter_vector: cudaq.observe\\\n",
    "        (kernel, hamiltonian, qubit_count, electron_count, parameter_vector).expectation()\n",
    "    \n",
    "    cost = get_result(parameter_vector)\n",
    "    exp_ham.append(cost)\n",
    "    gradient_vector = gradient.compute(parameter_vector, get_result,cost)\n",
    "    \n",
    "    return cost, gradient_vector\n",
    "\n",
    "# Initial variational parameters.\n",
    "np.random.seed(42)\n",
    "init_params = np.random.normal(0, 1, parameter_count)\n",
    "result_vqe=minimize(objective_function,init_params, method='L-BFGS-B', jac=True, tol=1e-8)\n",
    "\n",
    "print('VQE-UCCSD energy= ', result_vqe.fun)\n",
    "print('Total number of parameters: ', parameter_count)"
   ]
  },
  {
   "cell_type": "code",
   "execution_count": 24,
   "metadata": {},
   "outputs": [
    {
     "data": {
      "image/png": "[encoded data removed]",
      "text/plain": [
       "<Figure size 640x480 with 1 Axes>"
      ]
     },
     "metadata": {},
     "output_type": "display_data"
    }
   ],
   "source": [
    "plt.plot(exp_ham)\n",
    "plt.xlabel('Epochs')\n",
    "plt.ylabel('Energy')\n",
    "plt.title('VQE')\n",
    "plt.show()"
   ]
  },
  {
   "cell_type": "markdown",
   "metadata": {},
   "source": [
    "### * Notice the number of VQE iterations is drastically lower."
   ]
  },
  {
   "cell_type": "markdown",
   "metadata": {},
   "source": [
    "- ### Gate Fusion:\n",
    "\n",
    "Gate fusion is an optimization technique where consecutive quantum gates are combined or merged into a single gate to reduce the overall computational cost and improve circuit efficiency. The number of gates combined (gate fusion level) can significantly affect simulation performance and needs to be optimized for every application. You can now adjust the ```CUDAQ_MGPU_FUSE``` parameter and specify custom gate fusion levels different\n",
    "\n",
    "<div>\n",
    "<img src=\"./gate-fuse.png\" width=\"800\">\n",
    "</div>\n",
    "\n",
    "- #### Perfomance: with and without gate fusion\n",
    "<div>\n",
    "<img src=\"./gate-fuse-performance.png\" width=\"800\">\n",
    "</div>\n",
    "\n",
    "\n",
    "Look at this [blog](https://developer.nvidia.com/blog/new-nvidia-cuda-q-features-boost-quantum-application-performance/) to learn more.\n",
    "\n",
    "- #### Other available environment variables:\n",
    "\n",
    "```CUDAQ_FUSION_MAX_QUBITS```; ```CUDAQ_FUSION_DIAGONAL_GATE_MAX_QUBITS```; ... etc.\n",
    "\n",
    "To learn more, see [this page](https://nvidia.github.io/cuda-quantum/latest/using/backends/simulators.html#nvidia-fp64-backend) on cudaq doc\n",
    "\n",
    "\n",
    "#### Example: C2H4 molecule with 24 qubits"
   ]
  },
  {
   "cell_type": "markdown",
   "metadata": {},
   "source": [
    "``` python\n",
    "import openfermion\n",
    "import openfermionpyscf\n",
    "from openfermion.transforms import jordan_wigner, get_fermion_operator\n",
    "\n",
    "import timeit\n",
    "\n",
    "\n",
    "import cudaq\n",
    "import matplotlib.pyplot as plt\n",
    "from scipy.optimize import minimize\n",
    "import numpy as np\n",
    "\n",
    "# GPU\n",
    "cudaq.set_target(\"nvidia\", option=\"mgpu\")\n",
    "\n",
    "# 1- Classical pre-processing:\n",
    "geometry=[('C',(0.000,0.000,0.6695)),('C', (0.000,0.000,-0.6695)), ('H',( 0.000,0.9289,1.2321)),\\\n",
    "    ('H', (0.000,-0.9289,1.2321)), ('H', (0.0000,0.9289,-1.2321)), ('H', (0.000,-0.9289,-1.2321))]\n",
    "basis='sto3g'\n",
    "multiplicity=1\n",
    "charge=0\n",
    "ncore=2\n",
    "norb_cas, nele_cas = (12,12)\n",
    "\n",
    "molecule = openfermionpyscf.run_pyscf(openfermion.MolecularData(geometry, basis, multiplicity,charge))\n",
    "\n",
    "molecular_hamiltonian = molecule.get_molecular_hamiltonian(\n",
    "        occupied_indices=range(ncore), active_indices=range(ncore,ncore+norb_cas))\n",
    "\n",
    "fermion_hamiltonian = get_fermion_operator(molecular_hamiltonian)\n",
    "qubit_hamiltonian = jordan_wigner(fermion_hamiltonian)\n",
    "\n",
    "spin_ham=cudaq.SpinOperator(qubit_hamiltonian)\n",
    "\n",
    "# 2- Quantum computing using UCCSD ansatz\n",
    "\n",
    "electron_count=nele_cas\n",
    "qubit_count=2*norb_cas\n",
    "\n",
    "@cudaq.kernel\n",
    "def kernel(qubit_num:int, electron_num:int, thetas: list[float]):\n",
    "        qubits = cudaq.qvector(qubit_num)\n",
    "\n",
    "        for i in range(electron_num):\n",
    "                x(qubits[i])\n",
    "\n",
    "        cudaq.kernels.uccsd(qubits, thetas, electron_num, qubit_num)\n",
    "\n",
    "parameter_count = cudaq.kernels.uccsd_num_parameters(electron_count,qubit_count)\n",
    "\n",
    "# Define a function to minimize\n",
    "def cost(theta):\n",
    "\n",
    "        exp_val = cudaq.observe(kernel, spin_ham, qubit_count, electron_count, theta).expectation()\n",
    "\n",
    "        return exp_val\n",
    "\n",
    "# Initial variational parameters.\n",
    "np.random.seed(42)\n",
    "x0 = np.random.normal(0, 1, parameter_count)\n",
    "\n",
    "start_time = timeit.default_timer()\n",
    "result=cost(x0)\n",
    "end_time=timeit.default_timer()\n",
    "\n",
    "print('Result for single vqe: ', result)\n",
    "print('Total elapsed time: ', end_time-start_time)\n",
    "```"
   ]
  },
  {
   "cell_type": "code",
   "execution_count": 25,
   "metadata": {},
   "outputs": [
    {
     "name": "stdout",
     "output_type": "stream",
     "text": [
      "/home/cudaq/x-ac-16-v1/task1/task/VQE-GQE/c2h4-vqe_24q.py:37: ComplexWarning: Casting complex values to real discards the imaginary part\n",
      "  spin_ham=cudaq.SpinOperator(qubit_hamiltonian)\n",
      "Result for single vqe:  -71.45566465962335\n",
      "Total elapsed time:  12.547726436983794\n"
     ]
    }
   ],
   "source": [
    "!CUDAQ_MGPU_FUSE=4 python c2h4-vqe_24q.py --target nvidia --target-option fp64,mgpu"
   ]
  },
  {
   "cell_type": "markdown",
   "metadata": {},
   "source": [
    "#### 3- Generative Pre-training Transformer- Quantum Eigensolver: GPT-QE\n",
    "\n",
    "- In VQE, the parameters to be optimized are a part of the quantum circuit computation.\n",
    "\n",
    "- Training and optimization limitations such as local minima for small-medium range for number of qubits and barren plateau for higher number of qubits.\n",
    "\n",
    "- The idea is to leverage the training capabilities and scalability of classical models to overcome the above limitations.\n",
    "\n",
    "- Circuit evaluations can be used in a classical machine learning feedback loop to train the weights in the neural network via a provided cost function \n",
    "\n",
    "- Each training epoch can produce more accurate circuits (based on the supplied cost function) without the need for a search over the valid circuit space such as in VQE\n",
    "\n",
    "To learn more, see this [paper](https://arxiv.org/pdf/2401.09253)\n",
    "\n",
    "<div>\n",
    "<img src=\"./GQE.png\" width=\"600\">\n",
    "</div>\n",
    "\n",
    "- Use the logic of the GPT architecture \n",
    "- Quantum Gates are analogous to words (tokens)\n",
    "- Quantum Circuits to sentences \n",
    "\n",
    "\n",
    "<div>\n",
    "<img src=\"./gpt-circuit.png\" width=\"600\">\n",
    "</div>\n",
    "\n",
    "- Example \n",
    "\n",
    "<div>\n",
    "<img src=\"./gqe-example.png\" width=\"600\">\n",
    "</div>"
   ]
  },
  {
   "cell_type": "markdown",
   "metadata": {},
   "source": [
    "## To learn how to install the gqe, see ```lib-instruction.txt```"
   ]
  },
  {
   "cell_type": "markdown",
   "metadata": {},
   "source": [
    "``` python\n",
    "\n",
    "import cudaq, cudaqlib\n",
    "\n",
    "# Define the molecule\n",
    "geometry = [('H', (0., 0., 0.)), ('H', (0., 0., .7474))]\n",
    "molecule = cudaqlib.operators.create_molecule(geometry, 'sto-3g', 0, 0)\n",
    "\n",
    "# Get the number of qubits\n",
    "hamiltonian = molecule.hamiltonian\n",
    "\n",
    "# Get the number of qubits\n",
    "numQubits = molecule.hamiltonian.get_qubit_count()\n",
    "\n",
    "# Create the operator pool\n",
    "pool = cudaqlib.gse.get_operator_pool('uccsd',\n",
    "                                      num_qubits=4,\n",
    "                                      num_electrons=2,\n",
    "                                      operator_coeffs=[\n",
    "                                          0.003125, -0.003125, 0.00625,\n",
    "                                          -0.00625, 0.0125, -0.0125, 0.025,\n",
    "                                          -0.025, 0.05, -0.05, 0.1, -0.1\n",
    "                                      ])\n",
    "# Need an initial state\n",
    "@cudaq.kernel\n",
    "def init(q: cudaq.qview):\n",
    "    x(q[0])\n",
    "    x(q[1])\n",
    "\n",
    "\n",
    "# Define the GQE cost function\n",
    "def cost(sampledPoolOperations: list):\n",
    "    \"\"\"\n",
    "    Cost should take operator pool indices and \n",
    "    return the associated cost. For the chemistry \n",
    "    example, we'll take uccsd pool indices and return \n",
    "    cudaq observe result\n",
    "    \"\"\"\n",
    "    # Convert the operator pool elements to cudaq.pauli_words \n",
    "    asWords = [\n",
    "        cudaq.pauli_word(op.to_string(False)) for op in sampledPoolOperations\n",
    "    ]\n",
    "\n",
    "    # Print words\n",
    "    print('Words')\n",
    "    for op in pool:\n",
    "    print(op.to_string(False),op.get_coefficient().real)\n",
    "\n",
    "    # Get the pool coefficients as its own list\n",
    "    operatorCoeffs = [op.get_coefficient().real for op in sampledPoolOperations]\n",
    "\n",
    "    @cudaq.kernel\n",
    "    def kernel(numQubits: int, coeffs: list[float],\n",
    "               words: list[cudaq.pauli_word]):\n",
    "        q = cudaq.qvector(numQubits)\n",
    "        init(q)\n",
    "        for i, word in enumerate(words):\n",
    "            exp_pauli(coeffs[i], q, word)\n",
    "\n",
    "    return cudaq.observe(kernel, molecule.hamiltonian, numQubits,\n",
    "                         operatorCoeffs, asWords).expectation()\n",
    "\n",
    "\n",
    "minE, optimPoolOps = cudaqlib.gqe(cost, pool, max_iters=20)\n",
    "print(f'Ground-State Energy = {minE}')\n",
    "print('Ansatz Ops')\n",
    "for idx in optimPoolOps:\n",
    "    print(pool[idx].get_coefficient().real, pool[idx].to_string(False))\n",
    "\n",
    "```"
   ]
  },
  {
   "cell_type": "markdown",
   "metadata": {},
   "source": [
    "``` python\n",
    "\n",
    "Output\n",
    "\n",
    "Words:\n",
    "YIXI 0.003125\n",
    "XIYI 0.003125\n",
    "IYIX 0.003125\n",
    "IXIY 0.003125\n",
    "XXYX 0.003125\n",
    "XXXY 0.003125\n",
    "XYYY 0.003125\n",
    "XYXX 0.003125\n",
    "YXXX 0.003125\n",
    "YXYY 0.003125\n",
    "YYYX 0.003125\n",
    "YYXY 0.003125\n",
    "YIXI -0.003125\n",
    "XIYI -0.003125\n",
    "IYIX -0.003125\n",
    "IXIY -0.003125\n",
    "XXYX -0.003125\n",
    "XXXY -0.003125\n",
    "XYYY -0.003125\n",
    "XYXX -0.003125\n",
    "YXXX -0.003125\n",
    "YXYY -0.003125\n",
    "YYYX -0.003125\n",
    "YYXY -0.003125\n",
    "YIXI 0.00625\n",
    "XIYI 0.00625\n",
    "IYIX 0.00625\n",
    "IXIY 0.00625\n",
    "XXYX 0.00625\n",
    "XXXY 0.00625\n",
    "XYYY 0.00625\n",
    "XYXX 0.00625\n",
    "YXXX 0.00625\n",
    "YXYY 0.00625\n",
    "YYYX 0.00625\n",
    "YYXY 0.00625\n",
    "YIXI -0.00625\n",
    "XIYI -0.00625\n",
    "IYIX -0.00625\n",
    "IXIY -0.00625\n",
    "XXYX -0.00625\n",
    "XXXY -0.00625\n",
    "XYYY -0.00625\n",
    "XYXX -0.00625\n",
    "YXXX -0.00625\n",
    "YXYY -0.00625\n",
    "YYYX -0.00625\n",
    "YYXY -0.00625\n",
    "YIXI 0.0125\n",
    "XIYI 0.0125\n",
    "IYIX 0.0125\n",
    "IXIY 0.0125\n",
    "XXYX 0.0125\n",
    "XXXY 0.0125\n",
    "XYYY 0.0125\n",
    "XYXX 0.0125\n",
    "YXXX 0.0125\n",
    "YXYY 0.0125\n",
    "YYYX 0.0125\n",
    "YYXY 0.0125\n",
    "YIXI -0.0125\n",
    "XIYI -0.0125\n",
    "IYIX -0.0125\n",
    "IXIY -0.0125\n",
    "XXYX -0.0125\n",
    "XXXY -0.0125\n",
    "XYYY -0.0125\n",
    "XYXX -0.0125\n",
    "YXXX -0.0125\n",
    "YXYY -0.0125\n",
    "YYYX -0.0125\n",
    "YYXY -0.0125\n",
    "YIXI 0.025\n",
    "XIYI 0.025\n",
    "IYIX 0.025\n",
    "IXIY 0.025\n",
    "XXYX 0.025\n",
    "XXXY 0.025\n",
    "XYYY 0.025\n",
    "XYXX 0.025\n",
    "YXXX 0.025\n",
    "YXYY 0.025\n",
    "YYYX 0.025\n",
    "YYXY 0.025\n",
    "YIXI -0.025\n",
    "XIYI -0.025\n",
    "IYIX -0.025\n",
    "IXIY -0.025\n",
    "XXYX -0.025\n",
    "XXXY -0.025\n",
    "XYYY -0.025\n",
    "XYXX -0.025\n",
    "YXXX -0.025\n",
    "YXYY -0.025\n",
    "YYYX -0.025\n",
    "YYXY -0.025\n",
    "YIXI 0.05\n",
    "XIYI 0.05\n",
    "IYIX 0.05\n",
    "IXIY 0.05\n",
    "XXYX 0.05\n",
    "XXXY 0.05\n",
    "XYYY 0.05\n",
    "XYXX 0.05\n",
    "YXXX 0.05\n",
    "YXYY 0.05\n",
    "YYYX 0.05\n",
    "YYXY 0.05\n",
    "YIXI -0.05\n",
    "XIYI -0.05\n",
    "IYIX -0.05\n",
    "IXIY -0.05\n",
    "XXYX -0.05\n",
    "XXXY -0.05\n",
    "XYYY -0.05\n",
    "XYXX -0.05\n",
    "YXXX -0.05\n",
    "YXYY -0.05\n",
    "YYYX -0.05\n",
    "YYXY -0.05\n",
    "YIXI 0.1\n",
    "XIYI 0.1\n",
    "IYIX 0.1\n",
    "IXIY 0.1\n",
    "XXYX 0.1\n",
    "XXXY 0.1\n",
    "XYYY 0.1\n",
    "XYXX 0.1\n",
    "YXXX 0.1\n",
    "YXYY 0.1\n",
    "YYYX 0.1\n",
    "YYXY 0.1\n",
    "YIXI -0.1\n",
    "XIYI -0.1\n",
    "IYIX -0.1\n",
    "IXIY -0.1\n",
    "XXYX -0.1\n",
    "XXXY -0.1\n",
    "XYYY -0.1\n",
    "XYXX -0.1\n",
    "YXXX -0.1\n",
    "YXYY -0.1\n",
    "YYYX -0.1\n",
    "YYXY -0.1\n",
    "\n",
    "total trainable params: 85.95M\n",
    "epoch 0 model.train_step time: 0.7907869815826416 tensor(-1.1369)\n",
    "epoch 1 model.train_step time: 0.4572451114654541 tensor(-1.1286)\n",
    "epoch 2 model.train_step time: 0.4262275695800781 tensor(-1.1261)\n",
    "epoch 3 model.train_step time: 0.5333166122436523 tensor(-1.1093)\n",
    "epoch 4 model.train_step time: 0.4115767478942871 tensor(-1.1236)\n",
    "epoch 5 model.train_step time: 0.4466266632080078 tensor(-1.1178)\n",
    "epoch 6 model.train_step time: 0.4371633529663086 tensor(-1.1290)\n",
    "epoch 7 model.train_step time: 0.4226412773132324 tensor(-1.1343)\n",
    "epoch 8 model.train_step time: 0.4215433597564697 tensor(-1.1178)\n",
    "epoch 9 model.train_step time: 0.41843223571777344 tensor(-1.1343)\n",
    "epoch 10 model.train_step time: 0.48739099502563477 tensor(-1.1356)\n",
    "epoch 11 model.train_step time: 0.4287548065185547 tensor(-1.1012)\n",
    "epoch 12 model.train_step time: 0.4277987480163574 tensor(-1.1215)\n",
    "epoch 13 model.train_step time: 0.43143510818481445 tensor(-1.1325)\n",
    "epoch 14 model.train_step time: 0.46118927001953125 tensor(-1.1076)\n",
    "epoch 15 model.train_step time: 0.43111515045166016 tensor(-1.1179)\n",
    "epoch 16 model.train_step time: 0.4313383102416992 tensor(-1.1301)\n",
    "epoch 17 model.train_step time: 0.429396390914917 tensor(-1.1175)\n",
    "epoch 18 model.train_step time: 0.42751407623291016 tensor(-1.1271)\n",
    "epoch 19 model.train_step time: 0.4670412540435791 tensor(-1.1284)\n",
    "\n",
    "Ground-State Energy = -1.1369209289550781\n",
    "\n",
    "Ansatz Ops\n",
    "-0.00625 YXXX\n",
    "-0.025 YYXY\n",
    "0.1 XIYI\n",
    "-0.1 YXXX\n",
    "0.0125 YIXI\n",
    "0.025 YYXY\n",
    "-0.003125 XXYX\n",
    "-0.05 XYXX\n",
    "-0.05 IYIX\n",
    "-0.05 YYYX\n",
    "0.05 YIXI\n",
    "-0.05 YYYX\n",
    "-0.003125 XXYX\n",
    "-0.1 XYYY\n",
    "0.0125 IYIX\n",
    "0.0125 YIXI\n",
    "-0.025 XXYX\n",
    "0.0125 YIXI\n",
    "0.00625 YYXY\n",
    "0.0125 YIXI\n",
    "\n",
    "```"
   ]
  }
 ],
 "metadata": {
  "kernelspec": {
   "display_name": "Python 3 (ipykernel)",
   "language": "python",
   "name": "python3"
  }
 },
 "nbformat": 4,
 "nbformat_minor": 4
}
