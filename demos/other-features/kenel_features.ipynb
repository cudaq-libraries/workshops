{
 "cells": [
  {
   "cell_type": "markdown",
   "metadata": {},
   "source": [
    "## 1- Control and adjoint on kernel function"
   ]
  },
  {
   "cell_type": "markdown",
   "metadata": {},
   "source": [
    "- #### Control on kernel function:"
   ]
  },
  {
   "cell_type": "code",
   "execution_count": 1,
   "metadata": {},
   "outputs": [
    {
     "name": "stdout",
     "output_type": "stream",
     "text": [
      "{ 101:1000 }\n",
      "\n"
     ]
    }
   ],
   "source": [
    "import cudaq\n",
    "\n",
    "cudaq.set_target('nvidia')\n",
    "\n",
    "@cudaq.kernel\n",
    "def fancyCnot(a: cudaq.qubit, b: cudaq.qubit):\n",
    "    x.ctrl(a, b)\n",
    "\n",
    "@cudaq.kernel\n",
    "def toffoli():\n",
    "    q = cudaq.qvector(3)\n",
    "    ctrl = q.front()\n",
    "    # without a control, apply x to all\n",
    "    x(ctrl, q[2])\n",
    "    cudaq.control(fancyCnot, [ctrl], q[1], q[2])\n",
    "\n",
    "counts = cudaq.sample(toffoli)\n",
    "\n",
    "print(counts)"
   ]
  },
  {
   "cell_type": "markdown",
   "metadata": {},
   "source": [
    "- #### Adjoint on kernel function:"
   ]
  },
  {
   "cell_type": "code",
   "execution_count": 2,
   "metadata": {},
   "outputs": [
    {
     "name": "stdout",
     "output_type": "stream",
     "text": [
      "{ 0010:470 0000:530 }\n",
      "\n"
     ]
    }
   ],
   "source": [
    "import cudaq\n",
    "\n",
    "cudaq.set_target('nvidia')\n",
    "\n",
    "@cudaq.kernel()\n",
    "def rx_and_h_gate(x : float, q : cudaq.qubit):\n",
    "    rx(x, q)\n",
    "    h(q)\n",
    "\n",
    "@cudaq.kernel()\n",
    "def kernelAdjoint(N : int):\n",
    "    q = cudaq.qvector(N)\n",
    "    cudaq.adjoint(rx_and_h_gate, np.pi, q[2])\n",
    "\n",
    "\n",
    "counts = cudaq.sample(kernelAdjoint, 4)\n",
    "print(counts)"
   ]
  },
  {
   "cell_type": "markdown",
   "metadata": {},
   "source": [
    "- #### Example: Hadamard test:\n",
    "\n",
    "Consider the observable $O$ and two generic quantum states $\\ket{\\psi}$ and $\\ket{\\phi}$. We want to calculate the quantity\n",
    "$$\n",
    "\\bra{\\psi} O \\ket{\\phi}.\n",
    "$$\n",
    "where $O$ is a Pauli operator.\n",
    "\n",
    "First of all we shall prepare the states $\\ket{\\psi}$ and $\\ket{\\phi}$ using a quantum circuit for each of them. So we  have\n",
    "$$\n",
    "\\ket{\\psi} = U_{\\psi}\\ket{0} \\qquad \\ket{\\phi} = U_{\\phi}\\ket{0}\n",
    "$$\n",
    "\n",
    "Let's define an observable we want to use:\n",
    "$$\n",
    "O = X_1X_2\n",
    "$$\n",
    "\n",
    "Now we can evaluate the matrix element using the following fact:\n",
    "$$\n",
    "\\bra{\\psi}O\\ket{\\phi} = \\bra{0}U_\\psi^\\dagger O U_\\phi\\ket{0}\n",
    "$$\n",
    "This is just an expectation value which can be solved with a simple Hadamard test. The probability to measure $0$ or $1$ in the ancilla qubit is\n",
    "\n",
    "$$\n",
    "P(0) = \\frac{1}{2} \\left[ I + Re \\bra{\\psi} O \\ket{\\phi} \\right]\n",
    "$$\n",
    "\n",
    "$$\n",
    "P(1) = \\frac{1}{2} \\left[ I - Re \\bra{\\psi} O \\ket{\\phi} \\right]\n",
    "$$\n",
    "\n",
    "The difference between the probability of $0$ and $1$ gives \n",
    "\n",
    "$$\n",
    "P(0)-P(1) = Re \\bra{\\psi} O \\ket{\\phi}\n",
    "$$"
   ]
  },
  {
   "cell_type": "markdown",
   "metadata": {},
   "source": [
    "### A- Classical result as reference:"
   ]
  },
  {
   "cell_type": "code",
   "execution_count": 3,
   "metadata": {},
   "outputs": [
    {
     "name": "stdout",
     "output_type": "stream",
     "text": [
      "Psi state:  (0.707107,0)\n",
      "(0,0)\n",
      "(0.707107,0)\n",
      "(0,0)\n",
      "\n",
      "Phi state:  (0,0)\n",
      "(1,0)\n",
      "(0,0)\n",
      "(0,0)\n",
      "\n",
      "hamiltonian:  [[0.+0.j 0.+0.j 0.+0.j 1.+0.j]\n",
      " [0.+0.j 0.+0.j 1.+0.j 0.+0.j]\n",
      " [0.+0.j 1.+0.j 0.+0.j 0.+0.j]\n",
      " [1.+0.j 0.+0.j 0.+0.j 0.+0.j]]\n",
      "Numerical expectation value:  (0.7071067690849304+0j)\n"
     ]
    }
   ],
   "source": [
    "import cudaq\n",
    "import numpy as np\n",
    "from functools import reduce\n",
    "\n",
    "cudaq.set_target('nvidia')\n",
    "\n",
    "qubit_num=2\n",
    "\n",
    "@cudaq.kernel\n",
    "def psi(num:int):\n",
    "    q=cudaq.qvector(num)\n",
    "    h(q[1])\n",
    "    \n",
    "@cudaq.kernel\n",
    "def phi(n:int):\n",
    "    q=cudaq.qvector(n)\n",
    "    x(q[0])\n",
    "\n",
    "psi_state=cudaq.get_state(psi,qubit_num)\n",
    "print('Psi state: ', psi_state)\n",
    "\n",
    "phi_state=cudaq.get_state(phi,qubit_num)\n",
    "print('Phi state: ', phi_state)\n",
    "\n",
    "ham=cudaq.spin.x(0)*cudaq.spin.x(1)\n",
    "ham_matrix=ham.to_matrix()\n",
    "print('hamiltonian: ', np.array(ham_matrix))\n",
    "\n",
    "exp_val=reduce(np.dot,(np.array(psi_state).conj().T, ham_matrix, phi_state))\n",
    "\n",
    "print('Numerical expectation value: ', exp_val) "
   ]
  },
  {
   "cell_type": "markdown",
   "metadata": {},
   "source": [
    "### B- QC result:"
   ]
  },
  {
   "cell_type": "code",
   "execution_count": 4,
   "metadata": {},
   "outputs": [
    {
     "name": "stdout",
     "output_type": "stream",
     "text": [
      "{ 0:42544 1:7456 }\n",
      "\n",
      "Observable QC:  0.70176 + - 0.002252849090374231\n"
     ]
    }
   ],
   "source": [
    "import cudaq\n",
    "import numpy as np\n",
    "\n",
    "cudaq.set_target('nvidia')\n",
    "\n",
    "qubit_num=2\n",
    "\n",
    "@cudaq.kernel\n",
    "def U_psi(q:cudaq.qview):\n",
    "    h(q[1])\n",
    "\n",
    "@cudaq.kernel\n",
    "def U_phi(q:cudaq.qview):\n",
    "    x(q[0])\n",
    "\n",
    "@cudaq.kernel  \n",
    "def ham_cir(q:cudaq.qview):\n",
    "    x(q[0])\n",
    "    x(q[1])\n",
    "\n",
    "@cudaq.kernel\n",
    "def kernel(n:int):\n",
    "    ancilla=cudaq.qubit()\n",
    "    q=cudaq.qvector(n)\n",
    "    h(ancilla)\n",
    "    cudaq.control(U_phi,ancilla,q)\n",
    "    cudaq.control(ham_cir,ancilla,q)\n",
    "    cudaq.control(U_psi,ancilla,q)\n",
    "    \n",
    "    h(ancilla)\n",
    "    \n",
    "    mz(ancilla)\n",
    "    \n",
    "shots=50000    \n",
    "count=cudaq.sample(kernel,qubit_num, shots_count=shots)    \n",
    "print(count)\n",
    "\n",
    "mean_val=(count['0']-count['1'])/shots\n",
    "error=np.sqrt(2*count['0']*count['1']/shots)/shots\n",
    "print('Observable QC: ', mean_val,'+ -', error)\n",
    "    "
   ]
  },
  {
   "cell_type": "markdown",
   "metadata": {},
   "source": [
    "- ### With multi-QPU"
   ]
  },
  {
   "cell_type": "code",
   "execution_count": 5,
   "metadata": {},
   "outputs": [
    {
     "name": "stdout",
     "output_type": "stream",
     "text": [
      "Number of QPUs: 5\n",
      "0\n",
      "{ 0:24941 1:25059 }\n",
      "\n",
      "Observable QC:  -0.00236 + - 0.0031622688538452894\n",
      "1\n",
      "{ 0:25130 1:24870 }\n",
      "\n",
      "Observable QC:  0.0052 + - 0.0031622349058853926\n",
      "2\n",
      "{ 0:24863 1:25137 }\n",
      "\n",
      "Observable QC:  -0.00548 + - 0.003162230177580374\n",
      "3\n",
      "{ 0:25027 1:24973 }\n",
      "\n",
      "Observable QC:  0.00108 + - 0.0031622758159275104\n",
      "Compute eigen-values and eigen-vectors\n",
      "Eigen values: \n",
      "[-0.00638359  0.00510359]\n",
      "Eigenvector: \n",
      "[[-0.80605967  0.59183427]\n",
      " [-0.59183427 -0.80605967]]\n"
     ]
    }
   ],
   "source": [
    "import cudaq\n",
    "import numpy as np\n",
    "\n",
    "cudaq.set_target(\"nvidia-mqpu\")\n",
    "\n",
    "qubit_num=2\n",
    "\n",
    "target = cudaq.get_target()\n",
    "qpu_count = target.num_qpus()\n",
    "print(\"Number of QPUs:\", qpu_count)\n",
    "\n",
    "@cudaq.kernel\n",
    "def U_psi(q:cudaq.qview, theta:float):\n",
    "    ry(theta, q[1])\n",
    "\n",
    "@cudaq.kernel\n",
    "def U_phi(q:cudaq.qview, theta: float):\n",
    "    rx(theta, q[0])\n",
    "\n",
    "@cudaq.kernel  \n",
    "def ham_cir(q:cudaq.qview):\n",
    "    x(q[0])\n",
    "    x(q[1])\n",
    "\n",
    "@cudaq.kernel\n",
    "def kernel(n:int, angle:float, theta:float):\n",
    "    ancilla=cudaq.qubit()\n",
    "    q=cudaq.qvector(n)\n",
    "    h(ancilla)\n",
    "    cudaq.control(U_phi,ancilla,q,theta)\n",
    "    cudaq.control(ham_cir,ancilla,q)\n",
    "    cudaq.control(U_psi,ancilla,q, angle)\n",
    "    \n",
    "    h(ancilla)\n",
    "        \n",
    "    mz(ancilla)\n",
    "    \n",
    "shots=50000  \n",
    "angle=[0.0, 1.5,3.14,0.7]\n",
    "theta=[0.6, 1.2 ,2.2 ,3.0]\n",
    "\n",
    "result=[]\n",
    "for i in range(4):  \n",
    "    count=cudaq.sample_async(kernel,qubit_num, angle[i], theta[i], shots_count=shots,qpu_id=i)  \n",
    "    result.append(count)  \n",
    "\n",
    "mean_val=np.zeros(len(angle))\n",
    "i=0\n",
    "for count in result:\n",
    "    print(i)\n",
    "    i_result=count.get()\n",
    "    print(i_result)\n",
    "    mean_val[i]=(i_result['0']-i_result['1'])/shots\n",
    "    error=np.sqrt(2*i_result['0']*i_result['1']/shots)/shots\n",
    "    print('Observable QC: ',  mean_val[i],'+ -', error)\n",
    "    i+=1\n",
    "\n",
    "my_mat=np.zeros((2,2),dtype=float)\n",
    "m=0\n",
    "for k in range(2):\n",
    "    for j in range(2):\n",
    "        my_mat[k,j]=mean_val[m]\n",
    "        m+=1   \n",
    "\n",
    "E,V=np.linalg.eigh(my_mat)\n",
    "\n",
    "print('Compute eigen-values and eigen-vectors')\n",
    "print('Eigen values: ')\n",
    "print(E)\n",
    "\n",
    "print('Eigenvector: ')\n",
    "print(V)"
   ]
  },
  {
   "cell_type": "markdown",
   "metadata": {},
   "source": [
    "## 2- Pauli word & ``exp_pauli()``:"
   ]
  },
  {
   "cell_type": "code",
   "execution_count": 2,
   "metadata": {},
   "outputs": [
    {
     "name": "stdout",
     "output_type": "stream",
     "text": [
      "Expectation value:  0.04777800003152044\n"
     ]
    }
   ],
   "source": [
    "import cudaq\n",
    "from cudaq import spin\n",
    "\n",
    "cudaq.set_target('nvidia')\n",
    "\n",
    "ham=-0.106477- 0.0454063*spin.x(0)*spin.x(1)*spin.y(2)*spin.y(3) +0.174073*spin.z(2\n",
    "                )*spin.z(3)+0.0454063*spin.y(0)*spin.x(1)*spin.x(2)*spin.y(3)\n",
    "\n",
    "\n",
    "@cudaq.kernel\n",
    "def kernel_pauli_word(theta: float, var: cudaq.pauli_word):\n",
    "    q = cudaq.qvector(4)\n",
    "    x(q[0])\n",
    "    x(q[1])\n",
    "    exp_pauli(theta, q, var)\n",
    "\n",
    "exp_val = cudaq.observe(kernel_pauli_word, ham, 0.11, 'XXXY').expectation()\n",
    "\n",
    "print('Expectation value: ', exp_val)"
   ]
  },
  {
   "cell_type": "code",
   "execution_count": 3,
   "metadata": {},
   "outputs": [
    {
     "name": "stdout",
     "output_type": "stream",
     "text": [
      "Expectation value:  0.04382123044540878\n"
     ]
    }
   ],
   "source": [
    "import cudaq\n",
    "from cudaq import spin\n",
    "\n",
    "cudaq.set_target('nvidia')\n",
    "\n",
    "ham=-0.106477- 0.0454063*spin.x(0)*spin.x(1)*spin.y(2)*spin.y(3) +0.174073*spin.z(2\n",
    "                )*spin.z(3)+0.0454063*spin.y(0)*spin.x(1)*spin.x(2)*spin.y(3)\n",
    "\n",
    "\n",
    "@cudaq.kernel\n",
    "def kernel_pauli_word_list(theta: float, paulis: list[cudaq.pauli_word]):\n",
    "    q = cudaq.qvector(4)\n",
    "    x(q[0])\n",
    "    x(q[1])\n",
    "    for p in paulis:\n",
    "        exp_pauli(theta, q, p)\n",
    "\n",
    "exp_val = cudaq.observe(kernel_pauli_word_list, ham, 0.11, ['XXXY','XYZY']).expectation()\n",
    "\n",
    "print('Expectation value: ', exp_val)"
   ]
  },
  {
   "cell_type": "markdown",
   "metadata": {},
   "source": [
    "## 3- State handling: qvector initialize and qvector state initialize"
   ]
  },
  {
   "cell_type": "markdown",
   "metadata": {},
   "source": [
    "- #### qvector initialization"
   ]
  },
  {
   "cell_type": "code",
   "execution_count": 14,
   "metadata": {},
   "outputs": [
    {
     "name": "stdout",
     "output_type": "stream",
     "text": [
      "{ 10:511 01:489 }\n",
      "\n"
     ]
    }
   ],
   "source": [
    "import cudaq\n",
    "\n",
    "cudaq.set_target('nvidia')\n",
    "\n",
    "#c = [0. + 0j, 0., 0., 1.]\n",
    "c = [1. / np.sqrt(2.) + 0j, 0., 0., 1. / np.sqrt(2.)]\n",
    "\n",
    "@cudaq.kernel\n",
    "def kernel(vec: list[complex]):\n",
    "    q = cudaq.qvector(vec)\n",
    "    x(q.front())\n",
    "    y(q.back())\n",
    "    h(q)\n",
    "    mz(q)\n",
    "\n",
    "counts = cudaq.sample(kernel, c)\n",
    "\n",
    "print(counts)"
   ]
  },
  {
   "cell_type": "markdown",
   "metadata": {},
   "source": [
    "- #### qvector state initialize\n",
    "\n",
    "Efficient state vector handling (retrieval and initialization) in simulation is an important requirement for various applications/algorithms\n",
    "\n",
    "- Dynamical quantum simulation\n",
    "\n",
    "![img](./state-handl.png)"
   ]
  },
  {
   "cell_type": "markdown",
   "metadata": {},
   "source": [
    "#### Example: Trotter dynamical simulation:"
   ]
  },
  {
   "cell_type": "code",
   "execution_count": 1,
   "metadata": {},
   "outputs": [
    {
     "name": "stdout",
     "output_type": "stream",
     "text": [
      "Step 0: time [s]: 0.05071830749511719, result: -0.09042024163828166\n",
      "Step 1: time [s]: 0.007488250732421875, result: -0.08898564687193886\n",
      "Step 2: time [s]: 0.008493900299072266, result: -0.08698024360923415\n",
      "Step 3: time [s]: 0.007264375686645508, result: -0.08507694741170907\n",
      "Step 4: time [s]: 0.007196187973022461, result: -0.08394118068746997\n",
      "Step 5: time [s]: 0.008506298065185547, result: -0.08394076573115139\n",
      "Step 6: time [s]: 0.007228851318359375, result: -0.08502222139504187\n",
      "Step 7: time [s]: 0.007172107696533203, result: -0.08677832064885871\n",
      "Step 8: time [s]: 0.00728154182434082, result: -0.08863390649349775\n",
      "Step 9: time [s]: 0.007157087326049805, result: -0.09005513983609514\n",
      "\n",
      "Step times: [0.05071830749511719, 0.007488250732421875, 0.008493900299072266, 0.007264375686645508, 0.007196187973022461, 0.008506298065185547, 0.007228851318359375, 0.007172107696533203, 0.00728154182434082, 0.007157087326049805]\n",
      "Results: [-0.09042024163828166, -0.08898564687193886, -0.08698024360923415, -0.08507694741170907, -0.08394118068746997, -0.08394076573115139, -0.08502222139504187, -0.08677832064885871, -0.08863390649349775, -0.09005513983609514]\n",
      "\n",
      "Total time: 0.20484352111816406s\n"
     ]
    }
   ],
   "source": [
    "import cudaq\n",
    "import time\n",
    "import numpy as np\n",
    "from typing import List\n",
    "\n",
    "spins = 11  \n",
    "steps = 10  \n",
    "\n",
    "cudaq.set_target(\"nvidia\")\n",
    "\n",
    "# Alternating up/down spins\n",
    "@cudaq.kernel\n",
    "def getInitState(numSpins: int):\n",
    "    q = cudaq.qvector(numSpins)\n",
    "    for qId in range(0, numSpins, 2):\n",
    "        x(q[qId])\n",
    "\n",
    "\n",
    "# This performs a single-step Trotter on top of an initial state, e.g.,\n",
    "# result state of the previous Trotter step.\n",
    "@cudaq.kernel\n",
    "def trotter(state: cudaq.State, coefficients: List[complex],\n",
    "            words: List[cudaq.pauli_word], dt: float):\n",
    "    q = cudaq.qvector(state)\n",
    "    for i in range(len(coefficients)):\n",
    "        exp_pauli(coefficients[i].real * dt, q, words[i])\n",
    "\n",
    "def run_steps(steps: int, spins: int):\n",
    "    g = 1.0\n",
    "    Jx = 1.0\n",
    "    Jy = 1.0\n",
    "    Jz = g\n",
    "    dt = 0.05\n",
    "    n_steps = steps\n",
    "    n_spins = spins\n",
    "    omega = 2 * np.pi\n",
    "\n",
    "    def heisenbergModelHam(t: float) -> cudaq.SpinOperator:\n",
    "        tdOp = cudaq.SpinOperator(num_qubits=n_spins)\n",
    "        for i in range(0, n_spins - 1):\n",
    "            tdOp += (Jx * cudaq.spin.x(i) * cudaq.spin.x(i + 1))\n",
    "            tdOp += (Jy * cudaq.spin.y(i) * cudaq.spin.y(i + 1))\n",
    "            tdOp += (Jz * cudaq.spin.z(i) * cudaq.spin.z(i + 1))\n",
    "        for i in range(0, n_spins):\n",
    "            tdOp += (np.cos(omega * t) * cudaq.spin.x(i))\n",
    "        return tdOp\n",
    "\n",
    "    # Collect coefficients from a spin operator so we can pass them to a kernel\n",
    "    def termCoefficients(op: cudaq.SpinOperator) -> List[complex]:\n",
    "        result = []\n",
    "        ham.for_each_term(lambda term: result.append(term.get_coefficient()))\n",
    "        return result\n",
    "\n",
    "    # Collect Pauli words from a spin operator so we can pass them to a kernel\n",
    "    def termWords(op: cudaq.SpinOperator) -> List[str]:\n",
    "        result = []\n",
    "        ham.for_each_term(lambda term: result.append(term.to_string(False)))\n",
    "        return result\n",
    "\n",
    "    # Observe the average magnetization of all spins (<Z>)\n",
    "    average_magnetization = cudaq.SpinOperator(num_qubits=n_spins)\n",
    "    for i in range(0, n_spins):\n",
    "        average_magnetization += ((1.0 / n_spins) * cudaq.spin.z(i))\n",
    "    average_magnetization -= 1.0\n",
    "\n",
    "    # Run loop\n",
    "    state = cudaq.get_state(getInitState, n_spins)\n",
    "    \n",
    "    results = []\n",
    "    times = []\n",
    "    for i in range(0, n_steps):\n",
    "        start_time = time.time()\n",
    "        ham = heisenbergModelHam(i * dt)\n",
    "        coefficients = termCoefficients(ham)\n",
    "        words = termWords(ham)\n",
    "        magnetization_exp_val = cudaq.observe(trotter, average_magnetization,\n",
    "                                              state, coefficients, words, dt)\n",
    "        result = magnetization_exp_val.expectation()\n",
    "        results.append(result)\n",
    "        state = cudaq.get_state(trotter, state, coefficients, words, dt)\n",
    "        stepTime = time.time() - start_time\n",
    "        times.append(stepTime)\n",
    "        print(f\"Step {i}: time [s]: {stepTime}, result: {result}\")\n",
    "\n",
    "    print(\"\")\n",
    "    # Print all the times and results (useful for plotting).\n",
    "    print(f\"Step times: {times}\")\n",
    "    print(f\"Results: {results}\")\n",
    "\n",
    "    print(\"\")\n",
    "\n",
    "start_time = time.time()\n",
    "run_steps(steps, spins)\n",
    "print(f\"Total time: {time.time() - start_time}s\")"
   ]
  },
  {
   "cell_type": "markdown",
   "metadata": {},
   "source": []
  },
  {
   "cell_type": "markdown",
   "metadata": {},
   "source": [
    "## 4- compute_action(): \n",
    "\n",
    "- ```compute_action(U,V)```: will invoke $U V U^\\dagger$. $U$ is the compute block and $V$ is the action block.\n",
    "\n",
    "- Example: Grover algorithm: \n",
    "\n",
    "![img](./grover-circuit.png)"
   ]
  },
  {
   "cell_type": "code",
   "execution_count": 6,
   "metadata": {},
   "outputs": [
    {
     "name": "stdout",
     "output_type": "stream",
     "text": [
      "{ 101:484 011:516 }\n",
      "\n"
     ]
    }
   ],
   "source": [
    "import cudaq\n",
    "from typing import Callable\n",
    "\n",
    "cudaq.set_target('nvidia')\n",
    "\n",
    "@cudaq.kernel\n",
    "def reflect(qubits: cudaq.qview):\n",
    "    ctrls = qubits.front(qubits.size() - 1)\n",
    "    last = qubits.back()\n",
    "    cudaq.compute_action(lambda: (h(qubits), x(qubits)),\n",
    "                          lambda: z.ctrl(ctrls, last))\n",
    "\n",
    "@cudaq.kernel\n",
    "def oracle(q: cudaq.qview):\n",
    "    z.ctrl(q[0], q[2])\n",
    "    z.ctrl(q[1], q[2])\n",
    "\n",
    "@cudaq.kernel\n",
    "def grover(N: int, M: int, oracle: Callable[[cudaq.qview], None]):\n",
    "    q = cudaq.qvector(N)\n",
    "    h(q)\n",
    "    for i in range(M):\n",
    "        oracle(q)\n",
    "        reflect(q)\n",
    "    mz(q)\n",
    "\n",
    "counts = cudaq.sample(grover, 3, 1, oracle)\n",
    "print(counts)"
   ]
  }
 ],
 "metadata": {
  "kernelspec": {
   "display_name": "Python 3",
   "language": "python",
   "name": "python3"
  },
  "language_info": {
   "codemirror_mode": {
    "name": "ipython",
    "version": 3
   },
   "file_extension": ".py",
   "mimetype": "text/x-python",
   "name": "python",
   "nbconvert_exporter": "python",
   "pygments_lexer": "ipython3",
   "version": "3.10.12"
  }
 },
 "nbformat": 4,
 "nbformat_minor": 2
}
