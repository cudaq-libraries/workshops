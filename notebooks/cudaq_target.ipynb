{
 "cells": [
  {
   "cell_type": "markdown",
   "metadata": {
    "id": "LFll05BKRoUZ"
   },
   "source": [
    "# Target Backends\n",
    "\n",
    "## Set target\n",
    "\n",
    "Two options to set the target:\n",
    "\n",
    "1. Define the target when running the program:\n",
    "```bash\n",
    "python3 program.py [...] --target <target_name>\n",
    "```\n",
    "\n",
    "2. Target can be defined in the application code:\n",
    "`cudaq.set_target(\"target_name\")` . Then, to run the program, drop the target flag:\n",
    "`python3 program.py [...]`\n",
    "\n",
    "\n",
    "## Target name\n",
    "\n",
    "1. State vector simulators:\n",
    "    - Single-GPU (Default if an NVIDIA GPU and CUDA runtime libraries are available): `python3 program.py [...] --target nvidia`\n",
    "    - Multi-GPUs: `mpirun -np 2 python3 program.py [...] --target nvidia --target-option=mgpu`\n",
    "2. Tensor network simulator:\n",
    "    - Single-GPU: `python3 program.py [...] --target tensornet`\n",
    "    - Multi-GPUs: `mpirun -np 2 python3 program.py [...] --target tensornet`\n",
    "3. Matrix Product State:\n",
    "    - Only supports single-GPU simulation: `python3 program.py [...] --target tensornet-mps`\n",
    "4. NVIDIA Quantum Cloud\n",
    "    - Run any of the above backends using NVIDIA-provided cloud GPUs (early access only). To learn more, visit [this page](https://www.nvidia.com/en-us/solutions/quantum-computing/cloud/).\n",
    "    - E.g. `cudaq.set_target('nvqc', backend='tensornet')`\n",
    "5. Quantum hardware backend (to learn more, visit [this page](https://nvidia.github.io/cuda-quantum/latest/using/backends/hardware.html)):\n",
    "    - ```cudaq.set_target('QPU_name')```. QPU_name could be `ionq`, `quantinuum`, `iqm`, `oqc`, ...etc.\n",
    "\n",
    "\n",
    "To learn more about CUDA-Q backends, visit [this page](https://nvidia.github.io/cuda-quantum/latest/using/backends/backends.html)"
   ]
  },
  {
   "cell_type": "code",
   "execution_count": 1,
   "metadata": {
    "executionInfo": {
     "elapsed": 401,
     "status": "ok",
     "timestamp": 1727229365729,
     "user": {
      "displayName": "Ikko Hamamura",
      "userId": "14952240016147607013"
     },
     "user_tz": -540
    },
    "id": "rDvRX-19RHy3"
   },
   "outputs": [],
   "source": [
    "import cudaq\n",
    "from time import perf_counter"
   ]
  },
  {
   "cell_type": "code",
   "execution_count": 2,
   "metadata": {
    "executionInfo": {
     "elapsed": 4,
     "status": "ok",
     "timestamp": 1727229241549,
     "user": {
      "displayName": "Ikko Hamamura",
      "userId": "14952240016147607013"
     },
     "user_tz": -540
    },
    "id": "jmBgdN00RKO1"
   },
   "outputs": [],
   "source": [
    "@cudaq.kernel\n",
    "def ghz(n: int):\n",
    "    q = cudaq.qvector(n)\n",
    "    h(q[0])\n",
    "\n",
    "    for i in range(1, n):\n",
    "        cx(q[0], q[i])"
   ]
  },
  {
   "cell_type": "code",
   "execution_count": 3,
   "metadata": {
    "colab": {
     "base_uri": "https://localhost:8080/"
    },
    "executionInfo": {
     "elapsed": 358,
     "status": "ok",
     "timestamp": 1727229261834,
     "user": {
      "displayName": "Ikko Hamamura",
      "userId": "14952240016147607013"
     },
     "user_tz": -540
    },
    "id": "R28QnAcaRo1I",
    "outputId": "987723a7-c000-491e-b515-4ecb6aba9dac"
   },
   "outputs": [
    {
     "name": "stdout",
     "output_type": "stream",
     "text": [
      "{ 1111111111:496 0000000000:504 }\n",
      "\n"
     ]
    }
   ],
   "source": [
    "# Run with CPU\n",
    "\n",
    "cudaq.set_target(\"qpp-cpu\")\n",
    "\n",
    "counts = cudaq.sample(ghz, 10)\n",
    "print(counts)"
   ]
  },
  {
   "cell_type": "markdown",
   "metadata": {
    "id": "WB-crptc5_k6"
   },
   "source": [
    "Statevector simulation tiem scales exponentially."
   ]
  },
  {
   "cell_type": "code",
   "execution_count": 4,
   "metadata": {
    "colab": {
     "base_uri": "https://localhost:8080/"
    },
    "executionInfo": {
     "elapsed": 21731,
     "status": "ok",
     "timestamp": 1727229476818,
     "user": {
      "displayName": "Ikko Hamamura",
      "userId": "14952240016147607013"
     },
     "user_tz": -540
    },
    "id": "1efxUe9FRaTN",
    "outputId": "b7b693bc-e1f7-4f17-bc77-9f89c9114b95"
   },
   "outputs": [
    {
     "name": "stdout",
     "output_type": "stream",
     "text": [
      "[(10, 0.09788946434855461), (11, 0.10975595563650131), (12, 0.03964484576135874), (13, 0.02525443211197853), (14, 0.028187631629407406), (15, 0.030456267297267914), (16, 0.0347348116338253), (17, 0.047350578010082245), (18, 0.10113332327455282), (19, 0.22217136342078447), (20, 0.5346931079402566), (21, 1.1804526932537556)]\n"
     ]
    }
   ],
   "source": [
    "cudaq.set_target(\"qpp-cpu\")\n",
    "\n",
    "cpu_times = []\n",
    "for n in range(10, 22):\n",
    "    start = perf_counter()\n",
    "    counts = cudaq.sample(ghz, n)\n",
    "    end = perf_counter()\n",
    "    cpu_times.append((n, end - start))\n",
    "\n",
    "print(cpu_times)"
   ]
  },
  {
   "cell_type": "markdown",
   "metadata": {
    "id": "ZaBfpwrG6ED-"
   },
   "source": [
    "Simulation with GPU is also exponential, but faster than CPUs for large number of qubits:"
   ]
  },
  {
   "cell_type": "code",
   "execution_count": 5,
   "metadata": {
    "colab": {
     "base_uri": "https://localhost:8080/"
    },
    "id": "B2t0SAb8RS0F",
    "outputId": "082c4d69-a04c-4e2b-aa2a-7c09d0d05a16"
   },
   "outputs": [
    {
     "name": "stdout",
     "output_type": "stream",
     "text": [
      "[(10, 0.10216688830405474), (11, 0.0027227941900491714), (12, 0.0009420067071914673), (13, 0.0011568516492843628), (14, 0.001135542057454586), (15, 0.000980764627456665), (16, 0.0011793849989771843), (17, 0.001230638474225998), (18, 0.0021179616451263428), (19, 0.0016564559191465378), (20, 0.0015745339915156364), (21, 0.001733250916004181), (22, 0.0022464729845523834), (23, 0.002961445599794388), (24, 0.004626797512173653), (25, 0.008819160982966423), (26, 0.016355961561203003), (27, 0.031527877785265446), (28, 0.061854041181504726), (29, 0.136078336276114), (30, 0.2727607237175107), (31, 0.7498544650152326)]\n"
     ]
    }
   ],
   "source": [
    "# Use GPU\n",
    "cudaq.set_target(\"nvidia\")\n",
    "\n",
    "gpu_times = []\n",
    "for n in range(10, 32):\n",
    "    start = perf_counter()\n",
    "    counts = cudaq.sample(ghz, n)\n",
    "    end = perf_counter()\n",
    "    gpu_times.append((n, end - start))\n",
    "\n",
    "print(gpu_times)"
   ]
  },
  {
   "cell_type": "code",
   "execution_count": 7,
   "metadata": {},
   "outputs": [
    {
     "data": {
      "image/png": "[encoded data removed]",
      "text/plain": [
       "<Figure size 640x480 with 1 Axes>"
      ]
     },
     "metadata": {},
     "output_type": "display_data"
    }
   ],
   "source": [
    "# Visualize\n",
    "import matplotlib.pyplot as plt\n",
    "\n",
    "plt.plot([i[0] for i in cpu_times], ([i[1] for i in cpu_times]), label=\"CPU\")\n",
    "plt.plot([i[0] for i in gpu_times], ([i[1] for i in gpu_times]), label=\"GPU\")\n",
    "plt.legend()\n",
    "plt.show()"
   ]
  },
  {
   "cell_type": "code",
   "execution_count": 8,
   "metadata": {},
   "outputs": [
    {
     "name": "stdout",
     "output_type": "stream",
     "text": [
      "CUDA-Q Version 0.8.0 (https://github.com/NVIDIA/cuda-quantum 5f63a898a1c4af1affd293fcc86220b683436f57)\n"
     ]
    }
   ],
   "source": [
    "### Version information\n",
    "print(cudaq.__version__)"
   ]
  }
 ],
 "metadata": {
  "accelerator": "GPU",
  "colab": {
   "gpuType": "T4",
   "provenance": []
  },
  "kernelspec": {
   "display_name": "Python 3 (ipykernel)",
   "language": "python",
   "name": "python3"
  },
  "language_info": {
   "codemirror_mode": {
    "name": "ipython",
    "version": 3
   },
   "file_extension": ".py",
   "mimetype": "text/x-python",
   "name": "python",
   "nbconvert_exporter": "python",
   "pygments_lexer": "ipython3",
   "version": "3.10.12"
  }
 },
 "nbformat": 4,
 "nbformat_minor": 4
}
