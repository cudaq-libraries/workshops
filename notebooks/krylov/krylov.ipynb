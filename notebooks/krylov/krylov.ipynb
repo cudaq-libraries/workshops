{
 "cells": [
  {
   "cell_type": "markdown",
   "id": "af8b6565-c658-481a-a3b2-1ad4d20ec1e2",
   "metadata": {},
   "source": [
    "# Quantum Krylov method with multiqpus"
   ]
  },
  {
   "cell_type": "markdown",
   "id": "1a8402c9-3501-4d69-882c-3934ea783a19",
   "metadata": {},
   "source": [
    "## Quantum Krylov method\n"
   ]
  },
  {
   "attachments": {},
   "cell_type": "markdown",
   "id": "3a9e93bc-b9b8-4823-af1f-d02a28d58e24",
   "metadata": {},
   "source": [
    "Quantum Krylov method is one of subspace methods. Subspace methods project a large matrix into a subspace, which has the solution. \n",
    "In the context of quantum classical hybrid algorithm, this projection is performed by quantum computer, and the (generalized) eigenvalue problem after the projection is solved by classical computer.\n",
    "\n",
    "<img src=\"./subspace.png\" alt=\"Subspace method\" style=\"width: 800px;\"/>\n",
    "\n",
    "Suppose that the ground state is approximately contained in this subspace.\n",
    "\\begin{equation}\n",
    "\\vert g \\rangle \\approx \\sum_{j=0}^{d-1} c_j \\vert \\psi_j \\rangle.\n",
    "\\end{equation}\n",
    "\n",
    "Multiplying by $H$ and taking the inner product with $\\psi_i$, we obtain the equation\n",
    "\\begin{equation}\n",
    "\\langle \\psi_i \\vert H  \\vert g \\rangle \n",
    "=  \\langle \\psi_i \\vert H \\sum_{j=0}^{d-1} c_j \\vert \\psi_j \\rangle \n",
    "=  \\sum_{j=0}^{d-1} \\langle \\psi_i \\vert H  \\vert \\psi_j \\rangle c_j \n",
    "= \\langle \\psi_i \\vert E_g \\sum_{j=0}^{d-1} c_j \\vert \\psi_j \\rangle\n",
    "= E_g \\sum_{j=0}^{d-1} \\langle \\psi_i  \\vert \\psi_j \\rangle c_j .\n",
    "\\end{equation}\n",
    "where $E_g$ is a ground state energy ($H \\vert g \\rangle = E_g \\vert g \\rangle$).\n",
    "Note that $\\lbrace \\psi_i \\rbrace$ is non-orthogonal states.\n",
    "From this discussion, we obtain the following general eigenvalue equations:\n",
    "\\begin{equation}\n",
    "\\tilde{H} \\vec{c} = E_g \\tilde{S} \\vec{c}.\n",
    "\\end{equation}"
   ]
  },
  {
   "cell_type": "markdown",
   "id": "db37ddfd-a722-4373-a616-a1e3c54cc2db",
   "metadata": {},
   "source": [
    "The Krylov subspace is a certaion subspace defined as a linear span of\n",
    "\\begin{equation}\n",
    "\\left\\{ \\vert \\psi_0 \\rangle, H \\vert \\psi_0 \\rangle, H^2 \\vert \\psi_0 \\rangle, ..., H^{d-1} \\vert \\psi_0 \\rangle \\right\\}.\n",
    "\\end{equation}\n",
    "Implementing power of $H$ on a quantum computer is possible using block encoding, but the cost (circuit depth) is expensive.\n",
    "\n",
    "Instead of the original krylov subspace, we approximate it to unitary krylov subspace defined as\n",
    "\\begin{equation}\n",
    "\\operatorname{span} \\left\\{ \\vert \\psi_0 \\rangle, U \\vert \\psi_0 \\rangle, U^2 \\vert \\psi_0 \\rangle, ..., U^{d-1} \\vert \\psi_0 \\rangle \\right\\}.\n",
    "\\end{equation}\n",
    "\n",
    "Hence, we need to calculate\n",
    "\\begin{equation}\n",
    "\\tilde{H}_{ij} = \\langle \\psi_i \\vert H \\vert \\psi_j \\rangle = \\langle \\psi_0 \\vert {U^\\dagger}^i  H U^j \\vert \\psi_0 \\rangle, \\ \n",
    "\\tilde{S}_{ij} = \\langle \\psi_i \\vert \\psi_j \\rangle = \\langle \\psi_0 \\vert {U^\\dagger}^i U^j \\psi_0 \\rangle\n",
    "\\end{equation}\n",
    "on quantum computer and solve the generalized eigenvalue problem\n",
    "\\begin{equation}\n",
    "\\tilde{H} x = \\lambda \\tilde{S} x.\n",
    "\\end{equation}"
   ]
  },
  {
   "cell_type": "markdown",
   "id": "21b5a5db-e9ae-4d68-85c7-f72fd17529a2",
   "metadata": {},
   "source": [
    "## Setup CUDA-Q"
   ]
  },
  {
   "cell_type": "code",
   "execution_count": 1,
   "id": "fa7a8b93-5e51-4674-be1b-02ab7d8584c7",
   "metadata": {},
   "outputs": [],
   "source": [
    "import numpy as np\n",
    "\n",
    "import cudaq"
   ]
  },
  {
   "cell_type": "code",
   "execution_count": 2,
   "id": "73417bad-b658-4f25-93c1-42b58af9c4cc",
   "metadata": {},
   "outputs": [],
   "source": [
    "cudaq.set_target(\"nvidia-mqpu\")"
   ]
  },
  {
   "cell_type": "code",
   "execution_count": 3,
   "id": "6326f9b9-cf83-423f-b22c-e93ceb00fd66",
   "metadata": {},
   "outputs": [
    {
     "data": {
      "text/plain": [
       "5"
      ]
     },
     "execution_count": 3,
     "metadata": {},
     "output_type": "execute_result"
    }
   ],
   "source": [
    "# Check the number of QPUs\n",
    "num_qpus = cudaq.get_target().num_qpus()\n",
    "num_qpus"
   ]
  },
  {
   "cell_type": "markdown",
   "id": "fcf9c0e1-b6dd-4188-9d82-73ee50f3bf4f",
   "metadata": {},
   "source": [
    "## Quantum Chemistry Problem\n",
    "\n",
    "In this notebook, we consider the hydrogen chain $\\mathrm{H}_n$ as the target molecule. The hamiltonian can be obtained as follows:"
   ]
  },
  {
   "cell_type": "code",
   "execution_count": 4,
   "id": "9d89e9e9-0072-4d61-92f8-62609ddcc9de",
   "metadata": {},
   "outputs": [],
   "source": [
    "# Number of hydrogen atoms.\n",
    "hydrogen_count = 4\n",
    "\n",
    "# Distance between the atoms in Angstroms.\n",
    "bond_distance = 0.7474\n",
    "\n",
    "# Define a linear chain of Hydrogen atoms\n",
    "geometry = [(\"H\", (0, 0, i * bond_distance)) for i in range(hydrogen_count)]\n",
    "\n",
    "molecule, data = cudaq.chemistry.create_molecular_hamiltonian(geometry, \"sto-3g\", 1, 0)\n",
    "\n",
    "num_electrons = data.n_electrons\n",
    "num_qubits = 2 * data.n_orbitals"
   ]
  },
  {
   "cell_type": "markdown",
   "id": "667040f3-bc01-402a-bc55-60bfe7cbe7f7",
   "metadata": {},
   "source": [
    "## Classical solution with NumPy"
   ]
  },
  {
   "cell_type": "code",
   "execution_count": 5,
   "id": "d87e0a78-c626-4ab7-8061-cea56738552c",
   "metadata": {},
   "outputs": [
    {
     "name": "stdout",
     "output_type": "stream",
     "text": [
      "Ground state energy: -2.14355458044603\n"
     ]
    }
   ],
   "source": [
    "# Get the matrix\n",
    "matrix = molecule.to_matrix()\n",
    "# Solve it with NumPy\n",
    "exact_gs = np.linalg.eigvalsh(matrix)[0]\n",
    "print(\"Ground state energy:\", exact_gs)"
   ]
  },
  {
   "cell_type": "markdown",
   "id": "8620dff5-2720-4c6c-b71f-c369b92055a0",
   "metadata": {},
   "source": [
    "## Quantum Krylov with Statevector simulator\n",
    "\n",
    "Prepare Hartree-Fock (HF) state as initial state $\\vert \\psi_0 \\rangle$ and use (rough) Trotter circuits as unitary time evolution."
   ]
  },
  {
   "cell_type": "code",
   "execution_count": 6,
   "id": "f4479a98-7036-4891-ac32-70d6f06f0c8e",
   "metadata": {},
   "outputs": [],
   "source": [
    "kernel, theta = cudaq.make_kernel(float)\n",
    "qubits = kernel.qalloc(num_qubits)\n",
    "\n",
    "# Hartree fock state\n",
    "for i in range(qubits.size() // 2):\n",
    "    kernel.x(qubits[i])\n",
    "\n",
    "# First order trotter\n",
    "for term in molecule:\n",
    "    kernel.exp_pauli(theta * term.get_coefficient().real, qubits, term)"
   ]
  },
  {
   "cell_type": "code",
   "execution_count": 7,
   "id": "c659bfcf-04ca-4659-8e0d-68d14f518055",
   "metadata": {},
   "outputs": [],
   "source": [
    "# This kernel method will be supported from 0.8.0 (cudaq.pauli_word is not supported)\n",
    "\n",
    "# from cudaq.qis import x, exp_pauli\n",
    "\n",
    "# @cudaq.kernel\n",
    "# def hf_state(qubits: cudaq.qview):\n",
    "#     for i in range(qubits.size() / 2):\n",
    "#         x(qubits[i])\n",
    "\n",
    "# pauli_strs, coeffs = zip(*[(term.to_string(False), term.get_coefficient().real) for term in molecule])\n",
    "# coeffs = list(coeffs)\n",
    "\n",
    "# @cudaq.kernel\n",
    "# def trotter(qubits: cudaq.qview, paulis:list[cudaq.pauli_word], coeffs: list[float]):\n",
    "#     for pauli, coeff in zip(paulis, coeff):\n",
    "#         exp_pauli(coeff, qubits, pauli_str)\n",
    "\n",
    "# @cudaq.kernel\n",
    "# def circuit(coeffs: list[float]):\n",
    "#     qubits = cudaq.qvector(num_qubits)\n",
    "#     hf_state(qubits)\n",
    "#     trotter(qubits, coeffs)"
   ]
  },
  {
   "cell_type": "code",
   "execution_count": 1,
   "id": "c5b41f46-609c-461a-94ad-545cc0dd9c56",
   "metadata": {},
   "outputs": [
    {
     "ename": "SyntaxError",
     "evalue": "invalid syntax (1572417483.py, line 22)",
     "output_type": "error",
     "traceback": [
      "\u001b[0;36m  Cell \u001b[0;32mIn[1], line 22\u001b[0;36m\u001b[0m\n\u001b[0;31m    (@ reverse_endian(observable).to_matrix()  # Why need reverse here? Bug???\u001b[0m\n\u001b[0m     ^\u001b[0m\n\u001b[0;31mSyntaxError\u001b[0m\u001b[0;31m:\u001b[0m invalid syntax\n"
     ]
    }
   ],
   "source": [
    "from cudaq import SpinOperator, State\n",
    "\n",
    "\n",
    "def reverse_endian(spin: SpinOperator):\n",
    "    return sum(\n",
    "        term.get_coefficient() * SpinOperator.from_word(term.to_string(False)[::-1])\n",
    "        for term in spin\n",
    "    )\n",
    "\n",
    "\n",
    "def inner_product(state1: State, state2: State, observable: SpinOperator | None = None):\n",
    "    \"\"\"\n",
    "    Returns <state1 | state2> if observable is None else <state1|observable|state2>\n",
    "    \"\"\"\n",
    "    if observable is None:\n",
    "        return np.inner(\n",
    "            np.array(state1, copy=False).conj(), np.array(state2, copy=False)\n",
    "        )\n",
    "    else:\n",
    "        return (\n",
    "            np.array(state1, copy=False).conj()\n",
    "            @ reverse_endian(observable).to_matrix()  # Why need reverse here? Bug???\n",
    "            @ np.array(state2, copy=False).T\n",
    "        )\n",
    "\n",
    "\n",
    "def get_gs_energy(h, s, threshold=1e-8):\n",
    "    s_vals, s_vecs = eigh(s)\n",
    "    good_vecs = np.array([vec for val, vec in zip(s_vals, s_vecs.T) if val > threshold])\n",
    "    h_reg = good_vecs.conj() @ h @ good_vecs.T\n",
    "    s_reg = good_vecs.conj() @ s @ good_vecs.T\n",
    "    return eigh(h_reg, s_reg, eigvals_only=True)[0]"
   ]
  },
  {
   "cell_type": "code",
   "execution_count": 9,
   "id": "df641134-1216-4489-a970-a7118b06978f",
   "metadata": {},
   "outputs": [],
   "source": [
    "# Hyperparameter\n",
    "krylov_dim = 10\n",
    "dt = 0.2  # time step"
   ]
  },
  {
   "cell_type": "code",
   "execution_count": 10,
   "id": "fd7ac702-7f1f-430c-b609-a27ad4f247bf",
   "metadata": {},
   "outputs": [],
   "source": [
    "from scipy.linalg import eigh\n",
    "\n",
    "states_future = []\n",
    "for i in range(krylov_dim):\n",
    "    states_future.append(\n",
    "        cudaq.get_state_async(kernel, float(dt * i), qpu_id=i % num_qpus)\n",
    "    )\n",
    "\n",
    "states = [future.get() for future in states_future]\n",
    "\n",
    "h = np.empty((krylov_dim, krylov_dim), dtype=np.complex128)\n",
    "s = np.empty((krylov_dim, krylov_dim), dtype=np.complex128)\n",
    "for i in range(krylov_dim):\n",
    "    for j in range(i + 1):\n",
    "        state1 = states[i]\n",
    "        state2 = states[j]\n",
    "\n",
    "        s[i, j] = inner_product(state1, state2)\n",
    "        s[j, i] = s[i, j].conjugate()\n",
    "\n",
    "        h[i, j] = inner_product(state1, state2, molecule)\n",
    "        h[j, i] = h[i, j].conjugate()"
   ]
  },
  {
   "cell_type": "code",
   "execution_count": 11,
   "id": "d608abdd-a891-46f7-bdf1-e9b230a7ffcf",
   "metadata": {},
   "outputs": [
    {
     "data": {
      "image/png": "[encoded data removed]",
      "text/plain": [
       "<Figure size 640x480 with 1 Axes>"
      ]
     },
     "metadata": {},
     "output_type": "display_data"
    }
   ],
   "source": [
    "import matplotlib.pyplot as plt\n",
    "\n",
    "expvals = []\n",
    "for d in range(1, krylov_dim + 1):\n",
    "    ev = get_gs_energy(h[:d, :d], s[:d, :d])\n",
    "    expvals.append(ev)\n",
    "\n",
    "plt.plot(range(1, krylov_dim + 1), expvals, color=\"blue\", label=\"Krylov\")\n",
    "plt.hlines(\n",
    "    exact_gs, xmin=1, xmax=krylov_dim, color=\"red\", label=\"Exact ground state energy\"\n",
    ")\n",
    "plt.legend()\n",
    "plt.xlabel(\"Krylov dimension\")\n",
    "plt.ylabel(\"Energy\")\n",
    "plt.title(\"Ground state energy with Quantum Krylov\")\n",
    "plt.show()"
   ]
  },
  {
   "cell_type": "markdown",
   "id": "730afce8-1bc8-4a84-bbb7-1a4cd302b2e2",
   "metadata": {},
   "source": [
    "### Discussion\n",
    "\n",
    "- This error comes from the trotter error and the ground state is not in the subspace. The result will be improved using higher order trotter.\n",
    "- Negative eigenvalues are present due to (trotter) error and regularized to remove them.\n",
    "- Methods such as Hadamard test are needed to calculate innerproduct on real quantum devices."
   ]
  }
 ],
 "metadata": {
  "kernelspec": {
   "display_name": "Python 3 (ipykernel)",
   "language": "python",
   "name": "python3"
  },
  "language_info": {
   "codemirror_mode": {
    "name": "ipython",
    "version": 3
   },
   "file_extension": ".py",
   "mimetype": "text/x-python",
   "name": "python",
   "nbconvert_exporter": "python",
   "pygments_lexer": "ipython3",
   "version": "3.10.12"
  }
 },
 "nbformat": 4,
 "nbformat_minor": 5
}
