{
 "cells": [
  {
   "cell_type": "markdown",
   "metadata": {},
   "source": [
    "## Quantum machine learning: Classification problem"
   ]
  },
  {
   "cell_type": "code",
   "execution_count": 26,
   "metadata": {},
   "outputs": [],
   "source": [
    "#pip install pandas\n",
    "#pip install scikit-learn\n",
    "\n",
    "import cudaq\n",
    "import numpy as np\n",
    "import pandas as pd\n",
    "from sklearn.datasets import fetch_openml\n",
    "from sklearn.model_selection import train_test_split\n",
    "from sklearn.datasets import fetch_openml\n",
    "from sklearn.preprocessing import StandardScaler\n",
    "from sklearn.decomposition import PCA\n",
    "from sklearn import metrics\n",
    "from sklearn.model_selection import train_test_split\n",
    "from sklearn.preprocessing import MinMaxScaler\n",
    "\n",
    "import scipy"
   ]
  },
  {
   "cell_type": "code",
   "execution_count": 27,
   "metadata": {},
   "outputs": [
    {
     "name": "stdout",
     "output_type": "stream",
     "text": [
      "(500, 6) (200, 6) (500,) (200,)\n",
      "[0 0 0 1 0 1 0 0 0 1]\n"
     ]
    }
   ],
   "source": [
    "mnist = fetch_openml('mnist_784', version=1, cache=True)\n",
    "data = mnist['data']\n",
    "labels = np.array(mnist['target'], dtype=np.int8)\n",
    "        \n",
    "labels_zero = labels[labels==0] \n",
    "labels_one = labels[labels==1] \n",
    "binary_labels = np.hstack((labels_zero, labels_one))\n",
    "digits_zero = data[labels==0]\n",
    "digits_one = data[labels==1]\n",
    "binary_digits = np.vstack((digits_zero, digits_one))\n",
    "        \n",
    "pca = PCA(n_components=6)\n",
    "sc = StandardScaler()\n",
    "binary_digits = sc.fit_transform(binary_digits)\n",
    "data = pca.fit_transform(binary_digits)\n",
    "\n",
    "# Normalize data (Prepare data for angle encoding)\n",
    "data = ((data-np.min(data))/(np.max(data)-np.min(data)))\n",
    "\n",
    "x_train, x_test, y_train, y_test = train_test_split(data, binary_labels, test_size=0.2)\n",
    "\n",
    "x_train=x_train[0:500]\n",
    "x_test=x_test[0:200]\n",
    "y_train=y_train[0:500]\n",
    "y_test=y_test[0:200]\n",
    "\n",
    "print(x_train.shape, x_test.shape, y_train.shape, y_test.shape)\n",
    "print(y_train[0:10])"
   ]
  },
  {
   "cell_type": "code",
   "execution_count": 28,
   "metadata": {},
   "outputs": [
    {
     "name": "stdout",
     "output_type": "stream",
     "text": [
      "[-1 -1 -1  1 -1  1 -1 -1 -1  1]\n"
     ]
    }
   ],
   "source": [
    "#labels are -1 and 1\n",
    "\n",
    "y_train=y_train*2-1\n",
    "y_test=y_test*2-1\n",
    "\n",
    "print(y_train[0:10])\n"
   ]
  },
  {
   "cell_type": "code",
   "execution_count": 29,
   "metadata": {},
   "outputs": [],
   "source": [
    "cudaq.set_target(\"nvidia\")\n",
    "\n",
    "@cudaq.kernel\n",
    "def encoding(qubit:cudaq.qview, angles:list[float]):\n",
    "    # Define gates and the qubits they act upon.\n",
    "\n",
    "    qubit_num=qubit.size()\n",
    "    for i in range(qubit_num):\n",
    "        ry(angles[i], qubit[i])\n",
    "\n",
    "@cudaq.kernel\n",
    "def training_layer(qubit:cudaq.qview, alpha:list[float]):\n",
    "\n",
    "    qubit_num=qubit.size()\n",
    "\n",
    "    count=0\n",
    "    for i in range(qubit_num):\n",
    "        u3(alpha[count],alpha[count+1],alpha[count+2], qubit[i])\n",
    "        count+=3\n",
    "    \n",
    "    for i in range(qubit_num-1):\n",
    "        x.ctrl(qubit[i], qubit[i+1])\n",
    "    \n",
    "    x.ctrl(qubit[qubit_num-1], qubit[0])\n",
    "\n",
    "    for i in range(qubit_num):\n",
    "        u3(alpha[count],alpha[count+1],alpha[count+2], qubit[i])\n",
    "        count+=3\n",
    "\n",
    "    for i in range(qubit_num//2):\n",
    "        x.ctrl(qubit[i], qubit[i+2])\n",
    "    \n",
    "    for i in range(qubit_num-1, qubit_num//2-1, -1):\n",
    "        x.ctrl(qubit[i], qubit[i-2])\n",
    "    \n",
    "@cudaq.kernel\n",
    "def qnn_kernel(qubit_count:int, data: list[float], alpha:list[float]):\n",
    "    # Allocate a qubit that is initialised to the |0> state.\n",
    "    qubit = cudaq.qvector(qubit_count)\n",
    "\n",
    "    # encoding data\n",
    "    encoding(qubit,data)\n",
    "    \n",
    "    # training layer\n",
    "    training_layer(qubit,alpha)\n",
    "\n",
    "# Our hamiltonian will be the Z expectation value of our qubit.\n",
    "ham = cudaq.spin.z(0)"
   ]
  },
  {
   "cell_type": "code",
   "execution_count": 30,
   "metadata": {},
   "outputs": [
    {
     "name": "stdout",
     "output_type": "stream",
     "text": [
      "[0.4967141530112327, -0.13826430117118466, 0.6476885381006925, 1.5230298564080254, -0.23415337472333597, -0.23413695694918055, 1.5792128155073915, 0.7674347291529088, -0.4694743859349521, 0.5425600435859647, -0.46341769281246226, -0.46572975357025687, 0.24196227156603412, -1.913280244657798, -1.7249178325130328, -0.5622875292409727, -1.0128311203344238, 0.3142473325952739, -0.9080240755212109, -1.4123037013352915, 1.465648768921554, -0.22577630048653566, 0.06752820468792384, -1.4247481862134568, -0.5443827245251827, 0.11092258970986608, -1.1509935774223028, 0.37569801834567196, -0.600638689918805, -0.2916937497932768, -0.6017066122293969, 1.8522781845089378, -0.013497224737933921, -1.0577109289559004, 0.822544912103189, -1.2208436499710222, 0.0]\n",
      "0.0\n"
     ]
    }
   ],
   "source": [
    "qubit_count = x_train.shape[1]\n",
    "\n",
    "np.random.seed(42)\n",
    "alpha=np.random.normal(loc=0, scale=1, size=3*(qubit_count*2))\n",
    "alpha=alpha.tolist()\n",
    "\n",
    "bias=[0.0]\n",
    "alpha=alpha+bias\n",
    "\n",
    "print(alpha)\n",
    "n=len(alpha)\n",
    "print(alpha[n-1])"
   ]
  },
  {
   "cell_type": "code",
   "execution_count": 31,
   "metadata": {},
   "outputs": [],
   "source": [
    "def cost(main_kernel, ham,qubit_count,angles,alpha):\n",
    "    expectation_value = cudaq.observe(main_kernel, ham, qubit_count,angles,alpha).expectation()\n",
    "    return expectation_value\n",
    "\n",
    "def square_loss(labels, predictions):\n",
    "    loss = 0\n",
    "    for l, p in zip(labels, predictions):\n",
    "        loss = loss + (l - p) ** 2\n",
    "\n",
    "    loss = loss / len(labels)\n",
    "    return loss\n",
    "\n",
    "def accuracy(labels, predictions):\n",
    "\n",
    "    loss = 0\n",
    "    for l, p in zip(labels, predictions):\n",
    "        if abs(l - p) < 1e-5:\n",
    "            loss = loss + 1\n",
    "    loss = loss / len(labels)\n",
    "\n",
    "    return loss\n",
    "\n",
    "def loss(alpha, main_kernel, ham, qubit_count, x_train, y_train):\n",
    "    pred=[]\n",
    "\n",
    "    param=alpha[0:n-2]\n",
    "    for image in range (len(x_train)):\n",
    "    \n",
    "        eig=cost(main_kernel, ham, qubit_count, x_train[image], param)\n",
    "        pred.append(eig+alpha[n-1])\n",
    "\n",
    "    return square_loss(y_train,pred)\n",
    "\n",
    "def variational_classifier(alpha,main_kernel,ham,qubit_count,data_img):\n",
    "    \n",
    "    param=alpha[0:n-2]\n",
    "    \n",
    "    pred=cost(main_kernel, ham, qubit_count,data_img, param)+alpha[n-1]\n",
    "    \n",
    "    return pred"
   ]
  },
  {
   "cell_type": "code",
   "execution_count": 32,
   "metadata": {},
   "outputs": [
    {
     "name": "stdout",
     "output_type": "stream",
     "text": [
      "Training data\n",
      "Cost: 0.4417883210609934, Accuracy: 99.0%\n",
      "Test data\n",
      "Cost: 0.425547898720139, Accuracy: 100.0%\n"
     ]
    }
   ],
   "source": [
    "\n",
    "batch_size = 10\n",
    "batch_index = np.random.randint(0, len(x_train), (batch_size,))\n",
    "X_batch = x_train[batch_index]\n",
    "Y_batch = y_train[batch_index]\n",
    "\n",
    "\n",
    "result_opt=scipy.optimize.minimize(loss, alpha, method='L-BFGS-B', jac='3-point', args=(qnn_kernel, ham, qubit_count, X_batch, Y_batch), tol=1e-8)\n",
    "\n",
    "alpha=result_opt.x\n",
    "\n",
    "predictions = [np.sign(variational_classifier(alpha,qnn_kernel,ham,qubit_count,x_train[i])) for i in range(len(x_train))]\n",
    "\n",
    "   \n",
    "acc_train = accuracy(y_train, predictions)\n",
    "\n",
    "c_train=loss(alpha, qnn_kernel, ham, qubit_count, x_train, y_train)\n",
    "\n",
    "\n",
    "print('Training data')\n",
    "print(f'Cost: {c_train}, Accuracy: {np.round(acc_train, 2) * 100}%')\n",
    "\n",
    "pred = [np.sign(variational_classifier(alpha,qnn_kernel,ham,qubit_count,x_test[i])) for i in range(len(x_test))]\n",
    "   \n",
    "acc_test = accuracy(y_test, pred)\n",
    "\n",
    "c_test=loss(alpha, qnn_kernel, ham, qubit_count, x_test, y_test)\n",
    "\n",
    "print('Test data')\n",
    "print(f'Cost: {c_test}, Accuracy: {np.round(acc_test, 2) * 100}%')\n"
   ]
  },
  {
   "cell_type": "code",
   "execution_count": 33,
   "metadata": {},
   "outputs": [
    {
     "data": {
      "text/html": [
       "<div>\n",
       "<style scoped>\n",
       "    .dataframe tbody tr th:only-of-type {\n",
       "        vertical-align: middle;\n",
       "    }\n",
       "\n",
       "    .dataframe tbody tr th {\n",
       "        vertical-align: top;\n",
       "    }\n",
       "\n",
       "    .dataframe thead th {\n",
       "        text-align: right;\n",
       "    }\n",
       "</style>\n",
       "<table border=\"1\" class=\"dataframe\">\n",
       "  <thead>\n",
       "    <tr style=\"text-align: right;\">\n",
       "      <th></th>\n",
       "      <th>Predictions</th>\n",
       "      <th>Test</th>\n",
       "    </tr>\n",
       "  </thead>\n",
       "  <tbody>\n",
       "    <tr>\n",
       "      <th>0</th>\n",
       "      <td>-1.0</td>\n",
       "      <td>-1.0</td>\n",
       "    </tr>\n",
       "    <tr>\n",
       "      <th>1</th>\n",
       "      <td>-1.0</td>\n",
       "      <td>-1.0</td>\n",
       "    </tr>\n",
       "    <tr>\n",
       "      <th>2</th>\n",
       "      <td>1.0</td>\n",
       "      <td>1.0</td>\n",
       "    </tr>\n",
       "    <tr>\n",
       "      <th>3</th>\n",
       "      <td>-1.0</td>\n",
       "      <td>-1.0</td>\n",
       "    </tr>\n",
       "    <tr>\n",
       "      <th>4</th>\n",
       "      <td>-1.0</td>\n",
       "      <td>-1.0</td>\n",
       "    </tr>\n",
       "    <tr>\n",
       "      <th>...</th>\n",
       "      <td>...</td>\n",
       "      <td>...</td>\n",
       "    </tr>\n",
       "    <tr>\n",
       "      <th>195</th>\n",
       "      <td>1.0</td>\n",
       "      <td>1.0</td>\n",
       "    </tr>\n",
       "    <tr>\n",
       "      <th>196</th>\n",
       "      <td>1.0</td>\n",
       "      <td>1.0</td>\n",
       "    </tr>\n",
       "    <tr>\n",
       "      <th>197</th>\n",
       "      <td>1.0</td>\n",
       "      <td>1.0</td>\n",
       "    </tr>\n",
       "    <tr>\n",
       "      <th>198</th>\n",
       "      <td>-1.0</td>\n",
       "      <td>-1.0</td>\n",
       "    </tr>\n",
       "    <tr>\n",
       "      <th>199</th>\n",
       "      <td>1.0</td>\n",
       "      <td>1.0</td>\n",
       "    </tr>\n",
       "  </tbody>\n",
       "</table>\n",
       "<p>200 rows × 2 columns</p>\n",
       "</div>"
      ],
      "text/plain": [
       "     Predictions  Test\n",
       "0           -1.0  -1.0\n",
       "1           -1.0  -1.0\n",
       "2            1.0   1.0\n",
       "3           -1.0  -1.0\n",
       "4           -1.0  -1.0\n",
       "..           ...   ...\n",
       "195          1.0   1.0\n",
       "196          1.0   1.0\n",
       "197          1.0   1.0\n",
       "198         -1.0  -1.0\n",
       "199          1.0   1.0\n",
       "\n",
       "[200 rows x 2 columns]"
      ]
     },
     "execution_count": 33,
     "metadata": {},
     "output_type": "execute_result"
    }
   ],
   "source": [
    "pd.DataFrame((pred, y_test), ('Predictions', 'Test')).T"
   ]
  },
  {
   "cell_type": "markdown",
   "metadata": {},
   "source": []
  }
 ],
 "metadata": {
  "kernelspec": {
   "display_name": "Python 3",
   "language": "python",
   "name": "python3"
  },
  "language_info": {
   "codemirror_mode": {
    "name": "ipython",
    "version": 3
   },
   "file_extension": ".py",
   "mimetype": "text/x-python",
   "name": "python",
   "nbconvert_exporter": "python",
   "pygments_lexer": "ipython3",
   "version": "3.10.12"
  }
 },
 "nbformat": 4,
 "nbformat_minor": 2
}
