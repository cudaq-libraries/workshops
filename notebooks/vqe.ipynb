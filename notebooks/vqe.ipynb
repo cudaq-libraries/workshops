{
 "cells": [
  {
   "cell_type": "markdown",
   "metadata": {
    "id": "ybV1E7rmHaXV"
   },
   "source": [
    "# Variational Quantum Eigensolver"
   ]
  },
  {
   "cell_type": "markdown",
   "metadata": {
    "id": "1P7QKJkTHaXX"
   },
   "source": [
    "A common application of the Variational Quantum Eigensolver (VQE) algorithm is to compute the ground state energy of a molecular system. The code below demonstrates how to perform classical preprocessing for a $H_2$ molecule (i.e. obtain the integrals from a Hartree-Fock computation to build the molecular Hamiltonian), prepare the initial Hartree-Fock state on the quantum register, add the parameterized UCCSD ansatz to the kernel, and select the COBYLA optimizer.  We are then ready to call `cudaq:vqe` to estimate the minimum energy of the system."
   ]
  },
  {
   "cell_type": "code",
   "execution_count": 1,
   "metadata": {
    "colab": {
     "base_uri": "https://localhost:8080/"
    },
    "executionInfo": {
     "elapsed": 4446,
     "status": "ok",
     "timestamp": 1727228922523,
     "user": {
      "displayName": "Ikko Hamamura",
      "userId": "14952240016147607013"
     },
     "user_tz": -540
    },
    "id": "nKtHXMNbHaXX",
    "outputId": "b6d5300d-20f1-41fa-d18f-a050b7fc6aa8"
   },
   "outputs": [],
   "source": [
    "# pip install openfermionpyscf"
   ]
  },
  {
   "cell_type": "code",
   "execution_count": 2,
   "metadata": {
    "executionInfo": {
     "elapsed": 1224,
     "status": "ok",
     "timestamp": 1727228923741,
     "user": {
      "displayName": "Ikko Hamamura",
      "userId": "14952240016147607013"
     },
     "user_tz": -540
    },
    "id": "t-xzJzjzHaXY"
   },
   "outputs": [],
   "source": [
    "import cudaq\n",
    "\n",
    "cudaq.set_target(\"nvidia\", option=\"fp64\")"
   ]
  },
  {
   "cell_type": "markdown",
   "metadata": {
    "id": "gFvujBrVHaXY"
   },
   "source": [
    "The problem of interest here is a chain of hydrogen atoms seperated along the z-axis at a fixed interval called the bond distance.\n",
    "\n",
    "The interatomic electrostatic forces due to the electrons and protons and the shielding by the neutrons creates a chemical system whose energy can be minimised to find a stable configuration.\n",
    "\n",
    "Let us first begin by defining the molecule and other metadata about the problem.\n"
   ]
  },
  {
   "cell_type": "code",
   "execution_count": 3,
   "metadata": {
    "executionInfo": {
     "elapsed": 3622,
     "status": "ok",
     "timestamp": 1727228927357,
     "user": {
      "displayName": "Ikko Hamamura",
      "userId": "14952240016147607013"
     },
     "user_tz": -540
    },
    "id": "QAj5rYMQHaXZ"
   },
   "outputs": [
    {
     "name": "stderr",
     "output_type": "stream",
     "text": [
      "/opt/nvidia/cudaq/cudaq/operator/definitions.py:241: ComplexWarning: Casting complex values to real discards the imaginary part\n",
      "  cudaq_runtime.SpinOperator(*args, **kwargs))\n"
     ]
    }
   ],
   "source": [
    "import cudaq\n",
    "import openfermion\n",
    "import openfermionpyscf\n",
    "from openfermion.transforms import jordan_wigner, get_fermion_operator\n",
    "\n",
    "# Number of hydrogen atoms.\n",
    "hydrogen_count = 2\n",
    "\n",
    "# Distance between the atoms in Angstroms.\n",
    "bond_distance = 0.7474\n",
    "\n",
    "# Define a linear chain of Hydrogen atoms\n",
    "geometry = [(\"H\", (0, 0, i * bond_distance)) for i in range(hydrogen_count)]\n",
    "\n",
    "basis = \"sto3g\"\n",
    "multiplicity = 1\n",
    "charge = 0\n",
    "\n",
    "molecule = openfermionpyscf.run_pyscf(openfermion.MolecularData(geometry, basis, multiplicity, charge))\n",
    "molecular_hamiltonian = molecule.get_molecular_hamiltonian()\n",
    "fermion_hamiltonian = get_fermion_operator(molecular_hamiltonian)\n",
    "qubit_hamiltonian = jordan_wigner(fermion_hamiltonian)\n",
    "\n",
    "spin_operator = cudaq.SpinOperator(qubit_hamiltonian)\n",
    "\n",
    "num_qubits = spin_operator.get_qubit_count()\n",
    "electron_count = molecule.n_electrons"
   ]
  },
  {
   "cell_type": "code",
   "execution_count": 4,
   "metadata": {
    "colab": {
     "base_uri": "https://localhost:8080/"
    },
    "executionInfo": {
     "elapsed": 19,
     "status": "ok",
     "timestamp": 1727228927358,
     "user": {
      "displayName": "Ikko Hamamura",
      "userId": "14952240016147607013"
     },
     "user_tz": -540
    },
    "id": "U95PCqL6HaXZ",
    "outputId": "5f44dd1f-58c5-4a23-ea97-21ab6ec1960c"
   },
   "outputs": [
    {
     "name": "stdout",
     "output_type": "stream",
     "text": [
      "Ground state energy: -1.1371757102406845\n"
     ]
    }
   ],
   "source": [
    "## Classical solution\n",
    "import numpy as np\n",
    "\n",
    "matrix = np.array(spin_operator.to_matrix())\n",
    "print(\"Ground state energy:\", np.linalg.eigvalsh(matrix)[0])"
   ]
  },
  {
   "cell_type": "markdown",
   "metadata": {
    "id": "9QQ5JGXWHaXa"
   },
   "source": [
    "We now generate a Unitary Coupled-Cluster Singles and Doubles (UCCSD) ansatz from the template provided by CUDA-Q.  "
   ]
  },
  {
   "cell_type": "code",
   "execution_count": 5,
   "metadata": {
    "executionInfo": {
     "elapsed": 16,
     "status": "ok",
     "timestamp": 1727228927358,
     "user": {
      "displayName": "Ikko Hamamura",
      "userId": "14952240016147607013"
     },
     "user_tz": -540
    },
    "id": "RdxX-L2pHaXb"
   },
   "outputs": [],
   "source": [
    "@cudaq.kernel\n",
    "def kernel(thetas: list[float]):\n",
    "\n",
    "    qubits = cudaq.qvector(num_qubits)\n",
    "\n",
    "    for i in range(electron_count):\n",
    "        x(qubits[i])\n",
    "\n",
    "    cudaq.kernels.uccsd(qubits, thetas, electron_count, num_qubits)\n",
    "\n",
    "\n",
    "parameter_count = cudaq.kernels.uccsd_num_parameters(electron_count, num_qubits)"
   ]
  },
  {
   "cell_type": "code",
   "execution_count": 6,
   "metadata": {
    "colab": {
     "base_uri": "https://localhost:8080/"
    },
    "executionInfo": {
     "elapsed": 15,
     "status": "ok",
     "timestamp": 1727228927358,
     "user": {
      "displayName": "Ikko Hamamura",
      "userId": "14952240016147607013"
     },
     "user_tz": -540
    },
    "id": "ElHpUo94Jz5n",
    "outputId": "c3d6085f-f1a9-426d-fe74-d94b5e45b2ca"
   },
   "outputs": [
    {
     "data": {
      "text/plain": [
       "3"
      ]
     },
     "execution_count": 6,
     "metadata": {},
     "output_type": "execute_result"
    }
   ],
   "source": [
    "parameter_count"
   ]
  },
  {
   "cell_type": "markdown",
   "metadata": {
    "id": "-NEmgzn9HaXb"
   },
   "source": [
    "### Using CUDA-Q Optimizers\n",
    "\n",
    "We use the builtin optimizers within CUDA-Q for the minimization procedure."
   ]
  },
  {
   "cell_type": "code",
   "execution_count": 7,
   "metadata": {
    "colab": {
     "base_uri": "https://localhost:8080/"
    },
    "executionInfo": {
     "elapsed": 8366,
     "status": "ok",
     "timestamp": 1727228935712,
     "user": {
      "displayName": "Ikko Hamamura",
      "userId": "14952240016147607013"
     },
     "user_tz": -540
    },
    "id": "OVTuToCvHaXb",
    "outputId": "ad2d5aac-e557-42b4-ab02-e22e318b8dee"
   },
   "outputs": [
    {
     "name": "stdout",
     "output_type": "stream",
     "text": [
      "-1.1371756649403284\n"
     ]
    }
   ],
   "source": [
    "optimizer = cudaq.optimizers.COBYLA()\n",
    "\n",
    "energy, parameters = cudaq.vqe(kernel, spin_operator, optimizer, parameter_count=parameter_count)\n",
    "\n",
    "print(energy)"
   ]
  },
  {
   "cell_type": "markdown",
   "metadata": {
    "id": "bF0ubTXKHaXb"
   },
   "source": [
    "### Integration with Third-Party Optimizers\n",
    "\n",
    "We can also integrate popular libraries like scipy with CUDA-Q."
   ]
  },
  {
   "cell_type": "code",
   "execution_count": 8,
   "metadata": {
    "executionInfo": {
     "elapsed": 644,
     "status": "ok",
     "timestamp": 1727228936350,
     "user": {
      "displayName": "Ikko Hamamura",
      "userId": "14952240016147607013"
     },
     "user_tz": -540
    },
    "id": "hQV2fjVlHaXc"
   },
   "outputs": [],
   "source": [
    "from scipy.optimize import minimize\n",
    "\n",
    "\n",
    "# Define a function to minimize\n",
    "def cost(theta):\n",
    "\n",
    "    exp_val = cudaq.observe(kernel, spin_operator, theta).expectation()\n",
    "\n",
    "    return exp_val\n",
    "\n",
    "\n",
    "exp_vals = []\n",
    "\n",
    "\n",
    "def callback(xk):\n",
    "    exp_vals.append(cost(xk))\n",
    "\n",
    "\n",
    "# Initial variational parameters.\n",
    "np.random.seed(42)\n",
    "x0 = np.random.normal(0, np.pi, parameter_count)\n",
    "\n",
    "# Use the scipy optimizer to minimize the function of interest\n",
    "result = minimize(cost, x0, method=\"COBYLA\", callback=callback, options={\"maxiter\": 40})"
   ]
  },
  {
   "cell_type": "code",
   "execution_count": 9,
   "metadata": {
    "colab": {
     "base_uri": "https://localhost:8080/",
     "height": 472
    },
    "executionInfo": {
     "elapsed": 610,
     "status": "ok",
     "timestamp": 1727228936954,
     "user": {
      "displayName": "Ikko Hamamura",
      "userId": "14952240016147607013"
     },
     "user_tz": -540
    },
    "id": "WXOao5iKHaXc",
    "outputId": "fd9fbd53-35c2-4a7e-d02a-3019c90dee48"
   },
   "outputs": [
    {
     "data": {
      "image/png": "[encoded data removed]",
      "text/plain": [
       "<Figure size 640x480 with 1 Axes>"
      ]
     },
     "metadata": {},
     "output_type": "display_data"
    }
   ],
   "source": [
    "import matplotlib.pyplot as plt\n",
    "\n",
    "plt.plot(exp_vals)\n",
    "plt.xlabel(\"Epochs\")\n",
    "plt.ylabel(\"Energy\")\n",
    "plt.title(\"VQE\")\n",
    "plt.show()"
   ]
  },
  {
   "cell_type": "code",
   "execution_count": 10,
   "metadata": {
    "colab": {
     "base_uri": "https://localhost:8080/"
    },
    "executionInfo": {
     "elapsed": 12,
     "status": "ok",
     "timestamp": 1727228936954,
     "user": {
      "displayName": "Ikko Hamamura",
      "userId": "14952240016147607013"
     },
     "user_tz": -540
    },
    "id": "guy8dCgfLOGl",
    "outputId": "85aaf81a-24c5-44a6-c9fa-443c4854409f"
   },
   "outputs": [
    {
     "name": "stdout",
     "output_type": "stream",
     "text": [
      "Ground state energy: -1.1371757102406845\n",
      "Final energy -1.137173755080864\n"
     ]
    }
   ],
   "source": [
    "print(\"Ground state energy:\", np.linalg.eigvalsh(matrix)[0])\n",
    "print(\"Final energy\", exp_vals[-1])"
   ]
  },
  {
   "cell_type": "markdown",
   "metadata": {
    "id": "l09Hor1gHaXc"
   },
   "source": [
    "<div class=\"alert alert-block alert-success\">\n",
    "\n",
    "## Exercise\n",
    "\n",
    "Let’s try increasing the number of hydrogen atoms to more than two, like `4` or `6`. Run the variational quantum eigensolver and try other optimizers and/or ansatz.\n",
    "</div>"
   ]
  },
  {
   "cell_type": "code",
   "execution_count": 11,
   "metadata": {
    "executionInfo": {
     "elapsed": 8,
     "status": "ok",
     "timestamp": 1727228936954,
     "user": {
      "displayName": "Ikko Hamamura",
      "userId": "14952240016147607013"
     },
     "user_tz": -540
    },
    "id": "zCq8z-ldHaXc"
   },
   "outputs": [],
   "source": [
    "# Write your codes here"
   ]
  },
  {
   "cell_type": "code",
   "execution_count": 12,
   "metadata": {
    "colab": {
     "base_uri": "https://localhost:8080/"
    },
    "executionInfo": {
     "elapsed": 7,
     "status": "ok",
     "timestamp": 1727228936954,
     "user": {
      "displayName": "Ikko Hamamura",
      "userId": "14952240016147607013"
     },
     "user_tz": -540
    },
    "id": "7-05juIaHaXd",
    "outputId": "0687cae5-07af-48d4-f4f3-45974e08178d"
   },
   "outputs": [
    {
     "name": "stdout",
     "output_type": "stream",
     "text": [
      "CUDA-Q Version cu11-0.10.0 (https://github.com/NVIDIA/cuda-quantum 857dd2ce0a783c32416af8fba8664ff30f9ddc47)\n"
     ]
    }
   ],
   "source": [
    "print(cudaq.__version__)"
   ]
  }
 ],
 "metadata": {
  "accelerator": "GPU",
  "colab": {
   "gpuType": "T4",
   "provenance": []
  },
  "kernelspec": {
   "display_name": "Python 3 (ipykernel)",
   "language": "python",
   "name": "python3"
  },
  "language_info": {
   "codemirror_mode": {
    "name": "ipython",
    "version": 3
   },
   "file_extension": ".py",
   "mimetype": "text/x-python",
   "name": "python",
   "nbconvert_exporter": "python",
   "pygments_lexer": "ipython3",
   "version": "3.10.12"
  },
  "vscode": {
   "interpreter": {
    "hash": "31f2aee4e71d21fbe5cf8b01ff0e069b9275f58929596ceb00d14d90e3e16cd6"
   }
  }
 },
 "nbformat": 4,
 "nbformat_minor": 4
}
