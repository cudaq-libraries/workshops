{
 "cells": [
  {
   "cell_type": "markdown",
   "metadata": {},
   "source": [
    "# Introduction to CUDA-Q\n",
    "\n",
    "## Agenda\n",
    "\n",
    "### A- Quantum Circuit Basics\n",
    "\n",
    "A.1- Qubit allocation\n",
    "\n",
    "A.2- Quantum gates\n",
    "\n",
    "A.3- Quantum kernel\n",
    "\n",
    "A.4- Backends & running CUDA-Q programs\n",
    "\n",
    "A.5- Examples\n",
    "\n",
    "### B- Quantum algorithmic primitives\n",
    "\n",
    "B.1- cudaq.sample()\n",
    "\n",
    "- Mid-circuit measurement & conditional sampling\n",
    "\n",
    "B.2- cudaq.observe()\n",
    "\n",
    "- Spin Hamiltonian operator\n",
    "- Expectation values\n",
    "\n",
    "B.3- Asynchronous execution\n",
    "\n",
    "### C- Exercises"
   ]
  },
  {
   "cell_type": "markdown",
   "metadata": {},
   "source": [
    "### A- Quantum circuit basics\n",
    "\n",
    "![img](./basic-circuit.png)"
   ]
  },
  {
   "cell_type": "markdown",
   "metadata": {},
   "source": [
    "### A.1- Qubit allocation\n",
    "\n",
    "- cudaq.qubit(): a single quantum bit (2-level) in the discrete quantum memory space. \n",
    "\n",
    "```qubit=cudaq.qubit()```\n",
    "\n",
    "- cudaq.qvector(N): a multi quantum bit ($2^N$ level) in the discrete quantum memory\n",
    "\n",
    "```qubits=cudaq.qvector(N)```\n",
    "\n",
    "- qubits in qvector are indexed serially:\n",
    "```qubits[0], qubits[1], ..., qbubits[N-1]```\n",
    "    \n",
    "- Is initialized to the |0> computational basis state.\n",
    "\n",
    "- Owns the quantum memory, therefore it cannot be copied or moved (no-cloning theorem). It can be passed by reference (i.e., references to qubit vectors)."
   ]
  },
  {
   "cell_type": "markdown",
   "metadata": {},
   "source": [
    "### A.2- Quantum gates\n",
    "\n",
    "\n",
    "- x: Not gate (Pauli-X gate)\n",
    "\n",
    "```python\n",
    "q=cudaq.qubit()\n",
    "x(q)\n",
    "```\n",
    "- h: Hadamard gate\n",
    "\n",
    "```python\n",
    "q=cudaq.qvector(2)\n",
    "h(q[0])\n",
    "```\n",
    "\n",
    "- x.ctrl(control,target) or ([control_1, control_2], target): C-NOT gate\n",
    "\n",
    "```python\n",
    "q=cudaq.qvector(3)\n",
    "x.ctrl(q[0],q[1])\n",
    "```\n",
    "\n",
    "- rx(angle, qubit): rotation around x-axis\n",
    "```python\n",
    "q=cudaq.qubit()\n",
    "rx(np.pi,q)\n",
    "```\n",
    "\n",
    "- adj: adjoint transformation\n",
    "```python\n",
    "q=cudaq.qubit()\n",
    "rx(np.pi,q)\n",
    "rx.adj(np.pi,q)\n",
    "```\n",
    "\n",
    "- mz: measure qubits in the computational basis\n",
    "\n",
    "```python\n",
    "q=cudaq.qvector(2)\n",
    "h(q[0])\n",
    "x.ctrl(q[0],q[1])\n",
    "mz(q)\n",
    "```\n",
    "\n",
    "\n",
    "To learn more about the quantum operations available in CUDA-Q, visit [this page](https://nvidia.github.io/cuda-quantum/latest/api/default_ops.html)"
   ]
  },
  {
   "cell_type": "markdown",
   "metadata": {},
   "source": [
    "### A.3- Quantum kernel\n",
    "\n",
    "- To differentiate between host and quantum device code, the CUDA-Q programming model defines the concept of a quantum kernel.\n",
    "\n",
    "- All quantum kernels must be annotated to indicate they are to be compiled for, and executed on, a specified quantum coprocessor. \n",
    "\n",
    "- Other language bindings may opt to use other language features to enable function annotation or decoration (e.g. a `@cudaq.kernel()` function decorator in Python and `__qpu__` in C++).\n",
    "\n",
    "- Quantum kernel can take classical data as input"
   ]
  },
  {
   "cell_type": "markdown",
   "metadata": {},
   "source": [
    "``` python\n",
    "@cudaq.kernel()\n",
    "def my_first_entry_point_kernel(x : float):\n",
    "   ... quantum code ... \n",
    "\n",
    "@cudaq.kernel()\n",
    "def my_second_entry_point_kernel(x : float, params : list[float]):\n",
    "   ... quantum code ... \n",
    "\n",
    "```"
   ]
  },
  {
   "cell_type": "markdown",
   "metadata": {},
   "source": [
    "- CUDA-Q kernels can serve as input to other quantum kernels and invoked by kernel function body code.\n",
    "\n",
    "\n",
    "```python\n",
    "@cudaq.kernel()\n",
    "def StatePrep(qubits : cudaq.qview):\n",
    "    ... apply state prep operations on qubits ... \n",
    "\n",
    "@cudaq.kernel()\n",
    "def GenericAlgorithm(statePrep : typing.Callable[[cudaq.qview], None]):\n",
    "    q = cudaq.qvector(10)\n",
    "    statePrep(q)\n",
    "    ...\n",
    "\n",
    "MyGenericAlgorithm(MyStatePrep)\n",
    "```\n",
    "\n",
    "- ```cudaq.qview()```: a non-owning reference to a subset of the discrete quantum memory space. It does not own its elements and can therefore be passed by value or reference. (see [this page](https://nvidia.github.io/cuda-quantum/latest/specification/cudaq/types.html#quantum-containers))\n",
    "\n",
    "- Lists inside the quantum kernel can be only constructed with specified size\n",
    "\n",
    "```python\n",
    "@cudaq.kernel\n",
    "def kernel(N : int):\n",
    "\n",
    "   # Not Allowed\n",
    "   # i = []\n",
    "   # i.append(1)\n",
    "\n",
    "   # Allowed\n",
    "   i = [0 for k in range(5)]\n",
    "   j = [0 for _ in range(N)]\n",
    "   i[2] = 3\n",
    "   f = [1., 2., 3.]\n",
    "   k = 0\n",
    "   pi = 3.1415926\n",
    "\n",
    "```\n",
    "\n",
    "- To learn more about the CUDA-Q quantum kernel, visit [this page](https://github.com/NVIDIA/cuda-quantum/blob/main/docs/sphinx/specification/cudaq/kernels.rst)"
   ]
  },
  {
   "cell_type": "markdown",
   "metadata": {},
   "source": [
    "### A.4- Backends & running CUDA-Q programs\n",
    "\n",
    "Two options:\n",
    "\n",
    "1. Define the target when running the program:\n",
    "``` python3 program.py [...] --target <target_name>```\n",
    "\n",
    "2. Target can be defined in the application code:\n",
    "```cudaq.set_target('target_name')``` . Then, to run the program, drop the target flag: \n",
    "```python3 program.py [...]```\n",
    "\n",
    "What is target_name?\n",
    "\n",
    "1. State vector simulators:\n",
    "    - Open-MP CPU only (Default If an NVIDIA GPU and CUDA runtime libraries are NOT available): ```python3 program.py [...] --target qpp-cpu``` \n",
    "    - Single-GPU (Default If an NVIDIA GPU and CUDA runtime libraries are available): ```python3 program.py [...] --target nvidia```\n",
    "    - Mutli-Node Multi-GPUs: ```mpirun -np 2 python3 program.py [...] --target nvidia --target-option mgpu``` \n",
    "2. Tensor network simulator:\n",
    "    - Single-GPU: ```python3 program.py [...] --target tensornet``` \n",
    "    - Multi-GPUs: ```mpirun -np 2 python3 program.py [...] --target tensornet``` \n",
    "3. Matrix Product state:\n",
    "    - Only supports single-GPU simulation: ```python3 program.py [...] --target tensornet-mps``` \n",
    "4. NVIDIA Quantum Cloud\n",
    "    - Run any of the above backends using NVIDIA-provided cloud GPUs (early access only). To learn more, visit [this page](https://www.nvidia.com/en-us/solutions/quantum-computing/cloud/).\n",
    "    - E.g. `cudaq.set_target('nvqc', backend='tensornet')`\n",
    "5. Quantum hardware backend (to learn more, visit [this page](https://nvidia.github.io/cuda-quantum/latest/using/backends/hardware.html)):\n",
    "    - ```cudaq.set_target('QPU_name')```. QPU_name could be `ionq`, `quantinuum`, `iqm`, `oqc`, ...etc.\n",
    "\n",
    "\n",
    "To learn more about CUDA-Q backends, visit [this page](https://nvidia.github.io/cuda-quantum/latest/using/backends/backends.html)"
   ]
  },
  {
   "cell_type": "markdown",
   "metadata": {},
   "source": [
    "### A.5- Examples"
   ]
  },
  {
   "cell_type": "code",
   "execution_count": 1,
   "metadata": {
    "scrolled": true
   },
   "outputs": [
    {
     "name": "stdout",
     "output_type": "stream",
     "text": [
      "     ╭───╮╭───╮╭───╮╭───╮╭───╮╭───╮\n",
      "q0 : ┤ h ├┤ x ├┤ y ├┤ z ├┤ s ├┤ t ├\n",
      "     ╰───╯╰───╯╰───╯╰───╯╰───╯╰───╯\n",
      "\n"
     ]
    }
   ],
   "source": [
    "# Single qubit example\n",
    "\n",
    "import cudaq\n",
    "\n",
    "# Set the backend target\n",
    "cudaq.set_target('nvidia')\n",
    "\n",
    "# We begin by defining the `Kernel` that we will construct our\n",
    "# program with.\n",
    "@cudaq.kernel()\n",
    "def first_kernel():\n",
    "    '''\n",
    "    This is our first CUDA-Q kernel.\n",
    "    '''\n",
    "    # Next, we can allocate a single qubit to the kernel via `qubit()`.\n",
    "    qubit = cudaq.qubit()\n",
    "\n",
    "    # Now we can begin adding instructions to apply to this qubit!\n",
    "    # Here we'll just add non-parameterized\n",
    "    # single qubit gate that is supported by CUDA-Q.\n",
    "    h(qubit)\n",
    "    x(qubit)\n",
    "    y(qubit)\n",
    "    z(qubit)\n",
    "    s(qubit)\n",
    "    t(qubit)\n",
    "    \n",
    "\n",
    "    # Next, we add a measurement to the kernel so that we can sample\n",
    "    # the measurement results on our simulator!\n",
    "    mz(qubit)\n",
    "\n",
    "print(cudaq.draw(first_kernel))"
   ]
  },
  {
   "cell_type": "code",
   "execution_count": 2,
   "metadata": {},
   "outputs": [
    {
     "name": "stdout",
     "output_type": "stream",
     "text": [
      "     ╭───╮          ╭───╮\n",
      "q0 : ┤ h ├──●────●──┤ z ├\n",
      "     ╰───╯╭─┴─╮  │  ├───┤\n",
      "q1 : ─────┤ x ├──┼──┤ z ├\n",
      "          ╰───╯╭─┴─╮├───┤\n",
      "q2 : ──────────┤ x ├┤ z ├\n",
      "               ╰───╯╰───╯\n",
      "\n"
     ]
    }
   ],
   "source": [
    "# Multi-qubit example\n",
    "\n",
    "import cudaq\n",
    "\n",
    "cudaq.set_target('nvidia')\n",
    "\n",
    "@cudaq.kernel\n",
    "def second_kernel(N:int):\n",
    "    qubits=cudaq.qvector(N)\n",
    "\n",
    "    h(qubits[0])\n",
    "    \n",
    "    for i in range(1, N):\n",
    "        x.ctrl(qubits[0],qubits[i])\n",
    "        \n",
    "    z(qubits)\n",
    "\n",
    "    mz(qubits)\n",
    "\n",
    "print(cudaq.draw(second_kernel,3))"
   ]
  },
  {
   "cell_type": "code",
   "execution_count": 3,
   "metadata": {},
   "outputs": [
    {
     "name": "stdout",
     "output_type": "stream",
     "text": [
      "          \n",
      "q0 : ──●──\n",
      "       │  \n",
      "q1 : ──●──\n",
      "       │  \n",
      "q2 : ──●──\n",
      "     ╭─┴─╮\n",
      "q3 : ┤ x ├\n",
      "     ╰───╯\n",
      "\n"
     ]
    }
   ],
   "source": [
    "# Multi-control gates example\n",
    "\n",
    "import cudaq\n",
    "\n",
    "cudaq.set_target('nvidia')\n",
    "\n",
    "@cudaq.kernel\n",
    "def bar(N:int):\n",
    "    qubits=cudaq.qvector(N)\n",
    "    \n",
    "    # front and back: return a direct refernce \n",
    "    controls = qubits.front(N - 1)\n",
    "    target = qubits.back()\n",
    "    \n",
    "    x.ctrl(controls, target)\n",
    "\n",
    "\n",
    "print(cudaq.draw(bar,4))"
   ]
  },
  {
   "cell_type": "markdown",
   "metadata": {},
   "source": [
    "### B- Quantum Algorithmic Primitives"
   ]
  },
  {
   "cell_type": "markdown",
   "metadata": {},
   "source": [
    "### B.1 cudaq.sample():\n",
    "\n",
    "Sample the state of a given quantum circuit for a specified number of shots (circuit execution)\n",
    "\n",
    "This function takes as input a quantum kernel instance followed by the concrete arguments at which the kernel should be invoked"
   ]
  },
  {
   "cell_type": "code",
   "execution_count": 4,
   "metadata": {},
   "outputs": [
    {
     "name": "stdout",
     "output_type": "stream",
     "text": [
      "     ╭───╮     \n",
      "q0 : ┤ h ├──●──\n",
      "     ╰───╯╭─┴─╮\n",
      "q1 : ─────┤ x ├\n",
      "          ╰───╯\n",
      "\n",
      "{ 00:4969 11:5031 }\n",
      "\n",
      "Observed: 00, 4969\n",
      "Observed: 11, 5031\n"
     ]
    }
   ],
   "source": [
    "# Sampling Bell state example\n",
    "\n",
    "import cudaq\n",
    "\n",
    "cudaq.set_target('nvidia')\n",
    "\n",
    "@cudaq.kernel\n",
    "def bell():\n",
    "    qubits=cudaq.qvector(2)\n",
    "\n",
    "    h(qubits[0])\n",
    "    x.ctrl(qubits[0], qubits[1])\n",
    "\n",
    "    mz(qubits)\n",
    "\n",
    "print(cudaq.draw(bell))\n",
    "# Sample the state generated by bell\n",
    "# shots_count: the number of kernel executions. Default is 1000\n",
    "counts = cudaq.sample(bell, shots_count=10000) \n",
    "\n",
    "# Print to standard out\n",
    "print(counts)\n",
    "\n",
    "# Fine-grained access to the bits and counts \n",
    "for bits, count in counts.items():\n",
    "    print('Observed: {}, {}'.format(bits, count))"
   ]
  },
  {
   "cell_type": "code",
   "execution_count": 5,
   "metadata": {},
   "outputs": [
    {
     "name": "stdout",
     "output_type": "stream",
     "text": [
      "     ╭───╮╭──────────╮               \n",
      "q0 : ┤ h ├┤ ry(0.15) ├──●────●────●──\n",
      "     ├───┤├─────────┬╯  │    │    │  \n",
      "q1 : ┤ h ├┤ ry(1.5) ├───●────●────●──\n",
      "     ├───┤╰─────────╯ ╭─┴─╮  │    │  \n",
      "q2 : ┤ h ├────────────┤ x ├──●────●──\n",
      "     ├───┤            ╰───╯╭─┴─╮╭─┴─╮\n",
      "q3 : ┤ h ├─────────────────┤ x ├┤ x ├\n",
      "     ╰───╯                 ╰───╯╰───╯\n",
      "\n",
      "Result:  { 0000:1 1000:3 1101:729 0100:533 1100:749 0110:556 1111:625 1110:720 1001:2 0101:540 0111:542 }\n",
      "\n",
      "Most probable bit string:  1100\n"
     ]
    }
   ],
   "source": [
    "# Another sampling example\n",
    "\n",
    "import cudaq\n",
    "\n",
    "cudaq.set_target('nvidia')\n",
    "\n",
    "@cudaq.kernel\n",
    "def sampling_example(N:int, theta:list[float]):\n",
    "    qubit=cudaq.qvector(N)\n",
    "\n",
    "    h(qubit)\n",
    "\n",
    "    for i in range(0,N//2):\n",
    "        ry(theta[i],qubit[i])\n",
    "    \n",
    "\n",
    "    x.ctrl([qubit[0],qubit[1]],qubit[2]) #ccx\n",
    "    x.ctrl([qubit[0],qubit[1],qubit[2]],qubit[3]) #cccx\n",
    "    x.ctrl(qubit[0:3],qubit[3]) #cccx using Python slicing syntax\n",
    "\n",
    "    mz(qubit)\n",
    "\n",
    "params=[0.15,1.5]\n",
    "\n",
    "print(cudaq.draw(sampling_example, 4, params))\n",
    "\n",
    "result=cudaq.sample(sampling_example, 4, params, shots_count=5000)\n",
    "\n",
    "print('Result: ', result)\n",
    "\n",
    "print('Most probable bit string: ', result.most_probable())   "
   ]
  },
  {
   "cell_type": "markdown",
   "metadata": {},
   "source": [
    "- ###  Mid-circuit measurement & conditional sampling"
   ]
  },
  {
   "cell_type": "code",
   "execution_count": 6,
   "metadata": {},
   "outputs": [
    {
     "name": "stdout",
     "output_type": "stream",
     "text": [
      "{ \n",
      "  __global__ : { 100:84 110:916 }\n",
      "   aux : { 1:84 0:916 }\n",
      "}\n",
      "\n"
     ]
    }
   ],
   "source": [
    "# Mid-circuit measurment example\n",
    "\n",
    "import cudaq\n",
    "\n",
    "cudaq.set_target('nvidia')\n",
    "\n",
    "@cudaq.kernel\n",
    "def mid_circuit_m(theta:float):\n",
    "    qubit=cudaq.qvector(2)\n",
    "    ancilla=cudaq.qubit()\n",
    "\n",
    "    x(qubit[0])\n",
    "    \n",
    "    ry(theta,ancilla)\n",
    "\n",
    "    aux=mz(ancilla)\n",
    "    \n",
    "    if aux:\n",
    "        x(ancilla)\n",
    "    else:\n",
    "        x(qubit[1])\n",
    "    \n",
    "    mz(ancilla)\n",
    "    mz(qubit)\n",
    "\n",
    "angle=0.5\n",
    "result=cudaq.sample(mid_circuit_m, angle)\n",
    "print(result)"
   ]
  },
  {
   "cell_type": "markdown",
   "metadata": {},
   "source": [
    "- Here, we see that we have measured the ancilla qubit to a register named ```aux```\n",
    "\n",
    "- If any measurements appear in the kernel, then only the measured qubits will appear in the ```__global__``` register, and they will be sorted in qubit allocation order.\n",
    "\n",
    "- To learn more about cudaq.sample(), visit [this page](https://nvidia.github.io/cuda-quantum/latest/specification/cudaq/algorithmic_primitives.html#cudaq-sample)"
   ]
  },
  {
   "cell_type": "markdown",
   "metadata": {},
   "source": [
    "### B.2 cudaq.observe()"
   ]
  },
  {
   "cell_type": "markdown",
   "metadata": {},
   "source": [
    "- A common task in variational algorithms is the computation of the expected value of a given observable with respect to a quantum circuit ⟨H⟩ = ⟨ψ|H|ψ⟩.\n",
    "- The `cudaq.observe()` function is provided to enable one to quickly compute this expectation value via execution of the quantum circuit.\n",
    "- The `cudaq.observe()` function takes a kernel, any kernel arguments, and a **spin operator** as inputs."
   ]
  },
  {
   "cell_type": "markdown",
   "metadata": {},
   "source": [
    "\n",
    "#### Spin Hamiltonian operator: ####\n",
    "\n",
    "- CUDA-Q defines convenience functions in `cudaq.spin` namespace that produce the primitive X, Y, and Z Pauli operators on specified qubit indices which can subsequently be used in algebraic expressions to build up more complicated Pauli tensor products and their sums.\n",
    "\n",
    "\n",
    "\n",
    "\n",
    "- For example, to define the spin hamiltonian $H= 0.5 Z_0 + X_1 + Y_0 + Y_0 Y_1+ X_0 Y_1 Z_2 -2 Z_1 Z_2 - 2 Z_0 Z_1$:\n"
   ]
  },
  {
   "cell_type": "code",
   "execution_count": 7,
   "metadata": {},
   "outputs": [
    {
     "name": "stdout",
     "output_type": "stream",
     "text": [
      "[-2+0j] IZZ\n",
      "[-2+0j] ZZI\n",
      "[1+0j] XYZ\n",
      "[0.5+0j] ZII\n",
      "[1+0j] YII\n",
      "[1+0j] IXI\n",
      "[1+0j] YYI\n",
      "\n",
      "Total number of terms in the spin hamiltonian:  7\n"
     ]
    }
   ],
   "source": [
    "# Spin operator example\n",
    "\n",
    "from cudaq import spin\n",
    "\n",
    "hamiltonian = 0.5*spin.z(0) + spin.x(1) + spin.y(0) + spin.y(0) * spin.y(1)+ spin.x(0)*spin.y(1)*spin.z(2)\n",
    "\n",
    "# add some more terms\n",
    "for i in range(2):\n",
    "  hamiltonian += -2.0*spin.z(i)*spin.z(i+1)\n",
    "\n",
    "print(hamiltonian)\n",
    "\n",
    "print('Total number of terms in the spin hamiltonian: ',hamiltonian.get_term_count())"
   ]
  },
  {
   "cell_type": "markdown",
   "metadata": {},
   "source": [
    "#### Expectation Value ####\n",
    "\n",
    "- The `cudaq.observe()` function returns an `ObserveResult` object. The expectation value can be obtained using the `expectation` method.\n",
    "- In the example below, the obervable is $H= -5.907 \\, I + 2.1433 \\, X_0X_1 +2.1433\\, Y_0 Y_1 - 0.21829 \\, Z_0 +6.125\\, Z_1$\n"
   ]
  },
  {
   "cell_type": "code",
   "execution_count": 8,
   "metadata": {},
   "outputs": [
    {
     "name": "stdout",
     "output_type": "stream",
     "text": [
      "Energy is -13.562794135947076\n"
     ]
    }
   ],
   "source": [
    "# Expectation value example\n",
    "\n",
    "# The example here shows a simple use case for the `cudaq.observe``\n",
    "# function in computing expected values of provided spin hamiltonian operators.\n",
    "\n",
    "import cudaq\n",
    "from cudaq import spin\n",
    "\n",
    "cudaq.set_target('nvidia')\n",
    "\n",
    "qubit_num=2\n",
    "\n",
    "@cudaq.kernel\n",
    "def init_state(qubits:cudaq.qview):\n",
    "    n=qubits.size()\n",
    "    for i in range(n):\n",
    "        x(qubits[i])\n",
    "\n",
    "@cudaq.kernel\n",
    "def observe_example(theta: float):\n",
    "    qvector = cudaq.qvector(qubit_num)\n",
    "\n",
    "    init_state(qvector)\n",
    "    ry(theta, qvector[1])\n",
    "    x.ctrl(qvector[1], qvector[0])\n",
    "\n",
    "\n",
    "spin_operator = -5.907 + 2.1433 * spin.x(0) * spin.x(1) + 2.1433 * spin.y(\n",
    "    0) * spin.y(1) - .21829 * spin.z(0) + 6.125 * spin.z(1)\n",
    "\n",
    "# Pre-computed angle that minimizes the energy expectation of the `spin_operator`.\n",
    "angle = 0.59\n",
    "\n",
    "energy = cudaq.observe(observe_example, spin_operator, angle).expectation()\n",
    "print(f\"Energy is {energy}\")"
   ]
  },
  {
   "cell_type": "markdown",
   "metadata": {},
   "source": [
    "### B.3 Asynchronous execution\n",
    "\n",
    "- Executing quantum circuits on actual hardware can involve long queuing time.\n",
    "- Also simulation can be computationally intensive.\n",
    "- Algorithmic primitives `cudaq.sample()` and `cudaq.observe()` have asynchronous versions `cudaq.sample_async()` and `cudaq.observe_async()`.\n",
    "- Asynchronous primitives return immediatly an asynchronous result object. The actual result can be obtained with its `get()` method.\n",
    "- If the result is not done, `get()` will wait synchronously."
   ]
  },
  {
   "cell_type": "code",
   "execution_count": 9,
   "metadata": {},
   "outputs": [
    {
     "name": "stdout",
     "output_type": "stream",
     "text": [
      "     ╭───╮╭──────────╮               \n",
      "q0 : ┤ h ├┤ ry(0.15) ├──●────●────●──\n",
      "     ├───┤├─────────┬╯  │    │    │  \n",
      "q1 : ┤ h ├┤ ry(1.5) ├───●────●────●──\n",
      "     ├───┤╰─────────╯ ╭─┴─╮  │    │  \n",
      "q2 : ┤ h ├────────────┤ x ├──●────●──\n",
      "     ├───┤            ╰───╯╭─┴─╮╭─┴─╮\n",
      "q3 : ┤ h ├─────────────────┤ x ├┤ x ├\n",
      "     ╰───╯                 ╰───╯╰───╯\n",
      "\n",
      "Sampling triggered on the GPU...\n",
      "Doing some CPU work...\n",
      "CPU work is done!\n",
      "Waiting for sampling result...\n",
      "Result:  { 0000:1 0011:1 0100:548 1100:730 0110:512 1111:733 1110:695 0101:545 1101:711 0111:524 }\n",
      "\n",
      "Most probable bit string:  1111\n"
     ]
    }
   ],
   "source": [
    "# Asynchronous sampling example\n",
    "\n",
    "import cudaq\n",
    "\n",
    "cudaq.set_target('nvidia')\n",
    "\n",
    "@cudaq.kernel\n",
    "def asynchronous_example(N:int, theta:list[float]):\n",
    "    qubit=cudaq.qvector(N)\n",
    "\n",
    "    h(qubit)\n",
    "\n",
    "    for i in range(0,N//2):\n",
    "        ry(theta[i],qubit[i])\n",
    "    \n",
    "\n",
    "    x.ctrl([qubit[0],qubit[1]],qubit[2]) #ccx\n",
    "    x.ctrl([qubit[0],qubit[1],qubit[2]],qubit[3]) #cccx\n",
    "    x.ctrl(qubit[0:3],qubit[3]) #cccx using Python slicing syntax\n",
    "\n",
    "    mz(qubit)\n",
    "\n",
    "params=[0.15,1.5]\n",
    "\n",
    "print(cudaq.draw(asynchronous_example, 4, params))\n",
    "\n",
    "async_result=cudaq.sample_async(asynchronous_example, 4, params, shots_count=5000)\n",
    "print(\"Sampling triggered on the GPU...\")\n",
    "\n",
    "# In the mean time, let us do calculations on the CPU\n",
    "print(\"Doing some CPU work...\")\n",
    "x = 0\n",
    "for i in range(10000):\n",
    "    x+=i\n",
    "print(\"CPU work is done!\")\n",
    "\n",
    "print(\"Waiting for sampling result...\")\n",
    "# Now let's check the result\n",
    "result = async_result.get()\n",
    "\n",
    "print('Result: ', result)\n",
    "\n",
    "print('Most probable bit string: ', result.most_probable())   "
   ]
  },
  {
   "cell_type": "markdown",
   "metadata": {},
   "source": [
    "### C- Excercises\n",
    "\n",
    "1. Write a quantum kernel that prepares the [Greenberger–Horne–Zeilinger state (GHZ state)](https://en.wikipedia.org/wiki/Greenberger%E2%80%93Horne%E2%80%93Zeilinger_state) for an arbitrary number $N$ of qubits.\\\n",
    "   $\\left| \\operatorname{GHZ}\\right> = \\frac{1}{\\sqrt{2}} \\left( \\left|00\\dots0\\right> + \\left|11\\dots1\\right> \\right)$ \\\n",
    "   Draw the corresponding quantum circuit for 5 qubits.\n",
    "2. Produce 10000 samples from the above GHZ state, and confirm that bitstrings $00\\dots0$ and $11\\dots1$ are indeed measured an (almost) equal number of times.\n",
    "3. Calculate the expectation value of the operators $H_x = X_0 X_1\\dots X_N$ and $H_z = Z_0 Z_1\\dots Z_N$ for the above GHZ state.\n",
    "4. Repeat the expectation value calculations using the async observe primitive."
   ]
  },
  {
   "cell_type": "markdown",
   "metadata": {},
   "source": [
    "Solutions are available in the `solutions` directory, but you are encourged to try solving these for yourself first!"
   ]
  }
 ],
 "metadata": {
  "kernelspec": {
   "display_name": "Python 3 (ipykernel)",
   "language": "python",
   "name": "python3"
  },
  "language_info": {
   "codemirror_mode": {
    "name": "ipython",
    "version": 3
   },
   "file_extension": ".py",
   "mimetype": "text/x-python",
   "name": "python",
   "nbconvert_exporter": "python",
   "pygments_lexer": "ipython3",
   "version": "3.10.12"
  }
 },
 "nbformat": 4,
 "nbformat_minor": 4
}
