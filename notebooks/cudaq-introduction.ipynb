{
 "cells": [
  {
   "cell_type": "markdown",
   "metadata": {},
   "source": [
    "# CUDA-Q Introduction"
   ]
  },
  {
   "cell_type": "markdown",
   "metadata": {},
   "source": [
    "## Installation of CUDA-Q\n",
    "\n",
    "- Visit [CUDA-Q Quick Start](https://nvidia.github.io/cuda-quantum/latest/using/quick_start.html)\n",
    "- To explore more, visit [CUDA-Q installation](https://nvidia.github.io/cuda-quantum/latest/using/install/install.html)"
   ]
  },
  {
   "cell_type": "markdown",
   "metadata": {},
   "source": [
    "## Quantum circuit basics"
   ]
  },
  {
   "cell_type": "code",
   "execution_count": 1,
   "metadata": {},
   "outputs": [
    {
     "name": "stdout",
     "output_type": "stream",
     "text": [
      "     ╭───╮          \n",
      "q0 : ┤ h ├──●───────\n",
      "     ╰───╯╭─┴─╮     \n",
      "q1 : ─────┤ x ├──●──\n",
      "          ╰───╯╭─┴─╮\n",
      "q2 : ──────────┤ x ├\n",
      "               ╰───╯\n",
      "\n"
     ]
    }
   ],
   "source": [
    "# Example of Quantum Circuit\n",
    "\n",
    "from cudaq.qis import *\n",
    "\n",
    "import cudaq\n",
    "\n",
    "\n",
    "@cudaq.kernel\n",
    "def circuit():\n",
    "    qubits = cudaq.qvector(3)\n",
    "    h(qubits[0])\n",
    "    cx(qubits[0], qubits[1])\n",
    "    cx(qubits[1], qubits[2])\n",
    "\n",
    "\n",
    "print(cudaq.draw(circuit))"
   ]
  },
  {
   "cell_type": "markdown",
   "metadata": {},
   "source": [
    "### Qubit allocation\n",
    "\n",
    "- cudaq.qubit(): a single quantum bit (2-level) in the discrete quantum memory space. \n",
    "\n",
    "```python\n",
    "qubit = cudaq.qubit()\n",
    "```\n",
    "\n",
    "- cudaq.qvector(N): a multi quantum bit ($2^N$ level) in the discrete quantum memory\n",
    "\n",
    "```python\n",
    "qubits = cudaq.qvector(N)\n",
    "```\n",
    "\n",
    "    \n",
    "- Is initialized to the |0> computational basis state.\n",
    "\n",
    "- Owns the quantum memory, therefore it cannot be copied or moved (no-cloning theorem). It can be passed by reference (i.e., references to qubit vectors).\n"
   ]
  },
  {
   "cell_type": "markdown",
   "metadata": {},
   "source": [
    "### Quantum Operations\n",
    "\n",
    "\n",
    "- x: Not gate (Pauli-X gate)\n",
    "\n",
    "```python\n",
    "q = cudaq.qubit()\n",
    "x(q)\n",
    "```\n",
    "- h: Hadamard gate\n",
    "\n",
    "```python\n",
    "q = cudaq.qvector(2)\n",
    "h(q[0])\n",
    "```\n",
    "\n",
    "- x.ctrl(control,target) or ([control_1, control_2], target): C-NOT gate\n",
    "\n",
    "```python\n",
    "q = cudaq.qvector(3)\n",
    "x.ctrl(q[0], q[1])\n",
    "```\n",
    "\n",
    "- rx(angle, qubit): rotation around x-axis\n",
    "```python\n",
    "q=cudaq.qubit()\n",
    "rx(np.pi, q)\n",
    "```\n",
    "\n",
    "- adj: adjoint transformation\n",
    "```python\n",
    "q=cudaq.qubit()\n",
    "rx(np.pi, q)\n",
    "rx.adj(np.pi, q)\n",
    "```\n",
    "\n",
    "- mz: measure qubits in the computational basis\n",
    "\n",
    "```python\n",
    "q=cudaq.qvector(2)\n",
    "h(q[0])\n",
    "x.ctrl(q[0], q[1])\n",
    "mz(q)\n",
    "```\n",
    "\n",
    "\n",
    "To learn more about the quantum operations available in CUDA-Q, visit [this page](https://nvidia.github.io/cuda-quantum/latest/specification/cudaq/kernels.html)."
   ]
  },
  {
   "cell_type": "markdown",
   "metadata": {},
   "source": [
    "### Quantum kernel\n",
    "\n",
    "- To differentiate between host and quantum device code, the CUDA-Q programming model defines the concept of a quantum kernel.\n",
    "\n",
    "- All quantum kernels must be annotated to indicate they are to be compiled for, and executed on, a specified quantum coprocessor. \n",
    "\n",
    "- Other language bindings may opt to use other language features to enable function annotation or decoration (e.g. a `@cudaq.kernel()` function decorator in Python and `__qpu__` in C++).\n",
    "\n",
    "- Quantum kernel can take classical data as input."
   ]
  },
  {
   "cell_type": "markdown",
   "metadata": {},
   "source": [
    "``` python\n",
    "@cudaq.kernel()\n",
    "def my_first_entry_point_kernel(x : float):\n",
    "   ... quantum code ... \n",
    "\n",
    "@cudaq.kernel()\n",
    "def my_second_entry_point_kernel(x : float, params : list[float]):\n",
    "   ... quantum code ... \n",
    "\n",
    "```"
   ]
  },
  {
   "cell_type": "markdown",
   "metadata": {},
   "source": [
    "- CUDA-Q kernels can serve as input to other quantum kernels and invoked by kernel function body code.\n",
    "\n",
    "\n",
    "```python\n",
    "@cudaq.kernel()\n",
    "def my_state_prep(qubits : cudaq.qview):\n",
    "    ... apply state prep operations on qubits ... \n",
    "\n",
    "@cudaq.kernel()\n",
    "def my_generic_algorithm(state_prep : typing.Callable[[cudaq.qview], None]):\n",
    "    q = cudaq.qvector(10)\n",
    "    my_state_prep(q)\n",
    "    ...\n",
    "\n",
    "my_generic_algorithm(my_state_prep)\n",
    "```\n",
    "\n",
    "- `cudaq.qview()`: a non-owning reference to a subset of the discrete quantum memory space. It does not own its elements and can therefore be passed by value or reference. (see [this page](https://nvidia.github.io/cuda-quantum/latest/specification/cudaq/types.html#quantum-containers))\n",
    "\n",
    "- Vectors inside the quantum kernel can be only constructed with specified size\n",
    "\n",
    "```python\n",
    "@cudaq.kernel\n",
    "def kernel(n: int):\n",
    "\n",
    "   # Not Allowed\n",
    "   # i = []\n",
    "   # i.append(1)\n",
    "\n",
    "   # Allowed\n",
    "   i = [0 for k in range(5)]\n",
    "   j = [0 for _ in range(n)]\n",
    "   i[2] = 3\n",
    "   f = [1., 2., 3.]\n",
    "   k = 0\n",
    "   pi = 3.1415926\n",
    "\n",
    "```\n",
    "\n",
    "- To learn more about the CUDA-Q quantum kernel, visit [this page](https://github.com/NVIDIA/cuda-quantum/blob/main/docs/sphinx/specification/cudaq/kernels.rst)."
   ]
  },
  {
   "cell_type": "markdown",
   "metadata": {},
   "source": [
    "### Code Examples"
   ]
  },
  {
   "cell_type": "code",
   "execution_count": 2,
   "metadata": {},
   "outputs": [
    {
     "name": "stdout",
     "output_type": "stream",
     "text": [
      "     ╭───╮╭───╮╭───╮╭───╮╭───╮╭───╮\n",
      "q0 : ┤ h ├┤ x ├┤ y ├┤ z ├┤ t ├┤ s ├\n",
      "     ╰───╯╰───╯╰───╯╰───╯╰───╯╰───╯\n",
      "\n"
     ]
    }
   ],
   "source": [
    "# Single qubit example\n",
    "\n",
    "from cudaq.qis import *\n",
    "\n",
    "import cudaq\n",
    "\n",
    "# Set the backend target\n",
    "cudaq.set_target(\"nvidia\")\n",
    "\n",
    "\n",
    "# We begin by defining the `Kernel` that we will construct our\n",
    "# program with.\n",
    "@cudaq.kernel()\n",
    "def first_kernel():\n",
    "    \"\"\"\n",
    "    This is our first CUDA-Q kernel.\n",
    "    \"\"\"\n",
    "    # Next, we can allocate a single qubit to the kernel via `qubit()`.\n",
    "    qubit = cudaq.qubit()\n",
    "\n",
    "    # Now we can begin adding instructions to apply to this qubit!\n",
    "    # Here we'll just add non-parameterized\n",
    "    # single qubit gate that is supported by CUDA-Q.\n",
    "    h(qubit)\n",
    "    x(qubit)\n",
    "    y(qubit)\n",
    "    z(qubit)\n",
    "    t(qubit)\n",
    "    s(qubit)\n",
    "\n",
    "    # Next, we add a measurement to the kernel so that we can sample\n",
    "    # the measurement results on our simulator!\n",
    "    mz(qubit)\n",
    "\n",
    "\n",
    "print(cudaq.draw(first_kernel))"
   ]
  },
  {
   "cell_type": "code",
   "execution_count": 3,
   "metadata": {},
   "outputs": [
    {
     "name": "stdout",
     "output_type": "stream",
     "text": [
      "     ╭───╮          ╭───╮\n",
      "q0 : ┤ h ├──●────●──┤ x ├\n",
      "     ╰───╯╭─┴─╮  │  ├───┤\n",
      "q1 : ─────┤ x ├──┼──┤ x ├\n",
      "          ╰───╯╭─┴─╮├───┤\n",
      "q2 : ──────────┤ x ├┤ x ├\n",
      "     ╭───╮     ╰───╯╰───╯\n",
      "q3 : ┤ x ├───────────────\n",
      "     ╰───╯               \n",
      "\n"
     ]
    }
   ],
   "source": [
    "# Multi-qubit example\n",
    "\n",
    "import cudaq\n",
    "\n",
    "cudaq.set_target(\"nvidia\")\n",
    "\n",
    "\n",
    "@cudaq.kernel\n",
    "def second_kernel(num_qubits: int):\n",
    "    qubits = cudaq.qvector(num_qubits)\n",
    "\n",
    "    h(qubits[0])\n",
    "    x.ctrl(qubits[0], qubits[1])\n",
    "    cx(qubits[0], qubits[2])  # cx is also ok\n",
    "    x(qubits[0:4])\n",
    "\n",
    "    mz(qubits)\n",
    "\n",
    "\n",
    "print(cudaq.draw(second_kernel, 5))"
   ]
  },
  {
   "cell_type": "code",
   "execution_count": 4,
   "metadata": {},
   "outputs": [
    {
     "name": "stdout",
     "output_type": "stream",
     "text": [
      "          \n",
      "q0 : ──●──\n",
      "       │  \n",
      "q1 : ──●──\n",
      "       │  \n",
      "q2 : ──●──\n",
      "       │  \n",
      "q3 : ──●──\n",
      "       │  \n",
      "q4 : ──●──\n",
      "       │  \n",
      "q5 : ──●──\n",
      "       │  \n",
      "q6 : ──●──\n",
      "       │  \n",
      "q7 : ──●──\n",
      "       │  \n",
      "q8 : ──●──\n",
      "     ╭─┴─╮\n",
      "q9 : ┤ x ├\n",
      "     ╰───╯\n",
      "\n"
     ]
    }
   ],
   "source": [
    "import cudaq\n",
    "\n",
    "cudaq.set_target(\"nvidia\")\n",
    "\n",
    "\n",
    "@cudaq.kernel\n",
    "def bar(num_qubits: int):\n",
    "    qubits = cudaq.qvector(num_qubits)\n",
    "    # front and back: return a direct refernce\n",
    "    h(qubits[0:-3])\n",
    "    controls = qubits.front(num_qubits - 1)\n",
    "    target = qubits.back()\n",
    "\n",
    "    x.ctrl(controls, target)\n",
    "\n",
    "\n",
    "print(cudaq.draw(bar, 10))"
   ]
  },
  {
   "cell_type": "markdown",
   "metadata": {},
   "source": [
    "<div class=\"alert alert-block alert-success\"> \n",
    "\n",
    "### Exerciese 1\n",
    "\n",
    "Now you can make quantum kernels! Let's make the kernel to create the GHZ state for $n$ qubits $\\frac{1}{\\sqrt{2}}(\\ket{00\\dots 0} + \\ket{11\\dots 1})$!\n",
    "\n",
    "**Advanced**: Assume that the qubits are connected in one dimension. Let's build a circuit so that the depth of 2-qubit gates is as small as possible.\n",
    "<div>"
   ]
  },
  {
   "cell_type": "code",
   "execution_count": 5,
   "metadata": {},
   "outputs": [
    {
     "name": "stdout",
     "output_type": "stream",
     "text": [
      "\n"
     ]
    }
   ],
   "source": [
    "import cudaq\n",
    "\n",
    "cudaq.set_target(\"nvidia\")\n",
    "\n",
    "\n",
    "@cudaq.kernel\n",
    "def ghz(num_qubits: int):\n",
    "    q = cudaq.qvector(num_qubits)\n",
    "    # Write your code here!\n",
    "\n",
    "print(cudaq.draw(ghz, 10))"
   ]
  },
  {
   "cell_type": "markdown",
   "metadata": {},
   "source": [
    "## Backends & running CUDA-Q programs\n",
    "\n",
    "Two options to set the target:\n",
    "\n",
    "1. Define the target when running the program:\n",
    "```bash\n",
    "python3 program.py [...] --target <target_name>\n",
    "```\n",
    "\n",
    "2. Target can be defined in the application code:\n",
    "`cudaq.set_target('target_name')` . Then, to run the program, drop the target flag: \n",
    "`python3 program.py [...]`\n",
    "\n",
    "What is `target_name`?\n",
    "\n",
    "1. State vector simulators:\n",
    "    - Single-GPU (Default if an NVIDIA GPU and CUDA runtime libraries are available): `python3 program.py [...] --target nvidia`\n",
    "    - Multi-GPUs: `mpirun -np 2 python3 program.py [...] --target nvidia-mgpu` \n",
    "2. Tensor network simulator:\n",
    "    - Single-GPU: `python3 program.py [...] --target tensornet`\n",
    "    - Multi-GPUs: `mpirun -np 2 python3 program.py [...] --target tensornet`\n",
    "3. Matrix Product State:\n",
    "    - Only supports single-GPU simulation: `python3 program.py [...] --target tensornet-mps`\n",
    "4. NVIDIA Quantum Cloud\n",
    "    - Run any of the above backends using NVIDIA-provided cloud GPUs (early access only). To learn more, visit [this page](https://www.nvidia.com/en-us/solutions/quantum-computing/cloud/).\n",
    "    - E.g. `cudaq.set_target('nvqc', backend='tensornet')`\n",
    "5. Quantum hardware backend (to learn more, visit [this page](https://nvidia.github.io/cuda-quantum/latest/using/backends/hardware.html)):\n",
    "    - ```cudaq.set_target('QPU_name')```. QPU_name could be `ionq`, `quantinuum`, `iqm`, `oqc`, ...etc.\n",
    "\n",
    "\n",
    "To learn more about CUDA-Q backends, visit [this page](https://nvidia.github.io/cuda-quantum/latest/using/backends/backends.html)"
   ]
  },
  {
   "cell_type": "markdown",
   "metadata": {},
   "source": [
    "## Quantum Algorithmic Primitives"
   ]
  },
  {
   "cell_type": "markdown",
   "metadata": {},
   "source": [
    "### cudaq.sample()\n",
    "\n",
    "Sample a given quantum circuit for a specified number of shots (circuit execution).\n",
    "\n",
    "This function takes as input a quantum kernel instance followed by the concrete arguments at which the kernel should be invoked."
   ]
  },
  {
   "cell_type": "code",
   "execution_count": 6,
   "metadata": {},
   "outputs": [
    {
     "name": "stdout",
     "output_type": "stream",
     "text": [
      "     ╭───╮     \n",
      "q0 : ┤ h ├──●──\n",
      "     ╰───╯╭─┴─╮\n",
      "q1 : ─────┤ x ├\n",
      "          ╰───╯\n",
      "\n",
      "{ 00:4969 11:5031 }\n",
      "\n",
      "Observed 00: 4969\n",
      "Observed 11: 5031\n"
     ]
    }
   ],
   "source": [
    "import cudaq\n",
    "\n",
    "cudaq.set_target(\"nvidia\")\n",
    "\n",
    "\n",
    "@cudaq.kernel\n",
    "def bell(num_qubits: int):\n",
    "    qubits = cudaq.qvector(num_qubits)\n",
    "\n",
    "    h(qubits[0])\n",
    "    x.ctrl(qubits[0], qubits[1])\n",
    "\n",
    "    mz(qubits)\n",
    "\n",
    "\n",
    "print(cudaq.draw(bell, 2))\n",
    "# Sample the state generated by bell\n",
    "# shots_count: the number of kernel executions. Default is 1000\n",
    "counts = cudaq.sample(bell, 2, shots_count=10000)\n",
    "\n",
    "# Print to standard out\n",
    "print(counts)\n",
    "\n",
    "# Fine-grained access to the bits and counts\n",
    "for bits, count in counts.items():\n",
    "    print(f\"Observed {bits}: {count}\")"
   ]
  },
  {
   "cell_type": "code",
   "execution_count": 7,
   "metadata": {},
   "outputs": [
    {
     "name": "stdout",
     "output_type": "stream",
     "text": [
      "     ╭───╮╭──────────╮               \n",
      "q0 : ┤ h ├┤ ry(0.15) ├──●────●────●──\n",
      "     ├───┤├─────────┬╯  │    │    │  \n",
      "q1 : ┤ h ├┤ ry(1.5) ├───●────●────●──\n",
      "     ├───┤╰─────────╯ ╭─┴─╮  │    │  \n",
      "q2 : ┤ h ├────────────┤ x ├──●────●──\n",
      "     ├───┤            ╰───╯╭─┴─╮╭─┴─╮\n",
      "q3 : ┤ h ├─────────────────┤ x ├┤ x ├\n",
      "     ╰───╯                 ╰───╯╰───╯\n",
      "\n",
      "Result:  { 0000:1 1000:3 1101:729 0100:533 1100:749 0110:556 1111:625 1110:720 1001:2 0101:540 0111:542 }\n",
      "\n",
      "Most probable bit string:  1100\n"
     ]
    }
   ],
   "source": [
    "import cudaq\n",
    "\n",
    "cudaq.set_target(\"nvidia\")\n",
    "\n",
    "\n",
    "@cudaq.kernel\n",
    "def third_example(num_qubits: int, theta: list[float]):\n",
    "    qubit = cudaq.qvector(num_qubits)\n",
    "\n",
    "    h(qubit)\n",
    "\n",
    "    for i in range(0, num_qubits // 2):\n",
    "        ry(theta[i], qubit[i])\n",
    "\n",
    "    x.ctrl([qubit[0], qubit[1]], qubit[2])  # ccx\n",
    "    x.ctrl([qubit[0], qubit[1], qubit[2]], qubit[3])  # cccx\n",
    "    x.ctrl(qubit[0:3], qubit[3])  # cccx using Python slicing syntax\n",
    "\n",
    "    mz(qubit)\n",
    "\n",
    "\n",
    "params = [0.15, 1.5]\n",
    "\n",
    "print(cudaq.draw(third_example, 4, params))\n",
    "\n",
    "result = cudaq.sample(third_example, 4, params, shots_count=5000)\n",
    "\n",
    "print(\"Result: \", result)\n",
    "\n",
    "print(\"Most probable bit string: \", result.most_probable())"
   ]
  },
  {
   "cell_type": "markdown",
   "metadata": {},
   "source": [
    "###  Mid-circuit measurement & conditional sampling"
   ]
  },
  {
   "cell_type": "code",
   "execution_count": 8,
   "metadata": {},
   "outputs": [
    {
     "name": "stdout",
     "output_type": "stream",
     "text": [
      "{ \n",
      "  __global__ : { 100:84 110:916 }\n",
      "   anc : { 0:1000 }\n",
      "   sys : { 10:84 11:916 }\n",
      "   aux : { 1:84 0:916 }\n",
      "}\n",
      "\n"
     ]
    }
   ],
   "source": [
    "import cudaq\n",
    "\n",
    "cudaq.set_target(\"nvidia\")\n",
    "\n",
    "\n",
    "@cudaq.kernel\n",
    "def mid_circuit_m(theta: float):\n",
    "    qubit = cudaq.qvector(2)\n",
    "    ancilla = cudaq.qubit()\n",
    "\n",
    "    ry(theta, ancilla)\n",
    "\n",
    "    aux = mz(ancilla)\n",
    "    if aux:\n",
    "        x(qubit[0])\n",
    "        x(ancilla)\n",
    "    else:\n",
    "        x(qubit[0])\n",
    "        x(qubit[1])\n",
    "\n",
    "    anc = mz(ancilla)\n",
    "    sys = mz(qubit)\n",
    "\n",
    "\n",
    "angle = 0.5\n",
    "\n",
    "result = cudaq.sample(mid_circuit_m, angle)\n",
    "print(result)"
   ]
  },
  {
   "cell_type": "markdown",
   "metadata": {},
   "source": [
    "- Here, we see that we have measured the ancilla qubit to a register named ```aux```.\n",
    "\n",
    "- If any measurements appear in the kernel, then only the measured qubits will appear in the ```__global__``` register, and they will be sorted in qubit allocation order.\n",
    "\n",
    "- To learn more about cudaq.sample(), visit [this page](https://nvidia.github.io/cuda-quantum/latest/specification/cudaq/algorithmic_primitives.html#cudaq-sample)."
   ]
  },
  {
   "cell_type": "markdown",
   "metadata": {},
   "source": [
    "<div class=\"alert alert-block alert-success\"> \n",
    "    \n",
    "### Exercise 2\n",
    "\n",
    "Let's run your ghz kernel with sampler! Set `shots_count=10000`. Do you obtain the expected result?\n",
    "\n",
    "</div>"
   ]
  },
  {
   "cell_type": "code",
   "execution_count": 9,
   "metadata": {},
   "outputs": [],
   "source": [
    "# Write your code here!"
   ]
  },
  {
   "cell_type": "markdown",
   "metadata": {},
   "source": [
    "### cudaq.observe()"
   ]
  },
  {
   "cell_type": "markdown",
   "metadata": {},
   "source": [
    "- A common task in variational algorithms is the computation of the expected value of a given observable with respect to a parameterized quantum circuit ($\\langle H\\rangle_\\theta = \\langle \\psi(\\theta)\\mid H \\mid\\psi(\\theta)\\rangle$).\n",
    "\n",
    "- The `cudaq.observe()` function is provided to enable one to quickly compute this expectation value via execution of the parameterized quantum circuit.\n",
    "\n",
    "- In the example below, the obervable H is $H= 5.907 \\, I - 2.1433 \\, X_0X_1 -2.1433\\, Y_0 Y_1 + 0.21829 \\, Z_0 -6.125\\, Z_1$."
   ]
  },
  {
   "cell_type": "code",
   "execution_count": 10,
   "metadata": {},
   "outputs": [
    {
     "name": "stdout",
     "output_type": "stream",
     "text": [
      "Energy is 13.562794135947076\n"
     ]
    }
   ],
   "source": [
    "# The example here shows a simple use case for the `cudaq.observe``\n",
    "# function in computing expected values of provided spin hamiltonian operators.\n",
    "\n",
    "import cudaq\n",
    "from cudaq import spin\n",
    "\n",
    "cudaq.set_target(\"nvidia\")\n",
    "\n",
    "num_qubits = 2\n",
    "\n",
    "\n",
    "@cudaq.kernel\n",
    "def init_state(qubits: cudaq.qview):\n",
    "    n = qubits.size()\n",
    "    for i in range(n):\n",
    "        x(qubits[i])\n",
    "\n",
    "\n",
    "@cudaq.kernel\n",
    "def observe_example(theta: float):\n",
    "    qvector = cudaq.qvector(num_qubits)\n",
    "\n",
    "    init_state(qvector)\n",
    "    ry(theta, qvector[1])\n",
    "    x.ctrl(qvector[1], qvector[0])\n",
    "\n",
    "\n",
    "spin_operator = (\n",
    "    5.907\n",
    "    - 2.1433 * spin.x(0) * spin.x(1)\n",
    "    - 2.1433 * spin.y(0) * spin.y(1)\n",
    "    + 0.21829 * spin.z(0)\n",
    "    - 6.125 * spin.z(1)\n",
    ")\n",
    "\n",
    "# Pre-computed angle that minimizes the energy expectation of the `spin_operator`.\n",
    "angle = 0.59\n",
    "\n",
    "energy = cudaq.observe(observe_example, spin_operator, angle).expectation()\n",
    "print(f\"Energy is {energy}\")"
   ]
  },
  {
   "cell_type": "markdown",
   "metadata": {},
   "source": [
    "### Spin Hamiltonian operator\n",
    "\n",
    "CUDA-Q defines convenience functions in `cudaq.spin` namespace that produce the primitive X, Y, and Z Pauli operators on specified qubit indices which can subsequently be used in algebraic expressions to build up more complicated Pauli tensor products and their sums.\n",
    "\n",
    "$H= 5.907 \\, I - 2.1433 \\, X_0X_1 -2.1433\\, Y_0 Y_1 + 0.21829 \\, Z_0 -6.125\\, Z_1$\n",
    "\n",
    "```python\n",
    "spin_operator = 5.907 - 2.1433 * spin.x(0) * spin.x(1) - 2.1433 * spin.y(\n",
    "    0) * spin.y(1) + .21829 * spin.z(0) - 6.125 * spin.z(1)\n",
    "```"
   ]
  },
  {
   "cell_type": "code",
   "execution_count": 11,
   "metadata": {},
   "outputs": [
    {
     "name": "stdout",
     "output_type": "stream",
     "text": [
      "[-2+0j] IZZ\n",
      "[-2+0j] ZZI\n",
      "[1+0j] XYZ\n",
      "[0.5+0j] ZII\n",
      "[1+0j] YII\n",
      "[1+0j] IXI\n",
      "[1+0j] YYI\n",
      "\n",
      "Total number of terms in the spin hamiltonian:  7\n"
     ]
    }
   ],
   "source": [
    "from cudaq import spin\n",
    "\n",
    "hamiltonian = (\n",
    "    0.5 * spin.z(0)\n",
    "    + spin.x(1)\n",
    "    + spin.y(0)\n",
    "    + spin.y(0) * spin.y(1)\n",
    "    + spin.x(0) * spin.y(1) * spin.z(2)\n",
    ")\n",
    "\n",
    "# add some more terms\n",
    "for i in range(2):\n",
    "    hamiltonian += -2.0 * spin.z(i) * spin.z(i + 1)\n",
    "\n",
    "print(hamiltonian)\n",
    "\n",
    "print(\"Total number of terms in the spin hamiltonian: \", hamiltonian.get_term_count())"
   ]
  },
  {
   "cell_type": "markdown",
   "metadata": {},
   "source": [
    "### Parameterized Circuit"
   ]
  },
  {
   "cell_type": "code",
   "execution_count": 12,
   "metadata": {},
   "outputs": [
    {
     "name": "stdout",
     "output_type": "stream",
     "text": [
      "     ╭───────╮╭───────╮\n",
      "q0 : ┤ rx(0) ├┤ ry(0) ├\n",
      "     ╰───────╯╰───────╯\n",
      "\n",
      "Expectation value of the Hamiltonian:  1.0\n"
     ]
    }
   ],
   "source": [
    "import cudaq\n",
    "from cudaq import spin\n",
    "\n",
    "cudaq.set_target(\"nvidia\")\n",
    "\n",
    "\n",
    "@cudaq.kernel\n",
    "def param_circuit(theta: list[float]):\n",
    "    # Allocate a qubit that is initialised to the |0> state.\n",
    "    qubit = cudaq.qubit()\n",
    "    # Define gates and the qubits they act upon.\n",
    "    rx(theta[0], qubit)\n",
    "    ry(theta[1], qubit)\n",
    "\n",
    "\n",
    "# Our hamiltonian will be the Z expectation value of our qubit.\n",
    "hamiltonian = spin.z(0)\n",
    "\n",
    "# Initial gate parameters which initialize the qubit in the zero state\n",
    "parameters = [0.0, 0.0]\n",
    "\n",
    "print(cudaq.draw(param_circuit, parameters))\n",
    "\n",
    "# Compute the expectation value using the initial parameters.\n",
    "expectation_value = cudaq.observe(param_circuit, hamiltonian, parameters).expectation()\n",
    "\n",
    "print(\"Expectation value of the Hamiltonian: \", expectation_value)"
   ]
  },
  {
   "cell_type": "markdown",
   "metadata": {},
   "source": [
    "You can construct `SpinOperator` using `from_word` class method."
   ]
  },
  {
   "cell_type": "code",
   "execution_count": 13,
   "metadata": {},
   "outputs": [
    {
     "name": "stdout",
     "output_type": "stream",
     "text": [
      "[1+0j] XXXX\n",
      "\n"
     ]
    }
   ],
   "source": [
    "op = cudaq.SpinOperator.from_word(\"XXXX\")\n",
    "print(op)"
   ]
  },
  {
   "cell_type": "markdown",
   "metadata": {},
   "source": [
    "<div class=\"alert alert-block alert-success\"> \n",
    "\n",
    "### Exercise 3\n",
    "\n",
    "Calculate expectation value $\\braket{\\mathrm{ghz} | ZZ...Z | \\mathrm{ghz}}$ and $\\braket{\\mathrm{ghz} | XX...X | \\mathrm{ghz}}$ for 10 qubits and 20 qubits.\n",
    "</div>"
   ]
  },
  {
   "cell_type": "code",
   "execution_count": 14,
   "metadata": {},
   "outputs": [],
   "source": [
    "# Write your codes here!"
   ]
  },
  {
   "cell_type": "markdown",
   "metadata": {},
   "source": [
    "## MLIR and QIR\n",
    "To look at the MLIR and QIR generated from your code"
   ]
  },
  {
   "cell_type": "code",
   "execution_count": 15,
   "metadata": {},
   "outputs": [
    {
     "name": "stdout",
     "output_type": "stream",
     "text": [
      "module attributes {quake.mangled_name_map = {__nvqpp__mlirgen__kernel = \"__nvqpp__mlirgen__kernel_PyKernelEntryPointRewrite\"}} {\n",
      "  func.func @__nvqpp__mlirgen__kernel() attributes {\"cudaq-entrypoint\"} {\n",
      "    %0 = quake.alloca !quake.veq<2>\n",
      "    %1 = quake.extract_ref %0[0] : (!quake.veq<2>) -> !quake.ref\n",
      "    quake.h %1 : (!quake.ref) -> ()\n",
      "    %2 = quake.extract_ref %0[1] : (!quake.veq<2>) -> !quake.ref\n",
      "    quake.x [%1] %2 : (!quake.ref, !quake.ref) -> ()\n",
      "    return\n",
      "  }\n",
      "}\n",
      "\n"
     ]
    }
   ],
   "source": [
    "import cudaq\n",
    "\n",
    "cudaq.set_target(\"nvidia\")\n",
    "\n",
    "\n",
    "@cudaq.kernel\n",
    "def kernel():\n",
    "    q = cudaq.qvector(2)\n",
    "    h(q[0])\n",
    "    cx(q[0], q[1])\n",
    "\n",
    "# Look at the MLIR\n",
    "print(kernel)"
   ]
  },
  {
   "cell_type": "code",
   "execution_count": 16,
   "metadata": {},
   "outputs": [
    {
     "name": "stdout",
     "output_type": "stream",
     "text": [
      "; ModuleID = 'LLVMDialectModule'\n",
      "source_filename = \"LLVMDialectModule\"\n",
      "\n",
      "%Array = type opaque\n",
      "%Qubit = type opaque\n",
      "\n",
      "declare void @__quantum__rt__qubit_release_array(%Array*) local_unnamed_addr\n",
      "\n",
      "declare void @invokeWithControlQubits(i64, void (%Array*, %Qubit*)*, ...) local_unnamed_addr\n",
      "\n",
      "declare void @__quantum__qis__x__ctl(%Array*, %Qubit*)\n",
      "\n",
      "declare void @__quantum__qis__h(%Qubit*) local_unnamed_addr\n",
      "\n",
      "declare i8* @__quantum__rt__array_get_element_ptr_1d(%Array*, i64) local_unnamed_addr\n",
      "\n",
      "declare %Array* @__quantum__rt__qubit_allocate_array(i64) local_unnamed_addr\n",
      "\n",
      "define void @__nvqpp__mlirgen__kernel() local_unnamed_addr {\n",
      "  %1 = tail call %Array* @__quantum__rt__qubit_allocate_array(i64 2)\n",
      "  %2 = tail call i8* @__quantum__rt__array_get_element_ptr_1d(%Array* %1, i64 0)\n",
      "  %3 = bitcast i8* %2 to %Qubit**\n",
      "  %4 = load %Qubit*, %Qubit** %3, align 8\n",
      "  tail call void @__quantum__qis__h(%Qubit* %4)\n",
      "  %5 = tail call i8* @__quantum__rt__array_get_element_ptr_1d(%Array* %1, i64 1)\n",
      "  %6 = bitcast i8* %5 to %Qubit**\n",
      "  %7 = load %Qubit*, %Qubit** %6, align 8\n",
      "  tail call void (i64, void (%Array*, %Qubit*)*, ...) @invokeWithControlQubits(i64 1, void (%Array*, %Qubit*)* nonnull @__quantum__qis__x__ctl, %Qubit* %4, %Qubit* %7)\n",
      "  tail call void @__quantum__rt__qubit_release_array(%Array* %1)\n",
      "  ret void\n",
      "}\n",
      "\n"
     ]
    }
   ],
   "source": [
    "# Look at the QIR\n",
    "print(cudaq.translate(kernel, format=\"qir\"))"
   ]
  },
  {
   "cell_type": "code",
   "execution_count": 17,
   "metadata": {},
   "outputs": [
    {
     "name": "stdout",
     "output_type": "stream",
     "text": [
      "// Code generated by NVIDIA's nvq++ compiler\n",
      "OPENQASM 2.0;\n",
      "\n",
      "include \"qelib1.inc\";\n",
      "\n",
      "qreg var0[2];\n",
      "h var0[0];\n",
      "cx var0[0], var0[1];\n",
      "\n"
     ]
    }
   ],
   "source": [
    "print(cudaq.translate(kernel, format=\"openqasm2\"))"
   ]
  },
  {
   "cell_type": "code",
   "execution_count": 18,
   "metadata": {},
   "outputs": [
    {
     "name": "stdout",
     "output_type": "stream",
     "text": [
      "CUDA-Q Version 0.8.0 (https://github.com/NVIDIA/cuda-quantum 5f63a898a1c4af1affd293fcc86220b683436f57)\n"
     ]
    }
   ],
   "source": [
    "### Version information\n",
    "print(cudaq.__version__)"
   ]
  }
 ],
 "metadata": {
  "kernelspec": {
   "display_name": "Python 3 (ipykernel)",
   "language": "python",
   "name": "python3"
  },
  "language_info": {
   "codemirror_mode": {
    "name": "ipython",
    "version": 3
   },
   "file_extension": ".py",
   "mimetype": "text/x-python",
   "name": "python",
   "nbconvert_exporter": "python",
   "pygments_lexer": "ipython3",
   "version": "3.10.12"
  }
 },
 "nbformat": 4,
 "nbformat_minor": 4
}
