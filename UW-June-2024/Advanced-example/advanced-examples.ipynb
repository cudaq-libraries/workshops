{
 "cells": [
  {
   "cell_type": "markdown",
   "metadata": {},
   "source": [
    "# Agenda\n",
    "\n",
    "### A- Variational Quantum Algorithm\n",
    "#### - Parameterized circuit\n",
    "#### - Spin Hamiltonian operator\n",
    "#### - VQA & classical optimizer\n",
    "#### - Example: Quantum Chemistry (VQE-UCCSD) with active space (CPU vs. GPU)\n",
    "\n",
    "### B- Multi-QPU & Multi-GPU\n",
    "#### - Example 1: Quantum machine learning (QML)\n",
    "#### - Example 2: GHZ\n",
    "\n",
    "### C- Control and adjoint on Kernel function\n",
    "#### Example: Hadamard Test\n",
    "\n",
    "### D- Mid-circuit measurement & conditional sampling"
   ]
  },
  {
   "cell_type": "markdown",
   "metadata": {},
   "source": [
    "### A- Variational Quantum Algorithm\n",
    "![img](./VQE.png)"
   ]
  },
  {
   "cell_type": "markdown",
   "metadata": {},
   "source": [
    "#### Parameterized Circuit"
   ]
  },
  {
   "cell_type": "code",
   "execution_count": 7,
   "metadata": {},
   "outputs": [
    {
     "name": "stdout",
     "output_type": "stream",
     "text": [
      "     ╭───────╮╭───────╮\n",
      "q0 : ┤ rx(0) ├┤ ry(0) ├\n",
      "     ╰───────╯╰───────╯\n",
      "\n",
      "Expectation value of the Hamiltonian:  1.0\n"
     ]
    }
   ],
   "source": [
    "import cudaq\n",
    "from cudaq import spin\n",
    "\n",
    "cudaq.set_target(\"nvidia\")\n",
    "\n",
    "@cudaq.kernel\n",
    "def param_circuit(theta: list[float]):\n",
    "    # Allocate a qubit that is initialized to the |0> state.\n",
    "    qubit = cudaq.qubit()\n",
    "    # Define gates and the qubits they act upon.\n",
    "    rx(theta[0], qubit)\n",
    "    ry(theta[1], qubit)\n",
    "\n",
    "\n",
    "# Our hamiltonian will be the Z expectation value of our qubit.\n",
    "hamiltonian = spin.z(0)\n",
    "\n",
    "# Initial gate parameters which initialize the qubit in the zero state\n",
    "parameters = [0.0, 0.0]\n",
    "\n",
    "print(cudaq.draw(param_circuit,parameters))\n",
    "\n",
    "# Compute the expectation value using the initial parameters.\n",
    "expectation_value = cudaq.observe(param_circuit, hamiltonian,parameters).expectation()\n",
    "\n",
    "print('Expectation value of the Hamiltonian: ', expectation_value)\n"
   ]
  },
  {
   "cell_type": "markdown",
   "metadata": {},
   "source": [
    "### Spin Hamiltonian operator\n",
    "\n",
    "CUDA-Q defines convenience functions in `cudaq.spin` namespace that produce the primitive X, Y, and Z Pauli operators on specified qubit indices which can subsequently be used in algebraic expressions to build up more complicated Pauli tensor products and their sums.\n",
    "\n",
    "$H= 5.907 \\, I - 2.1433 \\, X_0X_1 -2.1433\\, Y_0 Y_1 + 0.21829 \\, Z_0 -6.125\\, Z_1$\n",
    "\n",
    "```python\n",
    "spin_operator = 5.907 - 2.1433 * spin.x(0) * spin.x(1) - 2.1433 * spin.y(\n",
    "    0) * spin.y(1) + .21829 * spin.z(0) - 6.125 * spin.z(1)\n",
    "```"
   ]
  },
  {
   "cell_type": "code",
   "execution_count": 8,
   "metadata": {},
   "outputs": [
    {
     "name": "stdout",
     "output_type": "stream",
     "text": [
      "[-2+0j] IZZ\n",
      "[-2+0j] ZZI\n",
      "[1+0j] XYZ\n",
      "[0.5+0j] ZII\n",
      "[1+0j] YII\n",
      "[1+0j] IXI\n",
      "[1+0j] YYI\n",
      "\n",
      "Total number of terms in the spin hamiltonian:  7\n"
     ]
    }
   ],
   "source": [
    "from cudaq import spin\n",
    "\n",
    "hamiltonian = 0.5*spin.z(0) + spin.x(1) + spin.y(0) + spin.y(0) * spin.y(1)+ spin.x(0)*spin.y(1)*spin.z(2)\n",
    "\n",
    "# add some more terms\n",
    "for i in range(2):\n",
    "    hamiltonian += -2.0*spin.z(i)*spin.z(i+1)\n",
    "\n",
    "print(hamiltonian)\n",
    "\n",
    "print('Total number of terms in the spin hamiltonian: ',hamiltonian.get_term_count())"
   ]
  },
  {
   "cell_type": "markdown",
   "metadata": {},
   "source": [
    "####  VQA using ```cudaq.observe()``` & classical optimizer.\n",
    "- Using cudaq built-in optimizer"
   ]
  },
  {
   "cell_type": "code",
   "execution_count": 9,
   "metadata": {},
   "outputs": [
    {
     "name": "stdout",
     "output_type": "stream",
     "text": [
      "Initial cost value:  1.0\n",
      "Initial parameters:  [0.0, 0.0]\n",
      "Final cost value:  -0.9999999999999981\n",
      "Optimized parameters:  [3.141592653589793, 0.0]\n"
     ]
    }
   ],
   "source": [
    "import cudaq\n",
    "from cudaq import spin\n",
    "\n",
    "cudaq.set_target(\"nvidia\")\n",
    "\n",
    "@cudaq.kernel\n",
    "def vqe_circuit(theta: list[float]):\n",
    "    # Allocate a qubit that is initialized to the |0> state.\n",
    "    qubit = cudaq.qubit()\n",
    "    # Define gates and the qubits they act upon.\n",
    "    rx(theta[0], qubit)\n",
    "    ry(theta[1], qubit)\n",
    "\n",
    "\n",
    "# Our hamiltonian will be the Z expectation value of our qubit.\n",
    "hamiltonian = spin.z(0)\n",
    "\n",
    "# Initial gate parameters which initialize the qubit in the zero state\n",
    "initial_param = [0.0, 0.0]\n",
    "\n",
    "cost_values = []\n",
    "\n",
    "def cost(parameters):\n",
    "    \"\"\"Returns the expectation value as our cost.\"\"\"\n",
    "    expectation_value = cudaq.observe(vqe_circuit, hamiltonian, parameters).expectation()\n",
    "    cost_values.append(expectation_value)\n",
    "    return expectation_value\n",
    "\n",
    "initial_cost_value = cost(initial_param)\n",
    "print('Initial cost value: ', initial_cost_value)\n",
    "print('Initial parameters: ', initial_param)\n",
    "\n",
    "# Define a CUDA-Q optimizer.\n",
    "optimizer = cudaq.optimizers.COBYLA()\n",
    "optimizer.initial_parameters = initial_param\n",
    "\n",
    "result = optimizer.optimize(dimensions=2, function=cost)\n",
    "\n",
    "print('Final cost value: ', result[0])\n",
    "print('Optimized parameters: ', result[1])"
   ]
  },
  {
   "cell_type": "code",
   "execution_count": 10,
   "metadata": {},
   "outputs": [
    {
     "data": {
      "image/png": "[encoded data removed]",
      "text/plain": [
       "<Figure size 640x480 with 1 Axes>"
      ]
     },
     "metadata": {},
     "output_type": "display_data"
    }
   ],
   "source": [
    "import matplotlib.pyplot as plt\n",
    "\n",
    "x_values = list(range(len(cost_values)))\n",
    "y_values = cost_values\n",
    "\n",
    "plt.plot(x_values, y_values)\n",
    "\n",
    "plt.xlabel(\"Epochs\")\n",
    "plt.ylabel(\"Cost Value\")\n",
    "plt.show()"
   ]
  },
  {
   "cell_type": "markdown",
   "metadata": {},
   "source": [
    "- using third-party optimizer: ex. scipy optimizer"
   ]
  },
  {
   "cell_type": "code",
   "execution_count": 11,
   "metadata": {},
   "outputs": [
    {
     "name": "stdout",
     "output_type": "stream",
     "text": [
      "Initial cost value:  1.0\n",
      "Initial parameters:  [0.0, 0.0]\n",
      "Final cost value:  -0.9999999970938906\n",
      "Optimized parameters:  [3.14159466e+00 1.07798234e-04]\n"
     ]
    }
   ],
   "source": [
    "import cudaq\n",
    "from cudaq import spin\n",
    "import scipy\n",
    "\n",
    "cudaq.set_target(\"nvidia\")\n",
    "\n",
    "@cudaq.kernel\n",
    "def vqe_circuit_scipy(theta: list[float]):\n",
    "    # Allocate a qubit that is initialised to the |0> state.\n",
    "    qubit = cudaq.qubit()\n",
    "    # Define gates and the qubits they act upon.\n",
    "    rx(theta[0], qubit)\n",
    "    ry(theta[1], qubit)\n",
    "\n",
    "\n",
    "# Our hamiltonian will be the Z expectation value of our qubit.\n",
    "hamiltonian = spin.z(0)\n",
    "\n",
    "# Initial gate parameters which initialize the qubit in the zero state\n",
    "initial_parameters = [0.0, 0.0]\n",
    "\n",
    "def cost_scipy(parameters):\n",
    "    \"\"\"Returns the expectation value as our cost.\"\"\"\n",
    "    expectation_value = cudaq.observe(vqe_circuit_scipy, hamiltonian, parameters).expectation()\n",
    "    return expectation_value\n",
    "\n",
    "initial_cost_value = cost_scipy(initial_parameters)\n",
    "print('Initial cost value: ', initial_cost_value)\n",
    "print('Initial parameters: ', initial_parameters)\n",
    "\n",
    "\n",
    "result = scipy.optimize.minimize(cost_scipy,initial_parameters,method='COBYLA')\n",
    "print('Final cost value: ', result.fun)\n",
    "print('Optimized parameters: ', result.x)"
   ]
  },
  {
   "cell_type": "markdown",
   "metadata": {},
   "source": [
    "### Example:"
   ]
  },
  {
   "cell_type": "markdown",
   "metadata": {},
   "source": [
    "#### Quantum Chemistry: water molecule with active space (CPU vs. GPU)"
   ]
  },
  {
   "cell_type": "markdown",
   "metadata": {},
   "source": [
    "### Classical simulation as reference: CCSD"
   ]
  },
  {
   "cell_type": "code",
   "execution_count": 2,
   "metadata": {},
   "outputs": [
    {
     "name": "stdout",
     "output_type": "stream",
     "text": [
      "converged SCF energy = -75.983975537279\n"
     ]
    },
    {
     "name": "stdout",
     "output_type": "stream",
     "text": [
      "Total number of electrons=  10\n",
      "Total number of orbitals=  13\n",
      "ncore occupied orbitals=  3\n",
      "E(CCSD) = -75.98508980454683  E_corr = -0.001114267267875642\n",
      "Total CCSD energy for H_act=  -75.98508980454683 \n",
      "\n"
     ]
    }
   ],
   "source": [
    "# pip install pyscf\n",
    "from pyscf import gto, scf, mcscf, cc\n",
    "\n",
    "geometry='O 0.1173 0.0 0.0; H -0.4691 0.7570 0.0; H -0.4691 -0.7570 0.0'\n",
    "mol=gto.M(\n",
    "    atom=geometry,\n",
    "    spin=0,\n",
    "    charge=0,\n",
    "    basis='631g',\n",
    ")\n",
    "\n",
    "myhf=scf.RHF(mol)\n",
    "myhf.max_cycle=100\n",
    "myhf.kernel()\n",
    "nelec = mol.nelectron\n",
    "print('Total number of electrons= ', nelec)\n",
    "norb = myhf.mo_coeff.shape[1]\n",
    "print('Total number of orbitals= ', norb)\n",
    "\n",
    "norb_cas, nele_cas = (4,4)\n",
    "mycasci = mcscf.CASCI(myhf, norb_cas, nele_cas)\n",
    "print('ncore occupied orbitals= ', mycasci.ncore)\n",
    "\n",
    "frozen=[]\n",
    "frozen+=[y for y in range(0,mycasci.ncore)]\n",
    "frozen+=[y for y in range(mycasci.ncore+norb_cas, len(mycasci.mo_coeff))]\n",
    "mycc=cc.CCSD(myhf,frozen=frozen).run()\n",
    "print('Total CCSD energy for H_act= ', mycc.e_tot, '\\n')\n"
   ]
  },
  {
   "cell_type": "markdown",
   "metadata": {},
   "source": [
    "### VQE-UCCSD"
   ]
  },
  {
   "cell_type": "code",
   "execution_count": 13,
   "metadata": {},
   "outputs": [
    {
     "name": "stderr",
     "output_type": "stream",
     "text": [
      "/tmp/ipykernel_1032002/3831078893.py:40: ComplexWarning: Casting complex values to real discards the imaginary part\n",
      "  spin_ham=cudaq.SpinOperator(qubit_hamiltonian)\n"
     ]
    },
    {
     "name": "stdout",
     "output_type": "stream",
     "text": [
      "UCCSD-VQE energy=   -75.98415928173185\n",
      "Pyscf-CCSD energy=  -75.98508980454683\n",
      "Total number of qubits:  8\n",
      "Total number of parameters:  26\n",
      "Total number of terms in the spin hamiltonian:  105\n",
      "Total elapsed time (s):  10.89160648197867\n"
     ]
    },
    {
     "data": {
      "image/png": "[encoded data removed]",
      "text/plain": [
       "<Figure size 640x480 with 1 Axes>"
      ]
     },
     "metadata": {},
     "output_type": "display_data"
    }
   ],
   "source": [
    "# pip install openfermionpyscf\n",
    "# pip install openfermion\n",
    "\n",
    "import openfermion\n",
    "import openfermionpyscf\n",
    "from openfermion import generate_hamiltonian\n",
    "from openfermion.transforms import jordan_wigner, get_fermion_operator\n",
    "from openfermion.chem import MolecularData\n",
    "\n",
    "import timeit\n",
    "\n",
    "\n",
    "import cudaq\n",
    "import matplotlib.pyplot as plt\n",
    "from scipy.optimize import minimize\n",
    "import numpy as np\n",
    "\n",
    "# GPU\n",
    "cudaq.set_target(\"nvidia-fp64\")\n",
    "# CPU\n",
    "#cudaq.set_target(\"qpp-cpu\")\n",
    "\n",
    "# 1- Classical pre-processing:\n",
    "\n",
    "geometry=[('O', (0.1173,0.0,0.0)), ('H', (-0.4691,0.7570,0.0)), ('H', (-0.4691,-0.7570,0.0))]\n",
    "basis='631g'\n",
    "multiplicity=1\n",
    "charge=0\n",
    "ncore=3\n",
    "norb_cas, nele_cas = (4,4)\n",
    "\n",
    "molecule = openfermionpyscf.run_pyscf(openfermion.MolecularData(geometry, basis, multiplicity,charge))\n",
    "\n",
    "molecular_hamiltonian = molecule.get_molecular_hamiltonian(\n",
    "        occupied_indices=range(ncore), active_indices=range(ncore,ncore+norb_cas))\n",
    "\n",
    "fermion_hamiltonian = get_fermion_operator(molecular_hamiltonian)\n",
    "qubit_hamiltonian = jordan_wigner(fermion_hamiltonian)\n",
    "\n",
    "spin_ham=cudaq.SpinOperator(qubit_hamiltonian)\n",
    "\n",
    "# 2- Quantum computing using UCCSD ansatz\n",
    "\n",
    "electron_count=nele_cas\n",
    "qubit_count=2*norb_cas\n",
    "\n",
    "@cudaq.kernel\n",
    "def kernel(qubit_num:int, electron_num:int, thetas: list[float]):\n",
    "        qubits = cudaq.qvector(qubit_num)\n",
    "\n",
    "        for i in range(electron_num):\n",
    "                x(qubits[i])\n",
    "\n",
    "        cudaq.kernels.uccsd(qubits, thetas, electron_num, qubit_num)\n",
    "\n",
    "parameter_count = cudaq.kernels.uccsd_num_parameters(electron_count,qubit_count)\n",
    "\n",
    "# Define a function to minimize\n",
    "def cost(theta):\n",
    "\n",
    "        exp_val = cudaq.observe(kernel, spin_ham, qubit_count, electron_count, theta).expectation()\n",
    "\n",
    "        return exp_val\n",
    "\n",
    "\n",
    "exp_vals = []\n",
    "\n",
    "def callback(xk):\n",
    "        exp_vals.append(cost(xk))\n",
    "\n",
    "\n",
    "# Initial variational parameters.\n",
    "np.random.seed(42)\n",
    "x0 = np.random.normal(0, 1, parameter_count)\n",
    "\n",
    "# Use the scipy optimizer to minimize the function of interest\n",
    "start_time = timeit.default_timer()\n",
    "result = minimize(cost,x0,method='COBYLA',callback=callback, options={'maxiter': 300})\n",
    "end_time=timeit.default_timer()\n",
    "\n",
    "print('UCCSD-VQE energy=  ', result.fun)\n",
    "print('Pyscf-CCSD energy= ', mycc.e_tot)\n",
    "print('Total number of qubits: ', qubit_count)\n",
    "print('Total number of parameters: ', parameter_count)\n",
    "print('Total number of terms in the spin hamiltonian: ',spin_ham.get_term_count())\n",
    "print('Total elapsed time (s): ', end_time-start_time)\n",
    "\n",
    "plt.plot(exp_vals)\n",
    "plt.xlabel('Epochs')\n",
    "plt.ylabel('Energy')\n",
    "plt.title('VQE')\n",
    "plt.show()\n"
   ]
  },
  {
   "cell_type": "markdown",
   "metadata": {},
   "source": [
    "### B- Multi-QPU & Multi-GPU:\n",
    "\n",
    "#### 1- Multi-QPU (nvidia-mqpu)\n",
    "\n",
    "The `nvidia-mqpu` target is useful for distributing separate quantum circuits to individual GPUs on a single host machine. \n",
    "\n",
    "![img](./circuit-mqpu.png)"
   ]
  },
  {
   "cell_type": "markdown",
   "metadata": {},
   "source": [
    "#### Example: QML\n",
    "\n",
    "#### Example with `sample` algorithmic primitives\n",
    "![img](./RBM.png)"
   ]
  },
  {
   "cell_type": "code",
   "execution_count": 59,
   "metadata": {},
   "outputs": [
    {
     "name": "stdout",
     "output_type": "stream",
     "text": [
      "Number of QPUs: 5\n",
      "{ 10110111:10 00010111:17 11100111:9 00000111:6 10011111:98 10111011:4 11011111:18 10011011:75 01011101:142 11110111:581 11011011:6 00010110:84 11100110:28 01111111:894 10110011:3 00111110:30 10110110:13 11111111:920 01101110:18 00111111:14 00011110:160 01000000:1 11001111:1 01001000:2 10110000:343 01001101:1 10011010:261 01101011:2 10111111:14 01011111:9 11111011:532 01010101:78 10100111:2 10100101:47 00001111:4 01101111:6 00001011:2 11110011:310 11011001:243 01101010:12 10111000:532 10001111:48 01000101:1 10111101:236 01000001:1 10111001:172 10101111:3 10110100:531 01001100:6 10110001:88 11101110:43 11101111:16 10111100:914 10111010:23 10111110:34 11001100:22 11001101:3 00101011:1 00111100:902 00111101:243 10011110:397 00011111:43 10110010:10 10110101:169 00101101:43 01010111:1 10101101:87 00101001:16 11011101:415 }\n",
      "\n",
      "{ 10110111:4 00010111:27 11100111:9 00000111:3 10011111:122 10111011:7 11011111:18 10011011:75 01011101:141 11110111:552 11011011:13 00010110:90 10111100:909 10111010:23 10110001:92 11101110:44 11101111:20 10110011:2 01111111:859 11100110:33 01000100:2 10111001:146 10101111:6 00111110:39 10110110:26 11111111:907 01101110:22 11001110:2 00111111:10 00000011:2 10110000:312 10111111:7 01011111:2 11111011:576 01010101:80 10100111:2 01101111:7 00001011:5 00011110:159 01000000:1 11011001:226 10011010:245 11110011:328 01001000:1 00001111:10 10100101:48 01101010:7 01000101:1 10001111:33 10111101:255 10111000:558 10011110:406 00011111:49 10110010:12 10110100:556 01001100:4 10111110:46 11001100:21 11001101:11 00101011:1 00111100:887 00111101:236 10110101:149 00101111:2 00101101:42 01010111:6 10101101:71 00101001:25 11011101:408 }\n",
      "\n",
      "{ 10110111:6 00010111:27 11100111:5 00000111:4 10011111:106 10111011:2 11011111:13 10011011:64 01011101:143 11110111:586 11011011:12 00010110:90 10111100:899 10111010:21 10110001:99 11101110:74 11101111:13 10110011:6 01111111:872 11100110:32 01000100:4 10111001:161 10101111:3 00111110:41 10110110:22 11111111:953 01101110:15 00111111:11 00000011:3 11001110:1 10110000:344 01001000:3 01001101:1 10111111:8 01011111:5 11111011:545 01010101:76 10100111:2 10100101:48 00001111:4 01101111:9 00001011:2 00011110:165 01000000:2 11011001:224 11110011:326 01101010:11 10001111:31 10111101:269 10111000:563 10011010:262 01101011:1 10011110:392 00011111:37 10110010:16 10110100:501 01001100:3 10111110:38 11001100:24 11001101:10 00101011:1 00111100:854 00111101:259 10110101:168 00101101:33 01010111:3 10101101:89 00101001:15 11011101:368 }\n",
      "\n"
     ]
    }
   ],
   "source": [
    "import cudaq\n",
    "\n",
    "cudaq.set_target(\"nvidia-mqpu\")\n",
    "\n",
    "target = cudaq.get_target()\n",
    "qpu_count = target.num_qpus()\n",
    "print(\"Number of QPUs:\", qpu_count)\n",
    "\n",
    "@cudaq.kernel\n",
    "def qrbm(v_nodes:int, h_nodes:int, ancilla:int, theta: list[float], coupling: list[float]):\n",
    "\n",
    "    qubits_num=v_nodes+h_nodes+ancilla\n",
    "    qubits=cudaq.qvector(qubits_num)\n",
    "\n",
    "    for i in range(v_nodes+h_nodes):\n",
    "        ry(theta[i],qubits[i])\n",
    "\n",
    "    a_target=v_nodes+h_nodes\n",
    "    count=0\n",
    "    for v in range(v_nodes):\n",
    "        for h in range(v_nodes,v_nodes+h_nodes):\n",
    "            ry.ctrl(coupling[count],qubits[v],qubits[h],qubits[a_target])\n",
    "            x(qubits[v])\n",
    "            ry.ctrl(coupling[count+1],qubits[v],qubits[h],qubits[a_target])\n",
    "            x(qubits[v])\n",
    "            x(qubits[h])\n",
    "            ry.ctrl(coupling[count+1],qubits[v],qubits[h],qubits[a_target])\n",
    "            x(qubits[v])\n",
    "            ry.ctrl(coupling[count],qubits[v],qubits[h],qubits[a_target])\n",
    "            x(qubits[v])\n",
    "            x(qubits[h])\n",
    "\n",
    "            count+=2\n",
    "            a_target+=1\n",
    "\n",
    "    mz(qubits)    \n",
    "    \n",
    "v_nodes=2\n",
    "h_nodes=2\n",
    "ancilla=4\n",
    "\n",
    "# Initialize the parameters for the RBM\n",
    "theta=[2.0482, 1.4329, 2.1774, 2.7122]\n",
    "coupling=[1.8256, 3.1415, 1.8257, 3.1415, 3.1415, 0.4152, 3.1415, 0.9654]\n",
    "\n",
    "count_futures = []\n",
    "\n",
    "for qpu in range(3):\n",
    "    count_futures.append(cudaq.sample_async(qrbm,v_nodes, h_nodes, ancilla, theta, coupling, shots_count=10000,qpu_id=qpu))\n",
    "\n",
    "for counts in count_futures:\n",
    "    print(counts.get())\n"
   ]
  },
  {
   "cell_type": "markdown",
   "metadata": {},
   "source": [
    "#### Example with `observe` algorithmic primitives"
   ]
  },
  {
   "cell_type": "code",
   "execution_count": 14,
   "metadata": {},
   "outputs": [
    {
     "name": "stdout",
     "output_type": "stream",
     "text": [
      "Number of QPUs: 5\n",
      "Parameter shape:  (500, 10)\n",
      "Elapsed time (s) for single GPU:  1.8108953519258648\n",
      "We have 500 parameters which we would like to execute\n",
      "We split this into 4 batches of 125 , 125 , 125 , 125\n",
      "Shape after splitting (125, 10)\n",
      "Elapsed time (s) for multi-GPU:  0.005586856976151466\n"
     ]
    }
   ],
   "source": [
    "import cudaq\n",
    "from cudaq import spin\n",
    "import numpy as np\n",
    "import timeit\n",
    "\n",
    "np.random.seed(1)\n",
    "\n",
    "cudaq.set_target(\"nvidia-mqpu\")\n",
    "target = cudaq.get_target()\n",
    "qpu_count = target.num_qpus()\n",
    "print(\"Number of QPUs:\", qpu_count)\n",
    "\n",
    "qubit_count = 10\n",
    "sample_count = 500\n",
    "\n",
    "ham = spin.z(0)\n",
    "\n",
    "parameter_count = qubit_count\n",
    "\n",
    "# Below we run a circuit for 500 different input parameters.\n",
    "parameters = np.random.default_rng(13).uniform(low=0,high=1,size=(sample_count,parameter_count))\n",
    "\n",
    "print('Parameter shape: ', parameters.shape)\n",
    "\n",
    "@cudaq.kernel\n",
    "def kernel_rx(theta:list[float]):\n",
    "    qubits = cudaq.qvector(qubit_count)\n",
    "\n",
    "    for i in range(qubit_count):\n",
    "        rx(theta[i], qubits[i])\n",
    "\n",
    "#single GPU\n",
    "start_time = timeit.default_timer()\n",
    "\n",
    "result = cudaq.observe(kernel_rx, ham, parameters)\n",
    "energies = np.array([r.expectation() for r in result])\n",
    "\n",
    "end_time = timeit.default_timer()\n",
    "print('Elapsed time (s) for single GPU: ', end_time-start_time)\n",
    "\n",
    "#print('Energies from single GPU')\n",
    "#print(energies)\n",
    "\n",
    "\n",
    "# Multi-GPU\n",
    "\n",
    "# We split our parameters into 4 arrays since we have 4 GPUs available.\n",
    "xi = np.split(parameters,4)\n",
    "\n",
    "print('We have', parameters.shape[0],\n",
    "      'parameters which we would like to execute')\n",
    "\n",
    "print('We split this into', len(xi), 'batches of', xi[0].shape[0], ',',\n",
    "      xi[1].shape[0], ',', xi[2].shape[0], ',', xi[3].shape[0])\n",
    "\n",
    "print('Shape after splitting', xi[0].shape)\n",
    "asyncresults = []\n",
    "\n",
    "start_time = timeit.default_timer()\n",
    "\n",
    "for i in range(len(xi)):\n",
    "    for j in range(xi[i].shape[0]):\n",
    "        asyncresults.append(\n",
    "            cudaq.observe_async(kernel_rx, ham, xi[i][j, :], qpu_id=i))\n",
    "        \n",
    "end_time = timeit.default_timer()\n",
    "print('Elapsed time (s) for multi-GPU: ', end_time-start_time)\n",
    "\n",
    "#print('Energies from multi-GPUs')\n",
    "for result in asyncresults:\n",
    "    observe_result = result.get()\n",
    "    got_expectation = observe_result.expectation()\n",
    "    #print(got_expectation)\n"
   ]
  },
  {
   "cell_type": "markdown",
   "metadata": {},
   "source": [
    "#### 2. Multi-GPU (nvidia-mgpu)\n",
    "\n",
    "The `nvidia-mgpu` backend is useful for running a large single quantum circuit spread across multiple GPUs.\n",
    "- A $n$ qubit quantum state has $2^n$ complex amplitudes, each of which require 8 bytes of memory to store. Hence the total memory required to store a n qubit quantum state is $8$ bytes $\\times 2^n$. For $n=30$ qubits, this is roughly $8$ GB but for $n=40$, this exponentially increases to $8700$ GB.\n",
    "\n",
    "#### Example: GHZ"
   ]
  },
  {
   "cell_type": "markdown",
   "metadata": {},
   "source": [
    "```python\n",
    "# mpirun -np 4 python <fname> --target nvidia-mgpu\n",
    "\n",
    "import cudaq\n",
    "\n",
    "cudaq.mpi.initialize()\n",
    "\n",
    "qubit_count = 33\n",
    "\n",
    "@cudaq.kernel\n",
    "def kernel(qubit_num: int):\n",
    "    # Allocate our qubits.\n",
    "    qvector = cudaq.qvector(qubit_num)\n",
    "    # Place the first qubit in the superposition state.\n",
    "    h(qvector[0])\n",
    "    # Loop through the allocated qubits and apply controlled-X,\n",
    "    # or CNOT, operations between them.\n",
    "    for qubit in range(qubit_num - 1):\n",
    "        x.ctrl(qvector[qubit], qvector[qubit + 1])\n",
    "    # Measure the qubits.\n",
    "    mz(qvector)\n",
    "\n",
    "#print(\"Preparing GHZ state for\", qubit_count, \"qubits.\")\n",
    "counts = cudaq.sample(kernel, qubit_count)\n",
    "\n",
    "if cudaq.mpi.rank() == 0:\n",
    "    print(counts)\n",
    "\n",
    "cudaq.mpi.finalize()\n",
    "```"
   ]
  },
  {
   "cell_type": "code",
   "execution_count": 15,
   "metadata": {},
   "outputs": [
    {
     "name": "stdout",
     "output_type": "stream",
     "text": [
      "Preparing GHZ state for 30 qubits.\n",
      "{ 111111111111111111111111111111:513 000000000000000000000000000000:487 }\n",
      "\n"
     ]
    }
   ],
   "source": [
    "!mpirun -np 4 python ghz.py --target nvidia-mgpu"
   ]
  },
  {
   "cell_type": "markdown",
   "metadata": {},
   "source": [
    "### C- Control and adjoint on kernel function"
   ]
  },
  {
   "cell_type": "markdown",
   "metadata": {},
   "source": [
    "#### Control on kernel function:"
   ]
  },
  {
   "cell_type": "code",
   "execution_count": 61,
   "metadata": {},
   "outputs": [
    {
     "name": "stdout",
     "output_type": "stream",
     "text": [
      "{ 101:1000 }\n",
      "\n"
     ]
    }
   ],
   "source": [
    "import cudaq\n",
    "\n",
    "cudaq.set_target('nvidia')\n",
    "\n",
    "@cudaq.kernel\n",
    "def fancyCnot(a: cudaq.qubit, b: cudaq.qubit):\n",
    "    x.ctrl(a, b)\n",
    "\n",
    "@cudaq.kernel\n",
    "def toffoli():\n",
    "    q = cudaq.qvector(3)\n",
    "    ctrl = q.front()\n",
    "    # without a control, apply x to all\n",
    "    x(ctrl, q[2])\n",
    "    cudaq.control(fancyCnot, [ctrl], q[1], q[2])\n",
    "\n",
    "counts = cudaq.sample(toffoli)\n",
    "\n",
    "print(counts)"
   ]
  },
  {
   "cell_type": "markdown",
   "metadata": {},
   "source": [
    "#### Adjoint on kernel function:"
   ]
  },
  {
   "cell_type": "code",
   "execution_count": 62,
   "metadata": {},
   "outputs": [
    {
     "name": "stdout",
     "output_type": "stream",
     "text": [
      "{ 0010:503 0000:497 }\n",
      "\n"
     ]
    }
   ],
   "source": [
    "import cudaq\n",
    "\n",
    "cudaq.set_target('nvidia')\n",
    "\n",
    "@cudaq.kernel()\n",
    "def rx_and_h_gate(x : float, q : cudaq.qubit):\n",
    "    rx(x, q)\n",
    "    h(q)\n",
    "\n",
    "@cudaq.kernel()\n",
    "def kernelAdjoint(N : int):\n",
    "    q = cudaq.qvector(N)\n",
    "    cudaq.adjoint(rx_and_h_gate, np.pi, q[2])\n",
    "\n",
    "\n",
    "counts = cudaq.sample(kernelAdjoint, 4)\n",
    "print(counts)"
   ]
  },
  {
   "cell_type": "markdown",
   "metadata": {},
   "source": [
    "#### - Hadamard test: matrix element\n",
    "\n",
    "Consider the observable $O$ and two generic quantum states $\\ket{\\psi}$ and $\\ket{\\phi}$. We want to calculate the quantity\n",
    "$$\n",
    "\\bra{\\psi} O \\ket{\\phi}.\n",
    "$$\n",
    "where $O$ is a Pauli operator.\n",
    "\n",
    "First of all we shall prepare the states $\\ket{\\psi}$ and $\\ket{\\phi}$ using a quantum circuit for each of them. So we  have\n",
    "$$\n",
    "\\ket{\\psi} = U_{\\psi}\\ket{0} \\qquad \\ket{\\phi} = U_{\\phi}\\ket{0}\n",
    "$$\n",
    "\n",
    "Let's define an observable we want to use:\n",
    "$$\n",
    "O = X_1X_2\n",
    "$$\n",
    "\n",
    "Now we can evaluate the matrix element using the following fact:\n",
    "$$\n",
    "\\bra{\\psi}O\\ket{\\phi} = \\bra{0}U_\\psi^\\dagger O U_\\phi\\ket{0}\n",
    "$$\n",
    "This is just an expectation value which can be solved with a simple Hadamard test. The probability to measure $0$ or $1$ in the ancilla qubit is\n",
    "\n",
    "$$\n",
    "P(0) = \\frac{1}{2} \\left[ I + Re \\bra{\\psi} O \\ket{\\phi} \\right]\n",
    "$$\n",
    "\n",
    "$$\n",
    "P(1) = \\frac{1}{2} \\left[ I - Re \\bra{\\psi} O \\ket{\\phi} \\right]\n",
    "$$\n",
    "\n",
    "The difference between the probability of $0$ and $1$ gives \n",
    "\n",
    "$$\n",
    "P(0)-P(1) = Re \\bra{\\psi} O \\ket{\\phi}\n",
    "$$"
   ]
  },
  {
   "cell_type": "markdown",
   "metadata": {},
   "source": [
    "### A- Numerical result as reference:"
   ]
  },
  {
   "cell_type": "code",
   "execution_count": 63,
   "metadata": {},
   "outputs": [
    {
     "name": "stdout",
     "output_type": "stream",
     "text": [
      "Psi state:  0.707107+0j 0+0j 0.707107+0j 0+0j \n",
      "\n",
      "Phi state:  0+0j 1+0j 0+0j 0+0j \n",
      "\n",
      "hamiltonian:  [[0.+0.j 0.+0.j 0.+0.j 1.+0.j]\n",
      " [0.+0.j 0.+0.j 1.+0.j 0.+0.j]\n",
      " [0.+0.j 1.+0.j 0.+0.j 0.+0.j]\n",
      " [1.+0.j 0.+0.j 0.+0.j 0.+0.j]]\n",
      "Numerical expectation value:  (0.7071067690849304+0j)\n"
     ]
    }
   ],
   "source": [
    "import cudaq\n",
    "import numpy as np\n",
    "from functools import reduce\n",
    "\n",
    "cudaq.set_target('nvidia')\n",
    "\n",
    "qubit_num=2\n",
    "\n",
    "@cudaq.kernel\n",
    "def psi(num:int):\n",
    "    q=cudaq.qvector(num)\n",
    "    h(q[1])\n",
    "    \n",
    "@cudaq.kernel\n",
    "def phi(n:int):\n",
    "    q=cudaq.qvector(n)\n",
    "    x(q[0])\n",
    "\n",
    "psi_state=cudaq.get_state(psi,qubit_num)\n",
    "print('Psi state: ', psi_state)\n",
    "\n",
    "phi_state=cudaq.get_state(phi,qubit_num)\n",
    "print('Phi state: ', phi_state)\n",
    "\n",
    "ham=cudaq.spin.x(0)*cudaq.spin.x(1)\n",
    "ham_matrix=ham.to_matrix()\n",
    "print('hamiltonian: ', np.array(ham_matrix))\n",
    "\n",
    "exp_val=reduce(np.dot,(np.array(psi_state).conj().T, ham_matrix, phi_state))\n",
    "\n",
    "print('Numerical expectation value: ', exp_val) \n"
   ]
  },
  {
   "cell_type": "markdown",
   "metadata": {},
   "source": [
    "### B- QC result:"
   ]
  },
  {
   "cell_type": "code",
   "execution_count": 64,
   "metadata": {},
   "outputs": [
    {
     "name": "stdout",
     "output_type": "stream",
     "text": [
      "{ 0:42613 1:7387 }\n",
      "\n",
      "Observable QC:  0.70452 + - 0.002244218281718603\n",
      "Numerical result 0.7071067690849304\n"
     ]
    }
   ],
   "source": [
    "\n",
    "import cudaq\n",
    "\n",
    "cudaq.set_target('nvidia')\n",
    "\n",
    "@cudaq.kernel\n",
    "def U_psi(q:cudaq.qview):\n",
    "    h(q[1])\n",
    "\n",
    "@cudaq.kernel\n",
    "def U_phi(q:cudaq.qview):\n",
    "    x(q[0])\n",
    "\n",
    "@cudaq.kernel  \n",
    "def ham_cir(q:cudaq.qview):\n",
    "    x(q[0])\n",
    "    x(q[1])\n",
    "\n",
    "@cudaq.kernel\n",
    "def kernel(n:int):\n",
    "    ancilla=cudaq.qubit()\n",
    "    q=cudaq.qvector(n)\n",
    "    h(ancilla)\n",
    "    cudaq.control(U_phi,ancilla,q)\n",
    "    cudaq.control(ham_cir,ancilla,q)\n",
    "    cudaq.control(U_psi,ancilla,q)\n",
    "    \n",
    "    h(ancilla)\n",
    "    \n",
    "    mz(ancilla)\n",
    "    \n",
    "shots=50000    \n",
    "count=cudaq.sample(kernel,qubit_num, shots_count=shots)    \n",
    "print(count)\n",
    "\n",
    "mean_val=(count['0']-count['1'])/shots\n",
    "error=np.sqrt(2*count['0']*count['1']/shots)/shots\n",
    "print('Observable QC: ', mean_val,'+ -', error)\n",
    "print('Numerical result', np.real(exp_val))"
   ]
  },
  {
   "cell_type": "markdown",
   "metadata": {},
   "source": [
    "### With multi-QPU"
   ]
  },
  {
   "cell_type": "code",
   "execution_count": 65,
   "metadata": {},
   "outputs": [
    {
     "name": "stdout",
     "output_type": "stream",
     "text": [
      "Number of QPUs: 5\n",
      "0\n",
      "{ 0:24867 1:25133 }\n",
      "\n",
      "Observable QC:  -0.00532 + - 0.003162232909828117\n",
      "1\n",
      "{ 0:24898 1:25102 }\n",
      "\n",
      "Observable QC:  -0.00408 + - 0.0031622513397894228\n",
      "2\n",
      "{ 0:24906 1:25094 }\n",
      "\n",
      "Observable QC:  -0.00376 + - 0.0031622553065810484\n",
      "3\n",
      "{ 0:24911 1:25089 }\n",
      "\n",
      "Observable QC:  -0.00356 + - 0.003162257621383811\n"
     ]
    }
   ],
   "source": [
    "import cudaq\n",
    "\n",
    "cudaq.set_target(\"nvidia-mqpu\")\n",
    "\n",
    "target = cudaq.get_target()\n",
    "qpu_count = target.num_qpus()\n",
    "print(\"Number of QPUs:\", qpu_count)\n",
    "\n",
    "@cudaq.kernel\n",
    "def U_psi(q:cudaq.qview, theta:float):\n",
    "    ry(theta, q[1])\n",
    "\n",
    "@cudaq.kernel\n",
    "def U_phi(q:cudaq.qview, theta: float):\n",
    "    rx(theta, q[0])\n",
    "\n",
    "@cudaq.kernel  \n",
    "def ham_cir(q:cudaq.qview):\n",
    "    x(q[0])\n",
    "    x(q[1])\n",
    "\n",
    "@cudaq.kernel\n",
    "def kernel(n:int, angle:float, theta:float):\n",
    "    ancilla=cudaq.qubit()\n",
    "    q=cudaq.qvector(n)\n",
    "    h(ancilla)\n",
    "    cudaq.control(U_phi,ancilla,q,theta)\n",
    "    cudaq.control(ham_cir,ancilla,q)\n",
    "    cudaq.control(U_psi,ancilla,q, angle)\n",
    "    \n",
    "    h(ancilla)\n",
    "    \n",
    "    mz(ancilla)\n",
    "    \n",
    "shots=50000  \n",
    "angle=[0.0, 1.5,3.14,0.7]\n",
    "theta=[0.6, 1.2 ,2.2 ,3.0]\n",
    "\n",
    "result=[]\n",
    "for i in range(4):  \n",
    "    count=cudaq.sample_async(kernel,qubit_num, angle[i], theta[i], shots_count=shots,qpu_id=i)  \n",
    "    result.append(count)  \n",
    "\n",
    "mean_val=np.zeros(len(angle))\n",
    "i=0\n",
    "for count in result:\n",
    "    print(i)\n",
    "    i_result=count.get()\n",
    "    print(i_result)\n",
    "    mean_val[i]=(i_result['0']-i_result['1'])/shots\n",
    "    error=np.sqrt(2*i_result['0']*i_result['1']/shots)/shots\n",
    "    print('Observable QC: ',  mean_val[i],'+ -', error)\n",
    "    i+=1\n",
    "    \n"
   ]
  },
  {
   "cell_type": "markdown",
   "metadata": {},
   "source": [
    "#### Diagonalize the matrix using for example Numpy or CuPy"
   ]
  },
  {
   "cell_type": "code",
   "execution_count": 66,
   "metadata": {},
   "outputs": [
    {
     "name": "stdout",
     "output_type": "stream",
     "text": [
      "[[-0.00532 -0.00408]\n",
      " [-0.00376 -0.00356]]\n",
      "Eigen values: \n",
      "[-0.00830161 -0.00057839]\n",
      "Eigenvector: \n",
      "[[-0.78354466  0.62133547]\n",
      " [-0.62133547 -0.78354466]]\n"
     ]
    }
   ],
   "source": [
    "import numpy as np\n",
    "\n",
    "my_mat=np.zeros((2,2),dtype=float)\n",
    "m=0\n",
    "for k in range(2):\n",
    "    for j in range(2):\n",
    "        my_mat[k,j]=mean_val[m]\n",
    "        m+=1   \n",
    "\n",
    "print(my_mat)\n",
    "\n",
    "E,V=np.linalg.eigh(my_mat)\n",
    "\n",
    "print('Eigen values: ')\n",
    "print(E)\n",
    "\n",
    "print('Eigenvector: ')\n",
    "print(V)\n",
    "\n"
   ]
  },
  {
   "cell_type": "markdown",
   "metadata": {},
   "source": [
    "### D- Mid-circuit measurement & conditional sampling"
   ]
  },
  {
   "cell_type": "code",
   "execution_count": 8,
   "metadata": {},
   "outputs": [
    {
     "name": "stdout",
     "output_type": "stream",
     "text": [
      "All: \n",
      "{ \n",
      "  __global__ : { 11:943 10:57 }\n",
      "   aux : { 0:943 1:57 }\n",
      "}\n",
      "\n",
      "The auxillary register: \n",
      "{ 0:943 1:57 }\n",
      "\n"
     ]
    }
   ],
   "source": [
    "import cudaq\n",
    "\n",
    "cudaq.set_target('nvidia')\n",
    "\n",
    "@cudaq.kernel\n",
    "def mid_circuit_m(theta:float):\n",
    "    qubit=cudaq.qvector(2)\n",
    "    ancilla=cudaq.qubit()\n",
    "\n",
    "    ry(theta,ancilla)\n",
    "\n",
    "    aux=mz(ancilla)\n",
    "    if aux:\n",
    "        x(qubit[0])\n",
    "        x(ancilla)\n",
    "    else:\n",
    "        x(qubit[0])\n",
    "        x(qubit[1])\n",
    "    \n",
    "    #mz(ancilla)\n",
    "    mz(qubit)\n",
    "\n",
    "angle=0.5\n",
    "result=cudaq.sample(mid_circuit_m, angle)\n",
    "print('All: ')\n",
    "print(result)\n",
    "\n",
    "c0=result.get_register_counts('aux')\n",
    "print('The auxillary register: ')\n",
    "print(c0)"
   ]
  },
  {
   "cell_type": "markdown",
   "metadata": {},
   "source": [
    "- Here, we see that we have measured the ancilla qubit to a register named ``aux``\n",
    "\n",
    "- If any measurements appear in the kernel, then only the measured qubits will appear in the ``__global__`` register, and they will be sorted in qubit allocation order.- "
   ]
  }
 ],
 "metadata": {
  "kernelspec": {
   "display_name": "Python 3 (ipykernel)",
   "language": "python",
   "name": "python3"
  },
  "language_info": {
   "codemirror_mode": {
    "name": "ipython",
    "version": 3
   },
   "file_extension": ".py",
   "mimetype": "text/x-python",
   "name": "python",
   "nbconvert_exporter": "python",
   "pygments_lexer": "ipython3",
   "version": "3.10.12"
  }
 },
 "nbformat": 4,
 "nbformat_minor": 4
}
