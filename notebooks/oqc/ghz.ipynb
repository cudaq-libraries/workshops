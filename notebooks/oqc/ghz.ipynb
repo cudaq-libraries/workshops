{
 "cells": [
  {
   "cell_type": "markdown",
   "id": "ee5cf125-a817-4f1a-9c0e-560f47bf4a11",
   "metadata": {},
   "source": [
    "### GHZ State\n",
    "\n",
    "Let's create GHZ state\n",
    "\\begin{equation}\n",
    "\\frac{1}{\\sqrt2}\\left| 0\\dots 0\\right\\rangle + \\frac{1}{\\sqrt2}\\left| 1\\dots 1\\right\\rangle\n",
    "\\end{equation}\n",
    "on OQC devices."
   ]
  },
  {
   "cell_type": "markdown",
   "id": "a110e19f-f744-468d-9bf9-db97d1f25989",
   "metadata": {},
   "source": [
    "### Lucy simulator"
   ]
  },
  {
   "cell_type": "code",
   "execution_count": 1,
   "id": "c24aa2ac-7794-4183-a581-8dba81196cfb",
   "metadata": {},
   "outputs": [
    {
     "name": "stdout",
     "output_type": "stream",
     "text": [
      "module attributes {quake.mangled_name_map = {__nvqpp__mlirgen__ghz = \"__nvqpp__mlirgen__ghz_PyKernelEntryPointRewrite\"}} {\n",
      "  func.func @__nvqpp__mlirgen__ghz(%arg0: i64) attributes {\"cudaq-entrypoint\", \"cudaq-kernel\"} {\n",
      "    %c1_i64 = arith.constant 1 : i64\n",
      "    %c0_i64 = arith.constant 0 : i64\n",
      "    %0 = cc.alloca i64\n",
      "    cc.store %arg0, %0 : !cc.ptr<i64>\n",
      "    %1 = cc.load %0 : !cc.ptr<i64>\n",
      "    %2 = quake.alloca !quake.veq<?>[%1 : i64]\n",
      "    %3 = quake.extract_ref %2[0] : (!quake.veq<?>) -> !quake.ref\n",
      "    quake.h %3 : (!quake.ref) -> ()\n",
      "    %4 = cc.load %0 : !cc.ptr<i64>\n",
      "    %5 = arith.subi %4, %c1_i64 : i64\n",
      "    %6 = cc.loop while ((%arg1 = %c0_i64) -> (i64)) {\n",
      "      %7 = arith.cmpi slt, %arg1, %5 : i64\n",
      "      cc.condition %7(%arg1 : i64)\n",
      "    } do {\n",
      "    ^bb0(%arg1: i64):\n",
      "      %7 = quake.extract_ref %2[%arg1] : (!quake.veq<?>, i64) -> !quake.ref\n",
      "      %8 = arith.addi %arg1, %c1_i64 : i64\n",
      "      %9 = quake.extract_ref %2[%8] : (!quake.veq<?>, i64) -> !quake.ref\n",
      "      quake.x [%7] %9 : (!quake.ref, !quake.ref) -> ()\n",
      "      cc.continue %arg1 : i64\n",
      "    } step {\n",
      "    ^bb0(%arg1: i64):\n",
      "      %7 = arith.addi %arg1, %c1_i64 : i64\n",
      "      cc.continue %7 : i64\n",
      "    } {invariant}\n",
      "    return\n",
      "  }\n",
      "}\n",
      "\n"
     ]
    }
   ],
   "source": [
    "import cudaq\n",
    "import os\n",
    "\n",
    "os.environ[\"OQC_URL\"]=\"https://cloud.oqc.app\"\n",
    "os.environ[\"OQC_DEVICE\"]=\"qpu:uk:2:d865b5a184\" #Lucy\n",
    "os.environ[\"OQC_AUTH_TOKEN\"]=\"<enter your access taken>\"\n",
    "cudaq.set_target(\"oqc\",machine=\"lucy\")\n",
    "\n",
    "\n",
    "@cudaq.kernel\n",
    "def ghz(num_qubits: int):\n",
    "    q = cudaq.qvector(num_qubits)\n",
    "    # Apply Hadamard to the first qubit\n",
    "    h(q[0])\n",
    "    for i in range(num_qubits - 1):\n",
    "        cx(q[i], q[i + 1])\n",
    "\n",
    "print(ghz)  # Print the CUDA-Q quantum circuit"
   ]
  },
  {
   "cell_type": "code",
   "execution_count": 2,
   "id": "276bf30e-d45c-449b-87e2-aceca1b5db4b",
   "metadata": {},
   "outputs": [
    {
     "name": "stdout",
     "output_type": "stream",
     "text": [
      "Measurement Results: { \n",
      "  __global__ : { 00000000:523 11111111:477 }\n",
      "   r00000 : { 0:523 1:477 }\n",
      "   r00001 : { 0:523 1:477 }\n",
      "   r00002 : { 0:523 1:477 }\n",
      "   r00003 : { 0:523 1:477 }\n",
      "   r00004 : { 0:523 1:477 }\n",
      "   r00005 : { 0:523 1:477 }\n",
      "   r00006 : { 0:523 1:477 }\n",
      "   r00007 : { 0:523 1:477 }\n",
      "}\n",
      "\n"
     ]
    }
   ],
   "source": [
    "num_qubits = 8  # Change this to any desired number of qubits\n",
    "\n",
    "# Simulate the circuit\n",
    "result = cudaq.sample(ghz, num_qubits)\n",
    "print(\"Measurement Results:\", result)"
   ]
  },
  {
   "cell_type": "markdown",
   "id": "46c20fbc-b925-4cc2-92be-0cfe3e56d55b",
   "metadata": {},
   "source": [
    "### OQC Toshiko Tokyo-1"
   ]
  },
  {
   "cell_type": "code",
   "execution_count": 1,
   "id": "65481d66-a764-460d-b976-ed1340e0c00a",
   "metadata": {},
   "outputs": [],
   "source": [
    "import os\n",
    "import cudaq\n",
    "\n",
    "os.environ[\"OQC_URL\"]=\"https://cloud.oqc.app\"\n",
    "os.environ[\"OQC_AUTH_TOKEN\"]=\"<enter your access token>\"\n",
    "os.environ[\"OQC_DEVICE\"]=\"qpu:jp:3:673b1ad43c\" #Tokyo\n",
    "cudaq.set_target(\"oqc\", machine=\"toshiko\")"
   ]
  },
  {
   "cell_type": "code",
   "execution_count": 2,
   "id": "0d64e8a2-e02d-424d-a9ae-591fc6960ab4",
   "metadata": {},
   "outputs": [],
   "source": [
    "@cudaq.kernel\n",
    "def ghz(num_qubits: int):\n",
    "    q = cudaq.qvector(num_qubits)\n",
    "    # Apply Hadamard to the first qubit\n",
    "    h(q[0])\n",
    "    for i in range(num_qubits - 1):\n",
    "        cx(q[i], q[i + 1])\n",
    "\n",
    "#print(ghz)  # Print the CUDA-Q quantum circuit"
   ]
  },
  {
   "cell_type": "code",
   "execution_count": null,
   "id": "ae63f662-e258-482d-8f66-cf3dc6e40ee3",
   "metadata": {},
   "outputs": [],
   "source": [
    "num_qubits = 8  # Change this to any desired number of qubits\n",
    "\n",
    "# Simulate the circuit\n",
    "result = cudaq.sample(ghz, num_qubits, shots_count=100)\n",
    "print(\"Measurement Results:\", result)"
   ]
  },
  {
   "cell_type": "code",
   "execution_count": null,
   "id": "6d04a7da-d629-47d5-a295-2a4dd2bc986a",
   "metadata": {},
   "outputs": [],
   "source": []
  }
 ],
 "metadata": {
  "kernelspec": {
   "display_name": "Python 3 (ipykernel)",
   "language": "python",
   "name": "python3"
  },
  "language_info": {
   "codemirror_mode": {
    "name": "ipython",
    "version": 3
   },
   "file_extension": ".py",
   "mimetype": "text/x-python",
   "name": "python",
   "nbconvert_exporter": "python",
   "pygments_lexer": "ipython3",
   "version": "3.10.12"
  }
 },
 "nbformat": 4,
 "nbformat_minor": 5
}
