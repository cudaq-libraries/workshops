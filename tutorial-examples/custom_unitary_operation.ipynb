{
 "cells": [
  {
   "cell_type": "markdown",
   "metadata": {},
   "source": [
    "# Custom unitary operation\n",
    "\n",
    "Using a unitary operation is sometimes preferred to gates when designing quantum algorithms that are more abstract, have oracles, or have no exactly known gate set. \n",
    "\n",
    "You can now execute custom unitary operations within CUDA-Q kernels. The following code example shows how to specify a custom unitary operation as a NumPy array, name it, and then use it in a kernel. A custom standard X gate is specified as a 2×2 unitary matrix with rows [0,1] and [1,0]. The example also demonstrates how custom unitaries can be applied using a controlled operation of one or more qubits."
   ]
  },
  {
   "cell_type": "code",
   "execution_count": 4,
   "metadata": {},
   "outputs": [
    {
     "name": "stdout",
     "output_type": "stream",
     "text": [
      "{ 11:505 00:495 }\n",
      "\n"
     ]
    }
   ],
   "source": [
    "import numpy as np\n",
    "import cudaq\n",
    " \n",
    "cudaq.register_operation(\"custom_x\", np.array([0, 1, 1, 0]))\n",
    " \n",
    " \n",
    "@cudaq.kernel\n",
    "def kernel():\n",
    "    qubits = cudaq.qvector(2)\n",
    "    h(qubits[0])\n",
    "    custom_x(qubits[0])\n",
    "    custom_x.ctrl(qubits[0], qubits[1])\n",
    " \n",
    " \n",
    "counts = cudaq.sample(kernel)\n",
    "\n",
    "print(counts)"
   ]
  },
  {
   "cell_type": "markdown",
   "metadata": {},
   "source": [
    "## Multi-qubit operations."
   ]
  },
  {
   "cell_type": "code",
   "execution_count": 2,
   "metadata": {},
   "outputs": [
    {
     "name": "stdout",
     "output_type": "stream",
     "text": [
      "{ 11:510 00:490 }\n",
      "\n",
      "{ 10:1000 }\n",
      "\n"
     ]
    }
   ],
   "source": [
    "import cudaq\n",
    "import numpy as np\n",
    "\n",
    "# Create and test a custom CNOT operation.\n",
    "cudaq.register_operation(\"my_cnot\", np.array([1, 0, 0, 0,\n",
    "                                              0, 1, 0, 0,\n",
    "                                              0, 0, 0, 1,\n",
    "                                              0, 0, 1, 0]))\n",
    "\n",
    "@cudaq.kernel\n",
    "def bell_pair():\n",
    "    qubits = cudaq.qvector(2)\n",
    "    h(qubits[0])\n",
    "    my_cnot(qubits[0], qubits[1]) # `my_cnot(control, target)`\n",
    "\n",
    "\n",
    "count= cudaq.sample(bell_pair)\n",
    "\n",
    "print(count)# prints { 11:500 00:500 } (exact numbers will be random)\n",
    "\n",
    "# Construct a custom unitary matrix for X on the first qubit and Y\n",
    "# on the second qubit.\n",
    "X = np.array([[0,  1 ], [1 , 0]])\n",
    "Y = np.array([[0, -1j], [1j, 0]])\n",
    "XY = np.kron(X, Y)\n",
    "\n",
    "# Register the custom operation\n",
    "cudaq.register_operation(\"my_XY\", XY)\n",
    "\n",
    "@cudaq.kernel\n",
    "def custom_xy_test():\n",
    "    qubits = cudaq.qvector(2)\n",
    "    my_XY(qubits[0], qubits[1])\n",
    "    y(qubits[1]) # undo the prior Y gate on qubit 1\n",
    "\n",
    "\n",
    "count_2=cudaq.sample(custom_xy_test)\n",
    "\n",
    "print(count_2) # prints { 10:1000 }"
   ]
  }
 ],
 "metadata": {
  "kernelspec": {
   "display_name": "Python 3 (ipykernel)",
   "language": "python",
   "name": "python3"
  }
 },
 "nbformat": 4,
 "nbformat_minor": 2
}
