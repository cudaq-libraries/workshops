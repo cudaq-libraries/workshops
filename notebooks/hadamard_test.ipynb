{
 "cells": [
  {
   "cell_type": "markdown",
   "metadata": {
    "id": "nUrzPN81diYn"
   },
   "source": [
    "# Hadamard Test [![Open In Colab](https://colab.research.google.com/assets/colab-badge.svg)](https://colab.research.google.com/github/cudaq-libraries/workshops/blob/main/notebooks/hadamard_test.ipynb) \n",
    "\n",
    "Consider the observable $O$ and two generic quantum states $| \\psi\\rangle$ and $| \\phi\\rangle$. We want to calculate the quantity\n",
    "$$\n",
    "\\langle \\psi | O | \\psi\\rangle.\n",
    "$$\n",
    "where $O$ is a Pauli operator.\n",
    "\n",
    "First of all we shall prepare the states $|\\psi\\rangle$ and $|\\phi\\rangle$ using a quantum circuit for each of them. So we  have\n",
    "$$\n",
    "| \\psi\\rangle = U_{\\psi}|0\\rangle \\qquad |\\phi\\rangle = U_{\\phi}|0\\rangle\n",
    "$$\n",
    "\n",
    "Let's define an observable we want to use:\n",
    "$$\n",
    "O = X_1X_2\n",
    "$$\n",
    "\n",
    "Now we can evaluate the matrix element using the following fact:\n",
    "$$\n",
    "\\langle \\psi|O|\\phi\\rangle = \\langle 0 |U_\\psi^\\dagger O U_\\phi |0\\rangle\n",
    "$$\n",
    "This is just an expectation value which can be solved with a simple Hadamard test. The probability to measure $0$ or $1$ in the ancilla qubit is\n",
    "\n",
    "$$\n",
    "P(0) = \\frac{1}{2} \\left[ I + \\operatorname{Re} \\langle \\psi| O |\\phi\\rangle \\right]\n",
    "$$\n",
    "\n",
    "$$\n",
    "P(1) = \\frac{1}{2} \\left[ I - \\operatorname{Re} \\langle \\psi| O | \\phi\\rangle \\right]\n",
    "$$\n",
    "\n",
    "The difference between the probability of $0$ and $1$ gives\n",
    "\n",
    "$$\n",
    "\\langle X\\rangle = P(0)-P(1) = \\operatorname{Re} \\langle \\psi | O |\\phi\\rangle.\n",
    "$$\n",
    "\n",
    "Similarly, the imaginary part can be obtained from Y measurement\n",
    "$$\n",
    "\\langle Y\\rangle = \\operatorname{Im} \\langle \\psi | O | \\phi\\rangle.\n",
    "$$\n",
    "\n",
    "Combining these results, the quantity $\\langle \\psi | O | \\psi\\rangle$ is obtained."
   ]
  },
  {
   "cell_type": "markdown",
   "metadata": {
    "id": "58LICsGNdiYq"
   },
   "source": [
    "### Numerical result as a reference:"
   ]
  },
  {
   "cell_type": "code",
   "execution_count": 1,
   "metadata": {
    "colab": {
     "base_uri": "https://localhost:8080/"
    },
    "executionInfo": {
     "elapsed": 967,
     "status": "ok",
     "timestamp": 1727229063625,
     "user": {
      "displayName": "Ikko Hamamura",
      "userId": "14952240016147607013"
     },
     "user_tz": -540
    },
    "id": "FTpTjTLXdiYr",
    "outputId": "5e4dc40b-cd55-445c-98f9-22dcfc0759b9"
   },
   "outputs": [
    {
     "name": "stdout",
     "output_type": "stream",
     "text": [
      "Psi state:  [0.70710677+0.j 0.        +0.j 0.70710677+0.j 0.        +0.j]\n",
      "Phi state:  [0.+0.j 1.+0.j 0.+0.j 0.+0.j]\n",
      "hamiltonian:  [[0.+0.j 0.+0.j 0.+0.j 1.+0.j]\n",
      " [0.+0.j 0.+0.j 1.+0.j 0.+0.j]\n",
      " [0.+0.j 1.+0.j 0.+0.j 0.+0.j]\n",
      " [1.+0.j 0.+0.j 0.+0.j 0.+0.j]] \n",
      "\n",
      "Numerical expectation value:  (0.7071067690849304+0j)\n"
     ]
    }
   ],
   "source": [
    "import numpy as np\n",
    "\n",
    "import cudaq\n",
    "\n",
    "\n",
    "num_qubits = 2\n",
    "\n",
    "\n",
    "@cudaq.kernel\n",
    "def psi(num_qubits: int):\n",
    "    q = cudaq.qvector(num_qubits)\n",
    "    h(q[1])\n",
    "\n",
    "\n",
    "@cudaq.kernel\n",
    "def phi(num_qubits: int):\n",
    "    q = cudaq.qvector(num_qubits)\n",
    "    x(q[0])\n",
    "\n",
    "\n",
    "psi_state = cudaq.get_state(psi, num_qubits)\n",
    "print(\"Psi state: \", np.array(psi_state))\n",
    "\n",
    "phi_state = cudaq.get_state(phi, num_qubits)\n",
    "print(\"Phi state: \", np.array(phi_state))\n",
    "\n",
    "ham = cudaq.spin.x(0) * cudaq.spin.x(1)\n",
    "ham_matrix = ham.to_matrix()\n",
    "print(\"hamiltonian: \", np.array(ham_matrix), \"\\n\")\n",
    "\n",
    "num_ev = np.array(psi_state).conj() @ ham_matrix @ np.array(phi_state).T\n",
    "\n",
    "print(\"Numerical expectation value: \", num_ev)"
   ]
  },
  {
   "cell_type": "markdown",
   "metadata": {
    "id": "z7ci3pHAdiYs"
   },
   "source": [
    "### Using ``observe`` algorithmic primitive to compute the expectation value for ancilla qubits."
   ]
  },
  {
   "cell_type": "code",
   "execution_count": 2,
   "metadata": {
    "colab": {
     "base_uri": "https://localhost:8080/"
    },
    "executionInfo": {
     "elapsed": 441,
     "status": "ok",
     "timestamp": 1727229064060,
     "user": {
      "displayName": "Ikko Hamamura",
      "userId": "14952240016147607013"
     },
     "user_tz": -540
    },
    "id": "FRIx_HFpdiYs",
    "outputId": "9011ab72-0ab6-489c-cd0a-2eaa9b236fda"
   },
   "outputs": [
    {
     "name": "stdout",
     "output_type": "stream",
     "text": [
      "QC result: 0.70652+0.0046399999999999775i ± 0.0022379220040028205+0.003162243618698597i\n",
      "Numerical result (0.7071067690849304+0j)\n"
     ]
    }
   ],
   "source": [
    "import cudaq\n",
    "\n",
    "\n",
    "@cudaq.kernel\n",
    "def u_psi(q: cudaq.qview):\n",
    "    h(q[1])\n",
    "\n",
    "\n",
    "@cudaq.kernel\n",
    "def u_phi(q: cudaq.qview):\n",
    "    x(q[0])\n",
    "\n",
    "\n",
    "@cudaq.kernel\n",
    "def apply_pauli(q: cudaq.qview):\n",
    "    x(q[0])\n",
    "    x(q[1])\n",
    "\n",
    "\n",
    "@cudaq.kernel\n",
    "def kernel(num_qubits: int):\n",
    "    ancilla = cudaq.qubit()\n",
    "    q = cudaq.qvector(num_qubits)\n",
    "    h(ancilla)\n",
    "    cudaq.control(u_phi, ancilla, q)\n",
    "    cudaq.control(apply_pauli, ancilla, q)\n",
    "    cudaq.control(u_psi, ancilla, q)\n",
    "\n",
    "\n",
    "num_qubits = 2\n",
    "shots = 100000\n",
    "x_0 = cudaq.spin.x(0)\n",
    "y_0 = cudaq.spin.y(0)\n",
    "results = cudaq.observe(kernel, [x_0, y_0], num_qubits, shots_count=shots)\n",
    "evs = np.array([result.expectation() for result in results])\n",
    "std_errs = np.sqrt((1 - evs**2) / shots)\n",
    "\n",
    "print(f\"QC result: {evs[0]}+{evs[1]}i ± {std_errs[0]}+{std_errs[1]}i\")\n",
    "print(\"Numerical result\", num_ev)"
   ]
  },
  {
   "cell_type": "code",
   "execution_count": 3,
   "metadata": {
    "colab": {
     "base_uri": "https://localhost:8080/"
    },
    "executionInfo": {
     "elapsed": 9,
     "status": "ok",
     "timestamp": 1727229064061,
     "user": {
      "displayName": "Ikko Hamamura",
      "userId": "14952240016147607013"
     },
     "user_tz": -540
    },
    "id": "nallE0QfdiYt",
    "outputId": "45fd160f-8a2d-4d88-cca5-e28ae4c9515f"
   },
   "outputs": [
    {
     "name": "stdout",
     "output_type": "stream",
     "text": [
      "CUDA-Q Version 0.8.0 (https://github.com/NVIDIA/cuda-quantum 5f63a898a1c4af1affd293fcc86220b683436f57)\n"
     ]
    }
   ],
   "source": [
    "print(cudaq.__version__)"
   ]
  }
 ],
 "metadata": {
  "colab": {
   "provenance": []
  },
  "kernelspec": {
   "display_name": "Python 3 (ipykernel)",
   "language": "python",
   "name": "python3"
  },
  "language_info": {
   "codemirror_mode": {
    "name": "ipython",
    "version": 3
   },
   "file_extension": ".py",
   "mimetype": "text/x-python",
   "name": "python",
   "nbconvert_exporter": "python",
   "pygments_lexer": "ipython3",
   "version": "3.10.12"
  }
 },
 "nbformat": 4,
 "nbformat_minor": 4
}
